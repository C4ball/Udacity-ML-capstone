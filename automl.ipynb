{
  "cells": [
    {
      "cell_type": "markdown",
      "source": [
        "# Automated ML\n",
        "\n",
        "TODO: Import Dependencies. In the cell below, import all the dependencies that you will need to complete the project."
      ],
      "metadata": {}
    },
    {
      "cell_type": "code",
      "source": [
        "import logging\r\n",
        "import os\r\n",
        "import csv\r\n",
        "\r\n",
        "from matplotlib import pyplot as plt\r\n",
        "import numpy as np\r\n",
        "import pandas as pd\r\n",
        "from sklearn import datasets\r\n",
        "import pkg_resources\r\n",
        "\r\n",
        "import azureml.core\r\n",
        "from azureml.core.experiment import Experiment\r\n",
        "from azureml.core.workspace import Workspace\r\n",
        "from azureml.train.automl import AutoMLConfig\r\n",
        "from azureml.core.dataset import Dataset\r\n",
        "\r\n",
        "from azureml.pipeline.steps import AutoMLStep\r\n",
        "\r\n",
        "# Check core SDK version number\r\n",
        "print(\"SDK version:\", azureml.core.VERSION)"
      ],
      "outputs": [
        {
          "output_type": "stream",
          "name": "stdout",
          "text": [
            "SDK version: 1.20.0\n"
          ]
        }
      ],
      "execution_count": 1,
      "metadata": {
        "gather": {
          "logged": 1612829062673
        },
        "jupyter": {
          "outputs_hidden": false,
          "source_hidden": false
        },
        "nteract": {
          "transient": {
            "deleting": false
          }
        }
      }
    },
    {
      "cell_type": "markdown",
      "source": [
        "## Dataset\n",
        "\n",
        "### Overview\n",
        "TODO: In this markdown cell, give an overview of the dataset you are using. Also mention the task you will be performing.\n",
        "\n",
        "\n",
        "TODO: Get data. In the cell below, write code to access the data you will be using in this project. Remember that the dataset needs to be external."
      ],
      "metadata": {}
    },
    {
      "cell_type": "code",
      "source": [
        "ws = Workspace.from_config()\n",
        "\n",
        "# choose a name for experiment\n",
        "experiment_name = 'internet-firewall-automl'\n",
        "project_folder = './pipeline-project-automl'\n",
        "\n",
        "experiment=Experiment(ws, experiment_name)\n",
        "experiment"
      ],
      "outputs": [
        {
          "output_type": "execute_result",
          "execution_count": 2,
          "data": {
            "text/plain": "Experiment(Name: internet-firewall-automl,\nWorkspace: quick-starts-ws-138215)",
            "text/html": "<table style=\"width:100%\"><tr><th>Name</th><th>Workspace</th><th>Report Page</th><th>Docs Page</th></tr><tr><td>internet-firewall-automl</td><td>quick-starts-ws-138215</td><td><a href=\"https://ml.azure.com/experiments/internet-firewall-automl?wsid=/subscriptions/9a7511b8-150f-4a58-8528-3e7d50216c31/resourcegroups/aml-quickstarts-138215/workspaces/quick-starts-ws-138215\" target=\"_blank\" rel=\"noopener\">Link to Azure Machine Learning studio</a></td><td><a href=\"https://docs.microsoft.com/en-us/python/api/azureml-core/azureml.core.experiment.Experiment?view=azure-ml-py\" target=\"_blank\" rel=\"noopener\">Link to Documentation</a></td></tr></table>"
          },
          "metadata": {}
        }
      ],
      "execution_count": 2,
      "metadata": {
        "gather": {
          "logged": 1612829063494
        },
        "jupyter": {
          "outputs_hidden": false,
          "source_hidden": false
        },
        "nteract": {
          "transient": {
            "deleting": false
          }
        }
      }
    },
    {
      "cell_type": "code",
      "source": [
        "from azureml.core.compute import AmlCompute\r\n",
        "from azureml.core.compute import ComputeTarget\r\n",
        "from azureml.core.compute_target import ComputeTargetException\r\n",
        "\r\n",
        "# NOTE: update the cluster name to match the existing cluster\r\n",
        "# Choose a name for your CPU cluster\r\n",
        "amlcompute_cluster_name = \"cc-sta-ds12-2\"\r\n",
        "\r\n",
        "# Verify that cluster does not exist already\r\n",
        "try:\r\n",
        "    compute_target = ComputeTarget(workspace=ws, name=amlcompute_cluster_name)\r\n",
        "    print('Found existing cluster, use it.')\r\n",
        "except ComputeTargetException:\r\n",
        "    compute_config = AmlCompute.provisioning_configuration(vm_size='STANDARD_DS12_V2',# for GPU, use \"STANDARD_NC6\"\r\n",
        "                                                           #vm_priority = 'lowpriority', # optional\r\n",
        "                                                           min_nodes=1,\r\n",
        "                                                           max_nodes=6)\r\n",
        "    compute_target = ComputeTarget.create(ws, amlcompute_cluster_name, compute_config)\r\n",
        "\r\n",
        "compute_target.wait_for_completion(show_output=True, min_node_count = 1, timeout_in_minutes = 10)\r\n",
        "# For a more detailed view of current AmlCompute status, use get_status()."
      ],
      "outputs": [
        {
          "output_type": "stream",
          "name": "stdout",
          "text": [
            "Creating\n",
            "Succeeded..................\n",
            "AmlCompute wait for completion finished\n",
            "\n",
            "Minimum number of nodes requested have been provisioned\n"
          ]
        }
      ],
      "execution_count": 26,
      "metadata": {
        "collapsed": true,
        "jupyter": {
          "source_hidden": false,
          "outputs_hidden": false
        },
        "nteract": {
          "transient": {
            "deleting": false
          }
        },
        "gather": {
          "logged": 1612832172719
        }
      }
    },
    {
      "cell_type": "markdown",
      "source": [
        "**Dataset**\r\n",
        "\r\n",
        "**Internet Firewall Data Data Set**\r\n",
        "\r\n",
        "**Data Set Information:**\r\n",
        "There are 12 features in total. Action feature is used as a class. There are 4 classes in total. These are allow, action, drop and reset-both classes.\r\n",
        "\r\n",
        "\r\n",
        "**Attribute Information:**\r\n",
        "Source Port,Destination Port,NAT Source Port,NAT Destination Port,Action,Bytes,Bytes Sent,Bytes Received,Packets,Elapsed Time (sec),pkts_sent,pkts_received\r\n",
        "\r\n",
        "Link: https://archive.ics.uci.edu/ml/datasets/Internet+Firewall+Data"
      ],
      "metadata": {
        "nteract": {
          "transient": {
            "deleting": false
          }
        }
      }
    },
    {
      "cell_type": "code",
      "source": [
        "# NOTE: update the key to match the dataset name\r\n",
        "found = False\r\n",
        "key = \"internet-firewall-dataset\"\r\n",
        "description_text = \"Internet Firewall Data Data Set\"\r\n",
        "\r\n",
        "if key in ws.datasets.keys(): \r\n",
        "        found = True\r\n",
        "        dataset = ws.datasets[key] \r\n",
        "\r\n",
        "if not found:\r\n",
        "        # Create AML Dataset and register it into Workspace\r\n",
        "        example_data = 'https://archive.ics.uci.edu/ml/machine-learning-databases/00542/log2.csv'\r\n",
        "        dataset = Dataset.Tabular.from_delimited_files(example_data)        \r\n",
        "        #Register Dataset in Workspace\r\n",
        "        dataset = dataset.register(workspace=ws,\r\n",
        "                                   name=key,\r\n",
        "                                   description=description_text)\r\n",
        "\r\n",
        "\r\n",
        "df = dataset.to_pandas_dataframe()\r\n",
        "df.head()"
      ],
      "outputs": [
        {
          "output_type": "execute_result",
          "execution_count": 4,
          "data": {
            "text/plain": "   Source Port  Destination Port  NAT Source Port  NAT Destination Port  \\\n0        57222                53            54587                    53   \n1        56258              3389            56258                  3389   \n2         6881             50321            43265                 50321   \n3        50553              3389            50553                  3389   \n4        50002               443            45848                   443   \n\n  Action  Bytes  Bytes Sent  Bytes Received  Packets  Elapsed Time (sec)  \\\n0  allow    177          94              83        2                  30   \n1  allow   4768        1600            3168       19                  17   \n2  allow    238         118             120        2                1199   \n3  allow   3327        1438            1889       15                  17   \n4  allow  25358        6778           18580       31                  16   \n\n   pkts_sent  pkts_received  \n0          1              1  \n1         10              9  \n2          1              1  \n3          8              7  \n4         13             18  ",
            "text/html": "<div>\n<style scoped>\n    .dataframe tbody tr th:only-of-type {\n        vertical-align: middle;\n    }\n\n    .dataframe tbody tr th {\n        vertical-align: top;\n    }\n\n    .dataframe thead th {\n        text-align: right;\n    }\n</style>\n<table border=\"1\" class=\"dataframe\">\n  <thead>\n    <tr style=\"text-align: right;\">\n      <th></th>\n      <th>Source Port</th>\n      <th>Destination Port</th>\n      <th>NAT Source Port</th>\n      <th>NAT Destination Port</th>\n      <th>Action</th>\n      <th>Bytes</th>\n      <th>Bytes Sent</th>\n      <th>Bytes Received</th>\n      <th>Packets</th>\n      <th>Elapsed Time (sec)</th>\n      <th>pkts_sent</th>\n      <th>pkts_received</th>\n    </tr>\n  </thead>\n  <tbody>\n    <tr>\n      <th>0</th>\n      <td>57222</td>\n      <td>53</td>\n      <td>54587</td>\n      <td>53</td>\n      <td>allow</td>\n      <td>177</td>\n      <td>94</td>\n      <td>83</td>\n      <td>2</td>\n      <td>30</td>\n      <td>1</td>\n      <td>1</td>\n    </tr>\n    <tr>\n      <th>1</th>\n      <td>56258</td>\n      <td>3389</td>\n      <td>56258</td>\n      <td>3389</td>\n      <td>allow</td>\n      <td>4768</td>\n      <td>1600</td>\n      <td>3168</td>\n      <td>19</td>\n      <td>17</td>\n      <td>10</td>\n      <td>9</td>\n    </tr>\n    <tr>\n      <th>2</th>\n      <td>6881</td>\n      <td>50321</td>\n      <td>43265</td>\n      <td>50321</td>\n      <td>allow</td>\n      <td>238</td>\n      <td>118</td>\n      <td>120</td>\n      <td>2</td>\n      <td>1199</td>\n      <td>1</td>\n      <td>1</td>\n    </tr>\n    <tr>\n      <th>3</th>\n      <td>50553</td>\n      <td>3389</td>\n      <td>50553</td>\n      <td>3389</td>\n      <td>allow</td>\n      <td>3327</td>\n      <td>1438</td>\n      <td>1889</td>\n      <td>15</td>\n      <td>17</td>\n      <td>8</td>\n      <td>7</td>\n    </tr>\n    <tr>\n      <th>4</th>\n      <td>50002</td>\n      <td>443</td>\n      <td>45848</td>\n      <td>443</td>\n      <td>allow</td>\n      <td>25358</td>\n      <td>6778</td>\n      <td>18580</td>\n      <td>31</td>\n      <td>16</td>\n      <td>13</td>\n      <td>18</td>\n    </tr>\n  </tbody>\n</table>\n</div>"
          },
          "metadata": {}
        }
      ],
      "execution_count": 4,
      "metadata": {
        "collapsed": true,
        "jupyter": {
          "source_hidden": false,
          "outputs_hidden": false
        },
        "nteract": {
          "transient": {
            "deleting": false
          }
        },
        "gather": {
          "logged": 1612829151580
        }
      }
    },
    {
      "cell_type": "code",
      "source": [
        "df.describe()"
      ],
      "outputs": [
        {
          "output_type": "execute_result",
          "execution_count": 5,
          "data": {
            "text/plain": "        Source Port  Destination Port  NAT Source Port  NAT Destination Port  \\\ncount  65532.000000      65532.000000     65532.000000          65532.000000   \nmean   49391.969343      10577.385812     19282.972761           2671.049930   \nstd    15255.712537      18466.027039     21970.689669           9739.162278   \nmin        0.000000          0.000000         0.000000              0.000000   \n25%    49183.000000         80.000000         0.000000              0.000000   \n50%    53776.500000        445.000000      8820.500000             53.000000   \n75%    58638.000000      15000.000000     38366.250000            443.000000   \nmax    65534.000000      65535.000000     65535.000000          65535.000000   \n\n              Bytes    Bytes Sent  Bytes Received       Packets  \\\ncount  6.553200e+04  6.553200e+04    6.553200e+04  6.553200e+04   \nmean   9.712395e+04  2.238580e+04    7.473815e+04  1.028660e+02   \nstd    5.618439e+06  3.828139e+06    2.463208e+06  5.133002e+03   \nmin    6.000000e+01  6.000000e+01    0.000000e+00  1.000000e+00   \n25%    6.600000e+01  6.600000e+01    0.000000e+00  1.000000e+00   \n50%    1.680000e+02  9.000000e+01    7.900000e+01  2.000000e+00   \n75%    7.522500e+02  2.100000e+02    4.490000e+02  6.000000e+00   \nmax    1.269359e+09  9.484772e+08    3.208818e+08  1.036116e+06   \n\n       Elapsed Time (sec)      pkts_sent  pkts_received  \ncount        65532.000000   65532.000000   65532.000000  \nmean            65.833577      41.399530      61.466505  \nstd            302.461762    3218.871288    2223.332271  \nmin              0.000000       1.000000       0.000000  \n25%              0.000000       1.000000       0.000000  \n50%             15.000000       1.000000       1.000000  \n75%             30.000000       3.000000       2.000000  \nmax          10824.000000  747520.000000  327208.000000  ",
            "text/html": "<div>\n<style scoped>\n    .dataframe tbody tr th:only-of-type {\n        vertical-align: middle;\n    }\n\n    .dataframe tbody tr th {\n        vertical-align: top;\n    }\n\n    .dataframe thead th {\n        text-align: right;\n    }\n</style>\n<table border=\"1\" class=\"dataframe\">\n  <thead>\n    <tr style=\"text-align: right;\">\n      <th></th>\n      <th>Source Port</th>\n      <th>Destination Port</th>\n      <th>NAT Source Port</th>\n      <th>NAT Destination Port</th>\n      <th>Bytes</th>\n      <th>Bytes Sent</th>\n      <th>Bytes Received</th>\n      <th>Packets</th>\n      <th>Elapsed Time (sec)</th>\n      <th>pkts_sent</th>\n      <th>pkts_received</th>\n    </tr>\n  </thead>\n  <tbody>\n    <tr>\n      <th>count</th>\n      <td>65532.000000</td>\n      <td>65532.000000</td>\n      <td>65532.000000</td>\n      <td>65532.000000</td>\n      <td>6.553200e+04</td>\n      <td>6.553200e+04</td>\n      <td>6.553200e+04</td>\n      <td>6.553200e+04</td>\n      <td>65532.000000</td>\n      <td>65532.000000</td>\n      <td>65532.000000</td>\n    </tr>\n    <tr>\n      <th>mean</th>\n      <td>49391.969343</td>\n      <td>10577.385812</td>\n      <td>19282.972761</td>\n      <td>2671.049930</td>\n      <td>9.712395e+04</td>\n      <td>2.238580e+04</td>\n      <td>7.473815e+04</td>\n      <td>1.028660e+02</td>\n      <td>65.833577</td>\n      <td>41.399530</td>\n      <td>61.466505</td>\n    </tr>\n    <tr>\n      <th>std</th>\n      <td>15255.712537</td>\n      <td>18466.027039</td>\n      <td>21970.689669</td>\n      <td>9739.162278</td>\n      <td>5.618439e+06</td>\n      <td>3.828139e+06</td>\n      <td>2.463208e+06</td>\n      <td>5.133002e+03</td>\n      <td>302.461762</td>\n      <td>3218.871288</td>\n      <td>2223.332271</td>\n    </tr>\n    <tr>\n      <th>min</th>\n      <td>0.000000</td>\n      <td>0.000000</td>\n      <td>0.000000</td>\n      <td>0.000000</td>\n      <td>6.000000e+01</td>\n      <td>6.000000e+01</td>\n      <td>0.000000e+00</td>\n      <td>1.000000e+00</td>\n      <td>0.000000</td>\n      <td>1.000000</td>\n      <td>0.000000</td>\n    </tr>\n    <tr>\n      <th>25%</th>\n      <td>49183.000000</td>\n      <td>80.000000</td>\n      <td>0.000000</td>\n      <td>0.000000</td>\n      <td>6.600000e+01</td>\n      <td>6.600000e+01</td>\n      <td>0.000000e+00</td>\n      <td>1.000000e+00</td>\n      <td>0.000000</td>\n      <td>1.000000</td>\n      <td>0.000000</td>\n    </tr>\n    <tr>\n      <th>50%</th>\n      <td>53776.500000</td>\n      <td>445.000000</td>\n      <td>8820.500000</td>\n      <td>53.000000</td>\n      <td>1.680000e+02</td>\n      <td>9.000000e+01</td>\n      <td>7.900000e+01</td>\n      <td>2.000000e+00</td>\n      <td>15.000000</td>\n      <td>1.000000</td>\n      <td>1.000000</td>\n    </tr>\n    <tr>\n      <th>75%</th>\n      <td>58638.000000</td>\n      <td>15000.000000</td>\n      <td>38366.250000</td>\n      <td>443.000000</td>\n      <td>7.522500e+02</td>\n      <td>2.100000e+02</td>\n      <td>4.490000e+02</td>\n      <td>6.000000e+00</td>\n      <td>30.000000</td>\n      <td>3.000000</td>\n      <td>2.000000</td>\n    </tr>\n    <tr>\n      <th>max</th>\n      <td>65534.000000</td>\n      <td>65535.000000</td>\n      <td>65535.000000</td>\n      <td>65535.000000</td>\n      <td>1.269359e+09</td>\n      <td>9.484772e+08</td>\n      <td>3.208818e+08</td>\n      <td>1.036116e+06</td>\n      <td>10824.000000</td>\n      <td>747520.000000</td>\n      <td>327208.000000</td>\n    </tr>\n  </tbody>\n</table>\n</div>"
          },
          "metadata": {}
        }
      ],
      "execution_count": 5,
      "metadata": {
        "collapsed": true,
        "jupyter": {
          "source_hidden": false,
          "outputs_hidden": false
        },
        "nteract": {
          "transient": {
            "deleting": false
          }
        },
        "gather": {
          "logged": 1612829151736
        }
      }
    },
    {
      "cell_type": "code",
      "source": [
        "df.groupby(['Action']).count()"
      ],
      "outputs": [
        {
          "output_type": "execute_result",
          "execution_count": 6,
          "data": {
            "text/plain": "            Source Port  Destination Port  NAT Source Port  \\\nAction                                                       \nallow             37640             37640            37640   \ndeny              14987             14987            14987   \ndrop              12851             12851            12851   \nreset-both           54                54               54   \n\n            NAT Destination Port  Bytes  Bytes Sent  Bytes Received  Packets  \\\nAction                                                                         \nallow                      37640  37640       37640           37640    37640   \ndeny                       14987  14987       14987           14987    14987   \ndrop                       12851  12851       12851           12851    12851   \nreset-both                    54     54          54              54       54   \n\n            Elapsed Time (sec)  pkts_sent  pkts_received  \nAction                                                    \nallow                    37640      37640          37640  \ndeny                     14987      14987          14987  \ndrop                     12851      12851          12851  \nreset-both                  54         54             54  ",
            "text/html": "<div>\n<style scoped>\n    .dataframe tbody tr th:only-of-type {\n        vertical-align: middle;\n    }\n\n    .dataframe tbody tr th {\n        vertical-align: top;\n    }\n\n    .dataframe thead th {\n        text-align: right;\n    }\n</style>\n<table border=\"1\" class=\"dataframe\">\n  <thead>\n    <tr style=\"text-align: right;\">\n      <th></th>\n      <th>Source Port</th>\n      <th>Destination Port</th>\n      <th>NAT Source Port</th>\n      <th>NAT Destination Port</th>\n      <th>Bytes</th>\n      <th>Bytes Sent</th>\n      <th>Bytes Received</th>\n      <th>Packets</th>\n      <th>Elapsed Time (sec)</th>\n      <th>pkts_sent</th>\n      <th>pkts_received</th>\n    </tr>\n    <tr>\n      <th>Action</th>\n      <th></th>\n      <th></th>\n      <th></th>\n      <th></th>\n      <th></th>\n      <th></th>\n      <th></th>\n      <th></th>\n      <th></th>\n      <th></th>\n      <th></th>\n    </tr>\n  </thead>\n  <tbody>\n    <tr>\n      <th>allow</th>\n      <td>37640</td>\n      <td>37640</td>\n      <td>37640</td>\n      <td>37640</td>\n      <td>37640</td>\n      <td>37640</td>\n      <td>37640</td>\n      <td>37640</td>\n      <td>37640</td>\n      <td>37640</td>\n      <td>37640</td>\n    </tr>\n    <tr>\n      <th>deny</th>\n      <td>14987</td>\n      <td>14987</td>\n      <td>14987</td>\n      <td>14987</td>\n      <td>14987</td>\n      <td>14987</td>\n      <td>14987</td>\n      <td>14987</td>\n      <td>14987</td>\n      <td>14987</td>\n      <td>14987</td>\n    </tr>\n    <tr>\n      <th>drop</th>\n      <td>12851</td>\n      <td>12851</td>\n      <td>12851</td>\n      <td>12851</td>\n      <td>12851</td>\n      <td>12851</td>\n      <td>12851</td>\n      <td>12851</td>\n      <td>12851</td>\n      <td>12851</td>\n      <td>12851</td>\n    </tr>\n    <tr>\n      <th>reset-both</th>\n      <td>54</td>\n      <td>54</td>\n      <td>54</td>\n      <td>54</td>\n      <td>54</td>\n      <td>54</td>\n      <td>54</td>\n      <td>54</td>\n      <td>54</td>\n      <td>54</td>\n      <td>54</td>\n    </tr>\n  </tbody>\n</table>\n</div>"
          },
          "metadata": {}
        }
      ],
      "execution_count": 6,
      "metadata": {
        "collapsed": true,
        "jupyter": {
          "source_hidden": false,
          "outputs_hidden": false
        },
        "nteract": {
          "transient": {
            "deleting": false
          }
        },
        "gather": {
          "logged": 1612829151851
        }
      }
    },
    {
      "cell_type": "markdown",
      "source": [
        "## AutoML Configuration\n",
        "\n",
        "TODO: Explain why you chose the automl settings and cofiguration you used below."
      ],
      "metadata": {}
    },
    {
      "cell_type": "code",
      "source": [
        "# TODO: Put your automl settings here\n",
        "automl_settings = {\n",
        "    \"experiment_timeout_minutes\": 60,\n",
        "    \"max_concurrent_iterations\": 5,\n",
        "    \"primary_metric\" : 'accuracy',\n",
        "    'model_explainability': True\n",
        "}\n",
        "\n",
        "# TODO: Put your automl config here\n",
        "automl_config = AutoMLConfig(compute_target=compute_target,\n",
        "                             task = \"classification\",\n",
        "                             training_data=dataset,\n",
        "                             label_column_name=\"Action\",   \n",
        "                             path = project_folder,\n",
        "                             enable_early_stopping= True,\n",
        "                             featurization= 'auto',\n",
        "                             debug_log = \"automl_errors.log\",\n",
        "                             **automl_settings\n",
        "                            )"
      ],
      "outputs": [],
      "execution_count": 7,
      "metadata": {
        "gather": {
          "logged": 1612829151914
        },
        "jupyter": {
          "outputs_hidden": false,
          "source_hidden": false
        },
        "nteract": {
          "transient": {
            "deleting": false
          }
        }
      }
    },
    {
      "cell_type": "code",
      "source": [
        "# TODO: Submit your experiment\n",
        "automl_run = experiment.submit(automl_config)"
      ],
      "outputs": [
        {
          "output_type": "stream",
          "name": "stdout",
          "text": [
            "Running on remote.\n"
          ]
        }
      ],
      "execution_count": 8,
      "metadata": {
        "gather": {
          "logged": 1612829158011
        },
        "jupyter": {
          "outputs_hidden": false,
          "source_hidden": false
        },
        "nteract": {
          "transient": {
            "deleting": false
          }
        }
      }
    },
    {
      "cell_type": "markdown",
      "source": [
        "## Run Details\n",
        "\n",
        "OPTIONAL: Write about the different models trained and their performance. Why do you think some models did better than others?\n",
        "\n",
        "TODO: In the cell below, use the `RunDetails` widget to show the different experiments."
      ],
      "metadata": {}
    },
    {
      "cell_type": "code",
      "source": [
        "from azureml.widgets import RunDetails\r\n",
        "\r\n",
        "RunDetails(automl_run).show()\r\n",
        "automl_run.wait_for_completion(show_output = True)\r\n",
        "assert(automl_run.get_status() == \"Completed\")"
      ],
      "outputs": [
        {
          "output_type": "display_data",
          "data": {
            "text/plain": "_AutoMLWidget(widget_settings={'childWidgetDisplay': 'popup', 'send_telemetry': False, 'log_level': 'INFO', 's…",
            "application/vnd.jupyter.widget-view+json": {
              "version_major": 2,
              "version_minor": 0,
              "model_id": "eb19ed0a6a0740e1b7cd2fd417319d70"
            }
          },
          "metadata": {}
        },
        {
          "output_type": "display_data",
          "data": {
            "application/aml.mini.widget.v1": "{\"status\": \"Completed\", \"workbench_run_details_uri\": \"https://ml.azure.com/experiments/internet-firewall-automl/runs/AutoML_f606c021-f178-49ed-a906-5b5cb9e641b3?wsid=/subscriptions/9a7511b8-150f-4a58-8528-3e7d50216c31/resourcegroups/aml-quickstarts-138215/workspaces/quick-starts-ws-138215\", \"run_id\": \"AutoML_f606c021-f178-49ed-a906-5b5cb9e641b3\", \"run_properties\": {\"run_id\": \"AutoML_f606c021-f178-49ed-a906-5b5cb9e641b3\", \"created_utc\": \"2021-02-09T00:05:58.962033Z\", \"properties\": {\"num_iterations\": \"1000\", \"training_type\": \"TrainFull\", \"acquisition_function\": \"EI\", \"primary_metric\": \"accuracy\", \"train_split\": \"0\", \"acquisition_parameter\": \"0\", \"num_cross_validation\": null, \"target\": \"cc-sta-ds12-2\", \"AMLSettingsJsonString\": \"{\\\"path\\\":null,\\\"name\\\":\\\"internet-firewall-automl\\\",\\\"subscription_id\\\":\\\"9a7511b8-150f-4a58-8528-3e7d50216c31\\\",\\\"resource_group\\\":\\\"aml-quickstarts-138215\\\",\\\"workspace_name\\\":\\\"quick-starts-ws-138215\\\",\\\"region\\\":\\\"southcentralus\\\",\\\"compute_target\\\":\\\"cc-sta-ds12-2\\\",\\\"spark_service\\\":null,\\\"azure_service\\\":\\\"remote\\\",\\\"many_models\\\":false,\\\"pipeline_fetch_max_batch_size\\\":1,\\\"iterations\\\":1000,\\\"primary_metric\\\":\\\"accuracy\\\",\\\"task_type\\\":\\\"classification\\\",\\\"data_script\\\":null,\\\"validation_size\\\":0.0,\\\"n_cross_validations\\\":null,\\\"y_min\\\":null,\\\"y_max\\\":null,\\\"num_classes\\\":null,\\\"featurization\\\":\\\"auto\\\",\\\"_ignore_package_version_incompatibilities\\\":false,\\\"is_timeseries\\\":false,\\\"max_cores_per_iteration\\\":1,\\\"max_concurrent_iterations\\\":5,\\\"iteration_timeout_minutes\\\":null,\\\"mem_in_mb\\\":null,\\\"enforce_time_on_windows\\\":false,\\\"experiment_timeout_minutes\\\":60,\\\"experiment_exit_score\\\":null,\\\"whitelist_models\\\":null,\\\"blacklist_algos\\\":[\\\"TensorFlowLinearClassifier\\\",\\\"TensorFlowDNN\\\"],\\\"supported_models\\\":[\\\"XGBoostClassifier\\\",\\\"BernoulliNaiveBayes\\\",\\\"SGD\\\",\\\"GradientBoosting\\\",\\\"RandomForest\\\",\\\"KNN\\\",\\\"ExtremeRandomTrees\\\",\\\"LightGBM\\\",\\\"AveragedPerceptronClassifier\\\",\\\"LinearSVM\\\",\\\"LogisticRegression\\\",\\\"SVM\\\",\\\"TensorFlowDNN\\\",\\\"TensorFlowLinearClassifier\\\",\\\"MultinomialNaiveBayes\\\",\\\"DecisionTree\\\"],\\\"auto_blacklist\\\":true,\\\"blacklist_samples_reached\\\":false,\\\"exclude_nan_labels\\\":true,\\\"verbosity\\\":20,\\\"_debug_log\\\":\\\"azureml_automl.log\\\",\\\"show_warnings\\\":false,\\\"model_explainability\\\":true,\\\"service_url\\\":null,\\\"sdk_url\\\":null,\\\"sdk_packages\\\":null,\\\"enable_onnx_compatible_models\\\":false,\\\"enable_split_onnx_featurizer_estimator_models\\\":false,\\\"vm_type\\\":\\\"STANDARD_DS12_V2\\\",\\\"telemetry_verbosity\\\":20,\\\"send_telemetry\\\":true,\\\"enable_dnn\\\":false,\\\"scenario\\\":\\\"SDK-1.13.0\\\",\\\"environment_label\\\":null,\\\"force_text_dnn\\\":false,\\\"enable_feature_sweeping\\\":true,\\\"enable_early_stopping\\\":true,\\\"early_stopping_n_iters\\\":10,\\\"metrics\\\":null,\\\"enable_ensembling\\\":true,\\\"enable_stack_ensembling\\\":true,\\\"ensemble_iterations\\\":15,\\\"enable_tf\\\":false,\\\"enable_subsampling\\\":null,\\\"subsample_seed\\\":null,\\\"enable_nimbusml\\\":false,\\\"enable_streaming\\\":false,\\\"force_streaming\\\":false,\\\"track_child_runs\\\":true,\\\"allowed_private_models\\\":[],\\\"label_column_name\\\":\\\"Action\\\",\\\"weight_column_name\\\":null,\\\"cv_split_column_names\\\":null,\\\"enable_local_managed\\\":false,\\\"_local_managed_run_id\\\":null,\\\"cost_mode\\\":1,\\\"lag_length\\\":0,\\\"metric_operation\\\":\\\"maximize\\\",\\\"preprocess\\\":true}\", \"DataPrepJsonString\": \"{\\\\\\\"training_data\\\\\\\": \\\\\\\"{\\\\\\\\\\\\\\\"blocks\\\\\\\\\\\\\\\": [{\\\\\\\\\\\\\\\"id\\\\\\\\\\\\\\\": \\\\\\\\\\\\\\\"7b3946ed-c7a1-4c33-bbeb-2f0c051f8320\\\\\\\\\\\\\\\", \\\\\\\\\\\\\\\"type\\\\\\\\\\\\\\\": \\\\\\\\\\\\\\\"Microsoft.DPrep.GetFilesBlock\\\\\\\\\\\\\\\", \\\\\\\\\\\\\\\"arguments\\\\\\\\\\\\\\\": {\\\\\\\\\\\\\\\"isArchive\\\\\\\\\\\\\\\": false, \\\\\\\\\\\\\\\"path\\\\\\\\\\\\\\\": {\\\\\\\\\\\\\\\"target\\\\\\\\\\\\\\\": 4, \\\\\\\\\\\\\\\"resourceDetails\\\\\\\\\\\\\\\": [{\\\\\\\\\\\\\\\"path\\\\\\\\\\\\\\\": \\\\\\\\\\\\\\\"https://archive.ics.uci.edu/ml/machine-learning-databases/00542/log2.csv\\\\\\\\\\\\\\\"}]}}, \\\\\\\\\\\\\\\"localData\\\\\\\\\\\\\\\": {}, \\\\\\\\\\\\\\\"isEnabled\\\\\\\\\\\\\\\": true, \\\\\\\\\\\\\\\"name\\\\\\\\\\\\\\\": null, \\\\\\\\\\\\\\\"annotation\\\\\\\\\\\\\\\": null}, {\\\\\\\\\\\\\\\"id\\\\\\\\\\\\\\\": \\\\\\\\\\\\\\\"28b53366-ca62-4c16-b204-ee8f8e1bb968\\\\\\\\\\\\\\\", \\\\\\\\\\\\\\\"type\\\\\\\\\\\\\\\": \\\\\\\\\\\\\\\"Microsoft.DPrep.ParseDelimitedBlock\\\\\\\\\\\\\\\", \\\\\\\\\\\\\\\"arguments\\\\\\\\\\\\\\\": {\\\\\\\\\\\\\\\"columnHeadersMode\\\\\\\\\\\\\\\": 3, \\\\\\\\\\\\\\\"fileEncoding\\\\\\\\\\\\\\\": 0, \\\\\\\\\\\\\\\"handleQuotedLineBreaks\\\\\\\\\\\\\\\": false, \\\\\\\\\\\\\\\"preview\\\\\\\\\\\\\\\": false, \\\\\\\\\\\\\\\"separator\\\\\\\\\\\\\\\": \\\\\\\\\\\\\\\",\\\\\\\\\\\\\\\", \\\\\\\\\\\\\\\"skipRows\\\\\\\\\\\\\\\": 0, \\\\\\\\\\\\\\\"skipRowsMode\\\\\\\\\\\\\\\": 0}, \\\\\\\\\\\\\\\"localData\\\\\\\\\\\\\\\": {}, \\\\\\\\\\\\\\\"isEnabled\\\\\\\\\\\\\\\": true, \\\\\\\\\\\\\\\"name\\\\\\\\\\\\\\\": null, \\\\\\\\\\\\\\\"annotation\\\\\\\\\\\\\\\": null}, {\\\\\\\\\\\\\\\"id\\\\\\\\\\\\\\\": \\\\\\\\\\\\\\\"e6e89939-2be2-42d2-9125-95ada911d5e0\\\\\\\\\\\\\\\", \\\\\\\\\\\\\\\"type\\\\\\\\\\\\\\\": \\\\\\\\\\\\\\\"Microsoft.DPrep.DropColumnsBlock\\\\\\\\\\\\\\\", \\\\\\\\\\\\\\\"arguments\\\\\\\\\\\\\\\": {\\\\\\\\\\\\\\\"columns\\\\\\\\\\\\\\\": {\\\\\\\\\\\\\\\"type\\\\\\\\\\\\\\\": 0, \\\\\\\\\\\\\\\"details\\\\\\\\\\\\\\\": {\\\\\\\\\\\\\\\"selectedColumns\\\\\\\\\\\\\\\": [\\\\\\\\\\\\\\\"Path\\\\\\\\\\\\\\\"]}}}, \\\\\\\\\\\\\\\"localData\\\\\\\\\\\\\\\": {}, \\\\\\\\\\\\\\\"isEnabled\\\\\\\\\\\\\\\": true, \\\\\\\\\\\\\\\"name\\\\\\\\\\\\\\\": null, \\\\\\\\\\\\\\\"annotation\\\\\\\\\\\\\\\": null}, {\\\\\\\\\\\\\\\"id\\\\\\\\\\\\\\\": \\\\\\\\\\\\\\\"f5472d00-aeda-4a21-9571-0e0b92a230b2\\\\\\\\\\\\\\\", \\\\\\\\\\\\\\\"type\\\\\\\\\\\\\\\": \\\\\\\\\\\\\\\"Microsoft.DPrep.SetColumnTypesBlock\\\\\\\\\\\\\\\", \\\\\\\\\\\\\\\"arguments\\\\\\\\\\\\\\\": {\\\\\\\\\\\\\\\"columnConversion\\\\\\\\\\\\\\\": [{\\\\\\\\\\\\\\\"column\\\\\\\\\\\\\\\": {\\\\\\\\\\\\\\\"type\\\\\\\\\\\\\\\": 2, \\\\\\\\\\\\\\\"details\\\\\\\\\\\\\\\": {\\\\\\\\\\\\\\\"selectedColumn\\\\\\\\\\\\\\\": \\\\\\\\\\\\\\\"Source Port\\\\\\\\\\\\\\\"}}, \\\\\\\\\\\\\\\"typeProperty\\\\\\\\\\\\\\\": 2}, {\\\\\\\\\\\\\\\"column\\\\\\\\\\\\\\\": {\\\\\\\\\\\\\\\"type\\\\\\\\\\\\\\\": 2, \\\\\\\\\\\\\\\"details\\\\\\\\\\\\\\\": {\\\\\\\\\\\\\\\"selectedColumn\\\\\\\\\\\\\\\": \\\\\\\\\\\\\\\"Destination Port\\\\\\\\\\\\\\\"}}, \\\\\\\\\\\\\\\"typeProperty\\\\\\\\\\\\\\\": 2}, {\\\\\\\\\\\\\\\"column\\\\\\\\\\\\\\\": {\\\\\\\\\\\\\\\"type\\\\\\\\\\\\\\\": 2, \\\\\\\\\\\\\\\"details\\\\\\\\\\\\\\\": {\\\\\\\\\\\\\\\"selectedColumn\\\\\\\\\\\\\\\": \\\\\\\\\\\\\\\"NAT Source Port\\\\\\\\\\\\\\\"}}, \\\\\\\\\\\\\\\"typeProperty\\\\\\\\\\\\\\\": 2}, {\\\\\\\\\\\\\\\"column\\\\\\\\\\\\\\\": {\\\\\\\\\\\\\\\"type\\\\\\\\\\\\\\\": 2, \\\\\\\\\\\\\\\"details\\\\\\\\\\\\\\\": {\\\\\\\\\\\\\\\"selectedColumn\\\\\\\\\\\\\\\": \\\\\\\\\\\\\\\"NAT Destination Port\\\\\\\\\\\\\\\"}}, \\\\\\\\\\\\\\\"typeProperty\\\\\\\\\\\\\\\": 2}, {\\\\\\\\\\\\\\\"column\\\\\\\\\\\\\\\": {\\\\\\\\\\\\\\\"type\\\\\\\\\\\\\\\": 2, \\\\\\\\\\\\\\\"details\\\\\\\\\\\\\\\": {\\\\\\\\\\\\\\\"selectedColumn\\\\\\\\\\\\\\\": \\\\\\\\\\\\\\\"Action\\\\\\\\\\\\\\\"}}, \\\\\\\\\\\\\\\"typeProperty\\\\\\\\\\\\\\\": 0}, {\\\\\\\\\\\\\\\"column\\\\\\\\\\\\\\\": {\\\\\\\\\\\\\\\"type\\\\\\\\\\\\\\\": 2, \\\\\\\\\\\\\\\"details\\\\\\\\\\\\\\\": {\\\\\\\\\\\\\\\"selectedColumn\\\\\\\\\\\\\\\": \\\\\\\\\\\\\\\"Bytes\\\\\\\\\\\\\\\"}}, \\\\\\\\\\\\\\\"typeProperty\\\\\\\\\\\\\\\": 2}, {\\\\\\\\\\\\\\\"column\\\\\\\\\\\\\\\": {\\\\\\\\\\\\\\\"type\\\\\\\\\\\\\\\": 2, \\\\\\\\\\\\\\\"details\\\\\\\\\\\\\\\": {\\\\\\\\\\\\\\\"selectedColumn\\\\\\\\\\\\\\\": \\\\\\\\\\\\\\\"Bytes Sent\\\\\\\\\\\\\\\"}}, \\\\\\\\\\\\\\\"typeProperty\\\\\\\\\\\\\\\": 2}, {\\\\\\\\\\\\\\\"column\\\\\\\\\\\\\\\": {\\\\\\\\\\\\\\\"type\\\\\\\\\\\\\\\": 2, \\\\\\\\\\\\\\\"details\\\\\\\\\\\\\\\": {\\\\\\\\\\\\\\\"selectedColumn\\\\\\\\\\\\\\\": \\\\\\\\\\\\\\\"Bytes Received\\\\\\\\\\\\\\\"}}, \\\\\\\\\\\\\\\"typeProperty\\\\\\\\\\\\\\\": 2}, {\\\\\\\\\\\\\\\"column\\\\\\\\\\\\\\\": {\\\\\\\\\\\\\\\"type\\\\\\\\\\\\\\\": 2, \\\\\\\\\\\\\\\"details\\\\\\\\\\\\\\\": {\\\\\\\\\\\\\\\"selectedColumn\\\\\\\\\\\\\\\": \\\\\\\\\\\\\\\"Packets\\\\\\\\\\\\\\\"}}, \\\\\\\\\\\\\\\"typeProperty\\\\\\\\\\\\\\\": 2}, {\\\\\\\\\\\\\\\"column\\\\\\\\\\\\\\\": {\\\\\\\\\\\\\\\"type\\\\\\\\\\\\\\\": 2, \\\\\\\\\\\\\\\"details\\\\\\\\\\\\\\\": {\\\\\\\\\\\\\\\"selectedColumn\\\\\\\\\\\\\\\": \\\\\\\\\\\\\\\"Elapsed Time (sec)\\\\\\\\\\\\\\\"}}, \\\\\\\\\\\\\\\"typeProperty\\\\\\\\\\\\\\\": 2}, {\\\\\\\\\\\\\\\"column\\\\\\\\\\\\\\\": {\\\\\\\\\\\\\\\"type\\\\\\\\\\\\\\\": 2, \\\\\\\\\\\\\\\"details\\\\\\\\\\\\\\\": {\\\\\\\\\\\\\\\"selectedColumn\\\\\\\\\\\\\\\": \\\\\\\\\\\\\\\"pkts_sent\\\\\\\\\\\\\\\"}}, \\\\\\\\\\\\\\\"typeProperty\\\\\\\\\\\\\\\": 2}, {\\\\\\\\\\\\\\\"column\\\\\\\\\\\\\\\": {\\\\\\\\\\\\\\\"type\\\\\\\\\\\\\\\": 2, \\\\\\\\\\\\\\\"details\\\\\\\\\\\\\\\": {\\\\\\\\\\\\\\\"selectedColumn\\\\\\\\\\\\\\\": \\\\\\\\\\\\\\\"pkts_received\\\\\\\\\\\\\\\"}}, \\\\\\\\\\\\\\\"typeProperty\\\\\\\\\\\\\\\": 2}]}, \\\\\\\\\\\\\\\"localData\\\\\\\\\\\\\\\": {}, \\\\\\\\\\\\\\\"isEnabled\\\\\\\\\\\\\\\": true, \\\\\\\\\\\\\\\"name\\\\\\\\\\\\\\\": null, \\\\\\\\\\\\\\\"annotation\\\\\\\\\\\\\\\": null}], \\\\\\\\\\\\\\\"inspectors\\\\\\\\\\\\\\\": [], \\\\\\\\\\\\\\\"meta\\\\\\\\\\\\\\\": {\\\\\\\\\\\\\\\"savedDatasetId\\\\\\\\\\\\\\\": \\\\\\\\\\\\\\\"602973f4-f9e7-4e37-808d-260979c0fb59\\\\\\\\\\\\\\\", \\\\\\\\\\\\\\\"datasetType\\\\\\\\\\\\\\\": \\\\\\\\\\\\\\\"tabular\\\\\\\\\\\\\\\", \\\\\\\\\\\\\\\"subscriptionId\\\\\\\\\\\\\\\": \\\\\\\\\\\\\\\"9a7511b8-150f-4a58-8528-3e7d50216c31\\\\\\\\\\\\\\\", \\\\\\\\\\\\\\\"workspaceId\\\\\\\\\\\\\\\": \\\\\\\\\\\\\\\"d424df2c-635b-447c-914c-e3c074b9254f\\\\\\\\\\\\\\\", \\\\\\\\\\\\\\\"workspaceLocation\\\\\\\\\\\\\\\": \\\\\\\\\\\\\\\"southcentralus\\\\\\\\\\\\\\\"}}\\\\\\\", \\\\\\\"activities\\\\\\\": 0}\", \"EnableSubsampling\": null, \"runTemplate\": \"AutoML\", \"azureml.runsource\": \"automl\", \"display_task_type\": \"classification\", \"dependencies_versions\": \"{\\\"azureml-widgets\\\": \\\"1.20.0\\\", \\\"azureml-train\\\": \\\"1.20.0\\\", \\\"azureml-train-restclients-hyperdrive\\\": \\\"1.20.0\\\", \\\"azureml-train-core\\\": \\\"1.20.0\\\", \\\"azureml-train-automl\\\": \\\"1.20.0\\\", \\\"azureml-train-automl-runtime\\\": \\\"1.20.0\\\", \\\"azureml-train-automl-client\\\": \\\"1.20.0\\\", \\\"azureml-tensorboard\\\": \\\"1.20.0\\\", \\\"azureml-telemetry\\\": \\\"1.20.0\\\", \\\"azureml-sdk\\\": \\\"1.20.0\\\", \\\"azureml-samples\\\": \\\"0+unknown\\\", \\\"azureml-pipeline\\\": \\\"1.20.0\\\", \\\"azureml-pipeline-steps\\\": \\\"1.20.0\\\", \\\"azureml-pipeline-core\\\": \\\"1.20.0\\\", \\\"azureml-opendatasets\\\": \\\"1.20.0\\\", \\\"azureml-model-management-sdk\\\": \\\"1.0.1b6.post1\\\", \\\"azureml-mlflow\\\": \\\"1.20.0.post1\\\", \\\"azureml-interpret\\\": \\\"1.20.0\\\", \\\"azureml-explain-model\\\": \\\"1.20.0\\\", \\\"azureml-defaults\\\": \\\"1.20.0\\\", \\\"azureml-dataset-runtime\\\": \\\"1.20.0\\\", \\\"azureml-dataprep\\\": \\\"2.7.3\\\", \\\"azureml-dataprep-rslex\\\": \\\"1.5.0\\\", \\\"azureml-dataprep-native\\\": \\\"27.0.0\\\", \\\"azureml-datadrift\\\": \\\"1.20.0\\\", \\\"azureml-core\\\": \\\"1.20.0\\\", \\\"azureml-contrib-services\\\": \\\"1.20.0\\\", \\\"azureml-contrib-server\\\": \\\"1.20.0\\\", \\\"azureml-contrib-reinforcementlearning\\\": \\\"1.20.0\\\", \\\"azureml-contrib-pipeline-steps\\\": \\\"1.20.0\\\", \\\"azureml-contrib-notebook\\\": \\\"1.20.0\\\", \\\"azureml-contrib-interpret\\\": \\\"1.20.0\\\", \\\"azureml-contrib-gbdt\\\": \\\"1.20.0\\\", \\\"azureml-contrib-fairness\\\": \\\"1.20.0\\\", \\\"azureml-contrib-dataset\\\": \\\"1.20.0\\\", \\\"azureml-cli-common\\\": \\\"1.20.0\\\", \\\"azureml-automl-runtime\\\": \\\"1.20.0\\\", \\\"azureml-automl-core\\\": \\\"1.20.0\\\", \\\"azureml-accel-models\\\": \\\"1.20.0\\\"}\", \"_aml_system_scenario_identification\": \"Remote.Parent\", \"ClientType\": \"SDK\", \"environment_cpu_name\": \"AzureML-AutoML\", \"environment_cpu_label\": \"prod\", \"environment_gpu_name\": \"AzureML-AutoML-GPU\", \"environment_gpu_label\": \"prod\", \"root_attribution\": \"automl\", \"attribution\": \"AutoML\", \"Orchestrator\": \"AutoML\", \"CancelUri\": \"https://southcentralus.experiments.azureml.net/jasmine/v1.0/subscriptions/9a7511b8-150f-4a58-8528-3e7d50216c31/resourceGroups/aml-quickstarts-138215/providers/Microsoft.MachineLearningServices/workspaces/quick-starts-ws-138215/experimentids/7086aa08-6fc1-4c7d-a7a8-1210ffaf4f88/cancel/AutoML_f606c021-f178-49ed-a906-5b5cb9e641b3\", \"ClientSdkVersion\": \"1.21.0\", \"snapshotId\": \"00000000-0000-0000-0000-000000000000\", \"SetupRunId\": \"AutoML_f606c021-f178-49ed-a906-5b5cb9e641b3_setup\", \"SetupRunContainerId\": \"dcid.AutoML_f606c021-f178-49ed-a906-5b5cb9e641b3_setup\", \"FeaturizationRunJsonPath\": \"featurizer_container.json\", \"FeaturizationRunId\": \"AutoML_f606c021-f178-49ed-a906-5b5cb9e641b3_featurize\", \"ProblemInfoJsonString\": \"{\\\"dataset_num_categorical\\\": 0, \\\"is_sparse\\\": false, \\\"subsampling\\\": false, \\\"dataset_classes\\\": 4, \\\"dataset_features\\\": 11, \\\"dataset_samples\\\": 58978, \\\"single_frequency_class_detected\\\": false}\", \"ModelExplainRunId\": \"AutoML_f606c021-f178-49ed-a906-5b5cb9e641b3_ModelExplain\"}, \"tags\": {\"model_explain_run\": \"best_run\", \"_aml_system_azureml.automlComponent\": \"AutoML\", \"pipeline_id\": \"\", \"score\": \"\", \"predicted_cost\": \"\", \"fit_time\": \"\", \"training_percent\": \"\", \"iteration\": \"\", \"run_preprocessor\": \"\", \"run_algorithm\": \"\", \"dynamic_whitelisting_iterations\": \"<25>;<30>;<35>;\", \"automl_best_child_run_id\": \"AutoML_f606c021-f178-49ed-a906-5b5cb9e641b3_38\", \"model_explain_best_run_child_id\": \"AutoML_f606c021-f178-49ed-a906-5b5cb9e641b3_38\"}, \"end_time_utc\": \"2021-02-09T00:26:04.413942Z\", \"status\": \"Completed\", \"log_files\": {}, \"log_groups\": [], \"run_duration\": \"0:20:05\"}, \"child_runs\": [{\"run_id\": \"AutoML_f606c021-f178-49ed-a906-5b5cb9e641b3_3\", \"run_number\": 5, \"metric\": null, \"status\": \"Completed\", \"run_type\": \"azureml.scriptrun\", \"training_percent\": \"100\", \"start_time\": \"2021-02-09T00:13:46.815573Z\", \"end_time\": \"2021-02-09T00:14:39.907257Z\", \"created_time\": \"2021-02-09T00:10:37.500007Z\", \"created_time_dt\": \"2021-02-09T00:10:37.500007Z\", \"duration\": \"0:04:02\", \"iteration\": \"3\", \"goal\": \"accuracy_max\", \"run_name\": \"MinMaxScaler, RandomForest\", \"run_properties\": \"copy=True, feature_range=(0, 1\", \"primary_metric\": 0.98428441, \"best_metric\": 0.99801648}, {\"run_id\": \"AutoML_f606c021-f178-49ed-a906-5b5cb9e641b3_0\", \"run_number\": 6, \"metric\": null, \"status\": \"Completed\", \"run_type\": \"azureml.scriptrun\", \"training_percent\": \"100\", \"start_time\": \"2021-02-09T00:12:53.453356Z\", \"end_time\": \"2021-02-09T00:13:42.777893Z\", \"created_time\": \"2021-02-09T00:10:37.505666Z\", \"created_time_dt\": \"2021-02-09T00:10:37.505666Z\", \"duration\": \"0:03:05\", \"iteration\": \"0\", \"goal\": \"accuracy_max\", \"run_name\": \"MaxAbsScaler, LightGBM\", \"run_properties\": \"copy=True\", \"primary_metric\": 0.99465975, \"best_metric\": 0.99465975}, {\"run_id\": \"AutoML_f606c021-f178-49ed-a906-5b5cb9e641b3_4\", \"run_number\": 7, \"metric\": null, \"status\": \"Completed\", \"run_type\": \"azureml.scriptrun\", \"training_percent\": \"100\", \"start_time\": \"2021-02-09T00:14:01.96483Z\", \"end_time\": \"2021-02-09T00:16:09.98902Z\", \"created_time\": \"2021-02-09T00:10:37.611739Z\", \"created_time_dt\": \"2021-02-09T00:10:37.611739Z\", \"duration\": \"0:05:32\", \"iteration\": \"4\", \"goal\": \"accuracy_max\", \"run_name\": \"MinMaxScaler, RandomForest\", \"run_properties\": \"copy=True, feature_range=(0, 1\", \"primary_metric\": 0.97451938, \"best_metric\": 0.99801648}, {\"run_id\": \"AutoML_f606c021-f178-49ed-a906-5b5cb9e641b3_2\", \"run_number\": 8, \"metric\": null, \"status\": \"Completed\", \"run_type\": \"azureml.scriptrun\", \"training_percent\": \"100\", \"start_time\": \"2021-02-09T00:11:54.736182Z\", \"end_time\": \"2021-02-09T00:12:52.8395Z\", \"created_time\": \"2021-02-09T00:10:38.032023Z\", \"created_time_dt\": \"2021-02-09T00:10:38.032023Z\", \"duration\": \"0:02:14\", \"iteration\": \"2\", \"goal\": \"accuracy_max\", \"run_name\": \"MinMaxScaler, RandomForest\", \"run_properties\": \"copy=True, feature_range=(0, 1\", \"primary_metric\": 0.99252365, \"best_metric\": 0.99801648}, {\"run_id\": \"AutoML_f606c021-f178-49ed-a906-5b5cb9e641b3_1\", \"run_number\": 9, \"metric\": null, \"status\": \"Completed\", \"run_type\": \"azureml.scriptrun\", \"training_percent\": \"100\", \"start_time\": \"2021-02-09T00:10:48.742255Z\", \"end_time\": \"2021-02-09T00:11:48.983467Z\", \"created_time\": \"2021-02-09T00:10:37.50017Z\", \"created_time_dt\": \"2021-02-09T00:10:37.50017Z\", \"duration\": \"0:01:11\", \"iteration\": \"1\", \"goal\": \"accuracy_max\", \"run_name\": \"MaxAbsScaler, XGBoostClassifier\", \"run_properties\": \"copy=True\", \"primary_metric\": 0.99801648, \"best_metric\": 0.99801648}, {\"run_id\": \"AutoML_f606c021-f178-49ed-a906-5b5cb9e641b3_5\", \"run_number\": 10, \"metric\": null, \"status\": \"Completed\", \"run_type\": \"azureml.scriptrun\", \"training_percent\": \"100\", \"start_time\": \"2021-02-09T00:13:58.349936Z\", \"end_time\": \"2021-02-09T00:16:23.973434Z\", \"created_time\": \"2021-02-09T00:11:51.868883Z\", \"created_time_dt\": \"2021-02-09T00:11:51.868883Z\", \"duration\": \"0:04:32\", \"iteration\": \"5\", \"goal\": \"accuracy_max\", \"run_name\": \"RobustScaler, LightGBM\", \"run_properties\": \"copy=True, quantile_range=[25, 75], with_centering=False,\\n             with_scaling=False\", \"primary_metric\": 0.99801648, \"best_metric\": 0.99801648}, {\"run_id\": \"AutoML_f606c021-f178-49ed-a906-5b5cb9e641b3_6\", \"run_number\": 11, \"metric\": null, \"status\": \"Completed\", \"run_type\": \"azureml.scriptrun\", \"training_percent\": \"100\", \"start_time\": \"2021-02-09T00:14:00.456008Z\", \"end_time\": \"2021-02-09T00:16:12.745084Z\", \"created_time\": \"2021-02-09T00:12:57.262145Z\", \"created_time_dt\": \"2021-02-09T00:12:57.262145Z\", \"duration\": \"0:03:15\", \"iteration\": \"6\", \"goal\": \"accuracy_max\", \"run_name\": \"StandardScalerWrapper, LightGBM\", \"run_properties\": \"<azureml.automl.runtime.shared.model_wrappers.StandardScalerWrapper object at 0x7f5035a7fdd8\", \"primary_metric\": 0.99801648, \"best_metric\": 0.99801648}, {\"run_id\": \"AutoML_f606c021-f178-49ed-a906-5b5cb9e641b3_7\", \"run_number\": 12, \"metric\": null, \"status\": \"Completed\", \"run_type\": \"azureml.scriptrun\", \"training_percent\": \"100\", \"start_time\": \"2021-02-09T00:14:03.809858Z\", \"end_time\": \"2021-02-09T00:16:38.074076Z\", \"created_time\": \"2021-02-09T00:13:47.433101Z\", \"created_time_dt\": \"2021-02-09T00:13:47.433101Z\", \"duration\": \"0:02:50\", \"iteration\": \"7\", \"goal\": \"accuracy_max\", \"run_name\": \"TruncatedSVDWrapper, XGBoostClassifier\", \"run_properties\": \"n_components=0.95, random_state=None\", \"primary_metric\": 0.99771132, \"best_metric\": 0.99801648}, {\"run_id\": \"AutoML_f606c021-f178-49ed-a906-5b5cb9e641b3_8\", \"run_number\": 13, \"metric\": null, \"status\": \"Completed\", \"run_type\": \"azureml.scriptrun\", \"training_percent\": \"100\", \"start_time\": \"2021-02-09T00:14:55.002677Z\", \"end_time\": \"2021-02-09T00:16:02.504179Z\", \"created_time\": \"2021-02-09T00:14:42.288424Z\", \"created_time_dt\": \"2021-02-09T00:14:42.288424Z\", \"duration\": \"0:01:20\", \"iteration\": \"8\", \"goal\": \"accuracy_max\", \"run_name\": \"SparseNormalizer, XGBoostClassifier\", \"run_properties\": \"<azureml.automl.runtime.shared.model_wrappers.SparseNormalizer object at 0x7f1b3fa40fd0\", \"primary_metric\": 0.99801648, \"best_metric\": 0.99801648}, {\"run_id\": \"AutoML_f606c021-f178-49ed-a906-5b5cb9e641b3_9\", \"run_number\": 14, \"metric\": null, \"status\": \"Completed\", \"run_type\": \"azureml.scriptrun\", \"training_percent\": \"100\", \"start_time\": \"2021-02-09T00:16:20.986074Z\", \"end_time\": \"2021-02-09T00:17:19.394582Z\", \"created_time\": \"2021-02-09T00:16:05.581001Z\", \"created_time_dt\": \"2021-02-09T00:16:05.581001Z\", \"duration\": \"0:01:13\", \"iteration\": \"9\", \"goal\": \"accuracy_max\", \"run_name\": \"MinMaxScaler, LogisticRegression\", \"run_properties\": \"copy=True, feature_range=(0, 1\", \"primary_metric\": 0.97360391, \"best_metric\": 0.99801648}, {\"run_id\": \"AutoML_f606c021-f178-49ed-a906-5b5cb9e641b3_10\", \"run_number\": 15, \"metric\": null, \"status\": \"Completed\", \"run_type\": \"azureml.scriptrun\", \"training_percent\": \"100\", \"start_time\": \"2021-02-09T00:16:29.294991Z\", \"end_time\": \"2021-02-09T00:17:17.85599Z\", \"created_time\": \"2021-02-09T00:16:13.123052Z\", \"created_time_dt\": \"2021-02-09T00:16:13.123052Z\", \"duration\": \"0:01:04\", \"iteration\": \"10\", \"goal\": \"accuracy_max\", \"run_name\": \"StandardScalerWrapper, XGBoostClassifier\", \"run_properties\": \"<azureml.automl.runtime.shared.model_wrappers.StandardScalerWrapper object at 0x7f308bd78ba8\", \"primary_metric\": 0.99313396, \"best_metric\": 0.99801648}, {\"run_id\": \"AutoML_f606c021-f178-49ed-a906-5b5cb9e641b3_11\", \"run_number\": 16, \"metric\": null, \"status\": \"Completed\", \"run_type\": \"azureml.scriptrun\", \"training_percent\": \"100\", \"start_time\": \"2021-02-09T00:16:37.757807Z\", \"end_time\": \"2021-02-09T00:18:41.827221Z\", \"created_time\": \"2021-02-09T00:16:23.358292Z\", \"created_time_dt\": \"2021-02-09T00:16:23.358292Z\", \"duration\": \"0:02:18\", \"iteration\": \"11\", \"goal\": \"accuracy_max\", \"run_name\": \"SparseNormalizer, XGBoostClassifier\", \"run_properties\": \"<azureml.automl.runtime.shared.model_wrappers.SparseNormalizer object at 0x7f1c7c8d9128\", \"primary_metric\": 0.99801648, \"best_metric\": 0.99801648}, {\"run_id\": \"AutoML_f606c021-f178-49ed-a906-5b5cb9e641b3_12\", \"run_number\": 17, \"metric\": null, \"status\": \"Completed\", \"run_type\": \"azureml.scriptrun\", \"training_percent\": \"100\", \"start_time\": \"2021-02-09T00:16:43.640675Z\", \"end_time\": \"2021-02-09T00:17:28.690756Z\", \"created_time\": \"2021-02-09T00:16:31.174106Z\", \"created_time_dt\": \"2021-02-09T00:16:31.174106Z\", \"duration\": \"0:00:57\", \"iteration\": \"12\", \"goal\": \"accuracy_max\", \"run_name\": \"RobustScaler, ExtremeRandomTrees\", \"run_properties\": \"copy=True, quantile_range=[10, 90], with_centering=True,\\n             with_scaling=True\", \"primary_metric\": 0.94812328, \"best_metric\": 0.99801648}, {\"run_id\": \"AutoML_f606c021-f178-49ed-a906-5b5cb9e641b3_13\", \"run_number\": 18, \"metric\": null, \"status\": \"Completed\", \"run_type\": \"azureml.scriptrun\", \"training_percent\": \"100\", \"start_time\": \"2021-02-09T00:16:52.661688Z\", \"end_time\": \"2021-02-09T00:17:46.10068Z\", \"created_time\": \"2021-02-09T00:16:41.513303Z\", \"created_time_dt\": \"2021-02-09T00:16:41.513303Z\", \"duration\": \"0:01:04\", \"iteration\": \"13\", \"goal\": \"accuracy_max\", \"run_name\": \"StandardScalerWrapper, LightGBM\", \"run_properties\": \"<azureml.automl.runtime.shared.model_wrappers.StandardScalerWrapper object at 0x7fef25f33e48\", \"primary_metric\": 0.98581019, \"best_metric\": 0.99801648}, {\"run_id\": \"AutoML_f606c021-f178-49ed-a906-5b5cb9e641b3_14\", \"run_number\": 19, \"metric\": null, \"status\": \"Completed\", \"run_type\": \"azureml.scriptrun\", \"training_percent\": \"100\", \"start_time\": \"2021-02-09T00:17:33.652617Z\", \"end_time\": \"2021-02-09T00:18:29.269977Z\", \"created_time\": \"2021-02-09T00:17:20.43639Z\", \"created_time_dt\": \"2021-02-09T00:17:20.43639Z\", \"duration\": \"0:01:08\", \"iteration\": \"14\", \"goal\": \"accuracy_max\", \"run_name\": \"RobustScaler, LightGBM\", \"run_properties\": \"copy=True, quantile_range=[10, 90], with_centering=False,\\n             with_scaling=False\", \"primary_metric\": 0.99557522, \"best_metric\": 0.99801648}, {\"run_id\": \"AutoML_f606c021-f178-49ed-a906-5b5cb9e641b3_15\", \"run_number\": 20, \"metric\": null, \"status\": \"Completed\", \"run_type\": \"azureml.scriptrun\", \"training_percent\": \"100\", \"start_time\": \"2021-02-09T00:17:40.244236Z\", \"end_time\": \"2021-02-09T00:18:32.984606Z\", \"created_time\": \"2021-02-09T00:17:25.99932Z\", \"created_time_dt\": \"2021-02-09T00:17:25.99932Z\", \"duration\": \"0:01:06\", \"iteration\": \"15\", \"goal\": \"accuracy_max\", \"run_name\": \"MaxAbsScaler, LightGBM\", \"run_properties\": \"copy=True\", \"primary_metric\": 0.99450717, \"best_metric\": 0.99801648}, {\"run_id\": \"AutoML_f606c021-f178-49ed-a906-5b5cb9e641b3_16\", \"run_number\": 21, \"metric\": null, \"status\": \"Completed\", \"run_type\": \"azureml.scriptrun\", \"training_percent\": \"100\", \"start_time\": \"2021-02-09T00:17:44.481463Z\", \"end_time\": \"2021-02-09T00:18:43.231589Z\", \"created_time\": \"2021-02-09T00:17:31.973424Z\", \"created_time_dt\": \"2021-02-09T00:17:31.973424Z\", \"duration\": \"0:01:11\", \"iteration\": \"16\", \"goal\": \"accuracy_max\", \"run_name\": \"RobustScaler, LightGBM\", \"run_properties\": \"copy=True, quantile_range=[10, 90], with_centering=True,\\n             with_scaling=True\", \"primary_metric\": 0.99801648, \"best_metric\": 0.99801648}, {\"run_id\": \"AutoML_f606c021-f178-49ed-a906-5b5cb9e641b3_17\", \"run_number\": 22, \"metric\": null, \"status\": \"Completed\", \"run_type\": \"azureml.scriptrun\", \"training_percent\": \"100\", \"start_time\": \"2021-02-09T00:18:00.048966Z\", \"end_time\": \"2021-02-09T00:18:43.618142Z\", \"created_time\": \"2021-02-09T00:17:47.787979Z\", \"created_time_dt\": \"2021-02-09T00:17:47.787979Z\", \"duration\": \"0:00:55\", \"iteration\": \"17\", \"goal\": \"accuracy_max\", \"run_name\": \"SparseNormalizer, XGBoostClassifier\", \"run_properties\": \"<azureml.automl.runtime.shared.model_wrappers.SparseNormalizer object at 0x7fa990652e10\", \"primary_metric\": 0.99496491, \"best_metric\": 0.99801648}, {\"run_id\": \"AutoML_f606c021-f178-49ed-a906-5b5cb9e641b3_18\", \"run_number\": 23, \"metric\": null, \"status\": \"Completed\", \"run_type\": \"azureml.scriptrun\", \"training_percent\": \"100\", \"start_time\": \"2021-02-09T00:18:46.060764Z\", \"end_time\": \"2021-02-09T00:19:35.06548Z\", \"created_time\": \"2021-02-09T00:18:33.087743Z\", \"created_time_dt\": \"2021-02-09T00:18:33.087743Z\", \"duration\": \"0:01:01\", \"iteration\": \"18\", \"goal\": \"accuracy_max\", \"run_name\": \"StandardScalerWrapper, XGBoostClassifier\", \"run_properties\": \"<azureml.automl.runtime.shared.model_wrappers.StandardScalerWrapper object at 0x7fc9c69a7a20\", \"primary_metric\": 0.99755874, \"best_metric\": 0.99801648}, {\"run_id\": \"AutoML_f606c021-f178-49ed-a906-5b5cb9e641b3_19\", \"run_number\": 24, \"metric\": null, \"status\": \"Completed\", \"run_type\": \"azureml.scriptrun\", \"training_percent\": \"100\", \"start_time\": \"2021-02-09T00:18:50.955331Z\", \"end_time\": \"2021-02-09T00:19:49.281603Z\", \"created_time\": \"2021-02-09T00:18:37.600576Z\", \"created_time_dt\": \"2021-02-09T00:18:37.600576Z\", \"duration\": \"0:01:11\", \"iteration\": \"19\", \"goal\": \"accuracy_max\", \"run_name\": \"RobustScaler, LightGBM\", \"run_properties\": \"copy=True, quantile_range=[25, 75], with_centering=False,\\n             with_scaling=False\", \"primary_metric\": 0.99801648, \"best_metric\": 0.99801648}, {\"run_id\": \"AutoML_f606c021-f178-49ed-a906-5b5cb9e641b3_20\", \"run_number\": 25, \"metric\": null, \"status\": \"Completed\", \"run_type\": \"azureml.scriptrun\", \"training_percent\": \"100\", \"start_time\": \"2021-02-09T00:18:54.080839Z\", \"end_time\": \"2021-02-09T00:19:51.286351Z\", \"created_time\": \"2021-02-09T00:18:43.594017Z\", \"created_time_dt\": \"2021-02-09T00:18:43.594017Z\", \"duration\": \"0:01:07\", \"iteration\": \"20\", \"goal\": \"accuracy_max\", \"run_name\": \"MinMaxScaler, LogisticRegression\", \"run_properties\": \"copy=True, feature_range=(0, 1\", \"primary_metric\": 0.97802868, \"best_metric\": 0.99801648}, {\"run_id\": \"AutoML_f606c021-f178-49ed-a906-5b5cb9e641b3_21\", \"run_number\": 26, \"metric\": null, \"status\": \"Completed\", \"run_type\": \"azureml.scriptrun\", \"training_percent\": \"100\", \"start_time\": \"2021-02-09T00:18:56.946158Z\", \"end_time\": \"2021-02-09T00:19:50.977573Z\", \"created_time\": \"2021-02-09T00:18:46.726561Z\", \"created_time_dt\": \"2021-02-09T00:18:46.726561Z\", \"duration\": \"0:01:04\", \"iteration\": \"21\", \"goal\": \"accuracy_max\", \"run_name\": \"MaxAbsScaler, LightGBM\", \"run_properties\": \"copy=True\", \"primary_metric\": 0.99801648, \"best_metric\": 0.99801648}, {\"run_id\": \"AutoML_f606c021-f178-49ed-a906-5b5cb9e641b3_22\", \"run_number\": 27, \"metric\": null, \"status\": \"Completed\", \"run_type\": \"azureml.scriptrun\", \"training_percent\": \"100\", \"start_time\": \"2021-02-09T00:18:59.379281Z\", \"end_time\": \"2021-02-09T00:19:45.637073Z\", \"created_time\": \"2021-02-09T00:18:46.755043Z\", \"created_time_dt\": \"2021-02-09T00:18:46.755043Z\", \"duration\": \"0:00:58\", \"iteration\": \"22\", \"goal\": \"accuracy_max\", \"run_name\": \"SparseNormalizer, XGBoostClassifier\", \"run_properties\": \"<azureml.automl.runtime.shared.model_wrappers.SparseNormalizer object at 0x7fb4bf4ad128\", \"primary_metric\": 0.99679585, \"best_metric\": 0.99801648}, {\"run_id\": \"AutoML_f606c021-f178-49ed-a906-5b5cb9e641b3_23\", \"run_number\": 28, \"metric\": null, \"status\": \"Completed\", \"run_type\": \"azureml.scriptrun\", \"training_percent\": \"100\", \"start_time\": \"2021-02-09T00:19:50.110234Z\", \"end_time\": \"2021-02-09T00:20:47.841061Z\", \"created_time\": \"2021-02-09T00:19:37.713809Z\", \"created_time_dt\": \"2021-02-09T00:19:37.713809Z\", \"duration\": \"0:01:10\", \"iteration\": \"23\", \"goal\": \"accuracy_max\", \"run_name\": \"MinMaxScaler, LogisticRegression\", \"run_properties\": \"copy=True, feature_range=(0, 1\", \"primary_metric\": 0.98153799, \"best_metric\": 0.99801648}, {\"run_id\": \"AutoML_f606c021-f178-49ed-a906-5b5cb9e641b3_24\", \"run_number\": 29, \"metric\": null, \"status\": \"Completed\", \"run_type\": \"azureml.scriptrun\", \"training_percent\": \"100\", \"start_time\": \"2021-02-09T00:20:01.974388Z\", \"end_time\": \"2021-02-09T00:20:53.380462Z\", \"created_time\": \"2021-02-09T00:19:48.891517Z\", \"created_time_dt\": \"2021-02-09T00:19:48.891517Z\", \"duration\": \"0:01:04\", \"iteration\": \"24\", \"goal\": \"accuracy_max\", \"run_name\": \"StandardScalerWrapper, XGBoostClassifier\", \"run_properties\": \"<azureml.automl.runtime.shared.model_wrappers.StandardScalerWrapper object at 0x7f7eae0944e0\", \"primary_metric\": 0.99374428, \"best_metric\": 0.99801648}, {\"run_id\": \"AutoML_f606c021-f178-49ed-a906-5b5cb9e641b3_25\", \"run_number\": 30, \"metric\": null, \"status\": \"Completed\", \"run_type\": \"azureml.scriptrun\", \"training_percent\": \"100\", \"start_time\": \"2021-02-09T00:20:08.275673Z\", \"end_time\": \"2021-02-09T00:21:06.240931Z\", \"created_time\": \"2021-02-09T00:19:55.46083Z\", \"created_time_dt\": \"2021-02-09T00:19:55.46083Z\", \"duration\": \"0:01:10\", \"iteration\": \"25\", \"goal\": \"accuracy_max\", \"run_name\": \"PCA, XGBoostClassifier\", \"run_properties\": \"copy=True, iterated_power='auto', n_components=0.01, random_state=None,\\n    svd_solver='auto', tol=0.0, whiten=True\", \"primary_metric\": 0.98428441, \"best_metric\": 0.99801648}, {\"run_id\": \"AutoML_f606c021-f178-49ed-a906-5b5cb9e641b3_27\", \"run_number\": 31, \"metric\": null, \"status\": \"Completed\", \"run_type\": \"azureml.scriptrun\", \"training_percent\": \"100\", \"start_time\": \"2021-02-09T00:20:07.694628Z\", \"end_time\": \"2021-02-09T00:20:54.242058Z\", \"created_time\": \"2021-02-09T00:19:55.4646Z\", \"created_time_dt\": \"2021-02-09T00:19:55.4646Z\", \"duration\": \"0:00:58\", \"iteration\": \"27\", \"goal\": \"accuracy_max\", \"run_name\": \"RobustScaler, ExtremeRandomTrees\", \"run_properties\": \"copy=True, quantile_range=[10, 90], with_centering=True,\\n             with_scaling=False\", \"primary_metric\": 0.73634422, \"best_metric\": 0.99801648}, {\"run_id\": \"AutoML_f606c021-f178-49ed-a906-5b5cb9e641b3_26\", \"run_number\": 32, \"metric\": null, \"status\": \"Completed\", \"run_type\": \"azureml.scriptrun\", \"training_percent\": \"100\", \"start_time\": \"2021-02-09T00:20:08.069322Z\", \"end_time\": \"2021-02-09T00:20:56.799647Z\", \"created_time\": \"2021-02-09T00:19:55.777903Z\", \"created_time_dt\": \"2021-02-09T00:19:55.777903Z\", \"duration\": \"0:01:01\", \"iteration\": \"26\", \"goal\": \"accuracy_max\", \"run_name\": \"StandardScalerWrapper, XGBoostClassifier\", \"run_properties\": \"<azureml.automl.runtime.shared.model_wrappers.StandardScalerWrapper object at 0x7f1f65eec710\", \"primary_metric\": 0.98565761, \"best_metric\": 0.99801648}, {\"run_id\": \"AutoML_f606c021-f178-49ed-a906-5b5cb9e641b3_28\", \"run_number\": 33, \"metric\": null, \"status\": \"Completed\", \"run_type\": \"azureml.scriptrun\", \"training_percent\": \"100\", \"start_time\": \"2021-02-09T00:21:03.161653Z\", \"end_time\": \"2021-02-09T00:22:01.365626Z\", \"created_time\": \"2021-02-09T00:20:49.900592Z\", \"created_time_dt\": \"2021-02-09T00:20:49.900592Z\", \"duration\": \"0:01:11\", \"iteration\": \"28\", \"goal\": \"accuracy_max\", \"run_name\": \"StandardScalerWrapper, XGBoostClassifier\", \"run_properties\": \"<azureml.automl.runtime.shared.model_wrappers.StandardScalerWrapper object at 0x7fedaa4139e8\", \"primary_metric\": 0.99801648, \"best_metric\": 0.99801648}, {\"run_id\": \"AutoML_f606c021-f178-49ed-a906-5b5cb9e641b3_29\", \"run_number\": 34, \"metric\": null, \"status\": \"Completed\", \"run_type\": \"azureml.scriptrun\", \"training_percent\": \"100\", \"start_time\": \"2021-02-09T00:21:06.540133Z\", \"end_time\": \"2021-02-09T00:22:03.841799Z\", \"created_time\": \"2021-02-09T00:20:55.216972Z\", \"created_time_dt\": \"2021-02-09T00:20:55.216972Z\", \"duration\": \"0:01:08\", \"iteration\": \"29\", \"goal\": \"accuracy_max\", \"run_name\": \"StandardScalerWrapper, XGBoostClassifier\", \"run_properties\": \"<azureml.automl.runtime.shared.model_wrappers.StandardScalerWrapper object at 0x7f15d4d3f860\", \"primary_metric\": 0.99755874, \"best_metric\": 0.99801648}, {\"run_id\": \"AutoML_f606c021-f178-49ed-a906-5b5cb9e641b3_30\", \"run_number\": 35, \"metric\": null, \"status\": \"Canceled\", \"run_type\": \"azureml.scriptrun\", \"training_percent\": \"100\", \"start_time\": \"2021-02-09T00:21:14.665258Z\", \"end_time\": \"2021-02-09T00:23:28.46271Z\", \"created_time\": \"2021-02-09T00:21:01.069346Z\", \"created_time_dt\": \"2021-02-09T00:21:01.069346Z\", \"duration\": \"0:02:27\", \"iteration\": \"30\", \"goal\": null, \"run_name\": \"SparseNormalizer, XGBoostClassifier\", \"run_properties\": null, \"primary_metric\": 0.99740616, \"best_metric\": 0.99801648}, {\"run_id\": \"AutoML_f606c021-f178-49ed-a906-5b5cb9e641b3_31\", \"run_number\": 36, \"metric\": null, \"status\": \"Completed\", \"run_type\": \"azureml.scriptrun\", \"training_percent\": \"100\", \"start_time\": \"2021-02-09T00:21:14.561522Z\", \"end_time\": \"2021-02-09T00:22:49.655707Z\", \"created_time\": \"2021-02-09T00:21:01.165315Z\", \"created_time_dt\": \"2021-02-09T00:21:01.165315Z\", \"duration\": \"0:01:48\", \"iteration\": \"31\", \"goal\": \"accuracy_max\", \"run_name\": \"SparseNormalizer, XGBoostClassifier\", \"run_properties\": \"<azureml.automl.runtime.shared.model_wrappers.SparseNormalizer object at 0x7f1424505f98\", \"primary_metric\": 0.9978639, \"best_metric\": 0.99801648}, {\"run_id\": \"AutoML_f606c021-f178-49ed-a906-5b5cb9e641b3_32\", \"run_number\": 37, \"metric\": null, \"status\": \"Completed\", \"run_type\": \"azureml.scriptrun\", \"training_percent\": \"100\", \"start_time\": \"2021-02-09T00:21:22.693539Z\", \"end_time\": \"2021-02-09T00:22:25.793023Z\", \"created_time\": \"2021-02-09T00:21:10.158526Z\", \"created_time_dt\": \"2021-02-09T00:21:10.158526Z\", \"duration\": \"0:01:15\", \"iteration\": \"32\", \"goal\": \"accuracy_max\", \"run_name\": \"SparseNormalizer, XGBoostClassifier\", \"run_properties\": \"<azureml.automl.runtime.shared.model_wrappers.SparseNormalizer object at 0x7fb40ce9e5f8\", \"primary_metric\": 0.99801648, \"best_metric\": 0.99801648}, {\"run_id\": \"AutoML_f606c021-f178-49ed-a906-5b5cb9e641b3_33\", \"run_number\": 38, \"metric\": null, \"status\": \"Completed\", \"run_type\": \"azureml.scriptrun\", \"training_percent\": \"100\", \"start_time\": \"2021-02-09T00:22:15.994818Z\", \"end_time\": \"2021-02-09T00:23:15.666076Z\", \"created_time\": \"2021-02-09T00:22:03.870542Z\", \"created_time_dt\": \"2021-02-09T00:22:03.870542Z\", \"duration\": \"0:01:11\", \"iteration\": \"33\", \"goal\": \"accuracy_max\", \"run_name\": \"SparseNormalizer, XGBoostClassifier\", \"run_properties\": \"<azureml.automl.runtime.shared.model_wrappers.SparseNormalizer object at 0x7f52ee0af198\", \"primary_metric\": 0.99771132, \"best_metric\": 0.99801648}, {\"run_id\": \"AutoML_f606c021-f178-49ed-a906-5b5cb9e641b3_34\", \"run_number\": 39, \"metric\": null, \"status\": \"Completed\", \"run_type\": \"azureml.scriptrun\", \"training_percent\": \"100\", \"start_time\": \"2021-02-09T00:22:19.443886Z\", \"end_time\": \"2021-02-09T00:23:11.093128Z\", \"created_time\": \"2021-02-09T00:22:08.219469Z\", \"created_time_dt\": \"2021-02-09T00:22:08.219469Z\", \"duration\": \"0:01:02\", \"iteration\": \"34\", \"goal\": \"accuracy_max\", \"run_name\": \"MinMaxScaler, LightGBM\", \"run_properties\": \"copy=True, feature_range=(0, 1\", \"primary_metric\": 0.9914556, \"best_metric\": 0.99801648}, {\"run_id\": \"AutoML_f606c021-f178-49ed-a906-5b5cb9e641b3_35\", \"run_number\": 40, \"metric\": null, \"status\": \"Canceled\", \"run_type\": \"azureml.scriptrun\", \"training_percent\": \"100\", \"start_time\": \"2021-02-09T00:22:39.512924Z\", \"end_time\": \"2021-02-09T00:23:23.988554Z\", \"created_time\": \"2021-02-09T00:22:28.711773Z\", \"created_time_dt\": \"2021-02-09T00:22:28.711773Z\", \"duration\": \"0:00:55\", \"iteration\": \"35\", \"goal\": \"accuracy_max\", \"run_name\": \"StandardScalerWrapper, XGBoostClassifier\", \"run_properties\": \"<azureml.automl.runtime.shared.model_wrappers.StandardScalerWrapper object at 0x7f682b9ae550\", \"primary_metric\": 0.95254806, \"best_metric\": 0.99801648}, {\"run_id\": \"AutoML_f606c021-f178-49ed-a906-5b5cb9e641b3_36\", \"run_number\": 41, \"metric\": null, \"status\": \"Canceled\", \"run_type\": \"azureml.scriptrun\", \"training_percent\": \"100\", \"start_time\": \"2021-02-09T00:23:03.302251Z\", \"end_time\": \"2021-02-09T00:23:24.697694Z\", \"created_time\": \"2021-02-09T00:22:52.304465Z\", \"created_time_dt\": \"2021-02-09T00:22:52.304465Z\", \"duration\": \"0:00:32\", \"iteration\": \"36\", \"goal\": null, \"run_name\": \"MaxAbsScaler, LightGBM\", \"run_properties\": null}, {\"run_id\": \"AutoML_f606c021-f178-49ed-a906-5b5cb9e641b3_37\", \"run_number\": 42, \"metric\": null, \"status\": \"Canceled\", \"run_type\": \"azureml.scriptrun\", \"training_percent\": \"100\", \"start_time\": \"2021-02-09T00:23:12.915475Z\", \"end_time\": \"2021-02-09T00:23:28.994332Z\", \"created_time\": \"2021-02-09T00:23:12.915475Z\", \"created_time_dt\": \"2021-02-09T00:23:12.915475Z\", \"duration\": \"0:00:16\", \"iteration\": \"37\", \"goal\": null, \"run_name\": \"Canceled\", \"run_properties\": null}, {\"run_id\": \"AutoML_f606c021-f178-49ed-a906-5b5cb9e641b3_38\", \"run_number\": 43, \"metric\": null, \"status\": \"Completed\", \"run_type\": \"azureml.scriptrun\", \"training_percent\": \"100\", \"start_time\": \"2021-02-09T00:23:41.587001Z\", \"end_time\": \"2021-02-09T00:24:41.520429Z\", \"created_time\": \"2021-02-09T00:23:29.786078Z\", \"created_time_dt\": \"2021-02-09T00:23:29.786078Z\", \"duration\": \"0:01:11\", \"iteration\": \"38\", \"goal\": \"accuracy_max\", \"run_name\": \"VotingEnsemble\", \"run_properties\": \"classification_labels=None,\\n                              estimators=[('32',\\n                                           Pipeline(memory=None,\\n                                                    steps=[('sparsenormalizer',\\n                                                            <azureml.automl.runtime.shared.model_wrappers.SparseNormalizer object at 0x7f5f38482d68>\", \"primary_metric\": 0.99816906, \"best_metric\": 0.99816906}, {\"run_id\": \"AutoML_f606c021-f178-49ed-a906-5b5cb9e641b3_39\", \"run_number\": 44, \"metric\": null, \"status\": \"Completed\", \"run_type\": \"azureml.scriptrun\", \"training_percent\": \"100\", \"start_time\": \"2021-02-09T00:23:43.255428Z\", \"end_time\": \"2021-02-09T00:25:50.725703Z\", \"created_time\": \"2021-02-09T00:23:29.811366Z\", \"created_time_dt\": \"2021-02-09T00:23:29.811366Z\", \"duration\": \"0:02:20\", \"iteration\": \"39\", \"goal\": \"accuracy_max\", \"run_name\": \"StackEnsemble\", \"run_properties\": \"base_learners=[('32',\\n                                        Pipeline(memory=None,\\n                                                 steps=[('sparsenormalizer',\\n                                                         <azureml.automl.runtime.shared.model_wrappers.SparseNormalizer object at 0x7f702bff3d68>\", \"primary_metric\": 0.9978639, \"best_metric\": 0.99816906}], \"children_metrics\": {\"categories\": [0], \"series\": {\"AUC_macro\": [{\"categories\": [\"0\", \"1\", \"2\", \"3\", \"4\", \"5\", \"6\", \"7\", \"8\", \"9\", \"10\", \"11\", \"12\", \"13\", \"14\", \"15\", \"16\", \"17\", \"18\", \"19\", \"20\", \"21\", \"22\", \"23\", \"24\", \"25\", \"26\", \"27\", \"28\", \"29\", \"30\", \"31\", \"32\", \"33\", \"34\", \"35\", \"38\", \"39\"], \"mode\": \"markers\", \"name\": \"AUC_macro\", \"stepped\": false, \"type\": \"scatter\", \"data\": [0.99568296061241, 0.9992580491634917, 0.9893678113192874, 0.9849612098889204, 0.9969506811712113, 0.9993038071879601, 0.998531849178384, 0.9983495716448159, 0.9937742284365392, 0.9726477726332112, 0.9708273572331276, 0.9976657668025841, 0.960984742988672, 0.9959086027112756, 0.9938454945502136, 0.9978341859095088, 0.9990795873568576, 0.9407817849586644, 0.9673667958816995, 0.9987116921563632, 0.9690671314240881, 0.998879379538586, 0.9318134639387915, 0.9747939920372711, 0.9944239647246073, 0.9601933152588185, 0.8602963630236555, 0.9619010200302104, 0.999632121797368, 0.9883385557808486, 0.9975716790469917, 0.9927828060378265, 0.9988648429259827, 0.9877509874858603, 0.9967791880857514, 0.9139343818647018, 0.9994883103229006, 0.9994527609673205]}, {\"categories\": [\"0\", \"1\", \"2\", \"3\", \"4\", \"5\", \"6\", \"7\", \"8\", \"9\", \"10\", \"11\", \"12\", \"13\", \"14\", \"15\", \"16\", \"17\", \"18\", \"19\", \"20\", \"21\", \"22\", \"23\", \"24\", \"25\", \"26\", \"27\", \"28\", \"29\", \"30\", \"31\", \"32\", \"33\", \"34\", \"35\", \"38\", \"39\"], \"mode\": \"lines\", \"name\": \"AUC_macro_max\", \"stepped\": true, \"type\": \"scatter\", \"data\": [0.99568296061241, 0.9992580491634917, 0.9992580491634917, 0.9992580491634917, 0.9992580491634917, 0.9993038071879601, 0.9993038071879601, 0.9993038071879601, 0.9993038071879601, 0.9993038071879601, 0.9993038071879601, 0.9993038071879601, 0.9993038071879601, 0.9993038071879601, 0.9993038071879601, 0.9993038071879601, 0.9993038071879601, 0.9993038071879601, 0.9993038071879601, 0.9993038071879601, 0.9993038071879601, 0.9993038071879601, 0.9993038071879601, 0.9993038071879601, 0.9993038071879601, 0.9993038071879601, 0.9993038071879601, 0.9993038071879601, 0.999632121797368, 0.999632121797368, 0.999632121797368, 0.999632121797368, 0.999632121797368, 0.999632121797368, 0.999632121797368, 0.999632121797368, 0.999632121797368, 0.999632121797368]}], \"norm_macro_recall\": [{\"categories\": [\"0\", \"1\", \"2\", \"3\", \"4\", \"5\", \"6\", \"7\", \"8\", \"9\", \"10\", \"11\", \"12\", \"13\", \"14\", \"15\", \"16\", \"17\", \"18\", \"19\", \"20\", \"21\", \"22\", \"23\", \"24\", \"25\", \"26\", \"27\", \"28\", \"29\", \"30\", \"31\", \"32\", \"33\", \"34\", \"35\", \"38\", \"39\"], \"mode\": \"markers\", \"name\": \"norm_macro_recall\", \"stepped\": false, \"type\": \"scatter\", \"data\": [0.8604218639476957, 0.7981778024659202, 0.6592914089694147, 0.6462127178780247, 0.8986950426741629, 0.7981778024659202, 0.7981778024659202, 0.7977330615275168, 0.7980439667466078, 0.6421566568947692, 0.6579056836179115, 0.8647559343826976, 0.6083666815208959, 0.6470980653769179, 0.6617312825637631, 0.660040853560039, 0.7981778024659202, 0.6629831721959542, 0.6644882629440728, 0.7981778024659202, 0.646330193273308, 0.7981778024659202, 0.6641794249139386, 0.6487679996786998, 0.7915499221703358, 0.6482202536677101, 0.647143366346341, 0.23727342501611673, 0.8646220986633852, 0.6646220986633852, 0.7309408272079186, 0.7979554319967185, 0.8646220986633852, 0.6648444691325869, 0.6553257727373806, 0.6022348675123833, 0.7984001729351218, 0.8639982210362463]}, {\"categories\": [\"0\", \"1\", \"2\", \"3\", \"4\", \"5\", \"6\", \"7\", \"8\", \"9\", \"10\", \"11\", \"12\", \"13\", \"14\", \"15\", \"16\", \"17\", \"18\", \"19\", \"20\", \"21\", \"22\", \"23\", \"24\", \"25\", \"26\", \"27\", \"28\", \"29\", \"30\", \"31\", \"32\", \"33\", \"34\", \"35\", \"38\", \"39\"], \"mode\": \"lines\", \"name\": \"norm_macro_recall_max\", \"stepped\": true, \"type\": \"scatter\", \"data\": [0.8604218639476957, 0.8604218639476957, 0.8604218639476957, 0.8604218639476957, 0.8986950426741629, 0.8986950426741629, 0.8986950426741629, 0.8986950426741629, 0.8986950426741629, 0.8986950426741629, 0.8986950426741629, 0.8986950426741629, 0.8986950426741629, 0.8986950426741629, 0.8986950426741629, 0.8986950426741629, 0.8986950426741629, 0.8986950426741629, 0.8986950426741629, 0.8986950426741629, 0.8986950426741629, 0.8986950426741629, 0.8986950426741629, 0.8986950426741629, 0.8986950426741629, 0.8986950426741629, 0.8986950426741629, 0.8986950426741629, 0.8986950426741629, 0.8986950426741629, 0.8986950426741629, 0.8986950426741629, 0.8986950426741629, 0.8986950426741629, 0.8986950426741629, 0.8986950426741629, 0.8986950426741629, 0.8986950426741629]}], \"precision_score_macro\": [{\"categories\": [\"0\", \"1\", \"2\", \"3\", \"4\", \"5\", \"6\", \"7\", \"8\", \"9\", \"10\", \"11\", \"12\", \"13\", \"14\", \"15\", \"16\", \"17\", \"18\", \"19\", \"20\", \"21\", \"22\", \"23\", \"24\", \"25\", \"26\", \"27\", \"28\", \"29\", \"30\", \"31\", \"32\", \"33\", \"34\", \"35\", \"38\", \"39\"], \"mode\": \"markers\", \"name\": \"precision_score_macro\", \"stepped\": false, \"type\": \"scatter\", \"data\": [0.8695390696146533, 0.9977703385247966, 0.7415149514086882, 0.7317150008985351, 0.7506111248211463, 0.9977703385247966, 0.9977703385247966, 0.9976362330082116, 0.9144766160052538, 0.7200771610604755, 0.7424085960375667, 0.9353105074959, 0.6945910271935611, 0.7428517372206934, 0.7467026921739661, 0.7445924549020434, 0.9977703385247966, 0.744615590104975, 0.7476702486142709, 0.9977703385247966, 0.7248092025272737, 0.9977703385247966, 0.7464893033467978, 0.728672248035958, 0.9928966558645276, 0.739022956769787, 0.7333370448516879, 0.4188164641466387, 0.9977435129846143, 0.7472448516667303, 0.8307431166780753, 0.8728099493385871, 0.8979766145148431, 0.7475113383154148, 0.7452388536267414, 0.700735695241325, 0.9978374428808464, 0.9356707491693851]}, {\"categories\": [\"0\", \"1\", \"2\", \"3\", \"4\", \"5\", \"6\", \"7\", \"8\", \"9\", \"10\", \"11\", \"12\", \"13\", \"14\", \"15\", \"16\", \"17\", \"18\", \"19\", \"20\", \"21\", \"22\", \"23\", \"24\", \"25\", \"26\", \"27\", \"28\", \"29\", \"30\", \"31\", \"32\", \"33\", \"34\", \"35\", \"38\", \"39\"], \"mode\": \"lines\", \"name\": \"precision_score_macro_max\", \"stepped\": true, \"type\": \"scatter\", \"data\": [0.8695390696146533, 0.9977703385247966, 0.9977703385247966, 0.9977703385247966, 0.9977703385247966, 0.9977703385247966, 0.9977703385247966, 0.9977703385247966, 0.9977703385247966, 0.9977703385247966, 0.9977703385247966, 0.9977703385247966, 0.9977703385247966, 0.9977703385247966, 0.9977703385247966, 0.9977703385247966, 0.9977703385247966, 0.9977703385247966, 0.9977703385247966, 0.9977703385247966, 0.9977703385247966, 0.9977703385247966, 0.9977703385247966, 0.9977703385247966, 0.9977703385247966, 0.9977703385247966, 0.9977703385247966, 0.9977703385247966, 0.9977703385247966, 0.9977703385247966, 0.9977703385247966, 0.9977703385247966, 0.9977703385247966, 0.9977703385247966, 0.9977703385247966, 0.9977703385247966, 0.9978374428808464, 0.9978374428808464]}], \"average_precision_score_micro\": [{\"categories\": [\"0\", \"1\", \"2\", \"3\", \"4\", \"5\", \"6\", \"7\", \"8\", \"9\", \"10\", \"11\", \"12\", \"13\", \"14\", \"15\", \"16\", \"17\", \"18\", \"19\", \"20\", \"21\", \"22\", \"23\", \"24\", \"25\", \"26\", \"27\", \"28\", \"29\", \"30\", \"31\", \"32\", \"33\", \"34\", \"35\", \"38\", \"39\"], \"mode\": \"markers\", \"name\": \"average_precision_score_micro\", \"stepped\": false, \"type\": \"scatter\", \"data\": [0.9873995450243529, 0.9997697180995246, 0.9980894754960417, 0.9974999191426258, 0.9954228670768975, 0.9998162036810172, 0.9997348997500197, 0.9997278889455983, 0.9996488253307871, 0.9943353494137508, 0.9984819596123287, 0.9996956608399161, 0.9916327157261247, 0.9963177929667908, 0.9985416900064165, 0.9985982032959114, 0.9997430318873601, 0.9991061422212086, 0.9990351247855613, 0.9997470986678938, 0.9943319925761971, 0.9997342779714404, 0.9989752041686989, 0.9948558177562699, 0.9988972956228138, 0.9952343260961529, 0.9982382750821496, 0.8874446627682447, 0.9997462175644232, 0.9992462091928929, 0.9996732445653753, 0.9996583030429826, 0.9997306913128244, 0.9996109906346677, 0.9983138456443152, 0.994725944503889, 0.999750423934029, 0.999811450295962]}, {\"categories\": [\"0\", \"1\", \"2\", \"3\", \"4\", \"5\", \"6\", \"7\", \"8\", \"9\", \"10\", \"11\", \"12\", \"13\", \"14\", \"15\", \"16\", \"17\", \"18\", \"19\", \"20\", \"21\", \"22\", \"23\", \"24\", \"25\", \"26\", \"27\", \"28\", \"29\", \"30\", \"31\", \"32\", \"33\", \"34\", \"35\", \"38\", \"39\"], \"mode\": \"lines\", \"name\": \"average_precision_score_micro_max\", \"stepped\": true, \"type\": \"scatter\", \"data\": [0.9873995450243529, 0.9997697180995246, 0.9997697180995246, 0.9997697180995246, 0.9997697180995246, 0.9998162036810172, 0.9998162036810172, 0.9998162036810172, 0.9998162036810172, 0.9998162036810172, 0.9998162036810172, 0.9998162036810172, 0.9998162036810172, 0.9998162036810172, 0.9998162036810172, 0.9998162036810172, 0.9998162036810172, 0.9998162036810172, 0.9998162036810172, 0.9998162036810172, 0.9998162036810172, 0.9998162036810172, 0.9998162036810172, 0.9998162036810172, 0.9998162036810172, 0.9998162036810172, 0.9998162036810172, 0.9998162036810172, 0.9998162036810172, 0.9998162036810172, 0.9998162036810172, 0.9998162036810172, 0.9998162036810172, 0.9998162036810172, 0.9998162036810172, 0.9998162036810172, 0.9998162036810172, 0.9998162036810172]}], \"recall_score_micro\": [{\"categories\": [\"0\", \"1\", \"2\", \"3\", \"4\", \"5\", \"6\", \"7\", \"8\", \"9\", \"10\", \"11\", \"12\", \"13\", \"14\", \"15\", \"16\", \"17\", \"18\", \"19\", \"20\", \"21\", \"22\", \"23\", \"24\", \"25\", \"26\", \"27\", \"28\", \"29\", \"30\", \"31\", \"32\", \"33\", \"34\", \"35\", \"38\", \"39\"], \"mode\": \"markers\", \"name\": \"recall_score_micro\", \"stepped\": false, \"type\": \"scatter\", \"data\": [0.9946597497711321, 0.9980164784864205, 0.992523649679585, 0.9842844064693317, 0.9745193774794019, 0.9980164784864205, 0.9980164784864205, 0.9977113213304852, 0.9980164784864205, 0.973603906011596, 0.9931339639914556, 0.9980164784864205, 0.9481232834909978, 0.9858101922490082, 0.995575221238938, 0.9945071711931645, 0.9980164784864205, 0.9949649069270674, 0.9975587427525175, 0.9980164784864205, 0.9780286847726579, 0.9980164784864205, 0.9967958498626793, 0.981537992065914, 0.9937442783033262, 0.9842844064693317, 0.9856576136710405, 0.736344217271895, 0.9980164784864205, 0.9975587427525175, 0.9974061641745499, 0.9978638999084528, 0.9980164784864205, 0.9977113213304852, 0.9914555996338114, 0.9525480622520598, 0.9981690570643882, 0.9978638999084528]}, {\"categories\": [\"0\", \"1\", \"2\", \"3\", \"4\", \"5\", \"6\", \"7\", \"8\", \"9\", \"10\", \"11\", \"12\", \"13\", \"14\", \"15\", \"16\", \"17\", \"18\", \"19\", \"20\", \"21\", \"22\", \"23\", \"24\", \"25\", \"26\", \"27\", \"28\", \"29\", \"30\", \"31\", \"32\", \"33\", \"34\", \"35\", \"38\", \"39\"], \"mode\": \"lines\", \"name\": \"recall_score_micro_max\", \"stepped\": true, \"type\": \"scatter\", \"data\": [0.9946597497711321, 0.9980164784864205, 0.9980164784864205, 0.9980164784864205, 0.9980164784864205, 0.9980164784864205, 0.9980164784864205, 0.9980164784864205, 0.9980164784864205, 0.9980164784864205, 0.9980164784864205, 0.9980164784864205, 0.9980164784864205, 0.9980164784864205, 0.9980164784864205, 0.9980164784864205, 0.9980164784864205, 0.9980164784864205, 0.9980164784864205, 0.9980164784864205, 0.9980164784864205, 0.9980164784864205, 0.9980164784864205, 0.9980164784864205, 0.9980164784864205, 0.9980164784864205, 0.9980164784864205, 0.9980164784864205, 0.9980164784864205, 0.9980164784864205, 0.9980164784864205, 0.9980164784864205, 0.9980164784864205, 0.9980164784864205, 0.9980164784864205, 0.9980164784864205, 0.9981690570643882, 0.9981690570643882]}], \"balanced_accuracy\": [{\"categories\": [\"0\", \"1\", \"2\", \"3\", \"4\", \"5\", \"6\", \"7\", \"8\", \"9\", \"10\", \"11\", \"12\", \"13\", \"14\", \"15\", \"16\", \"17\", \"18\", \"19\", \"20\", \"21\", \"22\", \"23\", \"24\", \"25\", \"26\", \"27\", \"28\", \"29\", \"30\", \"31\", \"32\", \"33\", \"34\", \"35\", \"38\", \"39\"], \"mode\": \"markers\", \"name\": \"balanced_accuracy\", \"stepped\": false, \"type\": \"scatter\", \"data\": [0.8953163979607718, 0.8486333518494401, 0.744468556727061, 0.7346595384085185, 0.9240212820056222, 0.8486333518494401, 0.8486333518494401, 0.8482997961456376, 0.8485329750599558, 0.7316174926710769, 0.7434292627134336, 0.8985669507870232, 0.7062750111406719, 0.7353235490326885, 0.7462984619228223, 0.7450306401700293, 0.8486333518494401, 0.7472373791469656, 0.7483661972080546, 0.8486333518494401, 0.734747644954981, 0.8486333518494401, 0.7481345686854539, 0.7365759997590249, 0.8436624416277518, 0.7361651902507825, 0.7353575247597557, 0.42795506876208755, 0.8984665739975389, 0.7484665739975389, 0.798205620405939, 0.8484665739975389, 0.8984665739975389, 0.7486333518494401, 0.7414943295530354, 0.7016761506342875, 0.8488001297013413, 0.8979986657771848]}, {\"categories\": [\"0\", \"1\", \"2\", \"3\", \"4\", \"5\", \"6\", \"7\", \"8\", \"9\", \"10\", \"11\", \"12\", \"13\", \"14\", \"15\", \"16\", \"17\", \"18\", \"19\", \"20\", \"21\", \"22\", \"23\", \"24\", \"25\", \"26\", \"27\", \"28\", \"29\", \"30\", \"31\", \"32\", \"33\", \"34\", \"35\", \"38\", \"39\"], \"mode\": \"lines\", \"name\": \"balanced_accuracy_max\", \"stepped\": true, \"type\": \"scatter\", \"data\": [0.8953163979607718, 0.8953163979607718, 0.8953163979607718, 0.8953163979607718, 0.9240212820056222, 0.9240212820056222, 0.9240212820056222, 0.9240212820056222, 0.9240212820056222, 0.9240212820056222, 0.9240212820056222, 0.9240212820056222, 0.9240212820056222, 0.9240212820056222, 0.9240212820056222, 0.9240212820056222, 0.9240212820056222, 0.9240212820056222, 0.9240212820056222, 0.9240212820056222, 0.9240212820056222, 0.9240212820056222, 0.9240212820056222, 0.9240212820056222, 0.9240212820056222, 0.9240212820056222, 0.9240212820056222, 0.9240212820056222, 0.9240212820056222, 0.9240212820056222, 0.9240212820056222, 0.9240212820056222, 0.9240212820056222, 0.9240212820056222, 0.9240212820056222, 0.9240212820056222, 0.9240212820056222, 0.9240212820056222]}], \"precision_score_weighted\": [{\"categories\": [\"0\", \"1\", \"2\", \"3\", \"4\", \"5\", \"6\", \"7\", \"8\", \"9\", \"10\", \"11\", \"12\", \"13\", \"14\", \"15\", \"16\", \"17\", \"18\", \"19\", \"20\", \"21\", \"22\", \"23\", \"24\", \"25\", \"26\", \"27\", \"28\", \"29\", \"30\", \"31\", \"32\", \"33\", \"34\", \"35\", \"38\", \"39\"], \"mode\": \"markers\", \"name\": \"precision_score_weighted\", \"stepped\": false, \"type\": \"scatter\", \"data\": [0.9947491159873584, 0.9980200409717577, 0.9918209975758534, 0.9845026519904113, 0.9936896134029601, 0.9980200409717577, 0.9980200409717577, 0.9977137402005836, 0.997919016217876, 0.9747666151164005, 0.9924919027686052, 0.9979831012618058, 0.9541543371583723, 0.9853037457014236, 0.9948169389814091, 0.9937826349698239, 0.9980200409717577, 0.9942364734998513, 0.9967986707850907, 0.9980200409717577, 0.9784197307258476, 0.9980200409717577, 0.996043374376023, 0.9815827331264425, 0.9938604153013538, 0.983526113592366, 0.9856291599874433, 0.6204583434985316, 0.9980206541757392, 0.9968015554174187, 0.9972068552397805, 0.997791867402903, 0.9980206321872837, 0.9969535228877803, 0.9907702363888095, 0.9595498434603533, 0.9981733117729914, 0.9978289723568012]}, {\"categories\": [\"0\", \"1\", \"2\", \"3\", \"4\", \"5\", \"6\", \"7\", \"8\", \"9\", \"10\", \"11\", \"12\", \"13\", \"14\", \"15\", \"16\", \"17\", \"18\", \"19\", \"20\", \"21\", \"22\", \"23\", \"24\", \"25\", \"26\", \"27\", \"28\", \"29\", \"30\", \"31\", \"32\", \"33\", \"34\", \"35\", \"38\", \"39\"], \"mode\": \"lines\", \"name\": \"precision_score_weighted_max\", \"stepped\": true, \"type\": \"scatter\", \"data\": [0.9947491159873584, 0.9980200409717577, 0.9980200409717577, 0.9980200409717577, 0.9980200409717577, 0.9980200409717577, 0.9980200409717577, 0.9980200409717577, 0.9980200409717577, 0.9980200409717577, 0.9980200409717577, 0.9980200409717577, 0.9980200409717577, 0.9980200409717577, 0.9980200409717577, 0.9980200409717577, 0.9980200409717577, 0.9980200409717577, 0.9980200409717577, 0.9980200409717577, 0.9980200409717577, 0.9980200409717577, 0.9980200409717577, 0.9980200409717577, 0.9980200409717577, 0.9980200409717577, 0.9980200409717577, 0.9980200409717577, 0.9980206541757392, 0.9980206541757392, 0.9980206541757392, 0.9980206541757392, 0.9980206541757392, 0.9980206541757392, 0.9980206541757392, 0.9980206541757392, 0.9981733117729914, 0.9981733117729914]}], \"log_loss\": [{\"categories\": [\"0\", \"1\", \"2\", \"3\", \"4\", \"5\", \"6\", \"7\", \"8\", \"9\", \"10\", \"11\", \"12\", \"13\", \"14\", \"15\", \"16\", \"17\", \"18\", \"19\", \"20\", \"21\", \"22\", \"23\", \"24\", \"25\", \"26\", \"27\", \"28\", \"29\", \"30\", \"31\", \"32\", \"33\", \"34\", \"35\", \"38\", \"39\"], \"mode\": \"markers\", \"name\": \"log_loss\", \"stepped\": false, \"type\": \"scatter\", \"data\": [0.12429745277931031, 0.009301290754197828, 0.1974307564452297, 0.21712180942001677, 0.32776778622257446, 0.008625207925361441, 0.009754249561099031, 0.01143536556617296, 0.01068554858819726, 0.10384934805874035, 0.0412774739932156, 0.011694677919282219, 0.19990866776530683, 0.48255670751589036, 0.2968205739406794, 0.22223372458408974, 0.009658128366910051, 0.4164494843248193, 0.1036253995439272, 0.009887653164893345, 0.09548456991175895, 0.009814832952533447, 0.09736651505344705, 0.08444615185184186, 0.028277921554712912, 0.07148738829304258, 0.43896974197233, 0.6570094908971574, 0.015611208364212823, 0.4103679069245178, 0.01240223688682234, 0.01051631910003934, 0.009972279285827532, 0.01865129946231232, 0.36929359647621435, 0.5032138588092078, 0.010156093406006731, 0.010393858370830414]}, {\"categories\": [\"0\", \"1\", \"2\", \"3\", \"4\", \"5\", \"6\", \"7\", \"8\", \"9\", \"10\", \"11\", \"12\", \"13\", \"14\", \"15\", \"16\", \"17\", \"18\", \"19\", \"20\", \"21\", \"22\", \"23\", \"24\", \"25\", \"26\", \"27\", \"28\", \"29\", \"30\", \"31\", \"32\", \"33\", \"34\", \"35\", \"38\", \"39\"], \"mode\": \"lines\", \"name\": \"log_loss_min\", \"stepped\": true, \"type\": \"scatter\", \"data\": [0.12429745277931031, 0.009301290754197828, 0.009301290754197828, 0.009301290754197828, 0.009301290754197828, 0.008625207925361441, 0.008625207925361441, 0.008625207925361441, 0.008625207925361441, 0.008625207925361441, 0.008625207925361441, 0.008625207925361441, 0.008625207925361441, 0.008625207925361441, 0.008625207925361441, 0.008625207925361441, 0.008625207925361441, 0.008625207925361441, 0.008625207925361441, 0.008625207925361441, 0.008625207925361441, 0.008625207925361441, 0.008625207925361441, 0.008625207925361441, 0.008625207925361441, 0.008625207925361441, 0.008625207925361441, 0.008625207925361441, 0.008625207925361441, 0.008625207925361441, 0.008625207925361441, 0.008625207925361441, 0.008625207925361441, 0.008625207925361441, 0.008625207925361441, 0.008625207925361441, 0.008625207925361441, 0.008625207925361441]}], \"average_precision_score_weighted\": [{\"categories\": [\"0\", \"1\", \"2\", \"3\", \"4\", \"5\", \"6\", \"7\", \"8\", \"9\", \"10\", \"11\", \"12\", \"13\", \"14\", \"15\", \"16\", \"17\", \"18\", \"19\", \"20\", \"21\", \"22\", \"23\", \"24\", \"25\", \"26\", \"27\", \"28\", \"29\", \"30\", \"31\", \"32\", \"33\", \"34\", \"35\", \"38\", \"39\"], \"mode\": \"markers\", \"name\": \"average_precision_score_weighted\", \"stepped\": false, \"type\": \"scatter\", \"data\": [0.9876299322311661, 0.9989471616661006, 0.9967897310677696, 0.9957964018715497, 0.9983006354089644, 0.9991580255018307, 0.9987032559453886, 0.9986716059215616, 0.9983887204040074, 0.9879040170914841, 0.9945018662696072, 0.9986193945563592, 0.9913666128951955, 0.9974175220488231, 0.9974365532196787, 0.9978027708387468, 0.9987648980388133, 0.9976666228016121, 0.9972229122537237, 0.9987198213218922, 0.9867013346017411, 0.99853373284992, 0.9970634429820905, 0.9869587849410594, 0.996023728673158, 0.9931586719815082, 0.9961886646194545, 0.9885280764367772, 0.9985950925441011, 0.9972194606196639, 0.9981946386003677, 0.9983319893645547, 0.9984767090492173, 0.9985018006629315, 0.9972951425487995, 0.9919363046370265, 0.9986498313618305, 0.9986625930101706]}, {\"categories\": [\"0\", \"1\", \"2\", \"3\", \"4\", \"5\", \"6\", \"7\", \"8\", \"9\", \"10\", \"11\", \"12\", \"13\", \"14\", \"15\", \"16\", \"17\", \"18\", \"19\", \"20\", \"21\", \"22\", \"23\", \"24\", \"25\", \"26\", \"27\", \"28\", \"29\", \"30\", \"31\", \"32\", \"33\", \"34\", \"35\", \"38\", \"39\"], \"mode\": \"lines\", \"name\": \"average_precision_score_weighted_max\", \"stepped\": true, \"type\": \"scatter\", \"data\": [0.9876299322311661, 0.9989471616661006, 0.9989471616661006, 0.9989471616661006, 0.9989471616661006, 0.9991580255018307, 0.9991580255018307, 0.9991580255018307, 0.9991580255018307, 0.9991580255018307, 0.9991580255018307, 0.9991580255018307, 0.9991580255018307, 0.9991580255018307, 0.9991580255018307, 0.9991580255018307, 0.9991580255018307, 0.9991580255018307, 0.9991580255018307, 0.9991580255018307, 0.9991580255018307, 0.9991580255018307, 0.9991580255018307, 0.9991580255018307, 0.9991580255018307, 0.9991580255018307, 0.9991580255018307, 0.9991580255018307, 0.9991580255018307, 0.9991580255018307, 0.9991580255018307, 0.9991580255018307, 0.9991580255018307, 0.9991580255018307, 0.9991580255018307, 0.9991580255018307, 0.9991580255018307, 0.9991580255018307]}], \"AUC_micro\": [{\"categories\": [\"0\", \"1\", \"2\", \"3\", \"4\", \"5\", \"6\", \"7\", \"8\", \"9\", \"10\", \"11\", \"12\", \"13\", \"14\", \"15\", \"16\", \"17\", \"18\", \"19\", \"20\", \"21\", \"22\", \"23\", \"24\", \"25\", \"26\", \"27\", \"28\", \"29\", \"30\", \"31\", \"32\", \"33\", \"34\", \"35\", \"38\", \"39\"], \"mode\": \"markers\", \"name\": \"AUC_micro\", \"stepped\": false, \"type\": \"scatter\", \"data\": [0.9959441235239912, 0.9999311914224982, 0.9992411889091656, 0.9989328035623832, 0.9982536263524917, 0.9999377409250823, 0.9999112945923736, 0.9999069101504781, 0.9998795170887231, 0.9977220379928884, 0.9994786782184992, 0.9998962555686679, 0.9968365281713816, 0.9982383234862648, 0.9991447311874617, 0.9991469505686692, 0.9999158031954558, 0.9996532022861675, 0.9996081317754953, 0.9999154927924897, 0.9976510333144017, 0.9999113023524477, 0.9996792761353166, 0.9978699838065878, 0.9996570668030951, 0.9982366550703221, 0.9991694315034861, 0.9535168919897319, 0.9999125012839043, 0.9998029018766249, 0.9998880027298078, 0.9998845999372924, 0.999908850169016, 0.9998627863688524, 0.9990580356390408, 0.9982666167166214, 0.9999153492311179, 0.9999365303535146]}, {\"categories\": [\"0\", \"1\", \"2\", \"3\", \"4\", \"5\", \"6\", \"7\", \"8\", \"9\", \"10\", \"11\", \"12\", \"13\", \"14\", \"15\", \"16\", \"17\", \"18\", \"19\", \"20\", \"21\", \"22\", \"23\", \"24\", \"25\", \"26\", \"27\", \"28\", \"29\", \"30\", \"31\", \"32\", \"33\", \"34\", \"35\", \"38\", \"39\"], \"mode\": \"lines\", \"name\": \"AUC_micro_max\", \"stepped\": true, \"type\": \"scatter\", \"data\": [0.9959441235239912, 0.9999311914224982, 0.9999311914224982, 0.9999311914224982, 0.9999311914224982, 0.9999377409250823, 0.9999377409250823, 0.9999377409250823, 0.9999377409250823, 0.9999377409250823, 0.9999377409250823, 0.9999377409250823, 0.9999377409250823, 0.9999377409250823, 0.9999377409250823, 0.9999377409250823, 0.9999377409250823, 0.9999377409250823, 0.9999377409250823, 0.9999377409250823, 0.9999377409250823, 0.9999377409250823, 0.9999377409250823, 0.9999377409250823, 0.9999377409250823, 0.9999377409250823, 0.9999377409250823, 0.9999377409250823, 0.9999377409250823, 0.9999377409250823, 0.9999377409250823, 0.9999377409250823, 0.9999377409250823, 0.9999377409250823, 0.9999377409250823, 0.9999377409250823, 0.9999377409250823, 0.9999377409250823]}], \"f1_score_micro\": [{\"categories\": [\"0\", \"1\", \"2\", \"3\", \"4\", \"5\", \"6\", \"7\", \"8\", \"9\", \"10\", \"11\", \"12\", \"13\", \"14\", \"15\", \"16\", \"17\", \"18\", \"19\", \"20\", \"21\", \"22\", \"23\", \"24\", \"25\", \"26\", \"27\", \"28\", \"29\", \"30\", \"31\", \"32\", \"33\", \"34\", \"35\", \"38\", \"39\"], \"mode\": \"markers\", \"name\": \"f1_score_micro\", \"stepped\": false, \"type\": \"scatter\", \"data\": [0.9946597497711321, 0.9980164784864205, 0.992523649679585, 0.9842844064693317, 0.9745193774794019, 0.9980164784864205, 0.9980164784864205, 0.9977113213304852, 0.9980164784864205, 0.973603906011596, 0.9931339639914556, 0.9980164784864205, 0.9481232834909977, 0.9858101922490082, 0.995575221238938, 0.9945071711931645, 0.9980164784864205, 0.9949649069270674, 0.9975587427525175, 0.9980164784864205, 0.9780286847726579, 0.9980164784864205, 0.9967958498626793, 0.981537992065914, 0.9937442783033262, 0.9842844064693317, 0.9856576136710405, 0.7363442172718949, 0.9980164784864205, 0.9975587427525175, 0.9974061641745499, 0.9978638999084528, 0.9980164784864205, 0.9977113213304852, 0.9914555996338114, 0.9525480622520598, 0.9981690570643882, 0.9978638999084528]}, {\"categories\": [\"0\", \"1\", \"2\", \"3\", \"4\", \"5\", \"6\", \"7\", \"8\", \"9\", \"10\", \"11\", \"12\", \"13\", \"14\", \"15\", \"16\", \"17\", \"18\", \"19\", \"20\", \"21\", \"22\", \"23\", \"24\", \"25\", \"26\", \"27\", \"28\", \"29\", \"30\", \"31\", \"32\", \"33\", \"34\", \"35\", \"38\", \"39\"], \"mode\": \"lines\", \"name\": \"f1_score_micro_max\", \"stepped\": true, \"type\": \"scatter\", \"data\": [0.9946597497711321, 0.9980164784864205, 0.9980164784864205, 0.9980164784864205, 0.9980164784864205, 0.9980164784864205, 0.9980164784864205, 0.9980164784864205, 0.9980164784864205, 0.9980164784864205, 0.9980164784864205, 0.9980164784864205, 0.9980164784864205, 0.9980164784864205, 0.9980164784864205, 0.9980164784864205, 0.9980164784864205, 0.9980164784864205, 0.9980164784864205, 0.9980164784864205, 0.9980164784864205, 0.9980164784864205, 0.9980164784864205, 0.9980164784864205, 0.9980164784864205, 0.9980164784864205, 0.9980164784864205, 0.9980164784864205, 0.9980164784864205, 0.9980164784864205, 0.9980164784864205, 0.9980164784864205, 0.9980164784864205, 0.9980164784864205, 0.9980164784864205, 0.9980164784864205, 0.9981690570643882, 0.9981690570643882]}], \"matthews_correlation\": [{\"categories\": [\"0\", \"1\", \"2\", \"3\", \"4\", \"5\", \"6\", \"7\", \"8\", \"9\", \"10\", \"11\", \"12\", \"13\", \"14\", \"15\", \"16\", \"17\", \"18\", \"19\", \"20\", \"21\", \"22\", \"23\", \"24\", \"25\", \"26\", \"27\", \"28\", \"29\", \"30\", \"31\", \"32\", \"33\", \"34\", \"35\", \"38\", \"39\"], \"mode\": \"markers\", \"name\": \"matthews_correlation\", \"stepped\": false, \"type\": \"scatter\", \"data\": [0.9907929189521567, 0.9965768667406179, 0.9871280759559875, 0.9732200168836762, 0.9571730996288337, 0.9965768667406179, 0.9965768667406179, 0.9960494435876925, 0.9965774279872474, 0.955453581979549, 0.9881887132766641, 0.9965783950138067, 0.9137977275356536, 0.9756245594565962, 0.9923602736265412, 0.9905302964648215, 0.9965768667406179, 0.9913290956181008, 0.9957851109209349, 0.9965768667406179, 0.9627216591396945, 0.9965768667406179, 0.9944728744691733, 0.9685520086919459, 0.9892431952516956, 0.9728538176130911, 0.9755129214627782, 0.5478870818889567, 0.9965774279872474, 0.9957867716824268, 0.9955239810424222, 0.9963146770888497, 0.9965783582026753, 0.9960498062447625, 0.9852835659812893, 0.9212824133045069, 0.9968406388092295, 0.9963139138681725]}, {\"categories\": [\"0\", \"1\", \"2\", \"3\", \"4\", \"5\", \"6\", \"7\", \"8\", \"9\", \"10\", \"11\", \"12\", \"13\", \"14\", \"15\", \"16\", \"17\", \"18\", \"19\", \"20\", \"21\", \"22\", \"23\", \"24\", \"25\", \"26\", \"27\", \"28\", \"29\", \"30\", \"31\", \"32\", \"33\", \"34\", \"35\", \"38\", \"39\"], \"mode\": \"lines\", \"name\": \"matthews_correlation_max\", \"stepped\": true, \"type\": \"scatter\", \"data\": [0.9907929189521567, 0.9965768667406179, 0.9965768667406179, 0.9965768667406179, 0.9965768667406179, 0.9965768667406179, 0.9965768667406179, 0.9965768667406179, 0.9965774279872474, 0.9965774279872474, 0.9965774279872474, 0.9965783950138067, 0.9965783950138067, 0.9965783950138067, 0.9965783950138067, 0.9965783950138067, 0.9965783950138067, 0.9965783950138067, 0.9965783950138067, 0.9965783950138067, 0.9965783950138067, 0.9965783950138067, 0.9965783950138067, 0.9965783950138067, 0.9965783950138067, 0.9965783950138067, 0.9965783950138067, 0.9965783950138067, 0.9965783950138067, 0.9965783950138067, 0.9965783950138067, 0.9965783950138067, 0.9965783950138067, 0.9965783950138067, 0.9965783950138067, 0.9965783950138067, 0.9968406388092295, 0.9968406388092295]}], \"average_precision_score_macro\": [{\"categories\": [\"0\", \"1\", \"2\", \"3\", \"4\", \"5\", \"6\", \"7\", \"8\", \"9\", \"10\", \"11\", \"12\", \"13\", \"14\", \"15\", \"16\", \"17\", \"18\", \"19\", \"20\", \"21\", \"22\", \"23\", \"24\", \"25\", \"26\", \"27\", \"28\", \"29\", \"30\", \"31\", \"32\", \"33\", \"34\", \"35\", \"38\", \"39\"], \"mode\": \"markers\", \"name\": \"average_precision_score_macro\", \"stepped\": false, \"type\": \"scatter\", \"data\": [0.8426013774171255, 0.9299463948155002, 0.8477415057530964, 0.7480255507574213, 0.8537116366447627, 0.9427555351110564, 0.873372164354723, 0.8603017251932108, 0.8378578905985671, 0.738146031654785, 0.8566236351148719, 0.9025745440231872, 0.7429828735539371, 0.7586591272221931, 0.7555136150530675, 0.8227132924287042, 0.8739435011683339, 0.7738423611965902, 0.8476800273455064, 0.8646833972639544, 0.7367602094319695, 0.8713610552828915, 0.7507855447719236, 0.7370655200562369, 0.8493870879768808, 0.7470903093191735, 0.7466854830657738, 0.7400688936996842, 0.9385667895840575, 0.7610425507088683, 0.834258382675187, 0.8319064054806143, 0.8767703523002357, 0.8094529342975296, 0.7659154219044905, 0.7443435633483161, 0.9087668947148487, 0.9171073831711236]}, {\"categories\": [\"0\", \"1\", \"2\", \"3\", \"4\", \"5\", \"6\", \"7\", \"8\", \"9\", \"10\", \"11\", \"12\", \"13\", \"14\", \"15\", \"16\", \"17\", \"18\", \"19\", \"20\", \"21\", \"22\", \"23\", \"24\", \"25\", \"26\", \"27\", \"28\", \"29\", \"30\", \"31\", \"32\", \"33\", \"34\", \"35\", \"38\", \"39\"], \"mode\": \"lines\", \"name\": \"average_precision_score_macro_max\", \"stepped\": true, \"type\": \"scatter\", \"data\": [0.8426013774171255, 0.9299463948155002, 0.9299463948155002, 0.9299463948155002, 0.9299463948155002, 0.9427555351110564, 0.9427555351110564, 0.9427555351110564, 0.9427555351110564, 0.9427555351110564, 0.9427555351110564, 0.9427555351110564, 0.9427555351110564, 0.9427555351110564, 0.9427555351110564, 0.9427555351110564, 0.9427555351110564, 0.9427555351110564, 0.9427555351110564, 0.9427555351110564, 0.9427555351110564, 0.9427555351110564, 0.9427555351110564, 0.9427555351110564, 0.9427555351110564, 0.9427555351110564, 0.9427555351110564, 0.9427555351110564, 0.9427555351110564, 0.9427555351110564, 0.9427555351110564, 0.9427555351110564, 0.9427555351110564, 0.9427555351110564, 0.9427555351110564, 0.9427555351110564, 0.9427555351110564, 0.9427555351110564]}], \"AUC_weighted\": [{\"categories\": [\"0\", \"1\", \"2\", \"3\", \"4\", \"5\", \"6\", \"7\", \"8\", \"9\", \"10\", \"11\", \"12\", \"13\", \"14\", \"15\", \"16\", \"17\", \"18\", \"19\", \"20\", \"21\", \"22\", \"23\", \"24\", \"25\", \"26\", \"27\", \"28\", \"29\", \"30\", \"31\", \"32\", \"33\", \"34\", \"35\", \"38\", \"39\"], \"mode\": \"markers\", \"name\": \"AUC_weighted\", \"stepped\": false, \"type\": \"scatter\", \"data\": [0.9956663411800364, 0.9998153912487989, 0.9993939982233837, 0.9988425394386098, 0.9996881475041058, 0.999834220637635, 0.99978592400399, 0.9997783764594724, 0.9997759537411053, 0.9962382769872148, 0.9989246673149773, 0.9997739901759015, 0.9968442570850935, 0.9995736197452559, 0.999584593819502, 0.9996084925990892, 0.9997924067738395, 0.9994407310069081, 0.9994915124265629, 0.9997897691575219, 0.9957210992709116, 0.999770949838804, 0.9993825008179631, 0.9959897855864159, 0.9991913582811965, 0.9964858997152948, 0.9989471885113286, 0.9939146212899433, 0.9997786524863325, 0.99961765354693, 0.9997585185564504, 0.9997797249843092, 0.9997816558739844, 0.9997841787540079, 0.9995568144869209, 0.9977926318013368, 0.9997850557615031, 0.9997941271577643]}, {\"categories\": [\"0\", \"1\", \"2\", \"3\", \"4\", \"5\", \"6\", \"7\", \"8\", \"9\", \"10\", \"11\", \"12\", \"13\", \"14\", \"15\", \"16\", \"17\", \"18\", \"19\", \"20\", \"21\", \"22\", \"23\", \"24\", \"25\", \"26\", \"27\", \"28\", \"29\", \"30\", \"31\", \"32\", \"33\", \"34\", \"35\", \"38\", \"39\"], \"mode\": \"lines\", \"name\": \"AUC_weighted_max\", \"stepped\": true, \"type\": \"scatter\", \"data\": [0.9956663411800364, 0.9998153912487989, 0.9998153912487989, 0.9998153912487989, 0.9998153912487989, 0.999834220637635, 0.999834220637635, 0.999834220637635, 0.999834220637635, 0.999834220637635, 0.999834220637635, 0.999834220637635, 0.999834220637635, 0.999834220637635, 0.999834220637635, 0.999834220637635, 0.999834220637635, 0.999834220637635, 0.999834220637635, 0.999834220637635, 0.999834220637635, 0.999834220637635, 0.999834220637635, 0.999834220637635, 0.999834220637635, 0.999834220637635, 0.999834220637635, 0.999834220637635, 0.999834220637635, 0.999834220637635, 0.999834220637635, 0.999834220637635, 0.999834220637635, 0.999834220637635, 0.999834220637635, 0.999834220637635, 0.999834220637635, 0.999834220637635]}], \"recall_score_weighted\": [{\"categories\": [\"0\", \"1\", \"2\", \"3\", \"4\", \"5\", \"6\", \"7\", \"8\", \"9\", \"10\", \"11\", \"12\", \"13\", \"14\", \"15\", \"16\", \"17\", \"18\", \"19\", \"20\", \"21\", \"22\", \"23\", \"24\", \"25\", \"26\", \"27\", \"28\", \"29\", \"30\", \"31\", \"32\", \"33\", \"34\", \"35\", \"38\", \"39\"], \"mode\": \"markers\", \"name\": \"recall_score_weighted\", \"stepped\": false, \"type\": \"scatter\", \"data\": [0.9946597497711321, 0.9980164784864205, 0.992523649679585, 0.9842844064693317, 0.9745193774794019, 0.9980164784864205, 0.9980164784864205, 0.9977113213304852, 0.9980164784864205, 0.973603906011596, 0.9931339639914556, 0.9980164784864205, 0.9481232834909978, 0.9858101922490082, 0.995575221238938, 0.9945071711931645, 0.9980164784864205, 0.9949649069270674, 0.9975587427525175, 0.9980164784864205, 0.9780286847726579, 0.9980164784864205, 0.9967958498626793, 0.981537992065914, 0.9937442783033262, 0.9842844064693317, 0.9856576136710405, 0.736344217271895, 0.9980164784864205, 0.9975587427525175, 0.9974061641745499, 0.9978638999084528, 0.9980164784864205, 0.9977113213304852, 0.9914555996338114, 0.9525480622520598, 0.9981690570643882, 0.9978638999084528]}, {\"categories\": [\"0\", \"1\", \"2\", \"3\", \"4\", \"5\", \"6\", \"7\", \"8\", \"9\", \"10\", \"11\", \"12\", \"13\", \"14\", \"15\", \"16\", \"17\", \"18\", \"19\", \"20\", \"21\", \"22\", \"23\", \"24\", \"25\", \"26\", \"27\", \"28\", \"29\", \"30\", \"31\", \"32\", \"33\", \"34\", \"35\", \"38\", \"39\"], \"mode\": \"lines\", \"name\": \"recall_score_weighted_max\", \"stepped\": true, \"type\": \"scatter\", \"data\": [0.9946597497711321, 0.9980164784864205, 0.9980164784864205, 0.9980164784864205, 0.9980164784864205, 0.9980164784864205, 0.9980164784864205, 0.9980164784864205, 0.9980164784864205, 0.9980164784864205, 0.9980164784864205, 0.9980164784864205, 0.9980164784864205, 0.9980164784864205, 0.9980164784864205, 0.9980164784864205, 0.9980164784864205, 0.9980164784864205, 0.9980164784864205, 0.9980164784864205, 0.9980164784864205, 0.9980164784864205, 0.9980164784864205, 0.9980164784864205, 0.9980164784864205, 0.9980164784864205, 0.9980164784864205, 0.9980164784864205, 0.9980164784864205, 0.9980164784864205, 0.9980164784864205, 0.9980164784864205, 0.9980164784864205, 0.9980164784864205, 0.9980164784864205, 0.9980164784864205, 0.9981690570643882, 0.9981690570643882]}], \"precision_score_micro\": [{\"categories\": [\"0\", \"1\", \"2\", \"3\", \"4\", \"5\", \"6\", \"7\", \"8\", \"9\", \"10\", \"11\", \"12\", \"13\", \"14\", \"15\", \"16\", \"17\", \"18\", \"19\", \"20\", \"21\", \"22\", \"23\", \"24\", \"25\", \"26\", \"27\", \"28\", \"29\", \"30\", \"31\", \"32\", \"33\", \"34\", \"35\", \"38\", \"39\"], \"mode\": \"markers\", \"name\": \"precision_score_micro\", \"stepped\": false, \"type\": \"scatter\", \"data\": [0.9946597497711321, 0.9980164784864205, 0.992523649679585, 0.9842844064693317, 0.9745193774794019, 0.9980164784864205, 0.9980164784864205, 0.9977113213304852, 0.9980164784864205, 0.973603906011596, 0.9931339639914556, 0.9980164784864205, 0.9481232834909978, 0.9858101922490082, 0.995575221238938, 0.9945071711931645, 0.9980164784864205, 0.9949649069270674, 0.9975587427525175, 0.9980164784864205, 0.9780286847726579, 0.9980164784864205, 0.9967958498626793, 0.981537992065914, 0.9937442783033262, 0.9842844064693317, 0.9856576136710405, 0.736344217271895, 0.9980164784864205, 0.9975587427525175, 0.9974061641745499, 0.9978638999084528, 0.9980164784864205, 0.9977113213304852, 0.9914555996338114, 0.9525480622520598, 0.9981690570643882, 0.9978638999084528]}, {\"categories\": [\"0\", \"1\", \"2\", \"3\", \"4\", \"5\", \"6\", \"7\", \"8\", \"9\", \"10\", \"11\", \"12\", \"13\", \"14\", \"15\", \"16\", \"17\", \"18\", \"19\", \"20\", \"21\", \"22\", \"23\", \"24\", \"25\", \"26\", \"27\", \"28\", \"29\", \"30\", \"31\", \"32\", \"33\", \"34\", \"35\", \"38\", \"39\"], \"mode\": \"lines\", \"name\": \"precision_score_micro_max\", \"stepped\": true, \"type\": \"scatter\", \"data\": [0.9946597497711321, 0.9980164784864205, 0.9980164784864205, 0.9980164784864205, 0.9980164784864205, 0.9980164784864205, 0.9980164784864205, 0.9980164784864205, 0.9980164784864205, 0.9980164784864205, 0.9980164784864205, 0.9980164784864205, 0.9980164784864205, 0.9980164784864205, 0.9980164784864205, 0.9980164784864205, 0.9980164784864205, 0.9980164784864205, 0.9980164784864205, 0.9980164784864205, 0.9980164784864205, 0.9980164784864205, 0.9980164784864205, 0.9980164784864205, 0.9980164784864205, 0.9980164784864205, 0.9980164784864205, 0.9980164784864205, 0.9980164784864205, 0.9980164784864205, 0.9980164784864205, 0.9980164784864205, 0.9980164784864205, 0.9980164784864205, 0.9980164784864205, 0.9980164784864205, 0.9981690570643882, 0.9981690570643882]}], \"accuracy\": [{\"categories\": [\"0\", \"1\", \"2\", \"3\", \"4\", \"5\", \"6\", \"7\", \"8\", \"9\", \"10\", \"11\", \"12\", \"13\", \"14\", \"15\", \"16\", \"17\", \"18\", \"19\", \"20\", \"21\", \"22\", \"23\", \"24\", \"25\", \"26\", \"27\", \"28\", \"29\", \"30\", \"31\", \"32\", \"33\", \"34\", \"35\", \"38\", \"39\"], \"mode\": \"markers\", \"name\": \"accuracy\", \"stepped\": false, \"type\": \"scatter\", \"data\": [0.9946597497711321, 0.9980164784864205, 0.992523649679585, 0.9842844064693317, 0.9745193774794019, 0.9980164784864205, 0.9980164784864205, 0.9977113213304852, 0.9980164784864205, 0.973603906011596, 0.9931339639914556, 0.9980164784864205, 0.9481232834909978, 0.9858101922490082, 0.995575221238938, 0.9945071711931645, 0.9980164784864205, 0.9949649069270674, 0.9975587427525175, 0.9980164784864205, 0.9780286847726579, 0.9980164784864205, 0.9967958498626793, 0.981537992065914, 0.9937442783033262, 0.9842844064693317, 0.9856576136710405, 0.736344217271895, 0.9980164784864205, 0.9975587427525175, 0.9974061641745499, 0.9978638999084528, 0.9980164784864205, 0.9977113213304852, 0.9914555996338114, 0.9525480622520598, 0.9981690570643882, 0.9978638999084528]}, {\"categories\": [\"0\", \"1\", \"2\", \"3\", \"4\", \"5\", \"6\", \"7\", \"8\", \"9\", \"10\", \"11\", \"12\", \"13\", \"14\", \"15\", \"16\", \"17\", \"18\", \"19\", \"20\", \"21\", \"22\", \"23\", \"24\", \"25\", \"26\", \"27\", \"28\", \"29\", \"30\", \"31\", \"32\", \"33\", \"34\", \"35\", \"38\", \"39\"], \"mode\": \"lines\", \"name\": \"accuracy_max\", \"stepped\": true, \"type\": \"scatter\", \"data\": [0.9946597497711321, 0.9980164784864205, 0.9980164784864205, 0.9980164784864205, 0.9980164784864205, 0.9980164784864205, 0.9980164784864205, 0.9980164784864205, 0.9980164784864205, 0.9980164784864205, 0.9980164784864205, 0.9980164784864205, 0.9980164784864205, 0.9980164784864205, 0.9980164784864205, 0.9980164784864205, 0.9980164784864205, 0.9980164784864205, 0.9980164784864205, 0.9980164784864205, 0.9980164784864205, 0.9980164784864205, 0.9980164784864205, 0.9980164784864205, 0.9980164784864205, 0.9980164784864205, 0.9980164784864205, 0.9980164784864205, 0.9980164784864205, 0.9980164784864205, 0.9980164784864205, 0.9980164784864205, 0.9980164784864205, 0.9980164784864205, 0.9980164784864205, 0.9980164784864205, 0.9981690570643882, 0.9981690570643882]}], \"f1_score_macro\": [{\"categories\": [\"0\", \"1\", \"2\", \"3\", \"4\", \"5\", \"6\", \"7\", \"8\", \"9\", \"10\", \"11\", \"12\", \"13\", \"14\", \"15\", \"16\", \"17\", \"18\", \"19\", \"20\", \"21\", \"22\", \"23\", \"24\", \"25\", \"26\", \"27\", \"28\", \"29\", \"30\", \"31\", \"32\", \"33\", \"34\", \"35\", \"38\", \"39\"], \"mode\": \"markers\", \"name\": \"f1_score_macro\", \"stepped\": false, \"type\": \"scatter\", \"data\": [0.8812831559552551, 0.8910575895623987, 0.7429670924340828, 0.7326728102506366, 0.7473127133123609, 0.8910575895623987, 0.8910575895623987, 0.8908235547218937, 0.8731693551868795, 0.7251362833625057, 0.742842318660309, 0.9148533746387946, 0.6974109605575598, 0.7388498065802057, 0.74649210083469, 0.7447803028485565, 0.8910575895623987, 0.7459183420992783, 0.7480163860231245, 0.8910575895623987, 0.7293501365718388, 0.8910575895623987, 0.7473091290093952, 0.7323102053316922, 0.8860624986970157, 0.7375137595793839, 0.7339177472750937, 0.41067800735276605, 0.9356029364833727, 0.7478538555713344, 0.8103062824143022, 0.8592472437101465, 0.8982192704941913, 0.748070473337998, 0.7432906849992045, 0.6967196524068799, 0.8911745363177381, 0.9147471239533952]}, {\"categories\": [\"0\", \"1\", \"2\", \"3\", \"4\", \"5\", \"6\", \"7\", \"8\", \"9\", \"10\", \"11\", \"12\", \"13\", \"14\", \"15\", \"16\", \"17\", \"18\", \"19\", \"20\", \"21\", \"22\", \"23\", \"24\", \"25\", \"26\", \"27\", \"28\", \"29\", \"30\", \"31\", \"32\", \"33\", \"34\", \"35\", \"38\", \"39\"], \"mode\": \"lines\", \"name\": \"f1_score_macro_max\", \"stepped\": true, \"type\": \"scatter\", \"data\": [0.8812831559552551, 0.8910575895623987, 0.8910575895623987, 0.8910575895623987, 0.8910575895623987, 0.8910575895623987, 0.8910575895623987, 0.8910575895623987, 0.8910575895623987, 0.8910575895623987, 0.8910575895623987, 0.9148533746387946, 0.9148533746387946, 0.9148533746387946, 0.9148533746387946, 0.9148533746387946, 0.9148533746387946, 0.9148533746387946, 0.9148533746387946, 0.9148533746387946, 0.9148533746387946, 0.9148533746387946, 0.9148533746387946, 0.9148533746387946, 0.9148533746387946, 0.9148533746387946, 0.9148533746387946, 0.9148533746387946, 0.9356029364833727, 0.9356029364833727, 0.9356029364833727, 0.9356029364833727, 0.9356029364833727, 0.9356029364833727, 0.9356029364833727, 0.9356029364833727, 0.9356029364833727, 0.9356029364833727]}], \"weighted_accuracy\": [{\"categories\": [\"0\", \"1\", \"2\", \"3\", \"4\", \"5\", \"6\", \"7\", \"8\", \"9\", \"10\", \"11\", \"12\", \"13\", \"14\", \"15\", \"16\", \"17\", \"18\", \"19\", \"20\", \"21\", \"22\", \"23\", \"24\", \"25\", \"26\", \"27\", \"28\", \"29\", \"30\", \"31\", \"32\", \"33\", \"34\", \"35\", \"38\", \"39\"], \"mode\": \"markers\", \"name\": \"weighted_accuracy\", \"stepped\": false, \"type\": \"scatter\", \"data\": [0.9961695802179947, 0.9987936465569767, 0.9940925032904573, 0.9906168022133652, 0.9841004021583897, 0.9987936465569767, 0.9987936465569767, 0.9986277681172122, 0.9989190236565451, 0.9740286262587232, 0.99655567086265, 0.9985856068860247, 0.9570433490491813, 0.992699965407872, 0.9976319441816285, 0.9971767467420214, 0.9987936465569767, 0.9952941537090043, 0.9988355311396656, 0.9987936465569767, 0.978565274327971, 0.9987936465569767, 0.997668572442844, 0.9829804183766311, 0.99684747969898, 0.9887361457198384, 0.9923662719888527, 0.8710556840311183, 0.9987109839855933, 0.9987101540400972, 0.9984310157050033, 0.9987107073370943, 0.9987109839855931, 0.9987930932599796, 0.995768716543514, 0.9712340337852, 0.9988765857768589, 0.9990041760644162]}, {\"categories\": [\"0\", \"1\", \"2\", \"3\", \"4\", \"5\", \"6\", \"7\", \"8\", \"9\", \"10\", \"11\", \"12\", \"13\", \"14\", \"15\", \"16\", \"17\", \"18\", \"19\", \"20\", \"21\", \"22\", \"23\", \"24\", \"25\", \"26\", \"27\", \"28\", \"29\", \"30\", \"31\", \"32\", \"33\", \"34\", \"35\", \"38\", \"39\"], \"mode\": \"lines\", \"name\": \"weighted_accuracy_max\", \"stepped\": true, \"type\": \"scatter\", \"data\": [0.9961695802179947, 0.9987936465569767, 0.9987936465569767, 0.9987936465569767, 0.9987936465569767, 0.9987936465569767, 0.9987936465569767, 0.9987936465569767, 0.9989190236565451, 0.9989190236565451, 0.9989190236565451, 0.9989190236565451, 0.9989190236565451, 0.9989190236565451, 0.9989190236565451, 0.9989190236565451, 0.9989190236565451, 0.9989190236565451, 0.9989190236565451, 0.9989190236565451, 0.9989190236565451, 0.9989190236565451, 0.9989190236565451, 0.9989190236565451, 0.9989190236565451, 0.9989190236565451, 0.9989190236565451, 0.9989190236565451, 0.9989190236565451, 0.9989190236565451, 0.9989190236565451, 0.9989190236565451, 0.9989190236565451, 0.9989190236565451, 0.9989190236565451, 0.9989190236565451, 0.9989190236565451, 0.9990041760644162]}], \"recall_score_macro\": [{\"categories\": [\"0\", \"1\", \"2\", \"3\", \"4\", \"5\", \"6\", \"7\", \"8\", \"9\", \"10\", \"11\", \"12\", \"13\", \"14\", \"15\", \"16\", \"17\", \"18\", \"19\", \"20\", \"21\", \"22\", \"23\", \"24\", \"25\", \"26\", \"27\", \"28\", \"29\", \"30\", \"31\", \"32\", \"33\", \"34\", \"35\", \"38\", \"39\"], \"mode\": \"markers\", \"name\": \"recall_score_macro\", \"stepped\": false, \"type\": \"scatter\", \"data\": [0.8953163979607718, 0.8486333518494401, 0.744468556727061, 0.7346595384085185, 0.9240212820056222, 0.8486333518494401, 0.8486333518494401, 0.8482997961456376, 0.8485329750599558, 0.7316174926710769, 0.7434292627134336, 0.8985669507870232, 0.7062750111406719, 0.7353235490326885, 0.7462984619228223, 0.7450306401700293, 0.8486333518494401, 0.7472373791469656, 0.7483661972080546, 0.8486333518494401, 0.734747644954981, 0.8486333518494401, 0.7481345686854539, 0.7365759997590249, 0.8436624416277518, 0.7361651902507825, 0.7353575247597557, 0.42795506876208755, 0.8984665739975389, 0.7484665739975389, 0.798205620405939, 0.8484665739975389, 0.8984665739975389, 0.7486333518494401, 0.7414943295530354, 0.7016761506342875, 0.8488001297013413, 0.8979986657771848]}, {\"categories\": [\"0\", \"1\", \"2\", \"3\", \"4\", \"5\", \"6\", \"7\", \"8\", \"9\", \"10\", \"11\", \"12\", \"13\", \"14\", \"15\", \"16\", \"17\", \"18\", \"19\", \"20\", \"21\", \"22\", \"23\", \"24\", \"25\", \"26\", \"27\", \"28\", \"29\", \"30\", \"31\", \"32\", \"33\", \"34\", \"35\", \"38\", \"39\"], \"mode\": \"lines\", \"name\": \"recall_score_macro_max\", \"stepped\": true, \"type\": \"scatter\", \"data\": [0.8953163979607718, 0.8953163979607718, 0.8953163979607718, 0.8953163979607718, 0.9240212820056222, 0.9240212820056222, 0.9240212820056222, 0.9240212820056222, 0.9240212820056222, 0.9240212820056222, 0.9240212820056222, 0.9240212820056222, 0.9240212820056222, 0.9240212820056222, 0.9240212820056222, 0.9240212820056222, 0.9240212820056222, 0.9240212820056222, 0.9240212820056222, 0.9240212820056222, 0.9240212820056222, 0.9240212820056222, 0.9240212820056222, 0.9240212820056222, 0.9240212820056222, 0.9240212820056222, 0.9240212820056222, 0.9240212820056222, 0.9240212820056222, 0.9240212820056222, 0.9240212820056222, 0.9240212820056222, 0.9240212820056222, 0.9240212820056222, 0.9240212820056222, 0.9240212820056222, 0.9240212820056222, 0.9240212820056222]}], \"f1_score_weighted\": [{\"categories\": [\"0\", \"1\", \"2\", \"3\", \"4\", \"5\", \"6\", \"7\", \"8\", \"9\", \"10\", \"11\", \"12\", \"13\", \"14\", \"15\", \"16\", \"17\", \"18\", \"19\", \"20\", \"21\", \"22\", \"23\", \"24\", \"25\", \"26\", \"27\", \"28\", \"29\", \"30\", \"31\", \"32\", \"33\", \"34\", \"35\", \"38\", \"39\"], \"mode\": \"markers\", \"name\": \"f1_score_weighted\", \"stepped\": false, \"type\": \"scatter\", \"data\": [0.9946940518323815, 0.9979190464219794, 0.9921513896153452, 0.983963437844793, 0.9832974547788684, 0.9979190464219794, 0.9979190464219794, 0.9976131550067006, 0.997940605836536, 0.9735631687723115, 0.9927481210472664, 0.99799172599788, 0.9485801439025566, 0.9852979364482679, 0.9951873147226215, 0.9941177587360327, 0.9979190464219794, 0.9945919913133676, 0.9971771482159317, 0.9979190464219794, 0.977846994153051, 0.9979190464219794, 0.996417137979341, 0.981290076530077, 0.9936414144449928, 0.9838225889903637, 0.9852821005467944, 0.6568448370217157, 0.9979787099447427, 0.9971786658268633, 0.9972926179210819, 0.9978218829267539, 0.9980166147847235, 0.9973309438959382, 0.9910304296059577, 0.9522488093036223, 0.9980719457715952, 0.9978362149518599]}, {\"categories\": [\"0\", \"1\", \"2\", \"3\", \"4\", \"5\", \"6\", \"7\", \"8\", \"9\", \"10\", \"11\", \"12\", \"13\", \"14\", \"15\", \"16\", \"17\", \"18\", \"19\", \"20\", \"21\", \"22\", \"23\", \"24\", \"25\", \"26\", \"27\", \"28\", \"29\", \"30\", \"31\", \"32\", \"33\", \"34\", \"35\", \"38\", \"39\"], \"mode\": \"lines\", \"name\": \"f1_score_weighted_max\", \"stepped\": true, \"type\": \"scatter\", \"data\": [0.9946940518323815, 0.9979190464219794, 0.9979190464219794, 0.9979190464219794, 0.9979190464219794, 0.9979190464219794, 0.9979190464219794, 0.9979190464219794, 0.997940605836536, 0.997940605836536, 0.997940605836536, 0.99799172599788, 0.99799172599788, 0.99799172599788, 0.99799172599788, 0.99799172599788, 0.99799172599788, 0.99799172599788, 0.99799172599788, 0.99799172599788, 0.99799172599788, 0.99799172599788, 0.99799172599788, 0.99799172599788, 0.99799172599788, 0.99799172599788, 0.99799172599788, 0.99799172599788, 0.99799172599788, 0.99799172599788, 0.99799172599788, 0.99799172599788, 0.9980166147847235, 0.9980166147847235, 0.9980166147847235, 0.9980166147847235, 0.9980719457715952, 0.9980719457715952]}]}, \"metricName\": null, \"primaryMetricName\": \"accuracy\", \"showLegend\": false}, \"run_metrics\": [{\"name\": \"experiment_status\", \"run_id\": \"AutoML_f606c021-f178-49ed-a906-5b5cb9e641b3\", \"categories\": [0, 1, 2, 3, 4, 5, 6, 7, 8, 9, 10, 11, 12, 13], \"series\": [{\"data\": [\"DatasetEvaluation\", \"FeaturesGeneration\", \"DatasetFeaturization\", \"DatasetFeaturizationCompleted\", \"DatasetBalancing\", \"ModelSelection\", \"BestRunExplainModel\", \"ModelExplanationDataSetSetup\", \"PickSurrogateModel\", \"EngineeredFeatureExplanations\", \"EngineeredFeatureExplanations\", \"RawFeaturesExplanations\", \"RawFeaturesExplanations\", \"BestRunExplainModel\"]}]}, {\"name\": \"experiment_status_description\", \"run_id\": \"AutoML_f606c021-f178-49ed-a906-5b5cb9e641b3\", \"categories\": [0, 1, 2, 3, 4, 5, 6, 7, 8, 9, 10, 11, 12, 13], \"series\": [{\"data\": [\"Gathering dataset statistics.\", \"Generating features for the dataset.\", \"Beginning to fit featurizers and featurize the dataset.\", \"Completed fit featurizers and featurizing the dataset.\", \"Performing class balancing sweeping\", \"Beginning model selection.\", \"Best run model explanations started\", \"Model explanations data setup completed\", \"Choosing LightGBM as the surrogate model for explanations\", \"Computation of engineered features started\", \"Computation of engineered features completed\", \"Computation of raw features started\", \"Computation of raw features completed\", \"Best run model explanations completed\"]}]}, {\"name\": \"f1_score_weighted\", \"run_id\": \"AutoML_f606c021-f178-49ed-a906-5b5cb9e641b3\", \"categories\": [0], \"series\": [{\"data\": [0.9980719457715952]}]}, {\"name\": \"AUC_micro\", \"run_id\": \"AutoML_f606c021-f178-49ed-a906-5b5cb9e641b3\", \"categories\": [0], \"series\": [{\"data\": [0.9999153492311179]}]}, {\"name\": \"recall_score_macro\", \"run_id\": \"AutoML_f606c021-f178-49ed-a906-5b5cb9e641b3\", \"categories\": [0], \"series\": [{\"data\": [0.8488001297013413]}]}, {\"name\": \"average_precision_score_macro\", \"run_id\": \"AutoML_f606c021-f178-49ed-a906-5b5cb9e641b3\", \"categories\": [0], \"series\": [{\"data\": [0.9087668947148487]}]}, {\"name\": \"recall_score_micro\", \"run_id\": \"AutoML_f606c021-f178-49ed-a906-5b5cb9e641b3\", \"categories\": [0], \"series\": [{\"data\": [0.9981690570643882]}]}, {\"name\": \"f1_score_macro\", \"run_id\": \"AutoML_f606c021-f178-49ed-a906-5b5cb9e641b3\", \"categories\": [0], \"series\": [{\"data\": [0.8911745363177381]}]}, {\"name\": \"recall_score_weighted\", \"run_id\": \"AutoML_f606c021-f178-49ed-a906-5b5cb9e641b3\", \"categories\": [0], \"series\": [{\"data\": [0.9981690570643882]}]}, {\"name\": \"AUC_weighted\", \"run_id\": \"AutoML_f606c021-f178-49ed-a906-5b5cb9e641b3\", \"categories\": [0], \"series\": [{\"data\": [0.9997850557615031]}]}, {\"name\": \"AUC_macro\", \"run_id\": \"AutoML_f606c021-f178-49ed-a906-5b5cb9e641b3\", \"categories\": [0], \"series\": [{\"data\": [0.9994883103229006]}]}, {\"name\": \"average_precision_score_weighted\", \"run_id\": \"AutoML_f606c021-f178-49ed-a906-5b5cb9e641b3\", \"categories\": [0], \"series\": [{\"data\": [0.9986498313618305]}]}, {\"name\": \"f1_score_micro\", \"run_id\": \"AutoML_f606c021-f178-49ed-a906-5b5cb9e641b3\", \"categories\": [0], \"series\": [{\"data\": [0.9981690570643882]}]}, {\"name\": \"norm_macro_recall\", \"run_id\": \"AutoML_f606c021-f178-49ed-a906-5b5cb9e641b3\", \"categories\": [0], \"series\": [{\"data\": [0.7984001729351218]}]}, {\"name\": \"log_loss\", \"run_id\": \"AutoML_f606c021-f178-49ed-a906-5b5cb9e641b3\", \"categories\": [0], \"series\": [{\"data\": [0.010156093406006731]}]}, {\"name\": \"average_precision_score_micro\", \"run_id\": \"AutoML_f606c021-f178-49ed-a906-5b5cb9e641b3\", \"categories\": [0], \"series\": [{\"data\": [0.999750423934029]}]}, {\"name\": \"accuracy\", \"run_id\": \"AutoML_f606c021-f178-49ed-a906-5b5cb9e641b3\", \"categories\": [0], \"series\": [{\"data\": [0.9981690570643882]}]}, {\"name\": \"precision_score_micro\", \"run_id\": \"AutoML_f606c021-f178-49ed-a906-5b5cb9e641b3\", \"categories\": [0], \"series\": [{\"data\": [0.9981690570643882]}]}, {\"name\": \"weighted_accuracy\", \"run_id\": \"AutoML_f606c021-f178-49ed-a906-5b5cb9e641b3\", \"categories\": [0], \"series\": [{\"data\": [0.9988765857768589]}]}, {\"name\": \"precision_score_weighted\", \"run_id\": \"AutoML_f606c021-f178-49ed-a906-5b5cb9e641b3\", \"categories\": [0], \"series\": [{\"data\": [0.9981733117729914]}]}, {\"name\": \"matthews_correlation\", \"run_id\": \"AutoML_f606c021-f178-49ed-a906-5b5cb9e641b3\", \"categories\": [0], \"series\": [{\"data\": [0.9968406388092295]}]}, {\"name\": \"precision_score_macro\", \"run_id\": \"AutoML_f606c021-f178-49ed-a906-5b5cb9e641b3\", \"categories\": [0], \"series\": [{\"data\": [0.9978374428808464]}]}, {\"name\": \"balanced_accuracy\", \"run_id\": \"AutoML_f606c021-f178-49ed-a906-5b5cb9e641b3\", \"categories\": [0], \"series\": [{\"data\": [0.8488001297013413]}]}], \"run_logs\": \"\\nRun is completed.\", \"graph\": {}, \"widget_settings\": {\"childWidgetDisplay\": \"popup\", \"send_telemetry\": false, \"log_level\": \"INFO\", \"sdk_version\": \"1.20.0\"}, \"loading\": false}"
          },
          "metadata": {}
        },
        {
          "output_type": "stream",
          "name": "stdout",
          "text": [
            "\n",
            "Current status: FeaturesGeneration. Generating features for the dataset.\n",
            "Current status: DatasetBalancing. Performing class balancing sweeping\n",
            "Current status: ModelSelection. Beginning model selection.\n",
            "\n",
            "****************************************************************************************************\n",
            "DATA GUARDRAILS: \n",
            "\n",
            "TYPE:         Train-Test data split\n",
            "STATUS:       DONE\n",
            "DESCRIPTION:  Your input data has been split into a training dataset and a holdout test dataset for validation of the model. The test holdout dataset reflects the original distribution of your input data.\n",
            "              \n",
            "DETAILS:      \n",
            "+---------------------------------+---------------------------------+---------------------------------+\n",
            "|Dataset                          |Row counts                       |Percentage                       |\n",
            "+=================================+=================================+=================================+\n",
            "|train                            |58978                            |89.99877922236465                |\n",
            "|test                             |6554                             |10.001220777635353               |\n",
            "+---------------------------------+---------------------------------+---------------------------------+\n",
            "\n",
            "****************************************************************************************************\n",
            "\n",
            "TYPE:         Class balancing detection\n",
            "STATUS:       ALERTED\n",
            "DESCRIPTION:  To decrease model bias, please cancel the current run and fix balancing problem.\n",
            "              Learn more about imbalanced data: https://aka.ms/AutomatedMLImbalancedData\n",
            "DETAILS:      Imbalanced data can lead to a falsely perceived positive effect of a model's accuracy because the input data has bias towards one class.\n",
            "+---------------------------------+---------------------------------+--------------------------------------+\n",
            "|Size of the smallest class       |Name/Label of the smallest class |Number of samples in the training data|\n",
            "+=================================+=================================+======================================+\n",
            "|49                               |reset-both                       |58978                                 |\n",
            "+---------------------------------+---------------------------------+--------------------------------------+\n",
            "\n",
            "****************************************************************************************************\n",
            "\n",
            "TYPE:         Missing feature values imputation\n",
            "STATUS:       PASSED\n",
            "DESCRIPTION:  No feature missing values were detected in the training data.\n",
            "              Learn more about missing value imputation: https://aka.ms/AutomatedMLFeaturization\n",
            "\n",
            "****************************************************************************************************\n",
            "\n",
            "TYPE:         High cardinality feature detection\n",
            "STATUS:       PASSED\n",
            "DESCRIPTION:  Your inputs were analyzed, and no high cardinality features were detected.\n",
            "              Learn more about high cardinality feature handling: https://aka.ms/AutomatedMLFeaturization\n",
            "\n",
            "****************************************************************************************************\n",
            "\n",
            "****************************************************************************************************\n",
            "ITERATION: The iteration being evaluated.\n",
            "PIPELINE: A summary description of the pipeline being evaluated.\n",
            "DURATION: Time taken for the current iteration.\n",
            "METRIC: The result of computing score on the fitted pipeline.\n",
            "BEST: The best observed score thus far.\n",
            "****************************************************************************************************\n",
            "\n",
            " ITERATION   PIPELINE                                       DURATION      METRIC      BEST\n",
            "         1   MaxAbsScaler XGBoostClassifier                 0:01:00       0.9980    0.9980\n",
            "         2   MinMaxScaler RandomForest                      0:00:58       0.9925    0.9980\n",
            "         0   MaxAbsScaler LightGBM                          0:00:49       0.9947    0.9980\n",
            "         3   MinMaxScaler RandomForest                      0:00:53       0.9843    0.9980\n",
            "         8   SparseNormalizer XGBoostClassifier             0:01:08       0.9980    0.9980\n",
            "         4   MinMaxScaler RandomForest                      0:02:08       0.9745    0.9980\n",
            "         6   StandardScalerWrapper LightGBM                 0:02:12       0.9980    0.9980\n",
            "         5   RobustScaler LightGBM                          0:02:26       0.9980    0.9980\n",
            "         7   TruncatedSVDWrapper XGBoostClassifier          0:02:34       0.9977    0.9980\n",
            "        10   StandardScalerWrapper XGBoostClassifier        0:00:49       0.9931    0.9980\n",
            "         9   MinMaxScaler LogisticRegression                0:00:58       0.9736    0.9980\n",
            "        12   RobustScaler ExtremeRandomTrees                0:00:45       0.9481    0.9980\n",
            "        13   StandardScalerWrapper LightGBM                 0:00:53       0.9858    0.9980\n",
            "        14   RobustScaler LightGBM                          0:00:56       0.9956    0.9980\n",
            "        15   MaxAbsScaler LightGBM                          0:00:53       0.9945    0.9980\n",
            "        11   SparseNormalizer XGBoostClassifier             0:02:04       0.9980    0.9980\n",
            "        16   RobustScaler LightGBM                          0:00:59       0.9980    0.9980\n",
            "        17   SparseNormalizer XGBoostClassifier             0:00:44       0.9950    0.9980\n",
            "        18   StandardScalerWrapper XGBoostClassifier        0:00:49       0.9976    0.9980\n",
            "        19   RobustScaler LightGBM                          0:00:58       0.9980    0.9980\n",
            "        22   SparseNormalizer XGBoostClassifier             0:00:46       0.9968    0.9980\n",
            "        20   MinMaxScaler LogisticRegression                0:00:57       0.9780    0.9980\n",
            "        21   MaxAbsScaler LightGBM                          0:00:54       0.9980    0.9980\n",
            "        23   MinMaxScaler LogisticRegression                0:00:58       0.9815    0.9980\n",
            "        24   StandardScalerWrapper XGBoostClassifier        0:00:51       0.9937    0.9980\n",
            "        26   StandardScalerWrapper XGBoostClassifier        0:00:49       0.9857    0.9980\n",
            "        27   RobustScaler ExtremeRandomTrees                0:00:47       0.7363    0.9980\n",
            "        25   PCA XGBoostClassifier                          0:00:58       0.9843    0.9980\n",
            "        28   StandardScalerWrapper XGBoostClassifier        0:00:58       0.9980    0.9980\n",
            "        29   StandardScalerWrapper XGBoostClassifier        0:00:57       0.9976    0.9980\n",
            "        31   SparseNormalizer XGBoostClassifier             0:01:35       0.9979    0.9980\n",
            "        32   SparseNormalizer XGBoostClassifier             0:01:03       0.9980    0.9980\n",
            "        33   SparseNormalizer XGBoostClassifier             0:01:00       0.9977    0.9980\n",
            "        34   MinMaxScaler LightGBM                          0:00:52       0.9915    0.9980\n",
            "        30   SparseNormalizer XGBoostClassifier             0:02:14       0.9974    0.9980\n",
            "        35   StandardScalerWrapper XGBoostClassifier        0:00:44       0.9525    0.9980\n",
            "        36   MaxAbsScaler LightGBM                          0:00:21          nan    0.9980\n",
            "        37                                                  0:00:16          nan    0.9980\n",
            "        38    VotingEnsemble                                0:01:00       0.9982    0.9982\n",
            "        39    StackEnsemble                                 0:02:07       0.9979    0.9982\n"
          ]
        }
      ],
      "execution_count": 9,
      "metadata": {
        "gather": {
          "logged": 1612830363275
        },
        "jupyter": {
          "outputs_hidden": false,
          "source_hidden": false
        },
        "nteract": {
          "transient": {
            "deleting": false
          }
        }
      }
    },
    {
      "cell_type": "markdown",
      "source": [
        "## Best Model\n",
        "\n",
        "TODO: In the cell below, get the best model from the automl experiments and display all the properties of the model.\n",
        "\n"
      ],
      "metadata": {}
    },
    {
      "cell_type": "code",
      "source": [
        "# Retrieve and save your best automl model.\r\n",
        "automl_best_run, automl_fitted_model = automl_run.get_output()\r\n",
        "\r\n",
        "\r\n",
        "# Reference: https://knowledge.udacity.com/questions/357775 \r\n",
        "print(\"Fitted model: \", automl_fitted_model.steps[-1])\r\n",
        "print(\"---\"*5)\r\n",
        "print(\"AutoML best run accuracy: \", automl_best_run.get_metrics(name=\"accuracy\"))\r\n",
        "print(\"---\"*5)\r\n",
        "print(\"AutoML run Summary: \", automl_run.summary())\r\n"
      ],
      "outputs": [
        {
          "output_type": "stream",
          "name": "stderr",
          "text": [
            "WARNING:root:The version of the SDK does not match the version the model was trained on.\n",
            "WARNING:root:The consistency in the result may not be guaranteed.\n",
            "WARNING:root:Package:azureml-automl-core, training version:1.21.0, current version:1.20.0\n",
            "Package:azureml-automl-runtime, training version:1.21.0, current version:1.20.0\n",
            "Package:azureml-core, training version:1.21.0.post1, current version:1.20.0\n",
            "Package:azureml-dataprep, training version:2.8.2, current version:2.7.3\n",
            "Package:azureml-dataprep-native, training version:28.0.0, current version:27.0.0\n",
            "Package:azureml-dataprep-rslex, training version:1.6.0, current version:1.5.0\n",
            "Package:azureml-dataset-runtime, training version:1.21.0, current version:1.20.0\n",
            "Package:azureml-defaults, training version:1.21.0, current version:1.20.0\n",
            "Package:azureml-interpret, training version:1.21.0, current version:1.20.0\n",
            "Package:azureml-pipeline-core, training version:1.21.0, current version:1.20.0\n",
            "Package:azureml-telemetry, training version:1.21.0, current version:1.20.0\n",
            "Package:azureml-train-automl-client, training version:1.21.0, current version:1.20.0\n",
            "Package:azureml-train-automl-runtime, training version:1.21.0, current version:1.20.0\n",
            "WARNING:root:Please ensure the version of your local conda dependencies match the version on which your model was trained in order to properly retrieve your model.\n"
          ]
        },
        {
          "output_type": "stream",
          "name": "stdout",
          "text": [
            "Fitted model:  ('prefittedsoftvotingclassifier', PreFittedSoftVotingClassifier(classification_labels=None,\n",
            "                              estimators=[('32',\n",
            "                                           Pipeline(memory=None,\n",
            "                                                    steps=[('sparsenormalizer',\n",
            "                                                            <azureml.automl.runtime.shared.model_wrappers.SparseNormalizer object at 0x7f8d6f93b128>),\n",
            "                                                           ('xgboostclassifier',\n",
            "                                                            XGBoostClassifier(base_score=0.5,\n",
            "                                                                              booster='gbtree',\n",
            "                                                                              colsample_bylevel=0.5,\n",
            "                                                                              colsample_bynode=1,\n",
            "                                                                              colsample_bytree=1,\n",
            "                                                                              eta=0.3,\n",
            "                                                                              g...\n",
            "                                                                               num_leaves=179,\n",
            "                                                                               objective=None,\n",
            "                                                                               random_state=None,\n",
            "                                                                               reg_alpha=0.42105263157894735,\n",
            "                                                                               reg_lambda=0.05263157894736842,\n",
            "                                                                               silent=True,\n",
            "                                                                               subsample=0.5447368421052632,\n",
            "                                                                               subsample_for_bin=200000,\n",
            "                                                                               subsample_freq=0,\n",
            "                                                                               verbose=-10))],\n",
            "                                                    verbose=False))],\n",
            "                              flatten_transform=None,\n",
            "                              weights=[0.3333333333333333, 0.16666666666666666,\n",
            "                                       0.16666666666666666, 0.16666666666666666,\n",
            "                                       0.16666666666666666]))\n",
            "---------------\n",
            "AutoML best run accuracy:  {'accuracy': 0.9981690570643882}\n",
            "---------------\n",
            "AutoML run Summary:  [['StackEnsemble', 1, 0.9978638999084528], ['VotingEnsemble', 1, 0.9981690570643882], ['Failed', 1, nan], ['LightGBM', 11, nan], ['XGBoostClassifier', 18, 0.9980164784864205], ['ExtremeRandomTrees', 2, 0.9481232834909978], ['LogisticRegression', 3, 0.981537992065914], ['RandomForest', 3, 0.992523649679585]]\n"
          ]
        }
      ],
      "execution_count": 10,
      "metadata": {
        "gather": {
          "logged": 1612830534147
        },
        "jupyter": {
          "outputs_hidden": false,
          "source_hidden": false
        },
        "nteract": {
          "transient": {
            "deleting": false
          }
        }
      }
    },
    {
      "cell_type": "code",
      "source": [
        "automl_estimator = automl_fitted_model.steps[-1]\r\n",
        "print(automl_estimator)"
      ],
      "outputs": [
        {
          "output_type": "stream",
          "name": "stdout",
          "text": [
            "('prefittedsoftvotingclassifier', PreFittedSoftVotingClassifier(classification_labels=None,\n",
            "                              estimators=[('32',\n",
            "                                           Pipeline(memory=None,\n",
            "                                                    steps=[('sparsenormalizer',\n",
            "                                                            <azureml.automl.runtime.shared.model_wrappers.SparseNormalizer object at 0x7f8d6f93b128>),\n",
            "                                                           ('xgboostclassifier',\n",
            "                                                            XGBoostClassifier(base_score=0.5,\n",
            "                                                                              booster='gbtree',\n",
            "                                                                              colsample_bylevel=0.5,\n",
            "                                                                              colsample_bynode=1,\n",
            "                                                                              colsample_bytree=1,\n",
            "                                                                              eta=0.3,\n",
            "                                                                              g...\n",
            "                                                                               num_leaves=179,\n",
            "                                                                               objective=None,\n",
            "                                                                               random_state=None,\n",
            "                                                                               reg_alpha=0.42105263157894735,\n",
            "                                                                               reg_lambda=0.05263157894736842,\n",
            "                                                                               silent=True,\n",
            "                                                                               subsample=0.5447368421052632,\n",
            "                                                                               subsample_for_bin=200000,\n",
            "                                                                               subsample_freq=0,\n",
            "                                                                               verbose=-10))],\n",
            "                                                    verbose=False))],\n",
            "                              flatten_transform=None,\n",
            "                              weights=[0.3333333333333333, 0.16666666666666666,\n",
            "                                       0.16666666666666666, 0.16666666666666666,\n",
            "                                       0.16666666666666666]))\n"
          ]
        }
      ],
      "execution_count": 11,
      "metadata": {
        "collapsed": true,
        "jupyter": {
          "source_hidden": false,
          "outputs_hidden": false
        },
        "nteract": {
          "transient": {
            "deleting": false
          }
        },
        "gather": {
          "logged": 1612830534220
        }
      }
    },
    {
      "cell_type": "code",
      "source": [
        "automl_best_run"
      ],
      "outputs": [
        {
          "output_type": "execute_result",
          "execution_count": 12,
          "data": {
            "text/plain": "Run(Experiment: internet-firewall-automl,\nId: AutoML_f606c021-f178-49ed-a906-5b5cb9e641b3_38,\nType: azureml.scriptrun,\nStatus: Completed)",
            "text/html": "<table style=\"width:100%\"><tr><th>Experiment</th><th>Id</th><th>Type</th><th>Status</th><th>Details Page</th><th>Docs Page</th></tr><tr><td>internet-firewall-automl</td><td>AutoML_f606c021-f178-49ed-a906-5b5cb9e641b3_38</td><td>azureml.scriptrun</td><td>Completed</td><td><a href=\"https://ml.azure.com/experiments/internet-firewall-automl/runs/AutoML_f606c021-f178-49ed-a906-5b5cb9e641b3_38?wsid=/subscriptions/9a7511b8-150f-4a58-8528-3e7d50216c31/resourcegroups/aml-quickstarts-138215/workspaces/quick-starts-ws-138215\" target=\"_blank\" rel=\"noopener\">Link to Azure Machine Learning studio</a></td><td><a href=\"https://docs.microsoft.com/en-us/python/api/azureml-core/azureml.core.run.Run?view=azure-ml-py\" target=\"_blank\" rel=\"noopener\">Link to Documentation</a></td></tr></table>"
          },
          "metadata": {}
        }
      ],
      "execution_count": 12,
      "metadata": {
        "collapsed": true,
        "jupyter": {
          "source_hidden": false,
          "outputs_hidden": false
        },
        "nteract": {
          "transient": {
            "deleting": false
          }
        },
        "gather": {
          "logged": 1612830534326
        }
      }
    },
    {
      "cell_type": "code",
      "source": [
        "# model.get_file_names()\r\n"
      ],
      "outputs": [],
      "execution_count": 13,
      "metadata": {
        "collapsed": true,
        "jupyter": {
          "source_hidden": false,
          "outputs_hidden": false
        },
        "nteract": {
          "transient": {
            "deleting": false
          }
        },
        "gather": {
          "logged": 1612830534380
        }
      }
    },
    {
      "cell_type": "code",
      "source": [
        "import joblib\r\n",
        "import os\r\n",
        "\r\n",
        "try:\r\n",
        "    os.mkdir('outputs')\r\n",
        "except:\r\n",
        "    print('outputs already exists')\r\n",
        "\r\n",
        "# automl_best_run.register_model(model_name = 'automl_best_model.pkl', model_path = './outputs/')\r\n",
        "joblib.dump(automl_fitted_model, \"./outputs/automl_fitted_model.pkl\")\r\n",
        "\r\n",
        "model_name = 'Internet-firewall-AML-model'\r\n",
        "\r\n",
        "model = automl_best_run.register_model(model_name = model_name, model_path = 'outputs/model.pkl')\r\n",
        "print(model.name, model.id, model.version, sep='\\t')"
      ],
      "outputs": [
        {
          "output_type": "stream",
          "name": "stdout",
          "text": [
            "Internet-firewall-AML-model\tInternet-firewall-AML-model:1\t1\n"
          ]
        }
      ],
      "execution_count": 14,
      "metadata": {
        "gather": {
          "logged": 1612830534790
        },
        "jupyter": {
          "outputs_hidden": false,
          "source_hidden": false
        },
        "nteract": {
          "transient": {
            "deleting": false
          }
        }
      }
    },
    {
      "cell_type": "markdown",
      "source": [
        "## Model Deployment\n",
        "\n",
        "Remember you have to deploy only one of the two models you trained.. Perform the steps in the rest of this notebook only if you wish to deploy this model.\n",
        "\n",
        "TODO: In the cell below, register the model, create an inference config and deploy the model as a web service."
      ],
      "metadata": {}
    },
    {
      "cell_type": "code",
      "source": [
        "from azureml.automl.core.shared import constants\r\n",
        "from azureml.core.model import InferenceConfig, Model\r\n",
        "from azureml.core.environment import Environment\r\n",
        "from azureml.core.webservice import AciWebservice, Webservice\r\n",
        "\r\n",
        "# Register the model to deploy\r\n",
        "# model = automl_best_run.register_model(model_name = \"mymodel\", model_path = \"outputs/model.pkl\")\r\n",
        "automl_best_run.download_file(constants.CONDA_ENV_FILE_PATH, 'myenv.yml')\r\n",
        "\r\n",
        "env = Environment.from_conda_specification('myenv', 'myenv.yml')\r\n",
        "inference_config = InferenceConfig(entry_script='score.py', environment=env)\r\n",
        "\r\n",
        "aci_config = AciWebservice.deploy_configuration(cpu_cores=1, memory_gb=1, auth_enabled=True,tags = {'name':'Action Prediction'},description='Internet Firewall Data')\r\n",
        "service = model.deploy(workspace=ws,name=\"internet-firewall-automl-deploy\",models=[model],inference_config=inference_config,deployment_config=aci_config)\r\n",
        "\r\n",
        "service.wait_for_deployment(show_output=True)"
      ],
      "outputs": [
        {
          "output_type": "stream",
          "name": "stdout",
          "text": [
            "Tips: You can try get_logs(): https://aka.ms/debugimage#dockerlog or local deployment: https://aka.ms/debugimage#debug-locally to debug if deployment takes longer than 10 minutes.\n",
            "Running.......................................................................................................................................................................................\n",
            "Succeeded\n",
            "ACI service creation operation finished, operation \"Succeeded\"\n"
          ]
        }
      ],
      "execution_count": 15,
      "metadata": {
        "collapsed": true,
        "jupyter": {
          "source_hidden": false,
          "outputs_hidden": false
        },
        "nteract": {
          "transient": {
            "deleting": false
          }
        },
        "gather": {
          "logged": 1612831474143
        }
      }
    },
    {
      "cell_type": "code",
      "source": [
        "print(service.get_logs())"
      ],
      "outputs": [
        {
          "output_type": "stream",
          "name": "stdout",
          "text": [
            "2021-02-09T00:44:18,727856603+00:00 - iot-server/run \n",
            "2021-02-09T00:44:18,729518968+00:00 - rsyslog/run \n",
            "2021-02-09T00:44:18,733867500+00:00 - gunicorn/run \n",
            "2021-02-09T00:44:18,741848391+00:00 - nginx/run \n",
            "/usr/sbin/nginx: /azureml-envs/azureml_7785023fceb74e4facc1b1a577b1faf9/lib/libcrypto.so.1.0.0: no version information available (required by /usr/sbin/nginx)\n",
            "/usr/sbin/nginx: /azureml-envs/azureml_7785023fceb74e4facc1b1a577b1faf9/lib/libcrypto.so.1.0.0: no version information available (required by /usr/sbin/nginx)\n",
            "/usr/sbin/nginx: /azureml-envs/azureml_7785023fceb74e4facc1b1a577b1faf9/lib/libssl.so.1.0.0: no version information available (required by /usr/sbin/nginx)\n",
            "/usr/sbin/nginx: /azureml-envs/azureml_7785023fceb74e4facc1b1a577b1faf9/lib/libssl.so.1.0.0: no version information available (required by /usr/sbin/nginx)\n",
            "/usr/sbin/nginx: /azureml-envs/azureml_7785023fceb74e4facc1b1a577b1faf9/lib/libssl.so.1.0.0: no version information available (required by /usr/sbin/nginx)\n",
            "rsyslogd: /azureml-envs/azureml_7785023fceb74e4facc1b1a577b1faf9/lib/libuuid.so.1: no version information available (required by rsyslogd)\n",
            "EdgeHubConnectionString and IOTEDGE_IOTHUBHOSTNAME are not set. Exiting...\n",
            "2021-02-09T00:44:18,925050162+00:00 - iot-server/finish 1 0\n",
            "2021-02-09T00:44:18,927102765+00:00 - Exit code 1 is normal. Not restarting iot-server.\n",
            "Starting gunicorn 19.9.0\n",
            "Listening at: http://127.0.0.1:31311 (14)\n",
            "Using worker: sync\n",
            "worker timeout is set to 300\n",
            "Booting worker with pid: 42\n",
            "SPARK_HOME not set. Skipping PySpark Initialization.\n",
            "Generating new fontManager, this may take some time...\n",
            "Initializing logger\n",
            "2021-02-09 00:44:21,443 | root | INFO | Starting up app insights client\n",
            "2021-02-09 00:44:21,444 | root | INFO | Starting up request id generator\n",
            "2021-02-09 00:44:21,444 | root | INFO | Starting up app insight hooks\n",
            "2021-02-09 00:44:21,444 | root | INFO | Invoking user's init function\n",
            "2021-02-09 00:44:22,921 | root | INFO | Users's init has completed successfully\n",
            "/azureml-envs/azureml_7785023fceb74e4facc1b1a577b1faf9/lib/python3.6/site-packages/sklearn/externals/joblib/__init__.py:15: FutureWarning: sklearn.externals.joblib is deprecated in 0.21 and will be removed in 0.23. Please import this functionality directly from joblib, which can be installed with: pip install joblib. If this warning is raised when loading pickled models, you may need to re-serialize those models with scikit-learn 0.21+.\n",
            "  warnings.warn(msg, category=FutureWarning)\n",
            "2021-02-09 00:44:22,926 | root | INFO | Skipping middleware: dbg_model_info as it's not enabled.\n",
            "2021-02-09 00:44:22,927 | root | INFO | Skipping middleware: dbg_resource_usage as it's not enabled.\n",
            "2021-02-09 00:44:22,928 | root | INFO | Scoring timeout is found from os.environ: 60000 ms\n",
            "2021-02-09 00:44:30,604 | root | INFO | Swagger file not present\n",
            "2021-02-09 00:44:30,604 | root | INFO | 404\n",
            "127.0.0.1 - - [09/Feb/2021:00:44:30 +0000] \"GET /swagger.json HTTP/1.0\" 404 19 \"-\" \"Go-http-client/1.1\"\n",
            "2021-02-09 00:44:35,740 | root | INFO | Swagger file not present\n",
            "2021-02-09 00:44:35,741 | root | INFO | 404\n",
            "127.0.0.1 - - [09/Feb/2021:00:44:35 +0000] \"GET /swagger.json HTTP/1.0\" 404 19 \"-\" \"Go-http-client/1.1\"\n",
            "\n"
          ]
        }
      ],
      "execution_count": 16,
      "metadata": {
        "collapsed": true,
        "jupyter": {
          "source_hidden": false,
          "outputs_hidden": false
        },
        "nteract": {
          "transient": {
            "deleting": false
          }
        },
        "gather": {
          "logged": 1612831474297
        }
      }
    },
    {
      "cell_type": "code",
      "source": [
        "service.update(enable_app_insights=True)\r\n",
        "\r\n",
        "print(service.state)\r\n",
        "print(\"scoring URI: \" + service.scoring_uri)"
      ],
      "outputs": [
        {
          "output_type": "stream",
          "name": "stdout",
          "text": [
            "Healthy\n",
            "scoring URI: http://617ba078-e419-496f-b992-a73545385b31.southcentralus.azurecontainer.io/score\n"
          ]
        }
      ],
      "execution_count": 17,
      "metadata": {
        "gather": {
          "logged": 1612831476367
        },
        "jupyter": {
          "outputs_hidden": false,
          "source_hidden": false
        },
        "nteract": {
          "transient": {
            "deleting": false
          }
        }
      }
    },
    {
      "cell_type": "markdown",
      "source": [
        "TODO: In the cell below, send a request to the web service you deployed to test it."
      ],
      "metadata": {
        "collapsed": true,
        "gather": {
          "logged": 1598431657736
        },
        "jupyter": {
          "outputs_hidden": false,
          "source_hidden": false
        },
        "nteract": {
          "transient": {
            "deleting": false
          }
        }
      }
    },
    {
      "cell_type": "code",
      "source": [
        "import json\r\n",
        "import requests\r\n",
        "# URL for the web service\r\n",
        "scoring_uri = 'http://617ba078-e419-496f-b992-a73545385b31.southcentralus.azurecontainer.io/score'\r\n",
        "# If the service is authenticated, set the key or token\r\n",
        "key = 'QSezHp5JMibUTuMLORyaLju41EYcjyBA'\r\n",
        "\r\n",
        "data = {\r\n",
        "  \"data\": [\r\n",
        "    {#ALLOW\r\n",
        "                  'Source Port': 50148, \r\n",
        "                  'Destination Port': 80, \r\n",
        "                  'NAT Source Port': 57004,\r\n",
        "                  'NAT Destination Port': 80,\r\n",
        "                  'Bytes': 9058,\r\n",
        "                  'Bytes Sent': 868,\r\n",
        "                  'Bytes Received': 8190,\r\n",
        "                  'Packets': 18,\r\n",
        "                  'Elapsed Time (sec)': 46,\r\n",
        "                  'pkts_sent': 10,\r\n",
        "                  'pkts_received': 8\r\n",
        "                 \r\n",
        "                 \r\n",
        "    },\r\n",
        "    {#DENY\r\n",
        "                  'Source Port': 56103, \r\n",
        "                  'Destination Port': 21247, \r\n",
        "                  'NAT Source Port': 0,\r\n",
        "                  'NAT Destination Port': 0,\r\n",
        "                  'Bytes': 66,\r\n",
        "                  'Bytes Sent': 66,\r\n",
        "                  'Bytes Received': 0,\r\n",
        "                  'Packets': 1,\r\n",
        "                  'Elapsed Time (sec)': 0,\r\n",
        "                  'pkts_sent': 1,\r\n",
        "                  'pkts_received': 0\r\n",
        "                 \r\n",
        "                 \r\n",
        "    },\r\n",
        "    {#DROP\r\n",
        "                  'Source Port': 49783, \r\n",
        "                  'Destination Port': 445, \r\n",
        "                  'NAT Source Port': 0,\r\n",
        "                  'NAT Destination Port': 0,\r\n",
        "                  'Bytes': 70,\r\n",
        "                  'Bytes Sent': 70,\r\n",
        "                  'Bytes Received': 0,\r\n",
        "                  'Packets': 1,\r\n",
        "                  'Elapsed Time (sec)': 0,\r\n",
        "                  'pkts_sent': 1,\r\n",
        "                  'pkts_received': 0\r\n",
        "                 \r\n",
        "                 \r\n",
        "    }\r\n",
        " ]\r\n",
        "}\r\n",
        "# Convert to JSON string\r\n",
        "input_data = json.dumps(data)\r\n",
        "output = service.run(input_data)\r\n",
        "#print(f\"Predicted: {output}\\nExpected: {y}\")\r\n",
        "\r\n",
        "headers = {'Content-Type': 'application/json'}\r\n",
        "headers['Authorization'] = f'Bearer {key}'\r\n",
        "\r\n",
        "# Make the request and display the response\r\n",
        "resp = requests.post(scoring_uri, input_data, headers=headers)\r\n",
        "print(\"prediction \", resp.text)"
      ],
      "outputs": [
        {
          "output_type": "stream",
          "name": "stdout",
          "text": [
            "prediction  [\"allow\", \"deny\", \"drop\"]\n"
          ]
        }
      ],
      "execution_count": 21,
      "metadata": {
        "gather": {
          "logged": 1612831610828
        },
        "jupyter": {
          "outputs_hidden": false,
          "source_hidden": false
        },
        "nteract": {
          "transient": {
            "deleting": false
          }
        }
      }
    },
    {
      "cell_type": "markdown",
      "source": [
        "TODO: In the cell below, print the logs of the web service and delete the service"
      ],
      "metadata": {
        "collapsed": true,
        "gather": {
          "logged": 1598432765711
        },
        "jupyter": {
          "outputs_hidden": false,
          "source_hidden": false
        },
        "nteract": {
          "transient": {
            "deleting": false
          }
        }
      }
    },
    {
      "cell_type": "code",
      "source": [
        "#print the logs of the web service\r\n",
        "web_service_logs = service.get_logs()\r\n",
        "with open(\"./web_service_logs.txt\", 'w') as output:\r\n",
        "    output.write(str(web_service_logs))\r\n",
        "\r\n",
        "print(web_service_logs)\r\n",
        "\r\n"
      ],
      "outputs": [
        {
          "output_type": "stream",
          "name": "stdout",
          "text": [
            "2021-02-09T00:44:44,078299985+00:00 - iot-server/run \n",
            "2021-02-09T00:44:44,082111157+00:00 - nginx/run \n",
            "/usr/sbin/nginx: /azureml-envs/azureml_7785023fceb74e4facc1b1a577b1faf9/lib/libcrypto.so.1.0.0: no version information available (required by /usr/sbin/nginx)\n",
            "/usr/sbin/nginx: /azureml-envs/azureml_7785023fceb74e4facc1b1a577b1faf9/lib/libcrypto.so.1.0.0: no version information available (required by /usr/sbin/nginx)\n",
            "/usr/sbin/nginx: /azureml-envs/azureml_7785023fceb74e4facc1b1a577b1faf9/lib/libssl.so.1.0.0: no version information available (required by /usr/sbin/nginx)\n",
            "/usr/sbin/nginx: /azureml-envs/azureml_7785023fceb74e4facc1b1a577b1faf9/lib/libssl.so.1.0.0: no version information available (required by /usr/sbin/nginx)\n",
            "/usr/sbin/nginx: /azureml-envs/azureml_7785023fceb74e4facc1b1a577b1faf9/lib/libssl.so.1.0.0: no version information available (required by /usr/sbin/nginx)\n",
            "2021-02-09T00:44:44,082325377+00:00 - rsyslog/run \n",
            "2021-02-09T00:44:44,093682386+00:00 - gunicorn/run \n",
            "rsyslogd: /azureml-envs/azureml_7785023fceb74e4facc1b1a577b1faf9/lib/libuuid.so.1: no version information available (required by rsyslogd)\n",
            "EdgeHubConnectionString and IOTEDGE_IOTHUBHOSTNAME are not set. Exiting...\n",
            "2021-02-09T00:44:44,234227901+00:00 - iot-server/finish 1 0\n",
            "2021-02-09T00:44:44,235380113+00:00 - Exit code 1 is normal. Not restarting iot-server.\n",
            "Starting gunicorn 19.9.0\n",
            "Listening at: http://127.0.0.1:31311 (14)\n",
            "Using worker: sync\n",
            "worker timeout is set to 300\n",
            "Booting worker with pid: 42\n",
            "SPARK_HOME not set. Skipping PySpark Initialization.\n",
            "Generating new fontManager, this may take some time...\n",
            "Initializing logger\n",
            "2021-02-09 00:44:46,374 | root | INFO | Starting up app insights client\n",
            "2021-02-09 00:44:46,375 | root | INFO | Starting up request id generator\n",
            "2021-02-09 00:44:46,375 | root | INFO | Starting up app insight hooks\n",
            "2021-02-09 00:44:46,375 | root | INFO | Invoking user's init function\n",
            "2021-02-09 00:44:47,436 | root | INFO | Users's init has completed successfully\n",
            "/azureml-envs/azureml_7785023fceb74e4facc1b1a577b1faf9/lib/python3.6/site-packages/sklearn/externals/joblib/__init__.py:15: FutureWarning: sklearn.externals.joblib is deprecated in 0.21 and will be removed in 0.23. Please import this functionality directly from joblib, which can be installed with: pip install joblib. If this warning is raised when loading pickled models, you may need to re-serialize those models with scikit-learn 0.21+.\n",
            "  warnings.warn(msg, category=FutureWarning)\n",
            "2021-02-09 00:44:47,439 | root | INFO | Skipping middleware: dbg_model_info as it's not enabled.\n",
            "2021-02-09 00:44:47,439 | root | INFO | Skipping middleware: dbg_resource_usage as it's not enabled.\n",
            "2021-02-09 00:44:47,440 | root | INFO | Scoring timeout is found from os.environ: 60000 ms\n",
            "2021-02-09 00:44:50,160 | root | INFO | Swagger file not present\n",
            "2021-02-09 00:44:50,160 | root | INFO | 404\n",
            "127.0.0.1 - - [09/Feb/2021:00:44:50 +0000] \"GET /swagger.json HTTP/1.0\" 404 19 \"-\" \"Go-http-client/1.1\"\n",
            "2021-02-09 00:46:44,098 | root | INFO | Swagger file not present\n",
            "2021-02-09 00:46:44,098 | root | INFO | 404\n",
            "127.0.0.1 - - [09/Feb/2021:00:46:44 +0000] \"GET /swagger.json HTTP/1.0\" 404 19 \"-\" \"Go-http-client/1.1\"\n",
            "2021-02-09 00:46:52,983 | root | INFO | Validation Request Content-Type\n",
            "2021-02-09 00:46:52,984 | root | INFO | Scoring Timer is set to 60.0 seconds\n",
            "2021-02-09 00:46:53,016 | root | INFO | 200\n",
            "127.0.0.1 - - [09/Feb/2021:00:46:53 +0000] \"POST /score HTTP/1.0\" 200 25 \"-\" \"python-requests/2.25.1\"\n",
            "2021-02-09 00:46:53,026 | root | INFO | Validation Request Content-Type\n",
            "2021-02-09 00:46:53,027 | root | INFO | Scoring Timer is set to 60.0 seconds\n",
            "2021-02-09 00:46:53,224 | root | INFO | 200\n",
            "127.0.0.1 - - [09/Feb/2021:00:46:53 +0000] \"POST /score HTTP/1.0\" 200 25 \"-\" \"python-requests/2.25.1\"\n",
            "\n"
          ]
        }
      ],
      "execution_count": 25,
      "metadata": {
        "collapsed": true,
        "jupyter": {
          "source_hidden": false,
          "outputs_hidden": false
        },
        "nteract": {
          "transient": {
            "deleting": false
          }
        },
        "gather": {
          "logged": 1612831799748
        }
      }
    },
    {
      "cell_type": "code",
      "source": [
        "#delete the service\r\n",
        "service.delete()"
      ],
      "outputs": [
        {
          "output_type": "stream",
          "name": "stdout",
          "text": [
            "No service with name internet-firewall-automl-deploy found to delete.\n"
          ]
        }
      ],
      "execution_count": 29,
      "metadata": {
        "collapsed": true,
        "jupyter": {
          "source_hidden": false,
          "outputs_hidden": false
        },
        "nteract": {
          "transient": {
            "deleting": false
          }
        },
        "gather": {
          "logged": 1612834864087
        }
      }
    },
    {
      "cell_type": "code",
      "source": [
        "#delete the service\r\n",
        "compute_target.delete()\r\n",
        "compute_target.wait_for_completion(show_output=True, is_delete_operation=True)"
      ],
      "outputs": [
        {
          "output_type": "stream",
          "name": "stdout",
          "text": [
            "Deleting.......Current provisioning state of AmlCompute is \"Deleting\"\n",
            "\n",
            "............Current provisioning state of AmlCompute is \"Deleting\"\n",
            "\n",
            "............Current provisioning state of AmlCompute is \"Deleting\"\n",
            "\n",
            "............Current provisioning state of AmlCompute is \"Deleting\"\n",
            "\n",
            "............Current provisioning state of AmlCompute is \"Deleting\"\n",
            "\n",
            "..\n",
            "SucceededProvisioning operation finished, operation \"Succeeded\"\n"
          ]
        }
      ],
      "execution_count": 27,
      "metadata": {
        "collapsed": true,
        "jupyter": {
          "source_hidden": false,
          "outputs_hidden": false
        },
        "nteract": {
          "transient": {
            "deleting": false
          }
        },
        "gather": {
          "logged": 1612832683809
        }
      }
    }
  ],
  "metadata": {
    "kernel_info": {
      "name": "python3"
    },
    "kernelspec": {
      "name": "python3",
      "language": "python",
      "display_name": "Python 3"
    },
    "language_info": {
      "name": "python",
      "version": "3.6.9",
      "mimetype": "text/x-python",
      "codemirror_mode": {
        "name": "ipython",
        "version": 3
      },
      "pygments_lexer": "ipython3",
      "nbconvert_exporter": "python",
      "file_extension": ".py"
    },
    "nteract": {
      "version": "nteract-front-end@1.0.0"
    }
  },
  "nbformat": 4,
  "nbformat_minor": 2
}