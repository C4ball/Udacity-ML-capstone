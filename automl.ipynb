{
  "cells": [
    {
      "cell_type": "markdown",
      "source": [
        "# Automated ML\n",
        "\n",
        "TODO: Import Dependencies. In the cell below, import all the dependencies that you will need to complete the project."
      ],
      "metadata": {}
    },
    {
      "cell_type": "code",
      "source": [
        "import logging\r\n",
        "import os\r\n",
        "import csv\r\n",
        "\r\n",
        "from matplotlib import pyplot as plt\r\n",
        "import numpy as np\r\n",
        "import pandas as pd\r\n",
        "from sklearn import datasets\r\n",
        "import pkg_resources\r\n",
        "\r\n",
        "import azureml.core\r\n",
        "from azureml.core.experiment import Experiment\r\n",
        "from azureml.core.workspace import Workspace\r\n",
        "from azureml.train.automl import AutoMLConfig\r\n",
        "from azureml.core.dataset import Dataset\r\n",
        "\r\n",
        "from azureml.pipeline.steps import AutoMLStep\r\n",
        "\r\n",
        "# Check core SDK version number\r\n",
        "print(\"SDK version:\", azureml.core.VERSION)"
      ],
      "outputs": [
        {
          "output_type": "stream",
          "name": "stdout",
          "text": [
            "SDK version: 1.20.0\n"
          ]
        }
      ],
      "execution_count": 1,
      "metadata": {
        "gather": {
          "logged": 1612725683420
        },
        "jupyter": {
          "outputs_hidden": false,
          "source_hidden": false
        },
        "nteract": {
          "transient": {
            "deleting": false
          }
        }
      }
    },
    {
      "cell_type": "markdown",
      "source": [
        "## Dataset\n",
        "\n",
        "### Overview\n",
        "TODO: In this markdown cell, give an overview of the dataset you are using. Also mention the task you will be performing.\n",
        "\n",
        "\n",
        "TODO: Get data. In the cell below, write code to access the data you will be using in this project. Remember that the dataset needs to be external."
      ],
      "metadata": {}
    },
    {
      "cell_type": "code",
      "source": [
        "ws = Workspace.from_config()\n",
        "\n",
        "# choose a name for experiment\n",
        "experiment_name = 'internet-firewall-automl'\n",
        "project_folder = './pipeline-project-automl'\n",
        "\n",
        "experiment=Experiment(ws, experiment_name)\n",
        "experiment"
      ],
      "outputs": [
        {
          "output_type": "stream",
          "name": "stdout",
          "text": [
            "Performing interactive authentication. Please follow the instructions on the terminal.\n",
            "To sign in, use a web browser to open the page https://microsoft.com/devicelogin and enter the code ADVPPC52N to authenticate.\n",
            "You have logged in. Now let us find all the subscriptions to which you have access...\n",
            "Interactive authentication successfully completed.\n"
          ]
        },
        {
          "output_type": "execute_result",
          "execution_count": 2,
          "data": {
            "text/plain": "Experiment(Name: internet-firewall-automl,\nWorkspace: quick-starts-ws-137969)",
            "text/html": "<table style=\"width:100%\"><tr><th>Name</th><th>Workspace</th><th>Report Page</th><th>Docs Page</th></tr><tr><td>internet-firewall-automl</td><td>quick-starts-ws-137969</td><td><a href=\"https://ml.azure.com/experiments/internet-firewall-automl?wsid=/subscriptions/3e42d11f-d64d-4173-af9b-12ecaa1030b3/resourcegroups/aml-quickstarts-137969/workspaces/quick-starts-ws-137969\" target=\"_blank\" rel=\"noopener\">Link to Azure Machine Learning studio</a></td><td><a href=\"https://docs.microsoft.com/en-us/python/api/azureml-core/azureml.core.experiment.Experiment?view=azure-ml-py\" target=\"_blank\" rel=\"noopener\">Link to Documentation</a></td></tr></table>"
          },
          "metadata": {}
        }
      ],
      "execution_count": 2,
      "metadata": {
        "gather": {
          "logged": 1612725741494
        },
        "jupyter": {
          "outputs_hidden": false,
          "source_hidden": false
        },
        "nteract": {
          "transient": {
            "deleting": false
          }
        }
      }
    },
    {
      "cell_type": "code",
      "source": [
        "from azureml.core.compute import AmlCompute\r\n",
        "from azureml.core.compute import ComputeTarget\r\n",
        "from azureml.core.compute_target import ComputeTargetException\r\n",
        "\r\n",
        "# NOTE: update the cluster name to match the existing cluster\r\n",
        "# Choose a name for your CPU cluster\r\n",
        "amlcompute_cluster_name = \"cc-sta-ds12-2\"\r\n",
        "\r\n",
        "# Verify that cluster does not exist already\r\n",
        "try:\r\n",
        "    compute_target = ComputeTarget(workspace=ws, name=amlcompute_cluster_name)\r\n",
        "    print('Found existing cluster, use it.')\r\n",
        "except ComputeTargetException:\r\n",
        "    compute_config = AmlCompute.provisioning_configuration(vm_size='STANDARD_DS12_V2',# for GPU, use \"STANDARD_NC6\"\r\n",
        "                                                           #vm_priority = 'lowpriority', # optional\r\n",
        "                                                           min_nodes=1,\r\n",
        "                                                           max_nodes=6)\r\n",
        "    compute_target = ComputeTarget.create(ws, amlcompute_cluster_name, compute_config)\r\n",
        "\r\n",
        "compute_target.wait_for_completion(show_output=True, min_node_count = 1, timeout_in_minutes = 10)\r\n",
        "# For a more detailed view of current AmlCompute status, use get_status()."
      ],
      "outputs": [
        {
          "output_type": "stream",
          "name": "stdout",
          "text": [
            "Creating\n",
            "Succeeded....................\n",
            "AmlCompute wait for completion finished\n",
            "\n",
            "Minimum number of nodes requested have been provisioned\n"
          ]
        }
      ],
      "execution_count": 3,
      "metadata": {
        "collapsed": true,
        "jupyter": {
          "source_hidden": false,
          "outputs_hidden": false
        },
        "nteract": {
          "transient": {
            "deleting": false
          }
        },
        "gather": {
          "logged": 1612725866064
        }
      }
    },
    {
      "cell_type": "markdown",
      "source": [
        "**Dataset**\r\n",
        "\r\n",
        "**Internet Firewall Data Data Set**\r\n",
        "\r\n",
        "**Data Set Information:**\r\n",
        "There are 12 features in total. Action feature is used as a class. There are 4 classes in total. These are allow, action, drop and reset-both classes.\r\n",
        "\r\n",
        "\r\n",
        "**Attribute Information:**\r\n",
        "Source Port,Destination Port,NAT Source Port,NAT Destination Port,Action,Bytes,Bytes Sent,Bytes Received,Packets,Elapsed Time (sec),pkts_sent,pkts_received\r\n",
        "\r\n",
        "Link: https://archive.ics.uci.edu/ml/datasets/Internet+Firewall+Data"
      ],
      "metadata": {
        "nteract": {
          "transient": {
            "deleting": false
          }
        }
      }
    },
    {
      "cell_type": "code",
      "source": [
        "# NOTE: update the key to match the dataset name\r\n",
        "found = False\r\n",
        "key = \"internet-firewall-dataset\"\r\n",
        "description_text = \"Internet Firewall Data Data Set\"\r\n",
        "\r\n",
        "if key in ws.datasets.keys(): \r\n",
        "        found = True\r\n",
        "        dataset = ws.datasets[key] \r\n",
        "\r\n",
        "if not found:\r\n",
        "        # Create AML Dataset and register it into Workspace\r\n",
        "        example_data = 'https://archive.ics.uci.edu/ml/machine-learning-databases/00542/log2.csv'\r\n",
        "        dataset = Dataset.Tabular.from_delimited_files(example_data)        \r\n",
        "        #Register Dataset in Workspace\r\n",
        "        dataset = dataset.register(workspace=ws,\r\n",
        "                                   name=key,\r\n",
        "                                   description=description_text)\r\n",
        "\r\n",
        "\r\n",
        "df = dataset.to_pandas_dataframe()\r\n",
        "df.head()"
      ],
      "outputs": [
        {
          "output_type": "execute_result",
          "execution_count": 20,
          "data": {
            "text/plain": "   Source Port  Destination Port  NAT Source Port  NAT Destination Port  \\\n0        57222                53            54587                    53   \n1        56258              3389            56258                  3389   \n2         6881             50321            43265                 50321   \n3        50553              3389            50553                  3389   \n4        50002               443            45848                   443   \n\n  Action  Bytes  Bytes Sent  Bytes Received  Packets  Elapsed Time (sec)  \\\n0  allow    177          94              83        2                  30   \n1  allow   4768        1600            3168       19                  17   \n2  allow    238         118             120        2                1199   \n3  allow   3327        1438            1889       15                  17   \n4  allow  25358        6778           18580       31                  16   \n\n   pkts_sent  pkts_received  \n0          1              1  \n1         10              9  \n2          1              1  \n3          8              7  \n4         13             18  ",
            "text/html": "<div>\n<style scoped>\n    .dataframe tbody tr th:only-of-type {\n        vertical-align: middle;\n    }\n\n    .dataframe tbody tr th {\n        vertical-align: top;\n    }\n\n    .dataframe thead th {\n        text-align: right;\n    }\n</style>\n<table border=\"1\" class=\"dataframe\">\n  <thead>\n    <tr style=\"text-align: right;\">\n      <th></th>\n      <th>Source Port</th>\n      <th>Destination Port</th>\n      <th>NAT Source Port</th>\n      <th>NAT Destination Port</th>\n      <th>Action</th>\n      <th>Bytes</th>\n      <th>Bytes Sent</th>\n      <th>Bytes Received</th>\n      <th>Packets</th>\n      <th>Elapsed Time (sec)</th>\n      <th>pkts_sent</th>\n      <th>pkts_received</th>\n    </tr>\n  </thead>\n  <tbody>\n    <tr>\n      <th>0</th>\n      <td>57222</td>\n      <td>53</td>\n      <td>54587</td>\n      <td>53</td>\n      <td>allow</td>\n      <td>177</td>\n      <td>94</td>\n      <td>83</td>\n      <td>2</td>\n      <td>30</td>\n      <td>1</td>\n      <td>1</td>\n    </tr>\n    <tr>\n      <th>1</th>\n      <td>56258</td>\n      <td>3389</td>\n      <td>56258</td>\n      <td>3389</td>\n      <td>allow</td>\n      <td>4768</td>\n      <td>1600</td>\n      <td>3168</td>\n      <td>19</td>\n      <td>17</td>\n      <td>10</td>\n      <td>9</td>\n    </tr>\n    <tr>\n      <th>2</th>\n      <td>6881</td>\n      <td>50321</td>\n      <td>43265</td>\n      <td>50321</td>\n      <td>allow</td>\n      <td>238</td>\n      <td>118</td>\n      <td>120</td>\n      <td>2</td>\n      <td>1199</td>\n      <td>1</td>\n      <td>1</td>\n    </tr>\n    <tr>\n      <th>3</th>\n      <td>50553</td>\n      <td>3389</td>\n      <td>50553</td>\n      <td>3389</td>\n      <td>allow</td>\n      <td>3327</td>\n      <td>1438</td>\n      <td>1889</td>\n      <td>15</td>\n      <td>17</td>\n      <td>8</td>\n      <td>7</td>\n    </tr>\n    <tr>\n      <th>4</th>\n      <td>50002</td>\n      <td>443</td>\n      <td>45848</td>\n      <td>443</td>\n      <td>allow</td>\n      <td>25358</td>\n      <td>6778</td>\n      <td>18580</td>\n      <td>31</td>\n      <td>16</td>\n      <td>13</td>\n      <td>18</td>\n    </tr>\n  </tbody>\n</table>\n</div>"
          },
          "metadata": {}
        }
      ],
      "execution_count": 20,
      "metadata": {
        "collapsed": true,
        "jupyter": {
          "source_hidden": false,
          "outputs_hidden": false
        },
        "nteract": {
          "transient": {
            "deleting": false
          }
        },
        "gather": {
          "logged": 1612728533960
        }
      }
    },
    {
      "cell_type": "code",
      "source": [
        "df.describe()"
      ],
      "outputs": [
        {
          "output_type": "execute_result",
          "execution_count": 5,
          "data": {
            "text/plain": "        Source Port  Destination Port  NAT Source Port  NAT Destination Port  \\\ncount  65532.000000      65532.000000     65532.000000          65532.000000   \nmean   49391.969343      10577.385812     19282.972761           2671.049930   \nstd    15255.712537      18466.027039     21970.689669           9739.162278   \nmin        0.000000          0.000000         0.000000              0.000000   \n25%    49183.000000         80.000000         0.000000              0.000000   \n50%    53776.500000        445.000000      8820.500000             53.000000   \n75%    58638.000000      15000.000000     38366.250000            443.000000   \nmax    65534.000000      65535.000000     65535.000000          65535.000000   \n\n              Bytes    Bytes Sent  Bytes Received       Packets  \\\ncount  6.553200e+04  6.553200e+04    6.553200e+04  6.553200e+04   \nmean   9.712395e+04  2.238580e+04    7.473815e+04  1.028660e+02   \nstd    5.618439e+06  3.828139e+06    2.463208e+06  5.133002e+03   \nmin    6.000000e+01  6.000000e+01    0.000000e+00  1.000000e+00   \n25%    6.600000e+01  6.600000e+01    0.000000e+00  1.000000e+00   \n50%    1.680000e+02  9.000000e+01    7.900000e+01  2.000000e+00   \n75%    7.522500e+02  2.100000e+02    4.490000e+02  6.000000e+00   \nmax    1.269359e+09  9.484772e+08    3.208818e+08  1.036116e+06   \n\n       Elapsed Time (sec)      pkts_sent  pkts_received  \ncount        65532.000000   65532.000000   65532.000000  \nmean            65.833577      41.399530      61.466505  \nstd            302.461762    3218.871288    2223.332271  \nmin              0.000000       1.000000       0.000000  \n25%              0.000000       1.000000       0.000000  \n50%             15.000000       1.000000       1.000000  \n75%             30.000000       3.000000       2.000000  \nmax          10824.000000  747520.000000  327208.000000  ",
            "text/html": "<div>\n<style scoped>\n    .dataframe tbody tr th:only-of-type {\n        vertical-align: middle;\n    }\n\n    .dataframe tbody tr th {\n        vertical-align: top;\n    }\n\n    .dataframe thead th {\n        text-align: right;\n    }\n</style>\n<table border=\"1\" class=\"dataframe\">\n  <thead>\n    <tr style=\"text-align: right;\">\n      <th></th>\n      <th>Source Port</th>\n      <th>Destination Port</th>\n      <th>NAT Source Port</th>\n      <th>NAT Destination Port</th>\n      <th>Bytes</th>\n      <th>Bytes Sent</th>\n      <th>Bytes Received</th>\n      <th>Packets</th>\n      <th>Elapsed Time (sec)</th>\n      <th>pkts_sent</th>\n      <th>pkts_received</th>\n    </tr>\n  </thead>\n  <tbody>\n    <tr>\n      <th>count</th>\n      <td>65532.000000</td>\n      <td>65532.000000</td>\n      <td>65532.000000</td>\n      <td>65532.000000</td>\n      <td>6.553200e+04</td>\n      <td>6.553200e+04</td>\n      <td>6.553200e+04</td>\n      <td>6.553200e+04</td>\n      <td>65532.000000</td>\n      <td>65532.000000</td>\n      <td>65532.000000</td>\n    </tr>\n    <tr>\n      <th>mean</th>\n      <td>49391.969343</td>\n      <td>10577.385812</td>\n      <td>19282.972761</td>\n      <td>2671.049930</td>\n      <td>9.712395e+04</td>\n      <td>2.238580e+04</td>\n      <td>7.473815e+04</td>\n      <td>1.028660e+02</td>\n      <td>65.833577</td>\n      <td>41.399530</td>\n      <td>61.466505</td>\n    </tr>\n    <tr>\n      <th>std</th>\n      <td>15255.712537</td>\n      <td>18466.027039</td>\n      <td>21970.689669</td>\n      <td>9739.162278</td>\n      <td>5.618439e+06</td>\n      <td>3.828139e+06</td>\n      <td>2.463208e+06</td>\n      <td>5.133002e+03</td>\n      <td>302.461762</td>\n      <td>3218.871288</td>\n      <td>2223.332271</td>\n    </tr>\n    <tr>\n      <th>min</th>\n      <td>0.000000</td>\n      <td>0.000000</td>\n      <td>0.000000</td>\n      <td>0.000000</td>\n      <td>6.000000e+01</td>\n      <td>6.000000e+01</td>\n      <td>0.000000e+00</td>\n      <td>1.000000e+00</td>\n      <td>0.000000</td>\n      <td>1.000000</td>\n      <td>0.000000</td>\n    </tr>\n    <tr>\n      <th>25%</th>\n      <td>49183.000000</td>\n      <td>80.000000</td>\n      <td>0.000000</td>\n      <td>0.000000</td>\n      <td>6.600000e+01</td>\n      <td>6.600000e+01</td>\n      <td>0.000000e+00</td>\n      <td>1.000000e+00</td>\n      <td>0.000000</td>\n      <td>1.000000</td>\n      <td>0.000000</td>\n    </tr>\n    <tr>\n      <th>50%</th>\n      <td>53776.500000</td>\n      <td>445.000000</td>\n      <td>8820.500000</td>\n      <td>53.000000</td>\n      <td>1.680000e+02</td>\n      <td>9.000000e+01</td>\n      <td>7.900000e+01</td>\n      <td>2.000000e+00</td>\n      <td>15.000000</td>\n      <td>1.000000</td>\n      <td>1.000000</td>\n    </tr>\n    <tr>\n      <th>75%</th>\n      <td>58638.000000</td>\n      <td>15000.000000</td>\n      <td>38366.250000</td>\n      <td>443.000000</td>\n      <td>7.522500e+02</td>\n      <td>2.100000e+02</td>\n      <td>4.490000e+02</td>\n      <td>6.000000e+00</td>\n      <td>30.000000</td>\n      <td>3.000000</td>\n      <td>2.000000</td>\n    </tr>\n    <tr>\n      <th>max</th>\n      <td>65534.000000</td>\n      <td>65535.000000</td>\n      <td>65535.000000</td>\n      <td>65535.000000</td>\n      <td>1.269359e+09</td>\n      <td>9.484772e+08</td>\n      <td>3.208818e+08</td>\n      <td>1.036116e+06</td>\n      <td>10824.000000</td>\n      <td>747520.000000</td>\n      <td>327208.000000</td>\n    </tr>\n  </tbody>\n</table>\n</div>"
          },
          "metadata": {}
        }
      ],
      "execution_count": 5,
      "metadata": {
        "collapsed": true,
        "jupyter": {
          "source_hidden": false,
          "outputs_hidden": false
        },
        "nteract": {
          "transient": {
            "deleting": false
          }
        },
        "gather": {
          "logged": 1612725875014
        }
      }
    },
    {
      "cell_type": "code",
      "source": [
        "df.groupby(['Action']).count()"
      ],
      "outputs": [
        {
          "output_type": "execute_result",
          "execution_count": 6,
          "data": {
            "text/plain": "            Source Port  Destination Port  NAT Source Port  \\\nAction                                                       \nallow             37640             37640            37640   \ndeny              14987             14987            14987   \ndrop              12851             12851            12851   \nreset-both           54                54               54   \n\n            NAT Destination Port  Bytes  Bytes Sent  Bytes Received  Packets  \\\nAction                                                                         \nallow                      37640  37640       37640           37640    37640   \ndeny                       14987  14987       14987           14987    14987   \ndrop                       12851  12851       12851           12851    12851   \nreset-both                    54     54          54              54       54   \n\n            Elapsed Time (sec)  pkts_sent  pkts_received  \nAction                                                    \nallow                    37640      37640          37640  \ndeny                     14987      14987          14987  \ndrop                     12851      12851          12851  \nreset-both                  54         54             54  ",
            "text/html": "<div>\n<style scoped>\n    .dataframe tbody tr th:only-of-type {\n        vertical-align: middle;\n    }\n\n    .dataframe tbody tr th {\n        vertical-align: top;\n    }\n\n    .dataframe thead th {\n        text-align: right;\n    }\n</style>\n<table border=\"1\" class=\"dataframe\">\n  <thead>\n    <tr style=\"text-align: right;\">\n      <th></th>\n      <th>Source Port</th>\n      <th>Destination Port</th>\n      <th>NAT Source Port</th>\n      <th>NAT Destination Port</th>\n      <th>Bytes</th>\n      <th>Bytes Sent</th>\n      <th>Bytes Received</th>\n      <th>Packets</th>\n      <th>Elapsed Time (sec)</th>\n      <th>pkts_sent</th>\n      <th>pkts_received</th>\n    </tr>\n    <tr>\n      <th>Action</th>\n      <th></th>\n      <th></th>\n      <th></th>\n      <th></th>\n      <th></th>\n      <th></th>\n      <th></th>\n      <th></th>\n      <th></th>\n      <th></th>\n      <th></th>\n    </tr>\n  </thead>\n  <tbody>\n    <tr>\n      <th>allow</th>\n      <td>37640</td>\n      <td>37640</td>\n      <td>37640</td>\n      <td>37640</td>\n      <td>37640</td>\n      <td>37640</td>\n      <td>37640</td>\n      <td>37640</td>\n      <td>37640</td>\n      <td>37640</td>\n      <td>37640</td>\n    </tr>\n    <tr>\n      <th>deny</th>\n      <td>14987</td>\n      <td>14987</td>\n      <td>14987</td>\n      <td>14987</td>\n      <td>14987</td>\n      <td>14987</td>\n      <td>14987</td>\n      <td>14987</td>\n      <td>14987</td>\n      <td>14987</td>\n      <td>14987</td>\n    </tr>\n    <tr>\n      <th>drop</th>\n      <td>12851</td>\n      <td>12851</td>\n      <td>12851</td>\n      <td>12851</td>\n      <td>12851</td>\n      <td>12851</td>\n      <td>12851</td>\n      <td>12851</td>\n      <td>12851</td>\n      <td>12851</td>\n      <td>12851</td>\n    </tr>\n    <tr>\n      <th>reset-both</th>\n      <td>54</td>\n      <td>54</td>\n      <td>54</td>\n      <td>54</td>\n      <td>54</td>\n      <td>54</td>\n      <td>54</td>\n      <td>54</td>\n      <td>54</td>\n      <td>54</td>\n      <td>54</td>\n    </tr>\n  </tbody>\n</table>\n</div>"
          },
          "metadata": {}
        }
      ],
      "execution_count": 6,
      "metadata": {
        "collapsed": true,
        "jupyter": {
          "source_hidden": false,
          "outputs_hidden": false
        },
        "nteract": {
          "transient": {
            "deleting": false
          }
        },
        "gather": {
          "logged": 1612725875090
        }
      }
    },
    {
      "cell_type": "markdown",
      "source": [
        "## AutoML Configuration\n",
        "\n",
        "TODO: Explain why you chose the automl settings and cofiguration you used below."
      ],
      "metadata": {}
    },
    {
      "cell_type": "code",
      "source": [
        "# TODO: Put your automl settings here\n",
        "automl_settings = {\n",
        "    \"experiment_timeout_minutes\": 60,\n",
        "    \"max_concurrent_iterations\": 5,\n",
        "    \"primary_metric\" : 'accuracy',\n",
        "    'model_explainability': True\n",
        "}\n",
        "\n",
        "# TODO: Put your automl config here\n",
        "automl_config = AutoMLConfig(compute_target=compute_target,\n",
        "                             task = \"classification\",\n",
        "                             training_data=dataset,\n",
        "                             label_column_name=\"Action\",   \n",
        "                             path = project_folder,\n",
        "                             enable_early_stopping= True,\n",
        "                             featurization= 'auto',\n",
        "                             debug_log = \"automl_errors.log\",\n",
        "                             **automl_settings\n",
        "                            )"
      ],
      "outputs": [],
      "execution_count": 7,
      "metadata": {
        "gather": {
          "logged": 1612725875171
        },
        "jupyter": {
          "outputs_hidden": false,
          "source_hidden": false
        },
        "nteract": {
          "transient": {
            "deleting": false
          }
        }
      }
    },
    {
      "cell_type": "code",
      "source": [
        "# TODO: Submit your experiment\n",
        "automl_run = experiment.submit(automl_config)"
      ],
      "outputs": [
        {
          "output_type": "stream",
          "name": "stdout",
          "text": [
            "Running on remote.\n"
          ]
        }
      ],
      "execution_count": 8,
      "metadata": {
        "gather": {
          "logged": 1612725881530
        },
        "jupyter": {
          "outputs_hidden": false,
          "source_hidden": false
        },
        "nteract": {
          "transient": {
            "deleting": false
          }
        }
      }
    },
    {
      "cell_type": "markdown",
      "source": [
        "## Run Details\n",
        "\n",
        "OPTIONAL: Write about the different models trained and their performance. Why do you think some models did better than others?\n",
        "\n",
        "TODO: In the cell below, use the `RunDetails` widget to show the different experiments."
      ],
      "metadata": {}
    },
    {
      "cell_type": "code",
      "source": [
        "from azureml.widgets import RunDetails\r\n",
        "\r\n",
        "RunDetails(automl_run).show()\r\n",
        "automl_run.wait_for_completion(show_output = True)\r\n",
        "assert(automl_run.get_status() == \"Completed\")"
      ],
      "outputs": [
        {
          "output_type": "display_data",
          "data": {
            "text/plain": "_AutoMLWidget(widget_settings={'childWidgetDisplay': 'popup', 'send_telemetry': False, 'log_level': 'INFO', 's…",
            "application/vnd.jupyter.widget-view+json": {
              "version_major": 2,
              "version_minor": 0,
              "model_id": "2baf8659eb4c4536bff359510dfcea5f"
            }
          },
          "metadata": {}
        },
        {
          "output_type": "display_data",
          "data": {
            "application/aml.mini.widget.v1": "{\"status\": \"Completed\", \"workbench_run_details_uri\": \"https://ml.azure.com/experiments/internet-firewall-automl/runs/AutoML_e9bb52d1-c96a-405a-8b97-1e34d1e5d5dc?wsid=/subscriptions/3e42d11f-d64d-4173-af9b-12ecaa1030b3/resourcegroups/aml-quickstarts-137969/workspaces/quick-starts-ws-137969\", \"run_id\": \"AutoML_e9bb52d1-c96a-405a-8b97-1e34d1e5d5dc\", \"run_properties\": {\"run_id\": \"AutoML_e9bb52d1-c96a-405a-8b97-1e34d1e5d5dc\", \"created_utc\": \"2021-02-07T19:24:39.983079Z\", \"properties\": {\"num_iterations\": \"1000\", \"training_type\": \"TrainFull\", \"acquisition_function\": \"EI\", \"primary_metric\": \"accuracy\", \"train_split\": \"0\", \"acquisition_parameter\": \"0\", \"num_cross_validation\": null, \"target\": \"cc-sta-ds12-2\", \"AMLSettingsJsonString\": \"{\\\"path\\\":null,\\\"name\\\":\\\"internet-firewall-automl\\\",\\\"subscription_id\\\":\\\"3e42d11f-d64d-4173-af9b-12ecaa1030b3\\\",\\\"resource_group\\\":\\\"aml-quickstarts-137969\\\",\\\"workspace_name\\\":\\\"quick-starts-ws-137969\\\",\\\"region\\\":\\\"southcentralus\\\",\\\"compute_target\\\":\\\"cc-sta-ds12-2\\\",\\\"spark_service\\\":null,\\\"azure_service\\\":\\\"remote\\\",\\\"many_models\\\":false,\\\"pipeline_fetch_max_batch_size\\\":1,\\\"iterations\\\":1000,\\\"primary_metric\\\":\\\"accuracy\\\",\\\"task_type\\\":\\\"classification\\\",\\\"data_script\\\":null,\\\"validation_size\\\":0.0,\\\"n_cross_validations\\\":null,\\\"y_min\\\":null,\\\"y_max\\\":null,\\\"num_classes\\\":null,\\\"featurization\\\":\\\"auto\\\",\\\"_ignore_package_version_incompatibilities\\\":false,\\\"is_timeseries\\\":false,\\\"max_cores_per_iteration\\\":1,\\\"max_concurrent_iterations\\\":5,\\\"iteration_timeout_minutes\\\":null,\\\"mem_in_mb\\\":null,\\\"enforce_time_on_windows\\\":false,\\\"experiment_timeout_minutes\\\":60,\\\"experiment_exit_score\\\":null,\\\"whitelist_models\\\":null,\\\"blacklist_algos\\\":[\\\"TensorFlowLinearClassifier\\\",\\\"TensorFlowDNN\\\"],\\\"supported_models\\\":[\\\"DecisionTree\\\",\\\"BernoulliNaiveBayes\\\",\\\"TensorFlowDNN\\\",\\\"LogisticRegression\\\",\\\"GradientBoosting\\\",\\\"RandomForest\\\",\\\"TensorFlowLinearClassifier\\\",\\\"LightGBM\\\",\\\"MultinomialNaiveBayes\\\",\\\"XGBoostClassifier\\\",\\\"ExtremeRandomTrees\\\",\\\"SVM\\\",\\\"LinearSVM\\\",\\\"AveragedPerceptronClassifier\\\",\\\"KNN\\\",\\\"SGD\\\"],\\\"auto_blacklist\\\":true,\\\"blacklist_samples_reached\\\":false,\\\"exclude_nan_labels\\\":true,\\\"verbosity\\\":20,\\\"_debug_log\\\":\\\"azureml_automl.log\\\",\\\"show_warnings\\\":false,\\\"model_explainability\\\":true,\\\"service_url\\\":null,\\\"sdk_url\\\":null,\\\"sdk_packages\\\":null,\\\"enable_onnx_compatible_models\\\":false,\\\"enable_split_onnx_featurizer_estimator_models\\\":false,\\\"vm_type\\\":\\\"STANDARD_DS12_V2\\\",\\\"telemetry_verbosity\\\":20,\\\"send_telemetry\\\":true,\\\"enable_dnn\\\":false,\\\"scenario\\\":\\\"SDK-1.13.0\\\",\\\"environment_label\\\":null,\\\"force_text_dnn\\\":false,\\\"enable_feature_sweeping\\\":true,\\\"enable_early_stopping\\\":true,\\\"early_stopping_n_iters\\\":10,\\\"metrics\\\":null,\\\"enable_ensembling\\\":true,\\\"enable_stack_ensembling\\\":true,\\\"ensemble_iterations\\\":15,\\\"enable_tf\\\":false,\\\"enable_subsampling\\\":null,\\\"subsample_seed\\\":null,\\\"enable_nimbusml\\\":false,\\\"enable_streaming\\\":false,\\\"force_streaming\\\":false,\\\"track_child_runs\\\":true,\\\"allowed_private_models\\\":[],\\\"label_column_name\\\":\\\"Action\\\",\\\"weight_column_name\\\":null,\\\"cv_split_column_names\\\":null,\\\"enable_local_managed\\\":false,\\\"_local_managed_run_id\\\":null,\\\"cost_mode\\\":1,\\\"lag_length\\\":0,\\\"metric_operation\\\":\\\"maximize\\\",\\\"preprocess\\\":true}\", \"DataPrepJsonString\": \"{\\\\\\\"training_data\\\\\\\": \\\\\\\"{\\\\\\\\\\\\\\\"blocks\\\\\\\\\\\\\\\": [{\\\\\\\\\\\\\\\"id\\\\\\\\\\\\\\\": \\\\\\\\\\\\\\\"590ffc1a-b0d2-4240-9345-d4296496496f\\\\\\\\\\\\\\\", \\\\\\\\\\\\\\\"type\\\\\\\\\\\\\\\": \\\\\\\\\\\\\\\"Microsoft.DPrep.GetFilesBlock\\\\\\\\\\\\\\\", \\\\\\\\\\\\\\\"arguments\\\\\\\\\\\\\\\": {\\\\\\\\\\\\\\\"isArchive\\\\\\\\\\\\\\\": false, \\\\\\\\\\\\\\\"path\\\\\\\\\\\\\\\": {\\\\\\\\\\\\\\\"target\\\\\\\\\\\\\\\": 4, \\\\\\\\\\\\\\\"resourceDetails\\\\\\\\\\\\\\\": [{\\\\\\\\\\\\\\\"path\\\\\\\\\\\\\\\": \\\\\\\\\\\\\\\"https://archive.ics.uci.edu/ml/machine-learning-databases/00542/log2.csv\\\\\\\\\\\\\\\"}]}}, \\\\\\\\\\\\\\\"localData\\\\\\\\\\\\\\\": {}, \\\\\\\\\\\\\\\"isEnabled\\\\\\\\\\\\\\\": true, \\\\\\\\\\\\\\\"name\\\\\\\\\\\\\\\": null, \\\\\\\\\\\\\\\"annotation\\\\\\\\\\\\\\\": null}, {\\\\\\\\\\\\\\\"id\\\\\\\\\\\\\\\": \\\\\\\\\\\\\\\"2554e7d1-2e09-42da-afb9-e374a8b3cda0\\\\\\\\\\\\\\\", \\\\\\\\\\\\\\\"type\\\\\\\\\\\\\\\": \\\\\\\\\\\\\\\"Microsoft.DPrep.ParseDelimitedBlock\\\\\\\\\\\\\\\", \\\\\\\\\\\\\\\"arguments\\\\\\\\\\\\\\\": {\\\\\\\\\\\\\\\"columnHeadersMode\\\\\\\\\\\\\\\": 3, \\\\\\\\\\\\\\\"fileEncoding\\\\\\\\\\\\\\\": 0, \\\\\\\\\\\\\\\"handleQuotedLineBreaks\\\\\\\\\\\\\\\": false, \\\\\\\\\\\\\\\"preview\\\\\\\\\\\\\\\": false, \\\\\\\\\\\\\\\"separator\\\\\\\\\\\\\\\": \\\\\\\\\\\\\\\",\\\\\\\\\\\\\\\", \\\\\\\\\\\\\\\"skipRows\\\\\\\\\\\\\\\": 0, \\\\\\\\\\\\\\\"skipRowsMode\\\\\\\\\\\\\\\": 0}, \\\\\\\\\\\\\\\"localData\\\\\\\\\\\\\\\": {}, \\\\\\\\\\\\\\\"isEnabled\\\\\\\\\\\\\\\": true, \\\\\\\\\\\\\\\"name\\\\\\\\\\\\\\\": null, \\\\\\\\\\\\\\\"annotation\\\\\\\\\\\\\\\": null}, {\\\\\\\\\\\\\\\"id\\\\\\\\\\\\\\\": \\\\\\\\\\\\\\\"1f5eff59-e333-44ec-9854-b382a0866d2f\\\\\\\\\\\\\\\", \\\\\\\\\\\\\\\"type\\\\\\\\\\\\\\\": \\\\\\\\\\\\\\\"Microsoft.DPrep.DropColumnsBlock\\\\\\\\\\\\\\\", \\\\\\\\\\\\\\\"arguments\\\\\\\\\\\\\\\": {\\\\\\\\\\\\\\\"columns\\\\\\\\\\\\\\\": {\\\\\\\\\\\\\\\"type\\\\\\\\\\\\\\\": 0, \\\\\\\\\\\\\\\"details\\\\\\\\\\\\\\\": {\\\\\\\\\\\\\\\"selectedColumns\\\\\\\\\\\\\\\": [\\\\\\\\\\\\\\\"Path\\\\\\\\\\\\\\\"]}}}, \\\\\\\\\\\\\\\"localData\\\\\\\\\\\\\\\": {}, \\\\\\\\\\\\\\\"isEnabled\\\\\\\\\\\\\\\": true, \\\\\\\\\\\\\\\"name\\\\\\\\\\\\\\\": null, \\\\\\\\\\\\\\\"annotation\\\\\\\\\\\\\\\": null}, {\\\\\\\\\\\\\\\"id\\\\\\\\\\\\\\\": \\\\\\\\\\\\\\\"24b76b20-1bbc-45bf-8231-3258048c9010\\\\\\\\\\\\\\\", \\\\\\\\\\\\\\\"type\\\\\\\\\\\\\\\": \\\\\\\\\\\\\\\"Microsoft.DPrep.SetColumnTypesBlock\\\\\\\\\\\\\\\", \\\\\\\\\\\\\\\"arguments\\\\\\\\\\\\\\\": {\\\\\\\\\\\\\\\"columnConversion\\\\\\\\\\\\\\\": [{\\\\\\\\\\\\\\\"column\\\\\\\\\\\\\\\": {\\\\\\\\\\\\\\\"type\\\\\\\\\\\\\\\": 2, \\\\\\\\\\\\\\\"details\\\\\\\\\\\\\\\": {\\\\\\\\\\\\\\\"selectedColumn\\\\\\\\\\\\\\\": \\\\\\\\\\\\\\\"Source Port\\\\\\\\\\\\\\\"}}, \\\\\\\\\\\\\\\"typeProperty\\\\\\\\\\\\\\\": 2}, {\\\\\\\\\\\\\\\"column\\\\\\\\\\\\\\\": {\\\\\\\\\\\\\\\"type\\\\\\\\\\\\\\\": 2, \\\\\\\\\\\\\\\"details\\\\\\\\\\\\\\\": {\\\\\\\\\\\\\\\"selectedColumn\\\\\\\\\\\\\\\": \\\\\\\\\\\\\\\"Destination Port\\\\\\\\\\\\\\\"}}, \\\\\\\\\\\\\\\"typeProperty\\\\\\\\\\\\\\\": 2}, {\\\\\\\\\\\\\\\"column\\\\\\\\\\\\\\\": {\\\\\\\\\\\\\\\"type\\\\\\\\\\\\\\\": 2, \\\\\\\\\\\\\\\"details\\\\\\\\\\\\\\\": {\\\\\\\\\\\\\\\"selectedColumn\\\\\\\\\\\\\\\": \\\\\\\\\\\\\\\"NAT Source Port\\\\\\\\\\\\\\\"}}, \\\\\\\\\\\\\\\"typeProperty\\\\\\\\\\\\\\\": 2}, {\\\\\\\\\\\\\\\"column\\\\\\\\\\\\\\\": {\\\\\\\\\\\\\\\"type\\\\\\\\\\\\\\\": 2, \\\\\\\\\\\\\\\"details\\\\\\\\\\\\\\\": {\\\\\\\\\\\\\\\"selectedColumn\\\\\\\\\\\\\\\": \\\\\\\\\\\\\\\"NAT Destination Port\\\\\\\\\\\\\\\"}}, \\\\\\\\\\\\\\\"typeProperty\\\\\\\\\\\\\\\": 2}, {\\\\\\\\\\\\\\\"column\\\\\\\\\\\\\\\": {\\\\\\\\\\\\\\\"type\\\\\\\\\\\\\\\": 2, \\\\\\\\\\\\\\\"details\\\\\\\\\\\\\\\": {\\\\\\\\\\\\\\\"selectedColumn\\\\\\\\\\\\\\\": \\\\\\\\\\\\\\\"Action\\\\\\\\\\\\\\\"}}, \\\\\\\\\\\\\\\"typeProperty\\\\\\\\\\\\\\\": 0}, {\\\\\\\\\\\\\\\"column\\\\\\\\\\\\\\\": {\\\\\\\\\\\\\\\"type\\\\\\\\\\\\\\\": 2, \\\\\\\\\\\\\\\"details\\\\\\\\\\\\\\\": {\\\\\\\\\\\\\\\"selectedColumn\\\\\\\\\\\\\\\": \\\\\\\\\\\\\\\"Bytes\\\\\\\\\\\\\\\"}}, \\\\\\\\\\\\\\\"typeProperty\\\\\\\\\\\\\\\": 2}, {\\\\\\\\\\\\\\\"column\\\\\\\\\\\\\\\": {\\\\\\\\\\\\\\\"type\\\\\\\\\\\\\\\": 2, \\\\\\\\\\\\\\\"details\\\\\\\\\\\\\\\": {\\\\\\\\\\\\\\\"selectedColumn\\\\\\\\\\\\\\\": \\\\\\\\\\\\\\\"Bytes Sent\\\\\\\\\\\\\\\"}}, \\\\\\\\\\\\\\\"typeProperty\\\\\\\\\\\\\\\": 2}, {\\\\\\\\\\\\\\\"column\\\\\\\\\\\\\\\": {\\\\\\\\\\\\\\\"type\\\\\\\\\\\\\\\": 2, \\\\\\\\\\\\\\\"details\\\\\\\\\\\\\\\": {\\\\\\\\\\\\\\\"selectedColumn\\\\\\\\\\\\\\\": \\\\\\\\\\\\\\\"Bytes Received\\\\\\\\\\\\\\\"}}, \\\\\\\\\\\\\\\"typeProperty\\\\\\\\\\\\\\\": 2}, {\\\\\\\\\\\\\\\"column\\\\\\\\\\\\\\\": {\\\\\\\\\\\\\\\"type\\\\\\\\\\\\\\\": 2, \\\\\\\\\\\\\\\"details\\\\\\\\\\\\\\\": {\\\\\\\\\\\\\\\"selectedColumn\\\\\\\\\\\\\\\": \\\\\\\\\\\\\\\"Packets\\\\\\\\\\\\\\\"}}, \\\\\\\\\\\\\\\"typeProperty\\\\\\\\\\\\\\\": 2}, {\\\\\\\\\\\\\\\"column\\\\\\\\\\\\\\\": {\\\\\\\\\\\\\\\"type\\\\\\\\\\\\\\\": 2, \\\\\\\\\\\\\\\"details\\\\\\\\\\\\\\\": {\\\\\\\\\\\\\\\"selectedColumn\\\\\\\\\\\\\\\": \\\\\\\\\\\\\\\"Elapsed Time (sec)\\\\\\\\\\\\\\\"}}, \\\\\\\\\\\\\\\"typeProperty\\\\\\\\\\\\\\\": 2}, {\\\\\\\\\\\\\\\"column\\\\\\\\\\\\\\\": {\\\\\\\\\\\\\\\"type\\\\\\\\\\\\\\\": 2, \\\\\\\\\\\\\\\"details\\\\\\\\\\\\\\\": {\\\\\\\\\\\\\\\"selectedColumn\\\\\\\\\\\\\\\": \\\\\\\\\\\\\\\"pkts_sent\\\\\\\\\\\\\\\"}}, \\\\\\\\\\\\\\\"typeProperty\\\\\\\\\\\\\\\": 2}, {\\\\\\\\\\\\\\\"column\\\\\\\\\\\\\\\": {\\\\\\\\\\\\\\\"type\\\\\\\\\\\\\\\": 2, \\\\\\\\\\\\\\\"details\\\\\\\\\\\\\\\": {\\\\\\\\\\\\\\\"selectedColumn\\\\\\\\\\\\\\\": \\\\\\\\\\\\\\\"pkts_received\\\\\\\\\\\\\\\"}}, \\\\\\\\\\\\\\\"typeProperty\\\\\\\\\\\\\\\": 2}]}, \\\\\\\\\\\\\\\"localData\\\\\\\\\\\\\\\": {}, \\\\\\\\\\\\\\\"isEnabled\\\\\\\\\\\\\\\": true, \\\\\\\\\\\\\\\"name\\\\\\\\\\\\\\\": null, \\\\\\\\\\\\\\\"annotation\\\\\\\\\\\\\\\": null}], \\\\\\\\\\\\\\\"inspectors\\\\\\\\\\\\\\\": [], \\\\\\\\\\\\\\\"meta\\\\\\\\\\\\\\\": {\\\\\\\\\\\\\\\"savedDatasetId\\\\\\\\\\\\\\\": \\\\\\\\\\\\\\\"7d23011f-9383-4514-89cc-71f2609e34ec\\\\\\\\\\\\\\\", \\\\\\\\\\\\\\\"datasetType\\\\\\\\\\\\\\\": \\\\\\\\\\\\\\\"tabular\\\\\\\\\\\\\\\", \\\\\\\\\\\\\\\"subscriptionId\\\\\\\\\\\\\\\": \\\\\\\\\\\\\\\"3e42d11f-d64d-4173-af9b-12ecaa1030b3\\\\\\\\\\\\\\\", \\\\\\\\\\\\\\\"workspaceId\\\\\\\\\\\\\\\": \\\\\\\\\\\\\\\"bda80f6e-c086-4c82-a70d-b1d37f6a454f\\\\\\\\\\\\\\\", \\\\\\\\\\\\\\\"workspaceLocation\\\\\\\\\\\\\\\": \\\\\\\\\\\\\\\"southcentralus\\\\\\\\\\\\\\\"}}\\\\\\\", \\\\\\\"activities\\\\\\\": 0}\", \"EnableSubsampling\": null, \"runTemplate\": \"AutoML\", \"azureml.runsource\": \"automl\", \"display_task_type\": \"classification\", \"dependencies_versions\": \"{\\\"azureml-widgets\\\": \\\"1.20.0\\\", \\\"azureml-train\\\": \\\"1.20.0\\\", \\\"azureml-train-restclients-hyperdrive\\\": \\\"1.20.0\\\", \\\"azureml-train-core\\\": \\\"1.20.0\\\", \\\"azureml-train-automl\\\": \\\"1.20.0\\\", \\\"azureml-train-automl-runtime\\\": \\\"1.20.0\\\", \\\"azureml-train-automl-client\\\": \\\"1.20.0\\\", \\\"azureml-tensorboard\\\": \\\"1.20.0\\\", \\\"azureml-telemetry\\\": \\\"1.20.0\\\", \\\"azureml-sdk\\\": \\\"1.20.0\\\", \\\"azureml-samples\\\": \\\"0+unknown\\\", \\\"azureml-pipeline\\\": \\\"1.20.0\\\", \\\"azureml-pipeline-steps\\\": \\\"1.20.0\\\", \\\"azureml-pipeline-core\\\": \\\"1.20.0\\\", \\\"azureml-opendatasets\\\": \\\"1.20.0\\\", \\\"azureml-model-management-sdk\\\": \\\"1.0.1b6.post1\\\", \\\"azureml-mlflow\\\": \\\"1.20.0.post1\\\", \\\"azureml-interpret\\\": \\\"1.20.0\\\", \\\"azureml-explain-model\\\": \\\"1.20.0\\\", \\\"azureml-defaults\\\": \\\"1.20.0\\\", \\\"azureml-dataset-runtime\\\": \\\"1.20.0\\\", \\\"azureml-dataprep\\\": \\\"2.7.3\\\", \\\"azureml-dataprep-rslex\\\": \\\"1.5.0\\\", \\\"azureml-dataprep-native\\\": \\\"27.0.0\\\", \\\"azureml-datadrift\\\": \\\"1.20.0\\\", \\\"azureml-core\\\": \\\"1.20.0\\\", \\\"azureml-contrib-services\\\": \\\"1.20.0\\\", \\\"azureml-contrib-server\\\": \\\"1.20.0\\\", \\\"azureml-contrib-reinforcementlearning\\\": \\\"1.20.0\\\", \\\"azureml-contrib-pipeline-steps\\\": \\\"1.20.0\\\", \\\"azureml-contrib-notebook\\\": \\\"1.20.0\\\", \\\"azureml-contrib-interpret\\\": \\\"1.20.0\\\", \\\"azureml-contrib-gbdt\\\": \\\"1.20.0\\\", \\\"azureml-contrib-fairness\\\": \\\"1.20.0\\\", \\\"azureml-contrib-dataset\\\": \\\"1.20.0\\\", \\\"azureml-cli-common\\\": \\\"1.20.0\\\", \\\"azureml-automl-runtime\\\": \\\"1.20.0\\\", \\\"azureml-automl-core\\\": \\\"1.20.0\\\", \\\"azureml-accel-models\\\": \\\"1.20.0\\\"}\", \"_aml_system_scenario_identification\": \"Remote.Parent\", \"ClientType\": \"SDK\", \"environment_cpu_name\": \"AzureML-AutoML\", \"environment_cpu_label\": \"prod\", \"environment_gpu_name\": \"AzureML-AutoML-GPU\", \"environment_gpu_label\": \"prod\", \"root_attribution\": \"automl\", \"attribution\": \"AutoML\", \"Orchestrator\": \"AutoML\", \"CancelUri\": \"https://southcentralus.experiments.azureml.net/jasmine/v1.0/subscriptions/3e42d11f-d64d-4173-af9b-12ecaa1030b3/resourceGroups/aml-quickstarts-137969/providers/Microsoft.MachineLearningServices/workspaces/quick-starts-ws-137969/experimentids/223e7bd8-608e-436f-bb9d-6b62b19e79a3/cancel/AutoML_e9bb52d1-c96a-405a-8b97-1e34d1e5d5dc\", \"ClientSdkVersion\": \"1.21.0\", \"snapshotId\": \"00000000-0000-0000-0000-000000000000\", \"SetupRunId\": \"AutoML_e9bb52d1-c96a-405a-8b97-1e34d1e5d5dc_setup\", \"SetupRunContainerId\": \"dcid.AutoML_e9bb52d1-c96a-405a-8b97-1e34d1e5d5dc_setup\", \"FeaturizationRunJsonPath\": \"featurizer_container.json\", \"FeaturizationRunId\": \"AutoML_e9bb52d1-c96a-405a-8b97-1e34d1e5d5dc_featurize\", \"ProblemInfoJsonString\": \"{\\\"dataset_num_categorical\\\": 0, \\\"is_sparse\\\": false, \\\"subsampling\\\": false, \\\"dataset_classes\\\": 4, \\\"dataset_features\\\": 11, \\\"dataset_samples\\\": 58978, \\\"single_frequency_class_detected\\\": false}\", \"ModelExplainRunId\": \"AutoML_e9bb52d1-c96a-405a-8b97-1e34d1e5d5dc_ModelExplain\"}, \"tags\": {\"model_explain_run\": \"best_run\", \"_aml_system_azureml.automlComponent\": \"AutoML\", \"pipeline_id\": \"\", \"score\": \"\", \"predicted_cost\": \"\", \"fit_time\": \"\", \"training_percent\": \"\", \"iteration\": \"\", \"run_preprocessor\": \"\", \"run_algorithm\": \"\", \"dynamic_whitelisting_iterations\": \"<25>;<30>;<35>;\", \"automl_best_child_run_id\": \"AutoML_e9bb52d1-c96a-405a-8b97-1e34d1e5d5dc_38\", \"model_explain_best_run_child_id\": \"AutoML_e9bb52d1-c96a-405a-8b97-1e34d1e5d5dc_38\"}, \"end_time_utc\": \"2021-02-07T19:45:27.266361Z\", \"status\": \"Completed\", \"log_files\": {}, \"log_groups\": [], \"run_duration\": \"0:20:47\"}, \"child_runs\": [{\"run_id\": \"AutoML_e9bb52d1-c96a-405a-8b97-1e34d1e5d5dc_1\", \"run_number\": 5, \"metric\": null, \"status\": \"Completed\", \"run_type\": \"azureml.scriptrun\", \"training_percent\": \"100\", \"start_time\": \"2021-02-07T19:30:19.366719Z\", \"end_time\": \"2021-02-07T19:31:32.680122Z\", \"created_time\": \"2021-02-07T19:29:06.349825Z\", \"created_time_dt\": \"2021-02-07T19:29:06.349825Z\", \"duration\": \"0:02:26\", \"iteration\": \"1\", \"goal\": \"accuracy_max\", \"run_name\": \"MaxAbsScaler, XGBoostClassifier\", \"run_properties\": \"copy=True\", \"primary_metric\": 0.99801648, \"best_metric\": 0.99801648}, {\"run_id\": \"AutoML_e9bb52d1-c96a-405a-8b97-1e34d1e5d5dc_0\", \"run_number\": 6, \"metric\": null, \"status\": \"Completed\", \"run_type\": \"azureml.scriptrun\", \"training_percent\": \"100\", \"start_time\": \"2021-02-07T19:31:44.129214Z\", \"end_time\": \"2021-02-07T19:33:53.768161Z\", \"created_time\": \"2021-02-07T19:29:06.355439Z\", \"created_time_dt\": \"2021-02-07T19:29:06.355439Z\", \"duration\": \"0:04:47\", \"iteration\": \"0\", \"goal\": \"accuracy_max\", \"run_name\": \"MaxAbsScaler, LightGBM\", \"run_properties\": \"copy=True\", \"primary_metric\": 0.99465975, \"best_metric\": 0.99465975}, {\"run_id\": \"AutoML_e9bb52d1-c96a-405a-8b97-1e34d1e5d5dc_4\", \"run_number\": 7, \"metric\": null, \"status\": \"Completed\", \"run_type\": \"azureml.scriptrun\", \"training_percent\": \"100\", \"start_time\": \"2021-02-07T19:29:17.478213Z\", \"end_time\": \"2021-02-07T19:30:14.742208Z\", \"created_time\": \"2021-02-07T19:29:06.483252Z\", \"created_time_dt\": \"2021-02-07T19:29:06.483252Z\", \"duration\": \"0:01:08\", \"iteration\": \"4\", \"goal\": \"accuracy_max\", \"run_name\": \"MinMaxScaler, RandomForest\", \"run_properties\": \"copy=True, feature_range=(0, 1\", \"primary_metric\": 0.94842844, \"best_metric\": 0.99801648}, {\"run_id\": \"AutoML_e9bb52d1-c96a-405a-8b97-1e34d1e5d5dc_2\", \"run_number\": 8, \"metric\": null, \"status\": \"Completed\", \"run_type\": \"azureml.scriptrun\", \"training_percent\": \"100\", \"start_time\": \"2021-02-07T19:31:39.885587Z\", \"end_time\": \"2021-02-07T19:32:32.018741Z\", \"created_time\": \"2021-02-07T19:29:06.50001Z\", \"created_time_dt\": \"2021-02-07T19:29:06.50001Z\", \"duration\": \"0:03:25\", \"iteration\": \"2\", \"goal\": \"accuracy_max\", \"run_name\": \"MinMaxScaler, RandomForest\", \"run_properties\": \"copy=True, feature_range=(0, 1\", \"primary_metric\": 0.99237107, \"best_metric\": 0.99801648}, {\"run_id\": \"AutoML_e9bb52d1-c96a-405a-8b97-1e34d1e5d5dc_3\", \"run_number\": 9, \"metric\": null, \"status\": \"Completed\", \"run_type\": \"azureml.scriptrun\", \"training_percent\": \"100\", \"start_time\": \"2021-02-07T19:31:41.416966Z\", \"end_time\": \"2021-02-07T19:33:48.363094Z\", \"created_time\": \"2021-02-07T19:29:06.505154Z\", \"created_time_dt\": \"2021-02-07T19:29:06.505154Z\", \"duration\": \"0:04:41\", \"iteration\": \"3\", \"goal\": \"accuracy_max\", \"run_name\": \"MinMaxScaler, RandomForest\", \"run_properties\": \"copy=True, feature_range=(0, 1\", \"primary_metric\": 0.98474214, \"best_metric\": 0.99801648}, {\"run_id\": \"AutoML_e9bb52d1-c96a-405a-8b97-1e34d1e5d5dc_5\", \"run_number\": 10, \"metric\": null, \"status\": \"Completed\", \"run_type\": \"azureml.scriptrun\", \"training_percent\": \"100\", \"start_time\": \"2021-02-07T19:31:46.150553Z\", \"end_time\": \"2021-02-07T19:33:58.118985Z\", \"created_time\": \"2021-02-07T19:30:18.839697Z\", \"created_time_dt\": \"2021-02-07T19:30:18.839697Z\", \"duration\": \"0:03:39\", \"iteration\": \"5\", \"goal\": \"accuracy_max\", \"run_name\": \"StandardScalerWrapper, XGBoostClassifier\", \"run_properties\": \"<azureml.automl.runtime.shared.model_wrappers.StandardScalerWrapper object at 0x7f1cc6551dd8\", \"primary_metric\": 0.98916692, \"best_metric\": 0.99801648}, {\"run_id\": \"AutoML_e9bb52d1-c96a-405a-8b97-1e34d1e5d5dc_6\", \"run_number\": 11, \"metric\": null, \"status\": \"Completed\", \"run_type\": \"azureml.scriptrun\", \"training_percent\": \"100\", \"start_time\": \"2021-02-07T19:32:35.750517Z\", \"end_time\": \"2021-02-07T19:34:23.848827Z\", \"created_time\": \"2021-02-07T19:31:36.444766Z\", \"created_time_dt\": \"2021-02-07T19:31:36.444766Z\", \"duration\": \"0:02:47\", \"iteration\": \"6\", \"goal\": \"accuracy_max\", \"run_name\": \"TruncatedSVDWrapper, XGBoostClassifier\", \"run_properties\": \"n_components=0.9005263157894737, random_state=None\", \"primary_metric\": 0.99755874, \"best_metric\": 0.99801648}, {\"run_id\": \"AutoML_e9bb52d1-c96a-405a-8b97-1e34d1e5d5dc_7\", \"run_number\": 12, \"metric\": null, \"status\": \"Completed\", \"run_type\": \"azureml.scriptrun\", \"training_percent\": \"100\", \"start_time\": \"2021-02-07T19:33:34.619517Z\", \"end_time\": \"2021-02-07T19:35:56.58087Z\", \"created_time\": \"2021-02-07T19:32:35.204168Z\", \"created_time_dt\": \"2021-02-07T19:32:35.204168Z\", \"duration\": \"0:03:21\", \"iteration\": \"7\", \"goal\": \"accuracy_max\", \"run_name\": \"SparseNormalizer, XGBoostClassifier\", \"run_properties\": \"<azureml.automl.runtime.shared.model_wrappers.SparseNormalizer object at 0x7f4089800cc0\", \"primary_metric\": 0.99801648, \"best_metric\": 0.99801648}, {\"run_id\": \"AutoML_e9bb52d1-c96a-405a-8b97-1e34d1e5d5dc_8\", \"run_number\": 13, \"metric\": null, \"status\": \"Completed\", \"run_type\": \"azureml.scriptrun\", \"training_percent\": \"100\", \"start_time\": \"2021-02-07T19:34:02.171376Z\", \"end_time\": \"2021-02-07T19:34:59.290603Z\", \"created_time\": \"2021-02-07T19:33:49.976962Z\", \"created_time_dt\": \"2021-02-07T19:33:49.976962Z\", \"duration\": \"0:01:09\", \"iteration\": \"8\", \"goal\": \"accuracy_max\", \"run_name\": \"StandardScalerWrapper, LightGBM\", \"run_properties\": \"<azureml.automl.runtime.shared.model_wrappers.StandardScalerWrapper object at 0x7fbb20ff4e48\", \"primary_metric\": 0.99801648, \"best_metric\": 0.99801648}, {\"run_id\": \"AutoML_e9bb52d1-c96a-405a-8b97-1e34d1e5d5dc_9\", \"run_number\": 14, \"metric\": null, \"status\": \"Completed\", \"run_type\": \"azureml.scriptrun\", \"training_percent\": \"100\", \"start_time\": \"2021-02-07T19:34:07.779706Z\", \"end_time\": \"2021-02-07T19:34:56.57416Z\", \"created_time\": \"2021-02-07T19:33:55.450152Z\", \"created_time_dt\": \"2021-02-07T19:33:55.450152Z\", \"duration\": \"0:01:01\", \"iteration\": \"9\", \"goal\": \"accuracy_max\", \"run_name\": \"SparseNormalizer, XGBoostClassifier\", \"run_properties\": \"<azureml.automl.runtime.shared.model_wrappers.SparseNormalizer object at 0x7f4e877cc780\", \"primary_metric\": 0.99801648, \"best_metric\": 0.99801648}, {\"run_id\": \"AutoML_e9bb52d1-c96a-405a-8b97-1e34d1e5d5dc_10\", \"run_number\": 15, \"metric\": null, \"status\": \"Completed\", \"run_type\": \"azureml.scriptrun\", \"training_percent\": \"100\", \"start_time\": \"2021-02-07T19:34:11.781296Z\", \"end_time\": \"2021-02-07T19:35:02.806967Z\", \"created_time\": \"2021-02-07T19:34:00.220415Z\", \"created_time_dt\": \"2021-02-07T19:34:00.220415Z\", \"duration\": \"0:01:02\", \"iteration\": \"10\", \"goal\": \"accuracy_max\", \"run_name\": \"StandardScalerWrapper, XGBoostClassifier\", \"run_properties\": \"<azureml.automl.runtime.shared.model_wrappers.StandardScalerWrapper object at 0x7f7492c49e10\", \"primary_metric\": 0.99313396, \"best_metric\": 0.99801648}, {\"run_id\": \"AutoML_e9bb52d1-c96a-405a-8b97-1e34d1e5d5dc_11\", \"run_number\": 16, \"metric\": null, \"status\": \"Completed\", \"run_type\": \"azureml.scriptrun\", \"training_percent\": \"100\", \"start_time\": \"2021-02-07T19:34:38.364467Z\", \"end_time\": \"2021-02-07T19:36:14.868082Z\", \"created_time\": \"2021-02-07T19:34:26.757672Z\", \"created_time_dt\": \"2021-02-07T19:34:26.757672Z\", \"duration\": \"0:01:48\", \"iteration\": \"11\", \"goal\": \"accuracy_max\", \"run_name\": \"MaxAbsScaler, GradientBoosting\", \"run_properties\": \"copy=True\", \"primary_metric\": 0.99755874, \"best_metric\": 0.99801648}, {\"run_id\": \"AutoML_e9bb52d1-c96a-405a-8b97-1e34d1e5d5dc_12\", \"run_number\": 17, \"metric\": null, \"status\": \"Completed\", \"run_type\": \"azureml.scriptrun\", \"training_percent\": \"100\", \"start_time\": \"2021-02-07T19:35:12.933665Z\", \"end_time\": \"2021-02-07T19:36:11.43765Z\", \"created_time\": \"2021-02-07T19:34:59.709762Z\", \"created_time_dt\": \"2021-02-07T19:34:59.709762Z\", \"duration\": \"0:01:11\", \"iteration\": \"12\", \"goal\": \"accuracy_max\", \"run_name\": \"MaxAbsScaler, GradientBoosting\", \"run_properties\": \"copy=True\", \"primary_metric\": 0.99237107, \"best_metric\": 0.99801648}, {\"run_id\": \"AutoML_e9bb52d1-c96a-405a-8b97-1e34d1e5d5dc_13\", \"run_number\": 18, \"metric\": null, \"status\": \"Completed\", \"run_type\": \"azureml.scriptrun\", \"training_percent\": \"100\", \"start_time\": \"2021-02-07T19:35:17.818265Z\", \"end_time\": \"2021-02-07T19:36:09.996714Z\", \"created_time\": \"2021-02-07T19:35:05.502641Z\", \"created_time_dt\": \"2021-02-07T19:35:05.502641Z\", \"duration\": \"0:01:04\", \"iteration\": \"13\", \"goal\": \"accuracy_max\", \"run_name\": \"RobustScaler, LightGBM\", \"run_properties\": \"copy=True, quantile_range=[10, 90], with_centering=False,\\n             with_scaling=True\", \"primary_metric\": 0.98535246, \"best_metric\": 0.99801648}, {\"run_id\": \"AutoML_e9bb52d1-c96a-405a-8b97-1e34d1e5d5dc_14\", \"run_number\": 19, \"metric\": null, \"status\": \"Completed\", \"run_type\": \"azureml.scriptrun\", \"training_percent\": \"100\", \"start_time\": \"2021-02-07T19:35:17.586762Z\", \"end_time\": \"2021-02-07T19:36:10.19974Z\", \"created_time\": \"2021-02-07T19:35:05.524586Z\", \"created_time_dt\": \"2021-02-07T19:35:05.524586Z\", \"duration\": \"0:01:04\", \"iteration\": \"14\", \"goal\": \"accuracy_max\", \"run_name\": \"MaxAbsScaler, LightGBM\", \"run_properties\": \"copy=True\", \"primary_metric\": 0.99450717, \"best_metric\": 0.99801648}, {\"run_id\": \"AutoML_e9bb52d1-c96a-405a-8b97-1e34d1e5d5dc_15\", \"run_number\": 20, \"metric\": null, \"status\": \"Completed\", \"run_type\": \"azureml.scriptrun\", \"training_percent\": \"100\", \"start_time\": \"2021-02-07T19:36:08.92231Z\", \"end_time\": \"2021-02-07T19:37:08.58683Z\", \"created_time\": \"2021-02-07T19:35:58.76253Z\", \"created_time_dt\": \"2021-02-07T19:35:58.76253Z\", \"duration\": \"0:01:09\", \"iteration\": \"15\", \"goal\": \"accuracy_max\", \"run_name\": \"StandardScalerWrapper, ExtremeRandomTrees\", \"run_properties\": \"<azureml.automl.runtime.shared.model_wrappers.StandardScalerWrapper object at 0x7fe39f78cb38\", \"primary_metric\": 0.75862069, \"best_metric\": 0.99801648}, {\"run_id\": \"AutoML_e9bb52d1-c96a-405a-8b97-1e34d1e5d5dc_16\", \"run_number\": 21, \"metric\": null, \"status\": \"Completed\", \"run_type\": \"azureml.scriptrun\", \"training_percent\": \"100\", \"start_time\": \"2021-02-07T19:36:22.908938Z\", \"end_time\": \"2021-02-07T19:37:19.478908Z\", \"created_time\": \"2021-02-07T19:36:12.246603Z\", \"created_time_dt\": \"2021-02-07T19:36:12.246603Z\", \"duration\": \"0:01:07\", \"iteration\": \"16\", \"goal\": \"accuracy_max\", \"run_name\": \"StandardScalerWrapper, LogisticRegression\", \"run_properties\": \"<azureml.automl.runtime.shared.model_wrappers.StandardScalerWrapper object at 0x7ff046aaada0\", \"primary_metric\": 0.92767775, \"best_metric\": 0.99801648}, {\"run_id\": \"AutoML_e9bb52d1-c96a-405a-8b97-1e34d1e5d5dc_17\", \"run_number\": 22, \"metric\": null, \"status\": \"Completed\", \"run_type\": \"azureml.scriptrun\", \"training_percent\": \"100\", \"start_time\": \"2021-02-07T19:36:23.913232Z\", \"end_time\": \"2021-02-07T19:37:21.746298Z\", \"created_time\": \"2021-02-07T19:36:12.284092Z\", \"created_time_dt\": \"2021-02-07T19:36:12.284092Z\", \"duration\": \"0:01:09\", \"iteration\": \"17\", \"goal\": \"accuracy_max\", \"run_name\": \"MinMaxScaler, LogisticRegression\", \"run_properties\": \"copy=True, feature_range=(0, 1\", \"primary_metric\": 0.96948428, \"best_metric\": 0.99801648}, {\"run_id\": \"AutoML_e9bb52d1-c96a-405a-8b97-1e34d1e5d5dc_18\", \"run_number\": 23, \"metric\": null, \"status\": \"Completed\", \"run_type\": \"azureml.scriptrun\", \"training_percent\": \"100\", \"start_time\": \"2021-02-07T19:36:28.117987Z\", \"end_time\": \"2021-02-07T19:37:32.98225Z\", \"created_time\": \"2021-02-07T19:36:15.662186Z\", \"created_time_dt\": \"2021-02-07T19:36:15.662186Z\", \"duration\": \"0:01:17\", \"iteration\": \"18\", \"goal\": \"accuracy_max\", \"run_name\": \"SparseNormalizer, XGBoostClassifier\", \"run_properties\": \"<azureml.automl.runtime.shared.model_wrappers.SparseNormalizer object at 0x7f2b04df0da0\", \"primary_metric\": 0.99771132, \"best_metric\": 0.99801648}, {\"run_id\": \"AutoML_e9bb52d1-c96a-405a-8b97-1e34d1e5d5dc_19\", \"run_number\": 24, \"metric\": null, \"status\": \"Completed\", \"run_type\": \"azureml.scriptrun\", \"training_percent\": \"100\", \"start_time\": \"2021-02-07T19:36:31.243366Z\", \"end_time\": \"2021-02-07T19:37:25.601604Z\", \"created_time\": \"2021-02-07T19:36:18.906321Z\", \"created_time_dt\": \"2021-02-07T19:36:18.906321Z\", \"duration\": \"0:01:06\", \"iteration\": \"19\", \"goal\": \"accuracy_max\", \"run_name\": \"MinMaxScaler, LogisticRegression\", \"run_properties\": \"copy=True, feature_range=(0, 1\", \"primary_metric\": 0.97848642, \"best_metric\": 0.99801648}, {\"run_id\": \"AutoML_e9bb52d1-c96a-405a-8b97-1e34d1e5d5dc_20\", \"run_number\": 25, \"metric\": null, \"status\": \"Completed\", \"run_type\": \"azureml.scriptrun\", \"training_percent\": \"100\", \"start_time\": \"2021-02-07T19:37:22.106048Z\", \"end_time\": \"2021-02-07T19:40:10.111107Z\", \"created_time\": \"2021-02-07T19:37:10.515675Z\", \"created_time_dt\": \"2021-02-07T19:37:10.515675Z\", \"duration\": \"0:02:59\", \"iteration\": \"20\", \"goal\": \"accuracy_max\", \"run_name\": \"RobustScaler, GradientBoosting\", \"run_properties\": \"copy=True, quantile_range=[25, 75], with_centering=True,\\n             with_scaling=False\", \"primary_metric\": 0.9978639, \"best_metric\": 0.99801648}, {\"run_id\": \"AutoML_e9bb52d1-c96a-405a-8b97-1e34d1e5d5dc_21\", \"run_number\": 26, \"metric\": null, \"status\": \"Completed\", \"run_type\": \"azureml.scriptrun\", \"training_percent\": \"100\", \"start_time\": \"2021-02-07T19:37:33.133559Z\", \"end_time\": \"2021-02-07T19:38:25.099366Z\", \"created_time\": \"2021-02-07T19:37:21.08477Z\", \"created_time_dt\": \"2021-02-07T19:37:21.08477Z\", \"duration\": \"0:01:04\", \"iteration\": \"21\", \"goal\": \"accuracy_max\", \"run_name\": \"StandardScalerWrapper, LightGBM\", \"run_properties\": \"<azureml.automl.runtime.shared.model_wrappers.StandardScalerWrapper object at 0x7f9a11f87b70\", \"primary_metric\": 0.99450717, \"best_metric\": 0.99801648}, {\"run_id\": \"AutoML_e9bb52d1-c96a-405a-8b97-1e34d1e5d5dc_22\", \"run_number\": 27, \"metric\": null, \"status\": \"Completed\", \"run_type\": \"azureml.scriptrun\", \"training_percent\": \"100\", \"start_time\": \"2021-02-07T19:37:36.208695Z\", \"end_time\": \"2021-02-07T19:38:31.508442Z\", \"created_time\": \"2021-02-07T19:37:24.154515Z\", \"created_time_dt\": \"2021-02-07T19:37:24.154515Z\", \"duration\": \"0:01:07\", \"iteration\": \"22\", \"goal\": \"accuracy_max\", \"run_name\": \"StandardScalerWrapper, LightGBM\", \"run_properties\": \"<azureml.automl.runtime.shared.model_wrappers.StandardScalerWrapper object at 0x7fd51ecd15c0\", \"primary_metric\": 0.99374428, \"best_metric\": 0.99801648}, {\"run_id\": \"AutoML_e9bb52d1-c96a-405a-8b97-1e34d1e5d5dc_23\", \"run_number\": 28, \"metric\": null, \"status\": \"Completed\", \"run_type\": \"azureml.scriptrun\", \"training_percent\": \"100\", \"start_time\": \"2021-02-07T19:37:40.327395Z\", \"end_time\": \"2021-02-07T19:38:35.483232Z\", \"created_time\": \"2021-02-07T19:37:27.637786Z\", \"created_time_dt\": \"2021-02-07T19:37:27.637786Z\", \"duration\": \"0:01:07\", \"iteration\": \"23\", \"goal\": \"accuracy_max\", \"run_name\": \"MaxAbsScaler, ExtremeRandomTrees\", \"run_properties\": \"copy=True\", \"primary_metric\": 0.94934391, \"best_metric\": 0.99801648}, {\"run_id\": \"AutoML_e9bb52d1-c96a-405a-8b97-1e34d1e5d5dc_24\", \"run_number\": 29, \"metric\": null, \"status\": \"Completed\", \"run_type\": \"azureml.scriptrun\", \"training_percent\": \"100\", \"start_time\": \"2021-02-07T19:37:45.60801Z\", \"end_time\": \"2021-02-07T19:38:49.070979Z\", \"created_time\": \"2021-02-07T19:37:34.74531Z\", \"created_time_dt\": \"2021-02-07T19:37:34.74531Z\", \"duration\": \"0:01:14\", \"iteration\": \"24\", \"goal\": \"accuracy_max\", \"run_name\": \"SparseNormalizer, XGBoostClassifier\", \"run_properties\": \"<azureml.automl.runtime.shared.model_wrappers.SparseNormalizer object at 0x7fd475f10278\", \"primary_metric\": 0.99771132, \"best_metric\": 0.99801648}, {\"run_id\": \"AutoML_e9bb52d1-c96a-405a-8b97-1e34d1e5d5dc_25\", \"run_number\": 30, \"metric\": null, \"status\": \"Completed\", \"run_type\": \"azureml.scriptrun\", \"training_percent\": \"100\", \"start_time\": \"2021-02-07T19:38:40.243244Z\", \"end_time\": \"2021-02-07T19:39:29.140753Z\", \"created_time\": \"2021-02-07T19:38:28.080335Z\", \"created_time_dt\": \"2021-02-07T19:38:28.080335Z\", \"duration\": \"0:01:01\", \"iteration\": \"25\", \"goal\": \"accuracy_max\", \"run_name\": \"PCA, XGBoostClassifier\", \"run_properties\": \"copy=True, iterated_power='auto', n_components=0.8015789473684211,\\n    random_state=None, svd_solver='auto', tol=0.0, whiten=True\", \"primary_metric\": 0.57445835, \"best_metric\": 0.99801648}, {\"run_id\": \"AutoML_e9bb52d1-c96a-405a-8b97-1e34d1e5d5dc_26\", \"run_number\": 31, \"metric\": null, \"status\": \"Completed\", \"run_type\": \"azureml.scriptrun\", \"training_percent\": \"100\", \"start_time\": \"2021-02-07T19:38:45.778706Z\", \"end_time\": \"2021-02-07T19:39:45.008158Z\", \"created_time\": \"2021-02-07T19:38:33.322879Z\", \"created_time_dt\": \"2021-02-07T19:38:33.322879Z\", \"duration\": \"0:01:11\", \"iteration\": \"26\", \"goal\": \"accuracy_max\", \"run_name\": \"SparseNormalizer, XGBoostClassifier\", \"run_properties\": \"<azureml.automl.runtime.shared.model_wrappers.SparseNormalizer object at 0x7f433dff5f60\", \"primary_metric\": 0.99710101, \"best_metric\": 0.99801648}, {\"run_id\": \"AutoML_e9bb52d1-c96a-405a-8b97-1e34d1e5d5dc_27\", \"run_number\": 32, \"metric\": null, \"status\": \"Completed\", \"run_type\": \"azureml.scriptrun\", \"training_percent\": \"100\", \"start_time\": \"2021-02-07T19:38:48.976533Z\", \"end_time\": \"2021-02-07T19:39:45.571718Z\", \"created_time\": \"2021-02-07T19:38:37.279297Z\", \"created_time_dt\": \"2021-02-07T19:38:37.279297Z\", \"duration\": \"0:01:08\", \"iteration\": \"27\", \"goal\": \"accuracy_max\", \"run_name\": \"MinMaxScaler, LightGBM\", \"run_properties\": \"copy=True, feature_range=(0, 1\", \"primary_metric\": 0.98764114, \"best_metric\": 0.99801648}, {\"run_id\": \"AutoML_e9bb52d1-c96a-405a-8b97-1e34d1e5d5dc_28\", \"run_number\": 33, \"metric\": null, \"status\": \"Completed\", \"run_type\": \"azureml.scriptrun\", \"training_percent\": \"100\", \"start_time\": \"2021-02-07T19:39:02.121566Z\", \"end_time\": \"2021-02-07T19:40:11.692637Z\", \"created_time\": \"2021-02-07T19:38:50.995191Z\", \"created_time_dt\": \"2021-02-07T19:38:50.995191Z\", \"duration\": \"0:01:20\", \"iteration\": \"28\", \"goal\": \"accuracy_max\", \"run_name\": \"SparseNormalizer, XGBoostClassifier\", \"run_properties\": \"<azureml.automl.runtime.shared.model_wrappers.SparseNormalizer object at 0x7f6263207f60\", \"primary_metric\": 0.99755874, \"best_metric\": 0.99801648}, {\"run_id\": \"AutoML_e9bb52d1-c96a-405a-8b97-1e34d1e5d5dc_29\", \"run_number\": 34, \"metric\": null, \"status\": \"Completed\", \"run_type\": \"azureml.scriptrun\", \"training_percent\": \"100\", \"start_time\": \"2021-02-07T19:39:42.807338Z\", \"end_time\": \"2021-02-07T19:40:40.028015Z\", \"created_time\": \"2021-02-07T19:39:31.792815Z\", \"created_time_dt\": \"2021-02-07T19:39:31.792815Z\", \"duration\": \"0:01:08\", \"iteration\": \"29\", \"goal\": \"accuracy_max\", \"run_name\": \"MaxAbsScaler, ExtremeRandomTrees\", \"run_properties\": \"copy=True\", \"primary_metric\": 0.84620079, \"best_metric\": 0.99801648}, {\"run_id\": \"AutoML_e9bb52d1-c96a-405a-8b97-1e34d1e5d5dc_30\", \"run_number\": 35, \"metric\": null, \"status\": \"Completed\", \"run_type\": \"azureml.scriptrun\", \"training_percent\": \"100\", \"start_time\": \"2021-02-07T19:40:01.371845Z\", \"end_time\": \"2021-02-07T19:40:45.337044Z\", \"created_time\": \"2021-02-07T19:39:48.183889Z\", \"created_time_dt\": \"2021-02-07T19:39:48.183889Z\", \"duration\": \"0:00:57\", \"iteration\": \"30\", \"goal\": \"accuracy_max\", \"run_name\": \"SparseNormalizer, XGBoostClassifier\", \"run_properties\": \"<azureml.automl.runtime.shared.model_wrappers.SparseNormalizer object at 0x7f51737f0710\", \"primary_metric\": 0.97528227, \"best_metric\": 0.99801648}, {\"run_id\": \"AutoML_e9bb52d1-c96a-405a-8b97-1e34d1e5d5dc_31\", \"run_number\": 36, \"metric\": null, \"status\": \"Completed\", \"run_type\": \"azureml.scriptrun\", \"training_percent\": \"100\", \"start_time\": \"2021-02-07T19:39:58.245436Z\", \"end_time\": \"2021-02-07T19:40:43.131332Z\", \"created_time\": \"2021-02-07T19:39:48.186998Z\", \"created_time_dt\": \"2021-02-07T19:39:48.186998Z\", \"duration\": \"0:00:54\", \"iteration\": \"31\", \"goal\": \"accuracy_max\", \"run_name\": \"SparseNormalizer, RandomForest\", \"run_properties\": \"<azureml.automl.runtime.shared.model_wrappers.SparseNormalizer object at 0x7f7e34d122e8\", \"primary_metric\": 0.91852304, \"best_metric\": 0.99801648}, {\"run_id\": \"AutoML_e9bb52d1-c96a-405a-8b97-1e34d1e5d5dc_32\", \"run_number\": 37, \"metric\": null, \"status\": \"Completed\", \"run_type\": \"azureml.scriptrun\", \"training_percent\": \"100\", \"start_time\": \"2021-02-07T19:40:23.906285Z\", \"end_time\": \"2021-02-07T19:41:18.842049Z\", \"created_time\": \"2021-02-07T19:40:11.92248Z\", \"created_time_dt\": \"2021-02-07T19:40:11.92248Z\", \"duration\": \"0:01:06\", \"iteration\": \"32\", \"goal\": \"accuracy_max\", \"run_name\": \"StandardScalerWrapper, RandomForest\", \"run_properties\": \"<azureml.automl.runtime.shared.model_wrappers.StandardScalerWrapper object at 0x7f9667008b70\", \"primary_metric\": 0.94949649, \"best_metric\": 0.99801648}, {\"run_id\": \"AutoML_e9bb52d1-c96a-405a-8b97-1e34d1e5d5dc_33\", \"run_number\": 38, \"metric\": null, \"status\": \"Completed\", \"run_type\": \"azureml.scriptrun\", \"training_percent\": \"100\", \"start_time\": \"2021-02-07T19:40:26.846065Z\", \"end_time\": \"2021-02-07T19:41:21.901196Z\", \"created_time\": \"2021-02-07T19:40:15.028922Z\", \"created_time_dt\": \"2021-02-07T19:40:15.028922Z\", \"duration\": \"0:01:06\", \"iteration\": \"33\", \"goal\": \"accuracy_max\", \"run_name\": \"MaxAbsScaler, ExtremeRandomTrees\", \"run_properties\": \"copy=True\", \"primary_metric\": 0.86191639, \"best_metric\": 0.99801648}, {\"run_id\": \"AutoML_e9bb52d1-c96a-405a-8b97-1e34d1e5d5dc_34\", \"run_number\": 39, \"metric\": null, \"status\": \"Canceled\", \"run_type\": \"azureml.scriptrun\", \"training_percent\": \"100\", \"start_time\": \"2021-02-07T19:40:52.014937Z\", \"end_time\": \"2021-02-07T19:41:31.025527Z\", \"created_time\": \"2021-02-07T19:40:41.765662Z\", \"created_time_dt\": \"2021-02-07T19:40:41.765662Z\", \"duration\": \"0:00:49\", \"iteration\": \"34\", \"goal\": \"accuracy_max\", \"run_name\": \"RobustScaler, LightGBM\", \"run_properties\": \"copy=True, quantile_range=[25, 75], with_centering=True,\\n             with_scaling=True\", \"primary_metric\": 0.98596277, \"best_metric\": 0.99801648}, {\"run_id\": \"AutoML_e9bb52d1-c96a-405a-8b97-1e34d1e5d5dc_35\", \"run_number\": 40, \"metric\": null, \"status\": \"Canceled\", \"run_type\": \"azureml.scriptrun\", \"training_percent\": \"100\", \"start_time\": \"2021-02-07T19:40:59.88439Z\", \"end_time\": \"2021-02-07T19:41:32.282194Z\", \"created_time\": \"2021-02-07T19:40:45.809796Z\", \"created_time_dt\": \"2021-02-07T19:40:45.809796Z\", \"duration\": \"0:00:46\", \"iteration\": \"35\", \"goal\": \"accuracy_max\", \"run_name\": \"SparseNormalizer, XGBoostClassifier\", \"run_properties\": \"<azureml.automl.runtime.shared.model_wrappers.SparseNormalizer object at 0x7f2b090b24a8\", \"primary_metric\": 0.99038755, \"best_metric\": 0.99801648}, {\"run_id\": \"AutoML_e9bb52d1-c96a-405a-8b97-1e34d1e5d5dc_36\", \"run_number\": 41, \"metric\": null, \"status\": \"Canceled\", \"run_type\": \"azureml.scriptrun\", \"training_percent\": \"100\", \"start_time\": \"2021-02-07T19:41:00.270729Z\", \"end_time\": \"2021-02-07T19:41:31.348492Z\", \"created_time\": \"2021-02-07T19:40:49.590789Z\", \"created_time_dt\": \"2021-02-07T19:40:49.590789Z\", \"duration\": \"0:00:41\", \"iteration\": \"36\", \"goal\": \"accuracy_max\", \"run_name\": \"StandardScalerWrapper, XGBoostClassifier\", \"run_properties\": \"<azureml.automl.runtime.shared.model_wrappers.StandardScalerWrapper object at 0x7f572d000b70\", \"primary_metric\": 0.99557522, \"best_metric\": 0.99801648}, {\"run_id\": \"AutoML_e9bb52d1-c96a-405a-8b97-1e34d1e5d5dc_37\", \"run_number\": 42, \"metric\": null, \"status\": \"Canceled\", \"run_type\": \"azureml.scriptrun\", \"training_percent\": \"100\", \"start_time\": \"2021-02-07T19:41:20.621104Z\", \"end_time\": \"2021-02-07T19:41:25.336401Z\", \"created_time\": \"2021-02-07T19:41:20.621104Z\", \"created_time_dt\": \"2021-02-07T19:41:20.621104Z\", \"duration\": \"0:00:04\", \"iteration\": \"37\", \"goal\": null, \"run_name\": \"Canceled\", \"run_properties\": null}, {\"run_id\": \"AutoML_e9bb52d1-c96a-405a-8b97-1e34d1e5d5dc_38\", \"run_number\": 43, \"metric\": null, \"status\": \"Completed\", \"run_type\": \"azureml.scriptrun\", \"training_percent\": \"100\", \"start_time\": \"2021-02-07T19:41:46.571764Z\", \"end_time\": \"2021-02-07T19:43:04.085035Z\", \"created_time\": \"2021-02-07T19:41:34.10333Z\", \"created_time_dt\": \"2021-02-07T19:41:34.10333Z\", \"duration\": \"0:01:29\", \"iteration\": \"38\", \"goal\": \"accuracy_max\", \"run_name\": \"VotingEnsemble\", \"run_properties\": \"classification_labels=None,\\n                              estimators=[('9',\\n                                           Pipeline(memory=None,\\n                                                    steps=[('sparsenormalizer',\\n                                                            <azureml.automl.runtime.shared.model_wrappers.SparseNormalizer object at 0x7fda50720e10>\", \"primary_metric\": 0.99832164, \"best_metric\": 0.99832164}, {\"run_id\": \"AutoML_e9bb52d1-c96a-405a-8b97-1e34d1e5d5dc_39\", \"run_number\": 44, \"metric\": null, \"status\": \"Completed\", \"run_type\": \"azureml.scriptrun\", \"training_percent\": \"100\", \"start_time\": \"2021-02-07T19:41:46.660829Z\", \"end_time\": \"2021-02-07T19:45:17.265433Z\", \"created_time\": \"2021-02-07T19:41:34.188216Z\", \"created_time_dt\": \"2021-02-07T19:41:34.188216Z\", \"duration\": \"0:03:43\", \"iteration\": \"39\", \"goal\": \"accuracy_max\", \"run_name\": \"StackEnsemble\", \"run_properties\": \"base_learners=[('9',\\n                                        Pipeline(memory=None,\\n                                                 steps=[('sparsenormalizer',\\n                                                         <azureml.automl.runtime.shared.model_wrappers.SparseNormalizer object at 0x7fb74449be80>\", \"primary_metric\": 0.99771132, \"best_metric\": 0.99832164}], \"children_metrics\": {\"categories\": [0], \"series\": {\"recall_score_weighted\": [{\"categories\": [\"0\", \"1\", \"2\", \"3\", \"4\", \"5\", \"6\", \"7\", \"8\", \"9\", \"10\", \"11\", \"12\", \"13\", \"14\", \"15\", \"16\", \"17\", \"18\", \"19\", \"20\", \"21\", \"22\", \"23\", \"24\", \"25\", \"26\", \"27\", \"28\", \"29\", \"30\", \"31\", \"32\", \"33\", \"34\", \"35\", \"36\", \"38\", \"39\"], \"mode\": \"markers\", \"name\": \"recall_score_weighted\", \"stepped\": false, \"type\": \"scatter\", \"data\": [0.9946597497711321, 0.9980164784864205, 0.9923710711016174, 0.9847421422032346, 0.9484284406469332, 0.9891669209642966, 0.9975587427525175, 0.9980164784864205, 0.9980164784864205, 0.9980164784864205, 0.9931339639914556, 0.9975587427525175, 0.9923710711016174, 0.9853524565151053, 0.9945071711931645, 0.7586206896551724, 0.9276777540433323, 0.9694842844064693, 0.9977113213304852, 0.9784864205065609, 0.9978638999084528, 0.9945071711931645, 0.9937442783033262, 0.9493439121147391, 0.9977113213304852, 0.5744583460482149, 0.9971010070186146, 0.98764113518462, 0.9975587427525175, 0.8462007934086054, 0.9752822703692402, 0.9185230393652731, 0.9494964906927067, 0.8619163869392737, 0.9859627708269759, 0.9903875495880379, 0.995575221238938, 0.9983216356423558, 0.9977113213304852]}, {\"categories\": [\"0\", \"1\", \"2\", \"3\", \"4\", \"5\", \"6\", \"7\", \"8\", \"9\", \"10\", \"11\", \"12\", \"13\", \"14\", \"15\", \"16\", \"17\", \"18\", \"19\", \"20\", \"21\", \"22\", \"23\", \"24\", \"25\", \"26\", \"27\", \"28\", \"29\", \"30\", \"31\", \"32\", \"33\", \"34\", \"35\", \"36\", \"38\", \"39\"], \"mode\": \"lines\", \"name\": \"recall_score_weighted_max\", \"stepped\": true, \"type\": \"scatter\", \"data\": [0.9946597497711321, 0.9980164784864205, 0.9980164784864205, 0.9980164784864205, 0.9980164784864205, 0.9980164784864205, 0.9980164784864205, 0.9980164784864205, 0.9980164784864205, 0.9980164784864205, 0.9980164784864205, 0.9980164784864205, 0.9980164784864205, 0.9980164784864205, 0.9980164784864205, 0.9980164784864205, 0.9980164784864205, 0.9980164784864205, 0.9980164784864205, 0.9980164784864205, 0.9980164784864205, 0.9980164784864205, 0.9980164784864205, 0.9980164784864205, 0.9980164784864205, 0.9980164784864205, 0.9980164784864205, 0.9980164784864205, 0.9980164784864205, 0.9980164784864205, 0.9980164784864205, 0.9980164784864205, 0.9980164784864205, 0.9980164784864205, 0.9980164784864205, 0.9980164784864205, 0.9980164784864205, 0.9983216356423558, 0.9983216356423558]}], \"precision_score_macro\": [{\"categories\": [\"0\", \"1\", \"2\", \"3\", \"4\", \"5\", \"6\", \"7\", \"8\", \"9\", \"10\", \"11\", \"12\", \"13\", \"14\", \"15\", \"16\", \"17\", \"18\", \"19\", \"20\", \"21\", \"22\", \"23\", \"24\", \"25\", \"26\", \"27\", \"28\", \"29\", \"30\", \"31\", \"32\", \"33\", \"34\", \"35\", \"36\", \"38\", \"39\"], \"mode\": \"markers\", \"name\": \"precision_score_macro\", \"stepped\": false, \"type\": \"scatter\", \"data\": [0.8695390696146533, 0.9977703385247966, 0.7413500245201421, 0.7321268056372802, 0.7457300636121171, 0.7373630742815861, 0.9974435809286012, 0.9144766160052538, 0.9977703385247966, 0.9977440887923931, 0.7424085960375667, 0.9974921894432692, 0.7412545521841247, 0.735811161088787, 0.7445924549020434, 0.42367022133002513, 0.6799444410005229, 0.7158705844721702, 0.8725777217086063, 0.7252900763983198, 0.7477046054738327, 0.7438878499118806, 0.7433881777676147, 0.696259892439064, 0.7476107990465001, 0.14361458651205372, 0.746946148794446, 0.7359636080342716, 0.8309103861474082, 0.6743706919275847, 0.7219847069208788, 0.7413658658482264, 0.7364605115908266, 0.6558736388725248, 0.7361855275299692, 0.7388886543643342, 0.7456545744753261, 0.9980036640643501, 0.7476375716915185]}, {\"categories\": [\"0\", \"1\", \"2\", \"3\", \"4\", \"5\", \"6\", \"7\", \"8\", \"9\", \"10\", \"11\", \"12\", \"13\", \"14\", \"15\", \"16\", \"17\", \"18\", \"19\", \"20\", \"21\", \"22\", \"23\", \"24\", \"25\", \"26\", \"27\", \"28\", \"29\", \"30\", \"31\", \"32\", \"33\", \"34\", \"35\", \"36\", \"38\", \"39\"], \"mode\": \"lines\", \"name\": \"precision_score_macro_max\", \"stepped\": true, \"type\": \"scatter\", \"data\": [0.8695390696146533, 0.9977703385247966, 0.9977703385247966, 0.9977703385247966, 0.9977703385247966, 0.9977703385247966, 0.9977703385247966, 0.9977703385247966, 0.9977703385247966, 0.9977703385247966, 0.9977703385247966, 0.9977703385247966, 0.9977703385247966, 0.9977703385247966, 0.9977703385247966, 0.9977703385247966, 0.9977703385247966, 0.9977703385247966, 0.9977703385247966, 0.9977703385247966, 0.9977703385247966, 0.9977703385247966, 0.9977703385247966, 0.9977703385247966, 0.9977703385247966, 0.9977703385247966, 0.9977703385247966, 0.9977703385247966, 0.9977703385247966, 0.9977703385247966, 0.9977703385247966, 0.9977703385247966, 0.9977703385247966, 0.9977703385247966, 0.9977703385247966, 0.9977703385247966, 0.9977703385247966, 0.9980036640643501, 0.9980036640643501]}], \"average_precision_score_macro\": [{\"categories\": [\"0\", \"1\", \"2\", \"3\", \"4\", \"5\", \"6\", \"7\", \"8\", \"9\", \"10\", \"11\", \"12\", \"13\", \"14\", \"15\", \"16\", \"17\", \"18\", \"19\", \"20\", \"21\", \"22\", \"23\", \"24\", \"25\", \"26\", \"27\", \"28\", \"29\", \"30\", \"31\", \"32\", \"33\", \"34\", \"35\", \"36\", \"38\", \"39\"], \"mode\": \"markers\", \"name\": \"average_precision_score_macro\", \"stepped\": false, \"type\": \"scatter\", \"data\": [0.8426013774171255, 0.9299463948155002, 0.8490762461050516, 0.7429535880425412, 0.8531750539835035, 0.7487192594185037, 0.8798422327552494, 0.8378578905985671, 0.8733083967341537, 0.8288574877937323, 0.8566236351148719, 0.8521482850092643, 0.8067360046933948, 0.778460585940355, 0.8227132924287042, 0.7434131622297313, 0.7324443515368453, 0.7380118140732269, 0.8678966938316229, 0.7385258494407146, 0.8468123305093158, 0.8546732032929982, 0.75562612260501, 0.7436788893549819, 0.8273081457370097, 0.25, 0.754284293066355, 0.8384680761795948, 0.8300345374738456, 0.7201595207757725, 0.7428865268350109, 0.8001432952091379, 0.8528946625684365, 0.7365421358917944, 0.7609467387634988, 0.748528107439189, 0.7486368248614993, 0.8856906309372856, 0.7962416638007719]}, {\"categories\": [\"0\", \"1\", \"2\", \"3\", \"4\", \"5\", \"6\", \"7\", \"8\", \"9\", \"10\", \"11\", \"12\", \"13\", \"14\", \"15\", \"16\", \"17\", \"18\", \"19\", \"20\", \"21\", \"22\", \"23\", \"24\", \"25\", \"26\", \"27\", \"28\", \"29\", \"30\", \"31\", \"32\", \"33\", \"34\", \"35\", \"36\", \"38\", \"39\"], \"mode\": \"lines\", \"name\": \"average_precision_score_macro_max\", \"stepped\": true, \"type\": \"scatter\", \"data\": [0.8426013774171255, 0.9299463948155002, 0.9299463948155002, 0.9299463948155002, 0.9299463948155002, 0.9299463948155002, 0.9299463948155002, 0.9299463948155002, 0.9299463948155002, 0.9299463948155002, 0.9299463948155002, 0.9299463948155002, 0.9299463948155002, 0.9299463948155002, 0.9299463948155002, 0.9299463948155002, 0.9299463948155002, 0.9299463948155002, 0.9299463948155002, 0.9299463948155002, 0.9299463948155002, 0.9299463948155002, 0.9299463948155002, 0.9299463948155002, 0.9299463948155002, 0.9299463948155002, 0.9299463948155002, 0.9299463948155002, 0.9299463948155002, 0.9299463948155002, 0.9299463948155002, 0.9299463948155002, 0.9299463948155002, 0.9299463948155002, 0.9299463948155002, 0.9299463948155002, 0.9299463948155002, 0.9299463948155002, 0.9299463948155002]}], \"precision_score_weighted\": [{\"categories\": [\"0\", \"1\", \"2\", \"3\", \"4\", \"5\", \"6\", \"7\", \"8\", \"9\", \"10\", \"11\", \"12\", \"13\", \"14\", \"15\", \"16\", \"17\", \"18\", \"19\", \"20\", \"21\", \"22\", \"23\", \"24\", \"25\", \"26\", \"27\", \"28\", \"29\", \"30\", \"31\", \"32\", \"33\", \"34\", \"35\", \"36\", \"38\", \"39\"], \"mode\": \"markers\", \"name\": \"precision_score_weighted\", \"stepped\": false, \"type\": \"scatter\", \"data\": [0.9947491159873584, 0.9980200409717577, 0.9916700385941628, 0.9849494310133178, 0.9922521276587556, 0.9887888066448014, 0.9975625719540114, 0.997919016217876, 0.9980200409717577, 0.9980212053700123, 0.9924919027686052, 0.9975658672577646, 0.9916748189544675, 0.984977567149829, 0.9937826349698239, 0.631431747227538, 0.9427683758920652, 0.9714645182486846, 0.9974875073097306, 0.9788602719745726, 0.9971051806546473, 0.9937779376350859, 0.9930625508926695, 0.9557849020499464, 0.9969528067683544, 0.33000239134445053, 0.9963444512285775, 0.9872090155486687, 0.9973597465491351, 0.9370103268712717, 0.9767239104387108, 0.9902349279573833, 0.9852948272989349, 0.9220223038625217, 0.9855929419897638, 0.9897569723750672, 0.9948201687210783, 0.9983253810766668, 0.9969520720200995]}, {\"categories\": [\"0\", \"1\", \"2\", \"3\", \"4\", \"5\", \"6\", \"7\", \"8\", \"9\", \"10\", \"11\", \"12\", \"13\", \"14\", \"15\", \"16\", \"17\", \"18\", \"19\", \"20\", \"21\", \"22\", \"23\", \"24\", \"25\", \"26\", \"27\", \"28\", \"29\", \"30\", \"31\", \"32\", \"33\", \"34\", \"35\", \"36\", \"38\", \"39\"], \"mode\": \"lines\", \"name\": \"precision_score_weighted_max\", \"stepped\": true, \"type\": \"scatter\", \"data\": [0.9947491159873584, 0.9980200409717577, 0.9980200409717577, 0.9980200409717577, 0.9980200409717577, 0.9980200409717577, 0.9980200409717577, 0.9980200409717577, 0.9980200409717577, 0.9980212053700123, 0.9980212053700123, 0.9980212053700123, 0.9980212053700123, 0.9980212053700123, 0.9980212053700123, 0.9980212053700123, 0.9980212053700123, 0.9980212053700123, 0.9980212053700123, 0.9980212053700123, 0.9980212053700123, 0.9980212053700123, 0.9980212053700123, 0.9980212053700123, 0.9980212053700123, 0.9980212053700123, 0.9980212053700123, 0.9980212053700123, 0.9980212053700123, 0.9980212053700123, 0.9980212053700123, 0.9980212053700123, 0.9980212053700123, 0.9980212053700123, 0.9980212053700123, 0.9980212053700123, 0.9980212053700123, 0.9983253810766668, 0.9983253810766668]}], \"average_precision_score_weighted\": [{\"categories\": [\"0\", \"1\", \"2\", \"3\", \"4\", \"5\", \"6\", \"7\", \"8\", \"9\", \"10\", \"11\", \"12\", \"13\", \"14\", \"15\", \"16\", \"17\", \"18\", \"19\", \"20\", \"21\", \"22\", \"23\", \"24\", \"25\", \"26\", \"27\", \"28\", \"29\", \"30\", \"31\", \"32\", \"33\", \"34\", \"35\", \"36\", \"38\", \"39\"], \"mode\": \"markers\", \"name\": \"average_precision_score_weighted\", \"stepped\": false, \"type\": \"scatter\", \"data\": [0.9876299322311661, 0.9989471616661006, 0.9979583381716856, 0.9923842875604766, 0.9988003583252824, 0.9974933006708333, 0.9988653375029638, 0.9983887204040074, 0.9988090867845919, 0.9986083570562864, 0.9945018662696072, 0.9978318553087743, 0.9970608782007507, 0.9972531851236294, 0.9978027708387468, 0.9914826908098726, 0.9825607126306322, 0.9877070644317641, 0.9990919951158943, 0.9883849830141969, 0.9984529077779511, 0.9977334731299325, 0.9970520469182395, 0.991897638584581, 0.9988951709459751, 0.42075454180843935, 0.9985473331092507, 0.9982350931218524, 0.9988386752368111, 0.9694063375433151, 0.9925428160099494, 0.9976024751357085, 0.9971568091859779, 0.9852117151725329, 0.9976593662646754, 0.9973316454549849, 0.9972377835636529, 0.9986018444971453, 0.998368393441781]}, {\"categories\": [\"0\", \"1\", \"2\", \"3\", \"4\", \"5\", \"6\", \"7\", \"8\", \"9\", \"10\", \"11\", \"12\", \"13\", \"14\", \"15\", \"16\", \"17\", \"18\", \"19\", \"20\", \"21\", \"22\", \"23\", \"24\", \"25\", \"26\", \"27\", \"28\", \"29\", \"30\", \"31\", \"32\", \"33\", \"34\", \"35\", \"36\", \"38\", \"39\"], \"mode\": \"lines\", \"name\": \"average_precision_score_weighted_max\", \"stepped\": true, \"type\": \"scatter\", \"data\": [0.9876299322311661, 0.9989471616661006, 0.9989471616661006, 0.9989471616661006, 0.9989471616661006, 0.9989471616661006, 0.9989471616661006, 0.9989471616661006, 0.9989471616661006, 0.9989471616661006, 0.9989471616661006, 0.9989471616661006, 0.9989471616661006, 0.9989471616661006, 0.9989471616661006, 0.9989471616661006, 0.9989471616661006, 0.9989471616661006, 0.9990919951158943, 0.9990919951158943, 0.9990919951158943, 0.9990919951158943, 0.9990919951158943, 0.9990919951158943, 0.9990919951158943, 0.9990919951158943, 0.9990919951158943, 0.9990919951158943, 0.9990919951158943, 0.9990919951158943, 0.9990919951158943, 0.9990919951158943, 0.9990919951158943, 0.9990919951158943, 0.9990919951158943, 0.9990919951158943, 0.9990919951158943, 0.9990919951158943, 0.9990919951158943]}], \"weighted_accuracy\": [{\"categories\": [\"0\", \"1\", \"2\", \"3\", \"4\", \"5\", \"6\", \"7\", \"8\", \"9\", \"10\", \"11\", \"12\", \"13\", \"14\", \"15\", \"16\", \"17\", \"18\", \"19\", \"20\", \"21\", \"22\", \"23\", \"24\", \"25\", \"26\", \"27\", \"28\", \"29\", \"30\", \"31\", \"32\", \"33\", \"34\", \"35\", \"36\", \"38\", \"39\"], \"mode\": \"markers\", \"name\": \"weighted_accuracy\", \"stepped\": false, \"type\": \"scatter\", \"data\": [0.9961695802179947, 0.9987936465569767, 0.9938841869710066, 0.9911163740721488, 0.9689574932901674, 0.9943992511457124, 0.9984194517977616, 0.9989190236565451, 0.9987936465569767, 0.9990016862279287, 0.99655567086265, 0.9989209601960354, 0.993758809871438, 0.9920750164495199, 0.9971767467420214, 0.8830394330343537, 0.9269975515501282, 0.9686548398326922, 0.9985850535890274, 0.9798171087841654, 0.9988760324798617, 0.9962991070450423, 0.9933768689542621, 0.9605905360983134, 0.998918470359548, 0.7843109427317689, 0.9980852050817453, 0.992441465050774, 0.9985021143691452, 0.8580969150593943, 0.9860995195390195, 0.9487720015784458, 0.9713760097946849, 0.8667195507936605, 0.9926575275281855, 0.9929313542121062, 0.9966289273850808, 0.9990849020963096, 0.9987930932599796]}, {\"categories\": [\"0\", \"1\", \"2\", \"3\", \"4\", \"5\", \"6\", \"7\", \"8\", \"9\", \"10\", \"11\", \"12\", \"13\", \"14\", \"15\", \"16\", \"17\", \"18\", \"19\", \"20\", \"21\", \"22\", \"23\", \"24\", \"25\", \"26\", \"27\", \"28\", \"29\", \"30\", \"31\", \"32\", \"33\", \"34\", \"35\", \"36\", \"38\", \"39\"], \"mode\": \"lines\", \"name\": \"weighted_accuracy_max\", \"stepped\": true, \"type\": \"scatter\", \"data\": [0.9961695802179947, 0.9987936465569767, 0.9987936465569767, 0.9987936465569767, 0.9987936465569767, 0.9987936465569767, 0.9987936465569767, 0.9989190236565451, 0.9989190236565451, 0.9990016862279287, 0.9990016862279287, 0.9990016862279287, 0.9990016862279287, 0.9990016862279287, 0.9990016862279287, 0.9990016862279287, 0.9990016862279287, 0.9990016862279287, 0.9990016862279287, 0.9990016862279287, 0.9990016862279287, 0.9990016862279287, 0.9990016862279287, 0.9990016862279287, 0.9990016862279287, 0.9990016862279287, 0.9990016862279287, 0.9990016862279287, 0.9990016862279287, 0.9990016862279287, 0.9990016862279287, 0.9990016862279287, 0.9990016862279287, 0.9990016862279287, 0.9990016862279287, 0.9990016862279287, 0.9990016862279287, 0.9990849020963096, 0.9990849020963096]}], \"norm_macro_recall\": [{\"categories\": [\"0\", \"1\", \"2\", \"3\", \"4\", \"5\", \"6\", \"7\", \"8\", \"9\", \"10\", \"11\", \"12\", \"13\", \"14\", \"15\", \"16\", \"17\", \"18\", \"19\", \"20\", \"21\", \"22\", \"23\", \"24\", \"25\", \"26\", \"27\", \"28\", \"29\", \"30\", \"31\", \"32\", \"33\", \"34\", \"35\", \"36\", \"38\", \"39\"], \"mode\": \"markers\", \"name\": \"norm_macro_recall\", \"stepped\": false, \"type\": \"scatter\", \"data\": [0.8604218639476957, 0.7981778024659202, 0.6592028742195254, 0.646612157847005, 0.9280508386733254, 0.6521240514186676, 0.7976445267776274, 0.7980439667466078, 0.7981778024659202, 0.7315996705491429, 0.6579056836179115, 0.797109183900378, 0.6593367099388378, 0.64683246112725, 0.660040853560039, 0.2698733492388758, 0.5987782322640355, 0.6394985472091325, 0.7314226010493643, 0.6459266189264143, 0.6650668396017885, 0.6609777035952256, 0.6625425656354643, 0.6070674237303252, 0.6647106334132745, 0.0, 0.6643564944137171, 0.6511048682004619, 0.7312002305801625, 0.838084176524943, 0.6326913530371878, 0.8223046735303244, 0.8612894356898991, 0.595478821501482, 0.647454271565432, 0.6561782224005911, 0.662801968318262, 0.7984887076850112, 0.6648444691325869]}, {\"categories\": [\"0\", \"1\", \"2\", \"3\", \"4\", \"5\", \"6\", \"7\", \"8\", \"9\", \"10\", \"11\", \"12\", \"13\", \"14\", \"15\", \"16\", \"17\", \"18\", \"19\", \"20\", \"21\", \"22\", \"23\", \"24\", \"25\", \"26\", \"27\", \"28\", \"29\", \"30\", \"31\", \"32\", \"33\", \"34\", \"35\", \"36\", \"38\", \"39\"], \"mode\": \"lines\", \"name\": \"norm_macro_recall_max\", \"stepped\": true, \"type\": \"scatter\", \"data\": [0.8604218639476957, 0.8604218639476957, 0.8604218639476957, 0.8604218639476957, 0.9280508386733254, 0.9280508386733254, 0.9280508386733254, 0.9280508386733254, 0.9280508386733254, 0.9280508386733254, 0.9280508386733254, 0.9280508386733254, 0.9280508386733254, 0.9280508386733254, 0.9280508386733254, 0.9280508386733254, 0.9280508386733254, 0.9280508386733254, 0.9280508386733254, 0.9280508386733254, 0.9280508386733254, 0.9280508386733254, 0.9280508386733254, 0.9280508386733254, 0.9280508386733254, 0.9280508386733254, 0.9280508386733254, 0.9280508386733254, 0.9280508386733254, 0.9280508386733254, 0.9280508386733254, 0.9280508386733254, 0.9280508386733254, 0.9280508386733254, 0.9280508386733254, 0.9280508386733254, 0.9280508386733254, 0.9280508386733254, 0.9280508386733254]}], \"average_precision_score_micro\": [{\"categories\": [\"0\", \"1\", \"2\", \"3\", \"4\", \"5\", \"6\", \"7\", \"8\", \"9\", \"10\", \"11\", \"12\", \"13\", \"14\", \"15\", \"16\", \"17\", \"18\", \"19\", \"20\", \"21\", \"22\", \"23\", \"24\", \"25\", \"26\", \"27\", \"28\", \"29\", \"30\", \"31\", \"32\", \"33\", \"34\", \"35\", \"36\", \"38\", \"39\"], \"mode\": \"markers\", \"name\": \"average_precision_score_micro\", \"stepped\": false, \"type\": \"scatter\", \"data\": [0.9873995450243529, 0.9997697180995246, 0.9982880665987366, 0.9968103974477744, 0.9929510794192897, 0.9990117618860628, 0.9997530634116544, 0.9996488253307871, 0.9997520987068789, 0.9995747848625562, 0.9984819596123287, 0.999454500770169, 0.9990660319915614, 0.9973910889575563, 0.9985982032959114, 0.9240343928641079, 0.9819485478270814, 0.9935886581086335, 0.9997986686840907, 0.9953218123856915, 0.9994776241985549, 0.9986852321717572, 0.9984569000335972, 0.9908987622216928, 0.9995850373255604, 0.487346791692015, 0.9994415141186219, 0.9986864348036701, 0.9997040676781603, 0.9248555286012932, 0.9969753097685996, 0.9891624619290094, 0.9885189281156215, 0.9427023659531204, 0.9982860745664986, 0.9984864673055683, 0.998535958957554, 0.9997052354931119, 0.9997563222685442]}, {\"categories\": [\"0\", \"1\", \"2\", \"3\", \"4\", \"5\", \"6\", \"7\", \"8\", \"9\", \"10\", \"11\", \"12\", \"13\", \"14\", \"15\", \"16\", \"17\", \"18\", \"19\", \"20\", \"21\", \"22\", \"23\", \"24\", \"25\", \"26\", \"27\", \"28\", \"29\", \"30\", \"31\", \"32\", \"33\", \"34\", \"35\", \"36\", \"38\", \"39\"], \"mode\": \"lines\", \"name\": \"average_precision_score_micro_max\", \"stepped\": true, \"type\": \"scatter\", \"data\": [0.9873995450243529, 0.9997697180995246, 0.9997697180995246, 0.9997697180995246, 0.9997697180995246, 0.9997697180995246, 0.9997697180995246, 0.9997697180995246, 0.9997697180995246, 0.9997697180995246, 0.9997697180995246, 0.9997697180995246, 0.9997697180995246, 0.9997697180995246, 0.9997697180995246, 0.9997697180995246, 0.9997697180995246, 0.9997697180995246, 0.9997986686840907, 0.9997986686840907, 0.9997986686840907, 0.9997986686840907, 0.9997986686840907, 0.9997986686840907, 0.9997986686840907, 0.9997986686840907, 0.9997986686840907, 0.9997986686840907, 0.9997986686840907, 0.9997986686840907, 0.9997986686840907, 0.9997986686840907, 0.9997986686840907, 0.9997986686840907, 0.9997986686840907, 0.9997986686840907, 0.9997986686840907, 0.9997986686840907, 0.9997986686840907]}], \"matthews_correlation\": [{\"categories\": [\"0\", \"1\", \"2\", \"3\", \"4\", \"5\", \"6\", \"7\", \"8\", \"9\", \"10\", \"11\", \"12\", \"13\", \"14\", \"15\", \"16\", \"17\", \"18\", \"19\", \"20\", \"21\", \"22\", \"23\", \"24\", \"25\", \"26\", \"27\", \"28\", \"29\", \"30\", \"31\", \"32\", \"33\", \"34\", \"35\", \"36\", \"38\", \"39\"], \"mode\": \"markers\", \"name\": \"matthews_correlation\", \"stepped\": false, \"type\": \"scatter\", \"data\": [0.9907929189521567, 0.9965768667406179, 0.9868667456888992, 0.9740029341937494, 0.9160672821730225, 0.9814397710721151, 0.9957866925270087, 0.9965774279872474, 0.9965768667406179, 0.9965767820975205, 0.9881887132766641, 0.9957877185066099, 0.986870500017589, 0.9748763559910837, 0.9905302964648215, 0.59255517805172, 0.8836004309476805, 0.9488094205775701, 0.9960508400549531, 0.9634623022354698, 0.996312944308355, 0.9905313640095796, 0.9892522359253675, 0.9158521870563343, 0.9960492905893567, 0.0, 0.9949970714952777, 0.9787989513676347, 0.9957876946270688, 0.7678814632083529, 0.9581897643503302, 0.8718116915763605, 0.9172213146446386, 0.7871754323148007, 0.9759303247618741, 0.9834714234178588, 0.992364270316589, 0.9971036574106574, 0.9960491519545351]}, {\"categories\": [\"0\", \"1\", \"2\", \"3\", \"4\", \"5\", \"6\", \"7\", \"8\", \"9\", \"10\", \"11\", \"12\", \"13\", \"14\", \"15\", \"16\", \"17\", \"18\", \"19\", \"20\", \"21\", \"22\", \"23\", \"24\", \"25\", \"26\", \"27\", \"28\", \"29\", \"30\", \"31\", \"32\", \"33\", \"34\", \"35\", \"36\", \"38\", \"39\"], \"mode\": \"lines\", \"name\": \"matthews_correlation_max\", \"stepped\": true, \"type\": \"scatter\", \"data\": [0.9907929189521567, 0.9965768667406179, 0.9965768667406179, 0.9965768667406179, 0.9965768667406179, 0.9965768667406179, 0.9965768667406179, 0.9965774279872474, 0.9965774279872474, 0.9965774279872474, 0.9965774279872474, 0.9965774279872474, 0.9965774279872474, 0.9965774279872474, 0.9965774279872474, 0.9965774279872474, 0.9965774279872474, 0.9965774279872474, 0.9965774279872474, 0.9965774279872474, 0.9965774279872474, 0.9965774279872474, 0.9965774279872474, 0.9965774279872474, 0.9965774279872474, 0.9965774279872474, 0.9965774279872474, 0.9965774279872474, 0.9965774279872474, 0.9965774279872474, 0.9965774279872474, 0.9965774279872474, 0.9965774279872474, 0.9965774279872474, 0.9965774279872474, 0.9965774279872474, 0.9965774279872474, 0.9971036574106574, 0.9971036574106574]}], \"f1_score_micro\": [{\"categories\": [\"0\", \"1\", \"2\", \"3\", \"4\", \"5\", \"6\", \"7\", \"8\", \"9\", \"10\", \"11\", \"12\", \"13\", \"14\", \"15\", \"16\", \"17\", \"18\", \"19\", \"20\", \"21\", \"22\", \"23\", \"24\", \"25\", \"26\", \"27\", \"28\", \"29\", \"30\", \"31\", \"32\", \"33\", \"34\", \"35\", \"36\", \"38\", \"39\"], \"mode\": \"markers\", \"name\": \"f1_score_micro\", \"stepped\": false, \"type\": \"scatter\", \"data\": [0.9946597497711321, 0.9980164784864205, 0.9923710711016174, 0.9847421422032346, 0.9484284406469332, 0.9891669209642966, 0.9975587427525175, 0.9980164784864205, 0.9980164784864205, 0.9980164784864205, 0.9931339639914556, 0.9975587427525175, 0.9923710711016174, 0.9853524565151053, 0.9945071711931645, 0.7586206896551724, 0.9276777540433323, 0.9694842844064693, 0.9977113213304852, 0.9784864205065609, 0.9978638999084528, 0.9945071711931645, 0.9937442783033262, 0.9493439121147391, 0.9977113213304852, 0.5744583460482149, 0.9971010070186146, 0.98764113518462, 0.9975587427525175, 0.8462007934086054, 0.9752822703692402, 0.9185230393652731, 0.9494964906927067, 0.8619163869392737, 0.9859627708269759, 0.9903875495880379, 0.995575221238938, 0.9983216356423558, 0.9977113213304852]}, {\"categories\": [\"0\", \"1\", \"2\", \"3\", \"4\", \"5\", \"6\", \"7\", \"8\", \"9\", \"10\", \"11\", \"12\", \"13\", \"14\", \"15\", \"16\", \"17\", \"18\", \"19\", \"20\", \"21\", \"22\", \"23\", \"24\", \"25\", \"26\", \"27\", \"28\", \"29\", \"30\", \"31\", \"32\", \"33\", \"34\", \"35\", \"36\", \"38\", \"39\"], \"mode\": \"lines\", \"name\": \"f1_score_micro_max\", \"stepped\": true, \"type\": \"scatter\", \"data\": [0.9946597497711321, 0.9980164784864205, 0.9980164784864205, 0.9980164784864205, 0.9980164784864205, 0.9980164784864205, 0.9980164784864205, 0.9980164784864205, 0.9980164784864205, 0.9980164784864205, 0.9980164784864205, 0.9980164784864205, 0.9980164784864205, 0.9980164784864205, 0.9980164784864205, 0.9980164784864205, 0.9980164784864205, 0.9980164784864205, 0.9980164784864205, 0.9980164784864205, 0.9980164784864205, 0.9980164784864205, 0.9980164784864205, 0.9980164784864205, 0.9980164784864205, 0.9980164784864205, 0.9980164784864205, 0.9980164784864205, 0.9980164784864205, 0.9980164784864205, 0.9980164784864205, 0.9980164784864205, 0.9980164784864205, 0.9980164784864205, 0.9980164784864205, 0.9980164784864205, 0.9980164784864205, 0.9983216356423558, 0.9983216356423558]}], \"recall_score_micro\": [{\"categories\": [\"0\", \"1\", \"2\", \"3\", \"4\", \"5\", \"6\", \"7\", \"8\", \"9\", \"10\", \"11\", \"12\", \"13\", \"14\", \"15\", \"16\", \"17\", \"18\", \"19\", \"20\", \"21\", \"22\", \"23\", \"24\", \"25\", \"26\", \"27\", \"28\", \"29\", \"30\", \"31\", \"32\", \"33\", \"34\", \"35\", \"36\", \"38\", \"39\"], \"mode\": \"markers\", \"name\": \"recall_score_micro\", \"stepped\": false, \"type\": \"scatter\", \"data\": [0.9946597497711321, 0.9980164784864205, 0.9923710711016174, 0.9847421422032346, 0.9484284406469332, 0.9891669209642966, 0.9975587427525175, 0.9980164784864205, 0.9980164784864205, 0.9980164784864205, 0.9931339639914556, 0.9975587427525175, 0.9923710711016174, 0.9853524565151053, 0.9945071711931645, 0.7586206896551724, 0.9276777540433323, 0.9694842844064693, 0.9977113213304852, 0.9784864205065609, 0.9978638999084528, 0.9945071711931645, 0.9937442783033262, 0.9493439121147391, 0.9977113213304852, 0.5744583460482149, 0.9971010070186146, 0.98764113518462, 0.9975587427525175, 0.8462007934086054, 0.9752822703692402, 0.9185230393652731, 0.9494964906927067, 0.8619163869392737, 0.9859627708269759, 0.9903875495880379, 0.995575221238938, 0.9983216356423558, 0.9977113213304852]}, {\"categories\": [\"0\", \"1\", \"2\", \"3\", \"4\", \"5\", \"6\", \"7\", \"8\", \"9\", \"10\", \"11\", \"12\", \"13\", \"14\", \"15\", \"16\", \"17\", \"18\", \"19\", \"20\", \"21\", \"22\", \"23\", \"24\", \"25\", \"26\", \"27\", \"28\", \"29\", \"30\", \"31\", \"32\", \"33\", \"34\", \"35\", \"36\", \"38\", \"39\"], \"mode\": \"lines\", \"name\": \"recall_score_micro_max\", \"stepped\": true, \"type\": \"scatter\", \"data\": [0.9946597497711321, 0.9980164784864205, 0.9980164784864205, 0.9980164784864205, 0.9980164784864205, 0.9980164784864205, 0.9980164784864205, 0.9980164784864205, 0.9980164784864205, 0.9980164784864205, 0.9980164784864205, 0.9980164784864205, 0.9980164784864205, 0.9980164784864205, 0.9980164784864205, 0.9980164784864205, 0.9980164784864205, 0.9980164784864205, 0.9980164784864205, 0.9980164784864205, 0.9980164784864205, 0.9980164784864205, 0.9980164784864205, 0.9980164784864205, 0.9980164784864205, 0.9980164784864205, 0.9980164784864205, 0.9980164784864205, 0.9980164784864205, 0.9980164784864205, 0.9980164784864205, 0.9980164784864205, 0.9980164784864205, 0.9980164784864205, 0.9980164784864205, 0.9980164784864205, 0.9980164784864205, 0.9983216356423558, 0.9983216356423558]}], \"AUC_micro\": [{\"categories\": [\"0\", \"1\", \"2\", \"3\", \"4\", \"5\", \"6\", \"7\", \"8\", \"9\", \"10\", \"11\", \"12\", \"13\", \"14\", \"15\", \"16\", \"17\", \"18\", \"19\", \"20\", \"21\", \"22\", \"23\", \"24\", \"25\", \"26\", \"27\", \"28\", \"29\", \"30\", \"31\", \"32\", \"33\", \"34\", \"35\", \"36\", \"38\", \"39\"], \"mode\": \"markers\", \"name\": \"AUC_micro\", \"stepped\": false, \"type\": \"scatter\", \"data\": [0.9959441235239912, 0.9999311914224982, 0.9992615047832942, 0.9989703468011282, 0.9974877070337343, 0.9995735296048536, 0.9999157799152332, 0.9998795170887231, 0.999917401770731, 0.9998479335869265, 0.9994786782184992, 0.9998212932523641, 0.999620462533322, 0.9986940493609626, 0.9991469505686692, 0.9693593860130003, 0.9927749441608346, 0.9974485341794173, 0.9999322700728053, 0.9981421994477497, 0.9998180340212205, 0.9991872098333672, 0.9993887699993795, 0.9963383003705559, 0.9998313891088353, 0.7922896958600346, 0.9997927710998201, 0.9991743513904981, 0.9998998989234822, 0.9682035229681278, 0.9989638205787669, 0.9961866142011156, 0.9957102232489524, 0.9750823320587256, 0.998988714896645, 0.9994188868471615, 0.9995125664623191, 0.9999005624098222, 0.9999168740856887]}, {\"categories\": [\"0\", \"1\", \"2\", \"3\", \"4\", \"5\", \"6\", \"7\", \"8\", \"9\", \"10\", \"11\", \"12\", \"13\", \"14\", \"15\", \"16\", \"17\", \"18\", \"19\", \"20\", \"21\", \"22\", \"23\", \"24\", \"25\", \"26\", \"27\", \"28\", \"29\", \"30\", \"31\", \"32\", \"33\", \"34\", \"35\", \"36\", \"38\", \"39\"], \"mode\": \"lines\", \"name\": \"AUC_micro_max\", \"stepped\": true, \"type\": \"scatter\", \"data\": [0.9959441235239912, 0.9999311914224982, 0.9999311914224982, 0.9999311914224982, 0.9999311914224982, 0.9999311914224982, 0.9999311914224982, 0.9999311914224982, 0.9999311914224982, 0.9999311914224982, 0.9999311914224982, 0.9999311914224982, 0.9999311914224982, 0.9999311914224982, 0.9999311914224982, 0.9999311914224982, 0.9999311914224982, 0.9999311914224982, 0.9999322700728053, 0.9999322700728053, 0.9999322700728053, 0.9999322700728053, 0.9999322700728053, 0.9999322700728053, 0.9999322700728053, 0.9999322700728053, 0.9999322700728053, 0.9999322700728053, 0.9999322700728053, 0.9999322700728053, 0.9999322700728053, 0.9999322700728053, 0.9999322700728053, 0.9999322700728053, 0.9999322700728053, 0.9999322700728053, 0.9999322700728053, 0.9999322700728053, 0.9999322700728053]}], \"log_loss\": [{\"categories\": [\"0\", \"1\", \"2\", \"3\", \"4\", \"5\", \"6\", \"7\", \"8\", \"9\", \"10\", \"11\", \"12\", \"13\", \"14\", \"15\", \"16\", \"17\", \"18\", \"19\", \"20\", \"21\", \"22\", \"23\", \"24\", \"25\", \"26\", \"27\", \"28\", \"29\", \"30\", \"31\", \"32\", \"33\", \"34\", \"35\", \"36\", \"38\", \"39\"], \"mode\": \"markers\", \"name\": \"log_loss\", \"stepped\": false, \"type\": \"scatter\", \"data\": [0.12429745277931031, 0.009301290754197828, 0.19895200093640888, 0.2378960303831567, 0.2800228560996176, 0.11206179412965873, 0.011444718088008078, 0.01068554858819726, 0.009758488295973766, 0.09302508671928808, 0.0412774739932156, 0.01469368740232115, 0.040923513077822354, 0.348964349916989, 0.22223372458408974, 0.6004745602129047, 0.2941438315376303, 0.11816443144395736, 0.010767895543339286, 0.08798494701393615, 0.013687004065696862, 0.14752472089120083, 0.06442088056225234, 0.2631042335855917, 0.019665766547761906, 0.9812768980145935, 0.021642501720613848, 0.12773083434027685, 0.0114688944623126, 0.8640117063539495, 0.14376795732272826, 0.17656296850088216, 0.281575021747224, 0.6088155480557903, 0.19717500583483097, 0.44104513095597986, 0.45421703182276213, 0.02290679460404174, 0.013103649959875256]}, {\"categories\": [\"0\", \"1\", \"2\", \"3\", \"4\", \"5\", \"6\", \"7\", \"8\", \"9\", \"10\", \"11\", \"12\", \"13\", \"14\", \"15\", \"16\", \"17\", \"18\", \"19\", \"20\", \"21\", \"22\", \"23\", \"24\", \"25\", \"26\", \"27\", \"28\", \"29\", \"30\", \"31\", \"32\", \"33\", \"34\", \"35\", \"36\", \"38\", \"39\"], \"mode\": \"lines\", \"name\": \"log_loss_min\", \"stepped\": true, \"type\": \"scatter\", \"data\": [0.12429745277931031, 0.009301290754197828, 0.009301290754197828, 0.009301290754197828, 0.009301290754197828, 0.009301290754197828, 0.009301290754197828, 0.009301290754197828, 0.009301290754197828, 0.009301290754197828, 0.009301290754197828, 0.009301290754197828, 0.009301290754197828, 0.009301290754197828, 0.009301290754197828, 0.009301290754197828, 0.009301290754197828, 0.009301290754197828, 0.009301290754197828, 0.009301290754197828, 0.009301290754197828, 0.009301290754197828, 0.009301290754197828, 0.009301290754197828, 0.009301290754197828, 0.009301290754197828, 0.009301290754197828, 0.009301290754197828, 0.009301290754197828, 0.009301290754197828, 0.009301290754197828, 0.009301290754197828, 0.009301290754197828, 0.009301290754197828, 0.009301290754197828, 0.009301290754197828, 0.009301290754197828, 0.009301290754197828, 0.009301290754197828]}], \"f1_score_weighted\": [{\"categories\": [\"0\", \"1\", \"2\", \"3\", \"4\", \"5\", \"6\", \"7\", \"8\", \"9\", \"10\", \"11\", \"12\", \"13\", \"14\", \"15\", \"16\", \"17\", \"18\", \"19\", \"20\", \"21\", \"22\", \"23\", \"24\", \"25\", \"26\", \"27\", \"28\", \"29\", \"30\", \"31\", \"32\", \"33\", \"34\", \"35\", \"36\", \"38\", \"39\"], \"mode\": \"markers\", \"name\": \"f1_score_weighted\", \"stepped\": false, \"type\": \"scatter\", \"data\": [0.9946940518323815, 0.9979190464219794, 0.9919995326243524, 0.9844205176287999, 0.9674323509228689, 0.9887847854477954, 0.9974608899368314, 0.997940605836536, 0.9979190464219794, 0.9978138494469725, 0.9927481210472664, 0.9974591294948904, 0.9920015326064706, 0.9848827722133164, 0.9941177587360327, 0.6786699373667417, 0.9302535641606677, 0.9696040297974314, 0.997548811925396, 0.9782957917131243, 0.9974834689545669, 0.9941281670577817, 0.9933800448768404, 0.9497118950176475, 0.9973303827111226, 0.41919481982198453, 0.9967211699593742, 0.9872558713383448, 0.9974448943956028, 0.8761189525473897, 0.9749254020923729, 0.9478735743110817, 0.9639626464985811, 0.8805898358379489, 0.9855003247906865, 0.9900176998083097, 0.9951956256951564, 0.9982242950246364, 0.9973306101223891]}, {\"categories\": [\"0\", \"1\", \"2\", \"3\", \"4\", \"5\", \"6\", \"7\", \"8\", \"9\", \"10\", \"11\", \"12\", \"13\", \"14\", \"15\", \"16\", \"17\", \"18\", \"19\", \"20\", \"21\", \"22\", \"23\", \"24\", \"25\", \"26\", \"27\", \"28\", \"29\", \"30\", \"31\", \"32\", \"33\", \"34\", \"35\", \"36\", \"38\", \"39\"], \"mode\": \"lines\", \"name\": \"f1_score_weighted_max\", \"stepped\": true, \"type\": \"scatter\", \"data\": [0.9946940518323815, 0.9979190464219794, 0.9979190464219794, 0.9979190464219794, 0.9979190464219794, 0.9979190464219794, 0.9979190464219794, 0.997940605836536, 0.997940605836536, 0.997940605836536, 0.997940605836536, 0.997940605836536, 0.997940605836536, 0.997940605836536, 0.997940605836536, 0.997940605836536, 0.997940605836536, 0.997940605836536, 0.997940605836536, 0.997940605836536, 0.997940605836536, 0.997940605836536, 0.997940605836536, 0.997940605836536, 0.997940605836536, 0.997940605836536, 0.997940605836536, 0.997940605836536, 0.997940605836536, 0.997940605836536, 0.997940605836536, 0.997940605836536, 0.997940605836536, 0.997940605836536, 0.997940605836536, 0.997940605836536, 0.997940605836536, 0.9982242950246364, 0.9982242950246364]}], \"precision_score_micro\": [{\"categories\": [\"0\", \"1\", \"2\", \"3\", \"4\", \"5\", \"6\", \"7\", \"8\", \"9\", \"10\", \"11\", \"12\", \"13\", \"14\", \"15\", \"16\", \"17\", \"18\", \"19\", \"20\", \"21\", \"22\", \"23\", \"24\", \"25\", \"26\", \"27\", \"28\", \"29\", \"30\", \"31\", \"32\", \"33\", \"34\", \"35\", \"36\", \"38\", \"39\"], \"mode\": \"markers\", \"name\": \"precision_score_micro\", \"stepped\": false, \"type\": \"scatter\", \"data\": [0.9946597497711321, 0.9980164784864205, 0.9923710711016174, 0.9847421422032346, 0.9484284406469332, 0.9891669209642966, 0.9975587427525175, 0.9980164784864205, 0.9980164784864205, 0.9980164784864205, 0.9931339639914556, 0.9975587427525175, 0.9923710711016174, 0.9853524565151053, 0.9945071711931645, 0.7586206896551724, 0.9276777540433323, 0.9694842844064693, 0.9977113213304852, 0.9784864205065609, 0.9978638999084528, 0.9945071711931645, 0.9937442783033262, 0.9493439121147391, 0.9977113213304852, 0.5744583460482149, 0.9971010070186146, 0.98764113518462, 0.9975587427525175, 0.8462007934086054, 0.9752822703692402, 0.9185230393652731, 0.9494964906927067, 0.8619163869392737, 0.9859627708269759, 0.9903875495880379, 0.995575221238938, 0.9983216356423558, 0.9977113213304852]}, {\"categories\": [\"0\", \"1\", \"2\", \"3\", \"4\", \"5\", \"6\", \"7\", \"8\", \"9\", \"10\", \"11\", \"12\", \"13\", \"14\", \"15\", \"16\", \"17\", \"18\", \"19\", \"20\", \"21\", \"22\", \"23\", \"24\", \"25\", \"26\", \"27\", \"28\", \"29\", \"30\", \"31\", \"32\", \"33\", \"34\", \"35\", \"36\", \"38\", \"39\"], \"mode\": \"lines\", \"name\": \"precision_score_micro_max\", \"stepped\": true, \"type\": \"scatter\", \"data\": [0.9946597497711321, 0.9980164784864205, 0.9980164784864205, 0.9980164784864205, 0.9980164784864205, 0.9980164784864205, 0.9980164784864205, 0.9980164784864205, 0.9980164784864205, 0.9980164784864205, 0.9980164784864205, 0.9980164784864205, 0.9980164784864205, 0.9980164784864205, 0.9980164784864205, 0.9980164784864205, 0.9980164784864205, 0.9980164784864205, 0.9980164784864205, 0.9980164784864205, 0.9980164784864205, 0.9980164784864205, 0.9980164784864205, 0.9980164784864205, 0.9980164784864205, 0.9980164784864205, 0.9980164784864205, 0.9980164784864205, 0.9980164784864205, 0.9980164784864205, 0.9980164784864205, 0.9980164784864205, 0.9980164784864205, 0.9980164784864205, 0.9980164784864205, 0.9980164784864205, 0.9980164784864205, 0.9983216356423558, 0.9983216356423558]}], \"AUC_macro\": [{\"categories\": [\"0\", \"1\", \"2\", \"3\", \"4\", \"5\", \"6\", \"7\", \"8\", \"9\", \"10\", \"11\", \"12\", \"13\", \"14\", \"15\", \"16\", \"17\", \"18\", \"19\", \"20\", \"21\", \"22\", \"23\", \"24\", \"25\", \"26\", \"27\", \"28\", \"29\", \"30\", \"31\", \"32\", \"33\", \"34\", \"35\", \"36\", \"38\", \"39\"], \"mode\": \"markers\", \"name\": \"AUC_macro\", \"stepped\": false, \"type\": \"scatter\", \"data\": [0.99568296061241, 0.9992580491634917, 0.9844398768610054, 0.9714196255458436, 0.9966670852858026, 0.9452345512875278, 0.9985964234634411, 0.9937742284365392, 0.9983211206532228, 0.9912211585475184, 0.9708273572331276, 0.9922980467706012, 0.9881978231698186, 0.9941515835687064, 0.9978341859095088, 0.9783915240360546, 0.9405848828809045, 0.9724647597158622, 0.9985721304766736, 0.9726408396291731, 0.9973078200230443, 0.995502352029696, 0.9943163934536122, 0.9626188732166341, 0.9797180917041998, 0.5, 0.9844645563891864, 0.9964136230157576, 0.9925136625993047, 0.9731876887502908, 0.8836225519961063, 0.9814809826228414, 0.9962259582666433, 0.9597759994491905, 0.9958154597584393, 0.9225005964164656, 0.9300326811899956, 0.999313198947781, 0.9989195690225368]}, {\"categories\": [\"0\", \"1\", \"2\", \"3\", \"4\", \"5\", \"6\", \"7\", \"8\", \"9\", \"10\", \"11\", \"12\", \"13\", \"14\", \"15\", \"16\", \"17\", \"18\", \"19\", \"20\", \"21\", \"22\", \"23\", \"24\", \"25\", \"26\", \"27\", \"28\", \"29\", \"30\", \"31\", \"32\", \"33\", \"34\", \"35\", \"36\", \"38\", \"39\"], \"mode\": \"lines\", \"name\": \"AUC_macro_max\", \"stepped\": true, \"type\": \"scatter\", \"data\": [0.99568296061241, 0.9992580491634917, 0.9992580491634917, 0.9992580491634917, 0.9992580491634917, 0.9992580491634917, 0.9992580491634917, 0.9992580491634917, 0.9992580491634917, 0.9992580491634917, 0.9992580491634917, 0.9992580491634917, 0.9992580491634917, 0.9992580491634917, 0.9992580491634917, 0.9992580491634917, 0.9992580491634917, 0.9992580491634917, 0.9992580491634917, 0.9992580491634917, 0.9992580491634917, 0.9992580491634917, 0.9992580491634917, 0.9992580491634917, 0.9992580491634917, 0.9992580491634917, 0.9992580491634917, 0.9992580491634917, 0.9992580491634917, 0.9992580491634917, 0.9992580491634917, 0.9992580491634917, 0.9992580491634917, 0.9992580491634917, 0.9992580491634917, 0.9992580491634917, 0.9992580491634917, 0.999313198947781, 0.999313198947781]}], \"AUC_weighted\": [{\"categories\": [\"0\", \"1\", \"2\", \"3\", \"4\", \"5\", \"6\", \"7\", \"8\", \"9\", \"10\", \"11\", \"12\", \"13\", \"14\", \"15\", \"16\", \"17\", \"18\", \"19\", \"20\", \"21\", \"22\", \"23\", \"24\", \"25\", \"26\", \"27\", \"28\", \"29\", \"30\", \"31\", \"32\", \"33\", \"34\", \"35\", \"36\", \"38\", \"39\"], \"mode\": \"markers\", \"name\": \"AUC_weighted\", \"stepped\": false, \"type\": \"scatter\", \"data\": [0.9956663411800364, 0.9998153912487989, 0.9996037270392818, 0.9986406020242812, 0.999766291905906, 0.9995080875463499, 0.9998070395348424, 0.9997759537411053, 0.9998009237648153, 0.9997775664215105, 0.9989246673149773, 0.9996397297420564, 0.9995253626120846, 0.9995288061820549, 0.9996084925990892, 0.9958682560529047, 0.99448662604882, 0.9960302366615261, 0.999867792795151, 0.9966210667955966, 0.9997038288274324, 0.9996208267048734, 0.9994660912707544, 0.9965204922952853, 0.9997974234317574, 0.5, 0.9997694235768048, 0.9996773811908473, 0.9998285323855357, 0.9874032064210564, 0.9983078964422397, 0.9995110455774353, 0.9993434777380255, 0.9926333756118099, 0.9995719273979772, 0.9992065714507211, 0.9994071276599239, 0.9997842910771036, 0.9997930071838401]}, {\"categories\": [\"0\", \"1\", \"2\", \"3\", \"4\", \"5\", \"6\", \"7\", \"8\", \"9\", \"10\", \"11\", \"12\", \"13\", \"14\", \"15\", \"16\", \"17\", \"18\", \"19\", \"20\", \"21\", \"22\", \"23\", \"24\", \"25\", \"26\", \"27\", \"28\", \"29\", \"30\", \"31\", \"32\", \"33\", \"34\", \"35\", \"36\", \"38\", \"39\"], \"mode\": \"lines\", \"name\": \"AUC_weighted_max\", \"stepped\": true, \"type\": \"scatter\", \"data\": [0.9956663411800364, 0.9998153912487989, 0.9998153912487989, 0.9998153912487989, 0.9998153912487989, 0.9998153912487989, 0.9998153912487989, 0.9998153912487989, 0.9998153912487989, 0.9998153912487989, 0.9998153912487989, 0.9998153912487989, 0.9998153912487989, 0.9998153912487989, 0.9998153912487989, 0.9998153912487989, 0.9998153912487989, 0.9998153912487989, 0.999867792795151, 0.999867792795151, 0.999867792795151, 0.999867792795151, 0.999867792795151, 0.999867792795151, 0.999867792795151, 0.999867792795151, 0.999867792795151, 0.999867792795151, 0.999867792795151, 0.999867792795151, 0.999867792795151, 0.999867792795151, 0.999867792795151, 0.999867792795151, 0.999867792795151, 0.999867792795151, 0.999867792795151, 0.999867792795151, 0.999867792795151]}], \"accuracy\": [{\"categories\": [\"0\", \"1\", \"2\", \"3\", \"4\", \"5\", \"6\", \"7\", \"8\", \"9\", \"10\", \"11\", \"12\", \"13\", \"14\", \"15\", \"16\", \"17\", \"18\", \"19\", \"20\", \"21\", \"22\", \"23\", \"24\", \"25\", \"26\", \"27\", \"28\", \"29\", \"30\", \"31\", \"32\", \"33\", \"34\", \"35\", \"36\", \"38\", \"39\"], \"mode\": \"markers\", \"name\": \"accuracy\", \"stepped\": false, \"type\": \"scatter\", \"data\": [0.9946597497711321, 0.9980164784864205, 0.9923710711016174, 0.9847421422032346, 0.9484284406469332, 0.9891669209642966, 0.9975587427525175, 0.9980164784864205, 0.9980164784864205, 0.9980164784864205, 0.9931339639914556, 0.9975587427525175, 0.9923710711016174, 0.9853524565151053, 0.9945071711931645, 0.7586206896551724, 0.9276777540433323, 0.9694842844064693, 0.9977113213304852, 0.9784864205065609, 0.9978638999084528, 0.9945071711931645, 0.9937442783033262, 0.9493439121147391, 0.9977113213304852, 0.5744583460482149, 0.9971010070186146, 0.98764113518462, 0.9975587427525175, 0.8462007934086054, 0.9752822703692402, 0.9185230393652731, 0.9494964906927067, 0.8619163869392737, 0.9859627708269759, 0.9903875495880379, 0.995575221238938, 0.9983216356423558, 0.9977113213304852]}, {\"categories\": [\"0\", \"1\", \"2\", \"3\", \"4\", \"5\", \"6\", \"7\", \"8\", \"9\", \"10\", \"11\", \"12\", \"13\", \"14\", \"15\", \"16\", \"17\", \"18\", \"19\", \"20\", \"21\", \"22\", \"23\", \"24\", \"25\", \"26\", \"27\", \"28\", \"29\", \"30\", \"31\", \"32\", \"33\", \"34\", \"35\", \"36\", \"38\", \"39\"], \"mode\": \"lines\", \"name\": \"accuracy_max\", \"stepped\": true, \"type\": \"scatter\", \"data\": [0.9946597497711321, 0.9980164784864205, 0.9980164784864205, 0.9980164784864205, 0.9980164784864205, 0.9980164784864205, 0.9980164784864205, 0.9980164784864205, 0.9980164784864205, 0.9980164784864205, 0.9980164784864205, 0.9980164784864205, 0.9980164784864205, 0.9980164784864205, 0.9980164784864205, 0.9980164784864205, 0.9980164784864205, 0.9980164784864205, 0.9980164784864205, 0.9980164784864205, 0.9980164784864205, 0.9980164784864205, 0.9980164784864205, 0.9980164784864205, 0.9980164784864205, 0.9980164784864205, 0.9980164784864205, 0.9980164784864205, 0.9980164784864205, 0.9980164784864205, 0.9980164784864205, 0.9980164784864205, 0.9980164784864205, 0.9980164784864205, 0.9980164784864205, 0.9980164784864205, 0.9980164784864205, 0.9983216356423558, 0.9983216356423558]}], \"recall_score_macro\": [{\"categories\": [\"0\", \"1\", \"2\", \"3\", \"4\", \"5\", \"6\", \"7\", \"8\", \"9\", \"10\", \"11\", \"12\", \"13\", \"14\", \"15\", \"16\", \"17\", \"18\", \"19\", \"20\", \"21\", \"22\", \"23\", \"24\", \"25\", \"26\", \"27\", \"28\", \"29\", \"30\", \"31\", \"32\", \"33\", \"34\", \"35\", \"36\", \"38\", \"39\"], \"mode\": \"markers\", \"name\": \"recall_score_macro\", \"stepped\": false, \"type\": \"scatter\", \"data\": [0.8953163979607718, 0.8486333518494401, 0.7444021556646441, 0.7349591183852537, 0.9460381290049941, 0.7390930385640007, 0.8482333950832206, 0.8485329750599558, 0.8486333518494401, 0.7986997529118571, 0.7434292627134336, 0.8478318879252835, 0.7445025324541283, 0.7351243458454375, 0.7450306401700293, 0.45240501192915683, 0.6990836741980266, 0.7296239104068494, 0.7985669507870232, 0.7344449641948108, 0.7488001297013414, 0.7457332776964192, 0.7469069242265982, 0.7053005677977439, 0.7485329750599559, 0.25, 0.7482673708102878, 0.7383286511503464, 0.7984001729351219, 0.8785631323937073, 0.7245185147778909, 0.8667285051477434, 0.8959670767674244, 0.6966091161261115, 0.735590703674074, 0.7421336668004433, 0.7471014762386965, 0.8488665307637584, 0.7486333518494401]}, {\"categories\": [\"0\", \"1\", \"2\", \"3\", \"4\", \"5\", \"6\", \"7\", \"8\", \"9\", \"10\", \"11\", \"12\", \"13\", \"14\", \"15\", \"16\", \"17\", \"18\", \"19\", \"20\", \"21\", \"22\", \"23\", \"24\", \"25\", \"26\", \"27\", \"28\", \"29\", \"30\", \"31\", \"32\", \"33\", \"34\", \"35\", \"36\", \"38\", \"39\"], \"mode\": \"lines\", \"name\": \"recall_score_macro_max\", \"stepped\": true, \"type\": \"scatter\", \"data\": [0.8953163979607718, 0.8953163979607718, 0.8953163979607718, 0.8953163979607718, 0.9460381290049941, 0.9460381290049941, 0.9460381290049941, 0.9460381290049941, 0.9460381290049941, 0.9460381290049941, 0.9460381290049941, 0.9460381290049941, 0.9460381290049941, 0.9460381290049941, 0.9460381290049941, 0.9460381290049941, 0.9460381290049941, 0.9460381290049941, 0.9460381290049941, 0.9460381290049941, 0.9460381290049941, 0.9460381290049941, 0.9460381290049941, 0.9460381290049941, 0.9460381290049941, 0.9460381290049941, 0.9460381290049941, 0.9460381290049941, 0.9460381290049941, 0.9460381290049941, 0.9460381290049941, 0.9460381290049941, 0.9460381290049941, 0.9460381290049941, 0.9460381290049941, 0.9460381290049941, 0.9460381290049941, 0.9460381290049941, 0.9460381290049941]}], \"f1_score_macro\": [{\"categories\": [\"0\", \"1\", \"2\", \"3\", \"4\", \"5\", \"6\", \"7\", \"8\", \"9\", \"10\", \"11\", \"12\", \"13\", \"14\", \"15\", \"16\", \"17\", \"18\", \"19\", \"20\", \"21\", \"22\", \"23\", \"24\", \"25\", \"26\", \"27\", \"28\", \"29\", \"30\", \"31\", \"32\", \"33\", \"34\", \"35\", \"36\", \"38\", \"39\"], \"mode\": \"markers\", \"name\": \"f1_score_macro\", \"stepped\": false, \"type\": \"scatter\", \"data\": [0.8812831559552551, 0.8910575895623987, 0.7428515391309892, 0.7330345648135337, 0.7242149427460686, 0.7379983190663821, 0.8906935372530826, 0.8731693551868795, 0.8910575895623987, 0.8315532991907215, 0.742842318660309, 0.8905132919799218, 0.7428540198297232, 0.7351458899791627, 0.7447803028485565, 0.4296130146262188, 0.6839240003538526, 0.7217662157063475, 0.8194990006521269, 0.7294310769687954, 0.7482510100474704, 0.7447928921997289, 0.745126330874623, 0.6973919224323348, 0.7480697932769221, 0.18243046806861132, 0.7476048528731563, 0.7369430777031103, 0.8104866226755744, 0.6395579598932858, 0.7219721273051953, 0.7003141855142224, 0.7188841954112313, 0.6408796950140199, 0.7355710531803026, 0.7404451656905154, 0.7463755273740909, 0.8912908417660724, 0.7481340809250187]}, {\"categories\": [\"0\", \"1\", \"2\", \"3\", \"4\", \"5\", \"6\", \"7\", \"8\", \"9\", \"10\", \"11\", \"12\", \"13\", \"14\", \"15\", \"16\", \"17\", \"18\", \"19\", \"20\", \"21\", \"22\", \"23\", \"24\", \"25\", \"26\", \"27\", \"28\", \"29\", \"30\", \"31\", \"32\", \"33\", \"34\", \"35\", \"36\", \"38\", \"39\"], \"mode\": \"lines\", \"name\": \"f1_score_macro_max\", \"stepped\": true, \"type\": \"scatter\", \"data\": [0.8812831559552551, 0.8910575895623987, 0.8910575895623987, 0.8910575895623987, 0.8910575895623987, 0.8910575895623987, 0.8910575895623987, 0.8910575895623987, 0.8910575895623987, 0.8910575895623987, 0.8910575895623987, 0.8910575895623987, 0.8910575895623987, 0.8910575895623987, 0.8910575895623987, 0.8910575895623987, 0.8910575895623987, 0.8910575895623987, 0.8910575895623987, 0.8910575895623987, 0.8910575895623987, 0.8910575895623987, 0.8910575895623987, 0.8910575895623987, 0.8910575895623987, 0.8910575895623987, 0.8910575895623987, 0.8910575895623987, 0.8910575895623987, 0.8910575895623987, 0.8910575895623987, 0.8910575895623987, 0.8910575895623987, 0.8910575895623987, 0.8910575895623987, 0.8910575895623987, 0.8910575895623987, 0.8912908417660724, 0.8912908417660724]}], \"balanced_accuracy\": [{\"categories\": [\"0\", \"1\", \"2\", \"3\", \"4\", \"5\", \"6\", \"7\", \"8\", \"9\", \"10\", \"11\", \"12\", \"13\", \"14\", \"15\", \"16\", \"17\", \"18\", \"19\", \"20\", \"21\", \"22\", \"23\", \"24\", \"25\", \"26\", \"27\", \"28\", \"29\", \"30\", \"31\", \"32\", \"33\", \"34\", \"35\", \"36\", \"38\", \"39\"], \"mode\": \"markers\", \"name\": \"balanced_accuracy\", \"stepped\": false, \"type\": \"scatter\", \"data\": [0.8953163979607718, 0.8486333518494401, 0.7444021556646441, 0.7349591183852537, 0.9460381290049941, 0.7390930385640007, 0.8482333950832206, 0.8485329750599558, 0.8486333518494401, 0.7986997529118571, 0.7434292627134336, 0.8478318879252835, 0.7445025324541283, 0.7351243458454375, 0.7450306401700293, 0.45240501192915683, 0.6990836741980266, 0.7296239104068494, 0.7985669507870232, 0.7344449641948108, 0.7488001297013414, 0.7457332776964192, 0.7469069242265982, 0.7053005677977439, 0.7485329750599559, 0.25, 0.7482673708102878, 0.7383286511503464, 0.7984001729351219, 0.8785631323937073, 0.7245185147778909, 0.8667285051477434, 0.8959670767674244, 0.6966091161261115, 0.735590703674074, 0.7421336668004433, 0.7471014762386965, 0.8488665307637584, 0.7486333518494401]}, {\"categories\": [\"0\", \"1\", \"2\", \"3\", \"4\", \"5\", \"6\", \"7\", \"8\", \"9\", \"10\", \"11\", \"12\", \"13\", \"14\", \"15\", \"16\", \"17\", \"18\", \"19\", \"20\", \"21\", \"22\", \"23\", \"24\", \"25\", \"26\", \"27\", \"28\", \"29\", \"30\", \"31\", \"32\", \"33\", \"34\", \"35\", \"36\", \"38\", \"39\"], \"mode\": \"lines\", \"name\": \"balanced_accuracy_max\", \"stepped\": true, \"type\": \"scatter\", \"data\": [0.8953163979607718, 0.8953163979607718, 0.8953163979607718, 0.8953163979607718, 0.9460381290049941, 0.9460381290049941, 0.9460381290049941, 0.9460381290049941, 0.9460381290049941, 0.9460381290049941, 0.9460381290049941, 0.9460381290049941, 0.9460381290049941, 0.9460381290049941, 0.9460381290049941, 0.9460381290049941, 0.9460381290049941, 0.9460381290049941, 0.9460381290049941, 0.9460381290049941, 0.9460381290049941, 0.9460381290049941, 0.9460381290049941, 0.9460381290049941, 0.9460381290049941, 0.9460381290049941, 0.9460381290049941, 0.9460381290049941, 0.9460381290049941, 0.9460381290049941, 0.9460381290049941, 0.9460381290049941, 0.9460381290049941, 0.9460381290049941, 0.9460381290049941, 0.9460381290049941, 0.9460381290049941, 0.9460381290049941, 0.9460381290049941]}]}, \"metricName\": null, \"primaryMetricName\": \"accuracy\", \"showLegend\": false}, \"run_metrics\": [{\"name\": \"experiment_status\", \"run_id\": \"AutoML_e9bb52d1-c96a-405a-8b97-1e34d1e5d5dc\", \"categories\": [0, 1, 2, 3, 4, 5, 6, 7, 8, 9, 10, 11, 12, 13], \"series\": [{\"data\": [\"DatasetEvaluation\", \"FeaturesGeneration\", \"DatasetFeaturization\", \"DatasetFeaturizationCompleted\", \"DatasetBalancing\", \"ModelSelection\", \"BestRunExplainModel\", \"ModelExplanationDataSetSetup\", \"PickSurrogateModel\", \"EngineeredFeatureExplanations\", \"EngineeredFeatureExplanations\", \"RawFeaturesExplanations\", \"RawFeaturesExplanations\", \"BestRunExplainModel\"]}]}, {\"name\": \"experiment_status_description\", \"run_id\": \"AutoML_e9bb52d1-c96a-405a-8b97-1e34d1e5d5dc\", \"categories\": [0, 1, 2, 3, 4, 5, 6, 7, 8, 9, 10, 11, 12, 13], \"series\": [{\"data\": [\"Gathering dataset statistics.\", \"Generating features for the dataset.\", \"Beginning to fit featurizers and featurize the dataset.\", \"Completed fit featurizers and featurizing the dataset.\", \"Performing class balancing sweeping\", \"Beginning model selection.\", \"Best run model explanations started\", \"Model explanations data setup completed\", \"Choosing LightGBM as the surrogate model for explanations\", \"Computation of engineered features started\", \"Computation of engineered features completed\", \"Computation of raw features started\", \"Computation of raw features completed\", \"Best run model explanations completed\"]}]}, {\"name\": \"AUC_micro\", \"run_id\": \"AutoML_e9bb52d1-c96a-405a-8b97-1e34d1e5d5dc\", \"categories\": [0], \"series\": [{\"data\": [0.9999005624098222]}]}, {\"name\": \"accuracy\", \"run_id\": \"AutoML_e9bb52d1-c96a-405a-8b97-1e34d1e5d5dc\", \"categories\": [0], \"series\": [{\"data\": [0.9983216356423558]}]}, {\"name\": \"matthews_correlation\", \"run_id\": \"AutoML_e9bb52d1-c96a-405a-8b97-1e34d1e5d5dc\", \"categories\": [0], \"series\": [{\"data\": [0.9971036574106574]}]}, {\"name\": \"average_precision_score_macro\", \"run_id\": \"AutoML_e9bb52d1-c96a-405a-8b97-1e34d1e5d5dc\", \"categories\": [0], \"series\": [{\"data\": [0.8856906309372856]}]}, {\"name\": \"balanced_accuracy\", \"run_id\": \"AutoML_e9bb52d1-c96a-405a-8b97-1e34d1e5d5dc\", \"categories\": [0], \"series\": [{\"data\": [0.8488665307637584]}]}, {\"name\": \"recall_score_weighted\", \"run_id\": \"AutoML_e9bb52d1-c96a-405a-8b97-1e34d1e5d5dc\", \"categories\": [0], \"series\": [{\"data\": [0.9983216356423558]}]}, {\"name\": \"log_loss\", \"run_id\": \"AutoML_e9bb52d1-c96a-405a-8b97-1e34d1e5d5dc\", \"categories\": [0], \"series\": [{\"data\": [0.02290679460404174]}]}, {\"name\": \"average_precision_score_micro\", \"run_id\": \"AutoML_e9bb52d1-c96a-405a-8b97-1e34d1e5d5dc\", \"categories\": [0], \"series\": [{\"data\": [0.9997052354931119]}]}, {\"name\": \"f1_score_micro\", \"run_id\": \"AutoML_e9bb52d1-c96a-405a-8b97-1e34d1e5d5dc\", \"categories\": [0], \"series\": [{\"data\": [0.9983216356423558]}]}, {\"name\": \"norm_macro_recall\", \"run_id\": \"AutoML_e9bb52d1-c96a-405a-8b97-1e34d1e5d5dc\", \"categories\": [0], \"series\": [{\"data\": [0.7984887076850112]}]}, {\"name\": \"AUC_macro\", \"run_id\": \"AutoML_e9bb52d1-c96a-405a-8b97-1e34d1e5d5dc\", \"categories\": [0], \"series\": [{\"data\": [0.999313198947781]}]}, {\"name\": \"precision_score_micro\", \"run_id\": \"AutoML_e9bb52d1-c96a-405a-8b97-1e34d1e5d5dc\", \"categories\": [0], \"series\": [{\"data\": [0.9983216356423558]}]}, {\"name\": \"f1_score_weighted\", \"run_id\": \"AutoML_e9bb52d1-c96a-405a-8b97-1e34d1e5d5dc\", \"categories\": [0], \"series\": [{\"data\": [0.9982242950246364]}]}, {\"name\": \"precision_score_macro\", \"run_id\": \"AutoML_e9bb52d1-c96a-405a-8b97-1e34d1e5d5dc\", \"categories\": [0], \"series\": [{\"data\": [0.9980036640643501]}]}, {\"name\": \"weighted_accuracy\", \"run_id\": \"AutoML_e9bb52d1-c96a-405a-8b97-1e34d1e5d5dc\", \"categories\": [0], \"series\": [{\"data\": [0.9990849020963096]}]}, {\"name\": \"recall_score_micro\", \"run_id\": \"AutoML_e9bb52d1-c96a-405a-8b97-1e34d1e5d5dc\", \"categories\": [0], \"series\": [{\"data\": [0.9983216356423558]}]}, {\"name\": \"AUC_weighted\", \"run_id\": \"AutoML_e9bb52d1-c96a-405a-8b97-1e34d1e5d5dc\", \"categories\": [0], \"series\": [{\"data\": [0.9997842910771036]}]}, {\"name\": \"recall_score_macro\", \"run_id\": \"AutoML_e9bb52d1-c96a-405a-8b97-1e34d1e5d5dc\", \"categories\": [0], \"series\": [{\"data\": [0.8488665307637584]}]}, {\"name\": \"precision_score_weighted\", \"run_id\": \"AutoML_e9bb52d1-c96a-405a-8b97-1e34d1e5d5dc\", \"categories\": [0], \"series\": [{\"data\": [0.9983253810766668]}]}, {\"name\": \"f1_score_macro\", \"run_id\": \"AutoML_e9bb52d1-c96a-405a-8b97-1e34d1e5d5dc\", \"categories\": [0], \"series\": [{\"data\": [0.8912908417660724]}]}, {\"name\": \"average_precision_score_weighted\", \"run_id\": \"AutoML_e9bb52d1-c96a-405a-8b97-1e34d1e5d5dc\", \"categories\": [0], \"series\": [{\"data\": [0.9986018444971453]}]}], \"run_logs\": \"\\nRun is completed.\", \"graph\": {}, \"widget_settings\": {\"childWidgetDisplay\": \"popup\", \"send_telemetry\": false, \"log_level\": \"INFO\", \"sdk_version\": \"1.20.0\"}, \"loading\": false}"
          },
          "metadata": {}
        },
        {
          "output_type": "stream",
          "name": "stdout",
          "text": [
            "\n",
            "Current status: FeaturesGeneration. Generating features for the dataset.\n",
            "Current status: DatasetBalancing. Performing class balancing sweeping\n",
            "Current status: ModelSelection. Beginning model selection.\n",
            "\n",
            "****************************************************************************************************\n",
            "DATA GUARDRAILS: \n",
            "\n",
            "TYPE:         Train-Test data split\n",
            "STATUS:       DONE\n",
            "DESCRIPTION:  Your input data has been split into a training dataset and a holdout test dataset for validation of the model. The test holdout dataset reflects the original distribution of your input data.\n",
            "              \n",
            "DETAILS:      \n",
            "+---------------------------------+---------------------------------+---------------------------------+\n",
            "|Dataset                          |Row counts                       |Percentage                       |\n",
            "+=================================+=================================+=================================+\n",
            "|train                            |58978                            |89.99877922236465                |\n",
            "|test                             |6554                             |10.001220777635353               |\n",
            "+---------------------------------+---------------------------------+---------------------------------+\n",
            "\n",
            "****************************************************************************************************\n",
            "\n",
            "TYPE:         Class balancing detection\n",
            "STATUS:       ALERTED\n",
            "DESCRIPTION:  To decrease model bias, please cancel the current run and fix balancing problem.\n",
            "              Learn more about imbalanced data: https://aka.ms/AutomatedMLImbalancedData\n",
            "DETAILS:      Imbalanced data can lead to a falsely perceived positive effect of a model's accuracy because the input data has bias towards one class.\n",
            "+---------------------------------+---------------------------------+--------------------------------------+\n",
            "|Size of the smallest class       |Name/Label of the smallest class |Number of samples in the training data|\n",
            "+=================================+=================================+======================================+\n",
            "|49                               |reset-both                       |58978                                 |\n",
            "+---------------------------------+---------------------------------+--------------------------------------+\n",
            "\n",
            "****************************************************************************************************\n",
            "\n",
            "TYPE:         Missing feature values imputation\n",
            "STATUS:       PASSED\n",
            "DESCRIPTION:  No feature missing values were detected in the training data.\n",
            "              Learn more about missing value imputation: https://aka.ms/AutomatedMLFeaturization\n",
            "\n",
            "****************************************************************************************************\n",
            "\n",
            "TYPE:         High cardinality feature detection\n",
            "STATUS:       PASSED\n",
            "DESCRIPTION:  Your inputs were analyzed, and no high cardinality features were detected.\n",
            "              Learn more about high cardinality feature handling: https://aka.ms/AutomatedMLFeaturization\n",
            "\n",
            "****************************************************************************************************\n",
            "\n",
            "****************************************************************************************************\n",
            "ITERATION: The iteration being evaluated.\n",
            "PIPELINE: A summary description of the pipeline being evaluated.\n",
            "DURATION: Time taken for the current iteration.\n",
            "METRIC: The result of computing score on the fitted pipeline.\n",
            "BEST: The best observed score thus far.\n",
            "****************************************************************************************************\n",
            "\n",
            " ITERATION   PIPELINE                                       DURATION      METRIC      BEST\n",
            "         4   MinMaxScaler RandomForest                      0:00:57       0.9484    0.9484\n",
            "         1   MaxAbsScaler XGBoostClassifier                 0:01:13       0.9980    0.9980\n",
            "         2   MinMaxScaler RandomForest                      0:00:52       0.9924    0.9980\n",
            "         0   MaxAbsScaler LightGBM                          0:02:10       0.9947    0.9980\n",
            "         3   MinMaxScaler RandomForest                      0:02:07       0.9847    0.9980\n",
            "         5   StandardScalerWrapper XGBoostClassifier        0:02:12       0.9892    0.9980\n",
            "         6   TruncatedSVDWrapper XGBoostClassifier          0:01:48       0.9976    0.9980\n",
            "         9   SparseNormalizer XGBoostClassifier             0:00:49       0.9980    0.9980\n",
            "        10   StandardScalerWrapper XGBoostClassifier        0:00:51       0.9931    0.9980\n",
            "         8   StandardScalerWrapper LightGBM                 0:00:57       0.9980    0.9980\n",
            "         7   SparseNormalizer XGBoostClassifier             0:02:22       0.9980    0.9980\n",
            "        11   MaxAbsScaler GradientBoosting                  0:01:37       0.9976    0.9980\n",
            "        12   MaxAbsScaler GradientBoosting                  0:00:59       0.9924    0.9980\n",
            "        13   RobustScaler LightGBM                          0:00:52       0.9854    0.9980\n",
            "        14   MaxAbsScaler LightGBM                          0:00:53       0.9945    0.9980\n",
            "        15   StandardScalerWrapper ExtremeRandomTrees       0:01:00       0.7586    0.9980\n",
            "        16   StandardScalerWrapper LogisticRegression       0:00:57       0.9277    0.9980\n",
            "        17   MinMaxScaler LogisticRegression                0:00:58       0.9695    0.9980\n",
            "        18   SparseNormalizer XGBoostClassifier             0:01:05       0.9977    0.9980\n",
            "        19   MinMaxScaler LogisticRegression                0:00:54       0.9785    0.9980\n",
            "        21   StandardScalerWrapper LightGBM                 0:00:52       0.9945    0.9980\n",
            "        22   StandardScalerWrapper LightGBM                 0:00:55       0.9937    0.9980\n",
            "        23   MaxAbsScaler ExtremeRandomTrees                0:00:55       0.9493    0.9980\n",
            "        24   SparseNormalizer XGBoostClassifier             0:01:03       0.9977    0.9980\n",
            "        25   PCA XGBoostClassifier                          0:00:49       0.5745    0.9980\n",
            "        26   SparseNormalizer XGBoostClassifier             0:00:59       0.9971    0.9980\n",
            "        27   MinMaxScaler LightGBM                          0:00:57       0.9876    0.9980\n",
            "        20   RobustScaler GradientBoosting                  0:02:48       0.9979    0.9980\n",
            "        28   SparseNormalizer XGBoostClassifier             0:01:10       0.9976    0.9980\n",
            "        29   MaxAbsScaler ExtremeRandomTrees                0:00:57       0.8462    0.9980\n",
            "        30   SparseNormalizer XGBoostClassifier             0:00:44       0.9753    0.9980\n",
            "        31   SparseNormalizer RandomForest                  0:00:45       0.9185    0.9980\n",
            "        32   StandardScalerWrapper RandomForest             0:00:55       0.9495    0.9980\n",
            "        33   MaxAbsScaler ExtremeRandomTrees                0:00:55       0.8619    0.9980\n",
            "        34   RobustScaler LightGBM                          0:00:39       0.9860    0.9980\n",
            "        35   SparseNormalizer XGBoostClassifier             0:00:32       0.9904    0.9980\n",
            "        36   StandardScalerWrapper XGBoostClassifier        0:00:31       0.9956    0.9980\n",
            "        37                                                  0:00:05          nan    0.9980\n",
            "ERROR: {\n",
            "    \"additional_properties\": {},\n",
            "    \"error\": {\n",
            "        \"additional_properties\": {\n",
            "            \"debugInfo\": null\n",
            "        },\n",
            "        \"code\": \"UserError\",\n",
            "        \"severity\": null,\n",
            "        \"message\": \"AzureMLCompute job AutoML_e9bb52d1-c96a-405a-8b97-1e34d1e5d5dc_37 does not exist.\",\n",
            "        \"message_format\": \"{Component} job {RunId} does not exist.\",\n",
            "        \"message_parameters\": {\n",
            "            \"Component\": \"AzureMLCompute\",\n",
            "            \"RunId\": \"AutoML_e9bb52d1-c96a-405a-8b97-1e34d1e5d5dc_37\"\n",
            "        },\n",
            "        \"reference_code\": null,\n",
            "        \"details_uri\": null,\n",
            "        \"target\": \"CancelUnderlyingJob\",\n",
            "        \"details\": [],\n",
            "        \"inner_error\": {\n",
            "            \"additional_properties\": {},\n",
            "            \"code\": \"BadArgument\",\n",
            "            \"inner_error\": {\n",
            "                \"additional_properties\": {},\n",
            "                \"code\": \"JobNotFound\",\n",
            "                \"inner_error\": null\n",
            "            }\n",
            "        }\n",
            "    },\n",
            "    \"correlation\": {\n",
            "        \"operation\": null,\n",
            "        \"request\": \"7d38a7893aebc3a4\"\n",
            "    },\n",
            "    \"environment\": \"southcentralus\",\n",
            "    \"location\": \"southcentralus\",\n",
            "    \"time\": {},\n",
            "    \"component_name\": \"execution-worker\"\n",
            "}\n",
            "        38    VotingEnsemble                                0:01:18       0.9983    0.9983\n",
            "        39    StackEnsemble                                 0:03:31       0.9977    0.9983\n"
          ]
        }
      ],
      "execution_count": 9,
      "metadata": {
        "gather": {
          "logged": 1612727131963
        },
        "jupyter": {
          "outputs_hidden": false,
          "source_hidden": false
        },
        "nteract": {
          "transient": {
            "deleting": false
          }
        }
      }
    },
    {
      "cell_type": "markdown",
      "source": [
        "## Best Model\n",
        "\n",
        "TODO: In the cell below, get the best model from the automl experiments and display all the properties of the model.\n",
        "\n"
      ],
      "metadata": {}
    },
    {
      "cell_type": "code",
      "source": [
        "# Retrieve and save your best automl model.\r\n",
        "automl_best_run, automl_fitted_model = automl_run.get_output()\r\n",
        "\r\n",
        "\r\n",
        "# Reference: https://knowledge.udacity.com/questions/357775 \r\n",
        "print(\"Fitted model: \", automl_fitted_model.steps[-1])\r\n",
        "print(\"---\"*5)\r\n",
        "print(\"AutoML best run accuracy: \", automl_best_run.get_metrics(name=\"accuracy\"))\r\n",
        "print(\"---\"*5)\r\n",
        "print(\"AutoML run Summary: \", automl_run.summary())\r\n"
      ],
      "outputs": [
        {
          "output_type": "stream",
          "name": "stderr",
          "text": [
            "WARNING:root:The version of the SDK does not match the version the model was trained on.\n",
            "WARNING:root:The consistency in the result may not be guaranteed.\n",
            "WARNING:root:Package:azureml-automl-core, training version:1.21.0, current version:1.20.0\n",
            "Package:azureml-automl-runtime, training version:1.21.0, current version:1.20.0\n",
            "Package:azureml-core, training version:1.21.0.post1, current version:1.20.0\n",
            "Package:azureml-dataprep, training version:2.8.2, current version:2.7.3\n",
            "Package:azureml-dataprep-native, training version:28.0.0, current version:27.0.0\n",
            "Package:azureml-dataprep-rslex, training version:1.6.0, current version:1.5.0\n",
            "Package:azureml-dataset-runtime, training version:1.21.0, current version:1.20.0\n",
            "Package:azureml-defaults, training version:1.21.0, current version:1.20.0\n",
            "Package:azureml-interpret, training version:1.21.0, current version:1.20.0\n",
            "Package:azureml-pipeline-core, training version:1.21.0, current version:1.20.0\n",
            "Package:azureml-telemetry, training version:1.21.0, current version:1.20.0\n",
            "Package:azureml-train-automl-client, training version:1.21.0, current version:1.20.0\n",
            "Package:azureml-train-automl-runtime, training version:1.21.0, current version:1.20.0\n",
            "WARNING:root:Please ensure the version of your local conda dependencies match the version on which your model was trained in order to properly retrieve your model.\n"
          ]
        },
        {
          "output_type": "stream",
          "name": "stdout",
          "text": [
            "Fitted model:  ('prefittedsoftvotingclassifier', PreFittedSoftVotingClassifier(classification_labels=None,\n",
            "                              estimators=[('9',\n",
            "                                           Pipeline(memory=None,\n",
            "                                                    steps=[('sparsenormalizer',\n",
            "                                                            <azureml.automl.runtime.shared.model_wrappers.SparseNormalizer object at 0x7f3d2ac14cc0>),\n",
            "                                                           ('xgboostclassifier',\n",
            "                                                            XGBoostClassifier(base_score=0.5,\n",
            "                                                                              booster='gbtree',\n",
            "                                                                              colsample_bylevel=1,\n",
            "                                                                              colsample_bynode=1,\n",
            "                                                                              colsample_bytree=0.9,\n",
            "                                                                              eta=0.3,\n",
            "                                                                              ga...\n",
            "                                                                                       min_weight_fraction_leaf=0.0,\n",
            "                                                                                       n_estimators=600,\n",
            "                                                                                       n_iter_no_change=None,\n",
            "                                                                                       presort='deprecated',\n",
            "                                                                                       random_state=None,\n",
            "                                                                                       subsample=0.6684210526315789,\n",
            "                                                                                       tol=0.0001,\n",
            "                                                                                       validation_fraction=0.1,\n",
            "                                                                                       verbose=0,\n",
            "                                                                                       warm_start=False))],\n",
            "                                                    verbose=False))],\n",
            "                              flatten_transform=None,\n",
            "                              weights=[0.16666666666666666, 0.16666666666666666,\n",
            "                                       0.3333333333333333, 0.16666666666666666,\n",
            "                                       0.16666666666666666]))\n",
            "---------------\n",
            "AutoML best run accuracy:  {'accuracy': 0.9983216356423558}\n",
            "---------------\n",
            "AutoML run Summary:  [['StackEnsemble', 1, 0.9977113213304852], ['VotingEnsemble', 1, 0.9983216356423558], ['Failed', 1, nan], ['XGBoostClassifier', 14, 0.9980164784864205], ['LightGBM', 8, 0.9980164784864205], ['ExtremeRandomTrees', 4, 0.9493439121147391], ['RandomForest', 5, 0.9923710711016174], ['GradientBoosting', 3, 0.9978638999084528], ['LogisticRegression', 3, 0.9784864205065609]]\n"
          ]
        }
      ],
      "execution_count": 10,
      "metadata": {
        "gather": {
          "logged": 1612727272453
        },
        "jupyter": {
          "outputs_hidden": false,
          "source_hidden": false
        },
        "nteract": {
          "transient": {
            "deleting": false
          }
        }
      }
    },
    {
      "cell_type": "code",
      "source": [
        "automl_estimator = automl_fitted_model.steps[-1]\r\n",
        "print(automl_estimator)"
      ],
      "outputs": [
        {
          "output_type": "stream",
          "name": "stdout",
          "text": [
            "('prefittedsoftvotingclassifier', PreFittedSoftVotingClassifier(classification_labels=None,\n",
            "                              estimators=[('9',\n",
            "                                           Pipeline(memory=None,\n",
            "                                                    steps=[('sparsenormalizer',\n",
            "                                                            <azureml.automl.runtime.shared.model_wrappers.SparseNormalizer object at 0x7f3d2ac14cc0>),\n",
            "                                                           ('xgboostclassifier',\n",
            "                                                            XGBoostClassifier(base_score=0.5,\n",
            "                                                                              booster='gbtree',\n",
            "                                                                              colsample_bylevel=1,\n",
            "                                                                              colsample_bynode=1,\n",
            "                                                                              colsample_bytree=0.9,\n",
            "                                                                              eta=0.3,\n",
            "                                                                              ga...\n",
            "                                                                                       min_weight_fraction_leaf=0.0,\n",
            "                                                                                       n_estimators=600,\n",
            "                                                                                       n_iter_no_change=None,\n",
            "                                                                                       presort='deprecated',\n",
            "                                                                                       random_state=None,\n",
            "                                                                                       subsample=0.6684210526315789,\n",
            "                                                                                       tol=0.0001,\n",
            "                                                                                       validation_fraction=0.1,\n",
            "                                                                                       verbose=0,\n",
            "                                                                                       warm_start=False))],\n",
            "                                                    verbose=False))],\n",
            "                              flatten_transform=None,\n",
            "                              weights=[0.16666666666666666, 0.16666666666666666,\n",
            "                                       0.3333333333333333, 0.16666666666666666,\n",
            "                                       0.16666666666666666]))\n"
          ]
        }
      ],
      "execution_count": 11,
      "metadata": {
        "collapsed": true,
        "jupyter": {
          "source_hidden": false,
          "outputs_hidden": false
        },
        "nteract": {
          "transient": {
            "deleting": false
          }
        },
        "gather": {
          "logged": 1612727272535
        }
      }
    },
    {
      "cell_type": "code",
      "source": [
        "automl_best_run"
      ],
      "outputs": [
        {
          "output_type": "execute_result",
          "execution_count": 12,
          "data": {
            "text/plain": "Run(Experiment: internet-firewall-automl,\nId: AutoML_e9bb52d1-c96a-405a-8b97-1e34d1e5d5dc_38,\nType: azureml.scriptrun,\nStatus: Completed)",
            "text/html": "<table style=\"width:100%\"><tr><th>Experiment</th><th>Id</th><th>Type</th><th>Status</th><th>Details Page</th><th>Docs Page</th></tr><tr><td>internet-firewall-automl</td><td>AutoML_e9bb52d1-c96a-405a-8b97-1e34d1e5d5dc_38</td><td>azureml.scriptrun</td><td>Completed</td><td><a href=\"https://ml.azure.com/experiments/internet-firewall-automl/runs/AutoML_e9bb52d1-c96a-405a-8b97-1e34d1e5d5dc_38?wsid=/subscriptions/3e42d11f-d64d-4173-af9b-12ecaa1030b3/resourcegroups/aml-quickstarts-137969/workspaces/quick-starts-ws-137969\" target=\"_blank\" rel=\"noopener\">Link to Azure Machine Learning studio</a></td><td><a href=\"https://docs.microsoft.com/en-us/python/api/azureml-core/azureml.core.run.Run?view=azure-ml-py\" target=\"_blank\" rel=\"noopener\">Link to Documentation</a></td></tr></table>"
          },
          "metadata": {}
        }
      ],
      "execution_count": 12,
      "metadata": {
        "collapsed": true,
        "jupyter": {
          "source_hidden": false,
          "outputs_hidden": false
        },
        "nteract": {
          "transient": {
            "deleting": false
          }
        },
        "gather": {
          "logged": 1612727272768
        }
      }
    },
    {
      "cell_type": "code",
      "source": [
        "# model.get_file_names()\r\n"
      ],
      "outputs": [],
      "execution_count": 13,
      "metadata": {
        "collapsed": true,
        "jupyter": {
          "source_hidden": false,
          "outputs_hidden": false
        },
        "nteract": {
          "transient": {
            "deleting": false
          }
        },
        "gather": {
          "logged": 1612727272945
        }
      }
    },
    {
      "cell_type": "code",
      "source": [
        "import joblib\r\n",
        "import os\r\n",
        "\r\n",
        "try:\r\n",
        "    os.mkdir('outputs')\r\n",
        "except:\r\n",
        "    print('outputs already exists')\r\n",
        "\r\n",
        "# automl_best_run.register_model(model_name = 'automl_best_model.pkl', model_path = './outputs/')\r\n",
        "joblib.dump(automl_fitted_model, \"./outputs/automl_fitted_model.pkl\")\r\n",
        "\r\n",
        "model_name = 'Internet-firewall-AML-model'\r\n",
        "\r\n",
        "model = automl_best_run.register_model(model_name = model_name, model_path = 'outputs/model.pkl')\r\n",
        "print(model.name, model.id, model.version, sep='\\t')"
      ],
      "outputs": [
        {
          "output_type": "stream",
          "name": "stdout",
          "text": [
            "Internet-firewall-AML-model\tInternet-firewall-AML-model:1\t1\n"
          ]
        }
      ],
      "execution_count": 14,
      "metadata": {
        "gather": {
          "logged": 1612727273264
        },
        "jupyter": {
          "outputs_hidden": false,
          "source_hidden": false
        },
        "nteract": {
          "transient": {
            "deleting": false
          }
        }
      }
    },
    {
      "cell_type": "markdown",
      "source": [
        "## Model Deployment\n",
        "\n",
        "Remember you have to deploy only one of the two models you trained.. Perform the steps in the rest of this notebook only if you wish to deploy this model.\n",
        "\n",
        "TODO: In the cell below, register the model, create an inference config and deploy the model as a web service."
      ],
      "metadata": {}
    },
    {
      "cell_type": "code",
      "source": [
        "from azureml.automl.core.shared import constants\r\n",
        "from azureml.core.model import InferenceConfig, Model\r\n",
        "from azureml.core.environment import Environment\r\n",
        "from azureml.core.webservice import AciWebservice, Webservice\r\n",
        "\r\n",
        "# Register the model to deploy\r\n",
        "# model = automl_best_run.register_model(model_name = \"mymodel\", model_path = \"outputs/model.pkl\")\r\n",
        "automl_best_run.download_file(constants.CONDA_ENV_FILE_PATH, 'myenv.yml')\r\n",
        "\r\n",
        "env = Environment.from_conda_specification('myenv', 'myenv.yml')\r\n",
        "inference_config = InferenceConfig(entry_script='score.py', environment=env)\r\n",
        "\r\n",
        "aci_config = AciWebservice.deploy_configuration(cpu_cores=1, memory_gb=1, auth_enabled=True,tags = {'name':'Action Prediction'},description='Internet Firewall Data')\r\n",
        "service = model.deploy(workspace=ws,name=\"internet-firewall-automl-deploy\",models=[model],inference_config=inference_config,deployment_config=aci_config)\r\n",
        "\r\n",
        "service.wait_for_deployment(show_output=True)"
      ],
      "outputs": [
        {
          "output_type": "stream",
          "name": "stdout",
          "text": [
            "Tips: You can try get_logs(): https://aka.ms/debugimage#dockerlog or local deployment: https://aka.ms/debugimage#debug-locally to debug if deployment takes longer than 10 minutes.\n",
            "Running..........................................................................................................................................................................\n",
            "Succeeded\n",
            "ACI service creation operation finished, operation \"Succeeded\"\n"
          ]
        }
      ],
      "execution_count": 15,
      "metadata": {
        "collapsed": true,
        "jupyter": {
          "source_hidden": false,
          "outputs_hidden": false
        },
        "nteract": {
          "transient": {
            "deleting": false
          }
        },
        "gather": {
          "logged": 1612728158666
        }
      }
    },
    {
      "cell_type": "code",
      "source": [
        "print(service.get_logs())"
      ],
      "outputs": [
        {
          "output_type": "stream",
          "name": "stdout",
          "text": [
            "/usr/sbin/nginx: /azureml-envs/azureml_7785023fceb74e4facc1b1a577b1faf9/lib/libcrypto.so.1.0.0: no version information available (required by /usr/sbin/nginx)\n",
            "/usr/sbin/nginx: /azureml-envs/azureml_7785023fceb74e4facc1b1a577b1faf9/lib/libcrypto.so.1.0.0: no version information available (required by /usr/sbin/nginx)\n",
            "/usr/sbin/nginx: /azureml-envs/azureml_7785023fceb74e4facc1b1a577b1faf9/lib/libssl.so.1.0.0: no version information available (required by /usr/sbin/nginx)\n",
            "/usr/sbin/nginx: /azureml-envs/azureml_7785023fceb74e4facc1b1a577b1faf9/lib/libssl.so.1.0.0: no version information available (required by /usr/sbin/nginx)\n",
            "/usr/sbin/nginx: /azureml-envs/azureml_7785023fceb74e4facc1b1a577b1faf9/lib/libssl.so.1.0.0: no version information available (required by /usr/sbin/nginx)\n",
            "2021-02-07T20:02:26,198994171+00:00 - iot-server/run \n",
            "2021-02-07T20:02:26,199827979+00:00 - nginx/run \n",
            "2021-02-07T20:02:26,200197383+00:00 - gunicorn/run \n",
            "2021-02-07T20:02:26,199319774+00:00 - rsyslog/run \n",
            "rsyslogd: /azureml-envs/azureml_7785023fceb74e4facc1b1a577b1faf9/lib/libuuid.so.1: no version information available (required by rsyslogd)\n",
            "EdgeHubConnectionString and IOTEDGE_IOTHUBHOSTNAME are not set. Exiting...\n",
            "2021-02-07T20:02:26,417885784+00:00 - iot-server/finish 1 0\n",
            "2021-02-07T20:02:26,419259797+00:00 - Exit code 1 is normal. Not restarting iot-server.\n",
            "Starting gunicorn 19.9.0\n",
            "Listening at: http://127.0.0.1:31311 (14)\n",
            "Using worker: sync\n",
            "worker timeout is set to 300\n",
            "Booting worker with pid: 42\n",
            "SPARK_HOME not set. Skipping PySpark Initialization.\n",
            "Generating new fontManager, this may take some time...\n",
            "Initializing logger\n",
            "2021-02-07 20:02:30,006 | root | INFO | Starting up app insights client\n",
            "2021-02-07 20:02:30,006 | root | INFO | Starting up request id generator\n",
            "2021-02-07 20:02:30,007 | root | INFO | Starting up app insight hooks\n",
            "2021-02-07 20:02:30,007 | root | INFO | Invoking user's init function\n",
            "2021-02-07 20:02:32,513 | root | INFO | Users's init has completed successfully\n",
            "/azureml-envs/azureml_7785023fceb74e4facc1b1a577b1faf9/lib/python3.6/site-packages/sklearn/externals/joblib/__init__.py:15: FutureWarning: sklearn.externals.joblib is deprecated in 0.21 and will be removed in 0.23. Please import this functionality directly from joblib, which can be installed with: pip install joblib. If this warning is raised when loading pickled models, you may need to re-serialize those models with scikit-learn 0.21+.\n",
            "  warnings.warn(msg, category=FutureWarning)\n",
            "2021-02-07 20:02:32,517 | root | INFO | Skipping middleware: dbg_model_info as it's not enabled.\n",
            "2021-02-07 20:02:32,517 | root | INFO | Skipping middleware: dbg_resource_usage as it's not enabled.\n",
            "2021-02-07 20:02:32,518 | root | INFO | Scoring timeout is found from os.environ: 60000 ms\n",
            "2021-02-07 20:02:35,623 | root | INFO | Swagger file not present\n",
            "2021-02-07 20:02:35,623 | root | INFO | 404\n",
            "127.0.0.1 - - [07/Feb/2021:20:02:35 +0000] \"GET /swagger.json HTTP/1.0\" 404 19 \"-\" \"Go-http-client/1.1\"\n",
            "2021-02-07 20:02:38,606 | root | INFO | Swagger file not present\n",
            "2021-02-07 20:02:38,606 | root | INFO | 404\n",
            "127.0.0.1 - - [07/Feb/2021:20:02:38 +0000] \"GET /swagger.json HTTP/1.0\" 404 19 \"-\" \"Go-http-client/1.1\"\n",
            "\n"
          ]
        }
      ],
      "execution_count": 16,
      "metadata": {
        "collapsed": true,
        "jupyter": {
          "source_hidden": false,
          "outputs_hidden": false
        },
        "nteract": {
          "transient": {
            "deleting": false
          }
        },
        "gather": {
          "logged": 1612728159062
        }
      }
    },
    {
      "cell_type": "code",
      "source": [
        "service.update(enable_app_insights=True)\r\n",
        "\r\n",
        "print(service.state)\r\n",
        "print(\"scoring URI: \" + service.scoring_uri)"
      ],
      "outputs": [
        {
          "output_type": "stream",
          "name": "stdout",
          "text": [
            "Healthy\n",
            "scoring URI: http://4c0c9c31-7ce6-414a-8b76-e13984fc8664.southcentralus.azurecontainer.io/score\n"
          ]
        }
      ],
      "execution_count": 17,
      "metadata": {
        "gather": {
          "logged": 1612728160152
        },
        "jupyter": {
          "outputs_hidden": false,
          "source_hidden": false
        },
        "nteract": {
          "transient": {
            "deleting": false
          }
        }
      }
    },
    {
      "cell_type": "markdown",
      "source": [
        "TODO: In the cell below, send a request to the web service you deployed to test it."
      ],
      "metadata": {
        "collapsed": true,
        "gather": {
          "logged": 1598431657736
        },
        "jupyter": {
          "outputs_hidden": false,
          "source_hidden": false
        },
        "nteract": {
          "transient": {
            "deleting": false
          }
        }
      }
    },
    {
      "cell_type": "code",
      "source": [
        "import json\r\n",
        "import requests\r\n",
        "# URL for the web service\r\n",
        "scoring_uri = 'http://4c0c9c31-7ce6-414a-8b76-e13984fc8664.southcentralus.azurecontainer.io/score'\r\n",
        "# If the service is authenticated, set the key or token\r\n",
        "key = 'oxUWwEd6Y8LVPVX1eCzAPhMl4th3UFYP'\r\n",
        "\r\n",
        "data = {\r\n",
        "  \"data\": [\r\n",
        "    {#ALLOW\r\n",
        "                  'Source Port': 50148, \r\n",
        "                  'Destination Port': 80, \r\n",
        "                  'NAT Source Port': 57004,\r\n",
        "                  'NAT Destination Port': 80,\r\n",
        "                  'Bytes': 9058,\r\n",
        "                  'Bytes Sent': 868,\r\n",
        "                  'Bytes Received': 8190,\r\n",
        "                  'Packets': 18,\r\n",
        "                  'Elapsed Time (sec)': 46,\r\n",
        "                  'pkts_sent': 10,\r\n",
        "                  'pkts_received': 8\r\n",
        "                 \r\n",
        "                 \r\n",
        "    },\r\n",
        "    {#DENY\r\n",
        "                  'Source Port': 56103, \r\n",
        "                  'Destination Port': 21247, \r\n",
        "                  'NAT Source Port': 0,\r\n",
        "                  'NAT Destination Port': 0,\r\n",
        "                  'Bytes': 66,\r\n",
        "                  'Bytes Sent': 66,\r\n",
        "                  'Bytes Received': 0,\r\n",
        "                  'Packets': 1,\r\n",
        "                  'Elapsed Time (sec)': 0,\r\n",
        "                  'pkts_sent': 1,\r\n",
        "                  'pkts_received': 0\r\n",
        "                 \r\n",
        "                 \r\n",
        "    },\r\n",
        "    {#DROP\r\n",
        "                  'Source Port': 49783, \r\n",
        "                  'Destination Port': 445, \r\n",
        "                  'NAT Source Port': 0,\r\n",
        "                  'NAT Destination Port': 0,\r\n",
        "                  'Bytes': 70,\r\n",
        "                  'Bytes Sent': 70,\r\n",
        "                  'Bytes Received': 0,\r\n",
        "                  'Packets': 1,\r\n",
        "                  'Elapsed Time (sec)': 0,\r\n",
        "                  'pkts_sent': 1,\r\n",
        "                  'pkts_received': 0\r\n",
        "                 \r\n",
        "                 \r\n",
        "    }\r\n",
        " ]\r\n",
        "}\r\n",
        "# Convert to JSON string\r\n",
        "input_data = json.dumps(data)\r\n",
        "output = service.run(input_data)\r\n",
        "#print(f\"Predicted: {output}\\nExpected: {y}\")\r\n",
        "\r\n",
        "headers = {'Content-Type': 'application/json'}\r\n",
        "headers['Authorization'] = f'Bearer {key}'\r\n",
        "\r\n",
        "# Make the request and display the response\r\n",
        "resp = requests.post(scoring_uri, input_data, headers=headers)\r\n",
        "print(\"prediction \", resp.text)"
      ],
      "outputs": [
        {
          "output_type": "stream",
          "name": "stdout",
          "text": [
            "prediction  [\"allow\", \"deny\", \"drop\"]\n"
          ]
        }
      ],
      "execution_count": 24,
      "metadata": {
        "gather": {
          "logged": 1612729082588
        },
        "jupyter": {
          "outputs_hidden": false,
          "source_hidden": false
        },
        "nteract": {
          "transient": {
            "deleting": false
          }
        }
      }
    },
    {
      "cell_type": "markdown",
      "source": [
        "TODO: In the cell below, print the logs of the web service and delete the service"
      ],
      "metadata": {
        "collapsed": true,
        "gather": {
          "logged": 1598432765711
        },
        "jupyter": {
          "outputs_hidden": false,
          "source_hidden": false
        },
        "nteract": {
          "transient": {
            "deleting": false
          }
        }
      }
    },
    {
      "cell_type": "code",
      "source": [
        "#print the logs of the web service\r\n",
        "print(service.get_logs())\r\n",
        "#delete the service\r\n",
        "service.delete()\r\n"
      ],
      "outputs": [
        {
          "output_type": "stream",
          "name": "stdout",
          "text": [
            "2021-02-07T20:02:46,826462885+00:00 - rsyslog/run \n",
            "2021-02-07T20:02:46,826924889+00:00 - iot-server/run \n",
            "2021-02-07T20:02:46,828618405+00:00 - gunicorn/run \n",
            "2021-02-07T20:02:46,834621663+00:00 - nginx/run \n",
            "/usr/sbin/nginx: /azureml-envs/azureml_7785023fceb74e4facc1b1a577b1faf9/lib/libcrypto.so.1.0.0: no version information available (required by /usr/sbin/nginx)\n",
            "/usr/sbin/nginx: /azureml-envs/azureml_7785023fceb74e4facc1b1a577b1faf9/lib/libcrypto.so.1.0.0: no version information available (required by /usr/sbin/nginx)\n",
            "/usr/sbin/nginx: /azureml-envs/azureml_7785023fceb74e4facc1b1a577b1faf9/lib/libssl.so.1.0.0: no version information available (required by /usr/sbin/nginx)\n",
            "/usr/sbin/nginx: /azureml-envs/azureml_7785023fceb74e4facc1b1a577b1faf9/lib/libssl.so.1.0.0: no version information available (required by /usr/sbin/nginx)\n",
            "/usr/sbin/nginx: /azureml-envs/azureml_7785023fceb74e4facc1b1a577b1faf9/lib/libssl.so.1.0.0: no version information available (required by /usr/sbin/nginx)\n",
            "rsyslogd: /azureml-envs/azureml_7785023fceb74e4facc1b1a577b1faf9/lib/libuuid.so.1: no version information available (required by rsyslogd)\n",
            "EdgeHubConnectionString and IOTEDGE_IOTHUBHOSTNAME are not set. Exiting...\n",
            "2021-02-07T20:02:47,023372786+00:00 - iot-server/finish 1 0\n",
            "2021-02-07T20:02:47,024617898+00:00 - Exit code 1 is normal. Not restarting iot-server.\n",
            "Starting gunicorn 19.9.0\n",
            "Listening at: http://127.0.0.1:31311 (10)\n",
            "Using worker: sync\n",
            "worker timeout is set to 300\n",
            "Booting worker with pid: 41\n",
            "SPARK_HOME not set. Skipping PySpark Initialization.\n",
            "Generating new fontManager, this may take some time...\n",
            "Initializing logger\n",
            "2021-02-07 20:02:49,853 | root | INFO | Starting up app insights client\n",
            "2021-02-07 20:02:49,853 | root | INFO | Starting up request id generator\n",
            "2021-02-07 20:02:49,853 | root | INFO | Starting up app insight hooks\n",
            "2021-02-07 20:02:49,853 | root | INFO | Invoking user's init function\n",
            "2021-02-07 20:02:51,821 | root | INFO | Users's init has completed successfully\n",
            "/azureml-envs/azureml_7785023fceb74e4facc1b1a577b1faf9/lib/python3.6/site-packages/sklearn/externals/joblib/__init__.py:15: FutureWarning: sklearn.externals.joblib is deprecated in 0.21 and will be removed in 0.23. Please import this functionality directly from joblib, which can be installed with: pip install joblib. If this warning is raised when loading pickled models, you may need to re-serialize those models with scikit-learn 0.21+.\n",
            "  warnings.warn(msg, category=FutureWarning)\n",
            "2021-02-07 20:02:51,824 | root | INFO | Skipping middleware: dbg_model_info as it's not enabled.\n",
            "2021-02-07 20:02:51,824 | root | INFO | Skipping middleware: dbg_resource_usage as it's not enabled.\n",
            "2021-02-07 20:02:51,825 | root | INFO | Scoring timeout is found from os.environ: 60000 ms\n",
            "2021-02-07 20:02:55,296 | root | INFO | Swagger file not present\n",
            "2021-02-07 20:02:55,296 | root | INFO | 404\n",
            "127.0.0.1 - - [07/Feb/2021:20:02:55 +0000] \"GET /swagger.json HTTP/1.0\" 404 19 \"-\" \"Go-http-client/1.1\"\n",
            "2021-02-07 20:04:41,957 | root | INFO | Swagger file not present\n",
            "2021-02-07 20:04:41,958 | root | INFO | 404\n",
            "127.0.0.1 - - [07/Feb/2021:20:04:41 +0000] \"GET /swagger.json HTTP/1.0\" 404 19 \"-\" \"Go-http-client/1.1\"\n",
            "2021-02-07 20:17:47,784 | root | INFO | Validation Request Content-Type\n",
            "2021-02-07 20:17:47,784 | root | INFO | Scoring Timer is set to 60.0 seconds\n",
            "2021-02-07 20:17:47,824 | root | INFO | 200\n",
            "127.0.0.1 - - [07/Feb/2021:20:17:47 +0000] \"POST /score HTTP/1.0\" 200 25 \"-\" \"python-requests/2.25.1\"\n",
            "2021-02-07 20:18:02,526 | root | INFO | Validation Request Content-Type\n",
            "2021-02-07 20:18:02,527 | root | INFO | Scoring Timer is set to 60.0 seconds\n",
            "2021-02-07 20:18:02,577 | root | INFO | 200\n",
            "127.0.0.1 - - [07/Feb/2021:20:18:02 +0000] \"POST /score HTTP/1.0\" 200 25 \"-\" \"python-requests/2.25.1\"\n",
            "2021-02-07 20:18:02,586 | root | INFO | Validation Request Content-Type\n",
            "2021-02-07 20:18:02,587 | root | INFO | Scoring Timer is set to 60.0 seconds\n",
            "2021-02-07 20:18:02,800 | root | INFO | 200\n",
            "127.0.0.1 - - [07/Feb/2021:20:18:02 +0000] \"POST /score HTTP/1.0\" 200 25 \"-\" \"python-requests/2.25.1\"\n",
            "\n"
          ]
        }
      ],
      "execution_count": 25,
      "metadata": {
        "jupyter": {
          "outputs_hidden": false,
          "source_hidden": false
        },
        "nteract": {
          "transient": {
            "deleting": false
          }
        },
        "gather": {
          "logged": 1612729156588
        }
      }
    }
  ],
  "metadata": {
    "kernel_info": {
      "name": "python3"
    },
    "kernelspec": {
      "name": "python3",
      "language": "python",
      "display_name": "Python 3"
    },
    "language_info": {
      "name": "python",
      "version": "3.6.9",
      "mimetype": "text/x-python",
      "codemirror_mode": {
        "name": "ipython",
        "version": 3
      },
      "pygments_lexer": "ipython3",
      "nbconvert_exporter": "python",
      "file_extension": ".py"
    },
    "nteract": {
      "version": "nteract-front-end@1.0.0"
    }
  },
  "nbformat": 4,
  "nbformat_minor": 2
}