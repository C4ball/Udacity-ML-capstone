{
  "cells": [
    {
      "cell_type": "markdown",
      "source": [
        "# Automated ML\n",
        "\n",
        "TODO: Import Dependencies. In the cell below, import all the dependencies that you will need to complete the project."
      ],
      "metadata": {}
    },
    {
      "cell_type": "code",
      "source": [
        "import logging\r\n",
        "import os\r\n",
        "import csv\r\n",
        "\r\n",
        "from matplotlib import pyplot as plt\r\n",
        "import numpy as np\r\n",
        "import pandas as pd\r\n",
        "from sklearn import datasets\r\n",
        "import pkg_resources\r\n",
        "\r\n",
        "import azureml.core\r\n",
        "from azureml.core.experiment import Experiment\r\n",
        "from azureml.core.workspace import Workspace\r\n",
        "from azureml.train.automl import AutoMLConfig\r\n",
        "from azureml.core.dataset import Dataset\r\n",
        "\r\n",
        "from azureml.pipeline.steps import AutoMLStep\r\n",
        "\r\n",
        "# Check core SDK version number\r\n",
        "print(\"SDK version:\", azureml.core.VERSION)"
      ],
      "outputs": [
        {
          "output_type": "stream",
          "name": "stdout",
          "text": [
            "SDK version: 1.20.0\n"
          ]
        }
      ],
      "execution_count": 1,
      "metadata": {
        "gather": {
          "logged": 1612798567846
        },
        "jupyter": {
          "outputs_hidden": false,
          "source_hidden": false
        },
        "nteract": {
          "transient": {
            "deleting": false
          }
        }
      }
    },
    {
      "cell_type": "markdown",
      "source": [
        "## Dataset\n",
        "\n",
        "### Overview\n",
        "TODO: In this markdown cell, give an overview of the dataset you are using. Also mention the task you will be performing.\n",
        "\n",
        "\n",
        "TODO: Get data. In the cell below, write code to access the data you will be using in this project. Remember that the dataset needs to be external."
      ],
      "metadata": {}
    },
    {
      "cell_type": "code",
      "source": [
        "ws = Workspace.from_config()\n",
        "\n",
        "# choose a name for experiment\n",
        "experiment_name = 'internet-firewall-automl'\n",
        "project_folder = './pipeline-project-automl'\n",
        "\n",
        "experiment=Experiment(ws, experiment_name)\n",
        "experiment"
      ],
      "outputs": [
        {
          "output_type": "stream",
          "name": "stdout",
          "text": [
            "Performing interactive authentication. Please follow the instructions on the terminal.\n",
            "To sign in, use a web browser to open the page https://microsoft.com/devicelogin and enter the code ED2BSHUV2 to authenticate.\n",
            "You have logged in. Now let us find all the subscriptions to which you have access...\n",
            "Interactive authentication successfully completed.\n"
          ]
        },
        {
          "output_type": "execute_result",
          "execution_count": 2,
          "data": {
            "text/plain": "Experiment(Name: internet-firewall-automl,\nWorkspace: quick-starts-ws-138160)",
            "text/html": "<table style=\"width:100%\"><tr><th>Name</th><th>Workspace</th><th>Report Page</th><th>Docs Page</th></tr><tr><td>internet-firewall-automl</td><td>quick-starts-ws-138160</td><td><a href=\"https://ml.azure.com/experiments/internet-firewall-automl?wsid=/subscriptions/3d1a56d2-7c81-4118-9790-f85d1acf0c77/resourcegroups/aml-quickstarts-138160/workspaces/quick-starts-ws-138160\" target=\"_blank\" rel=\"noopener\">Link to Azure Machine Learning studio</a></td><td><a href=\"https://docs.microsoft.com/en-us/python/api/azureml-core/azureml.core.experiment.Experiment?view=azure-ml-py\" target=\"_blank\" rel=\"noopener\">Link to Documentation</a></td></tr></table>"
          },
          "metadata": {}
        }
      ],
      "execution_count": 2,
      "metadata": {
        "gather": {
          "logged": 1612798588269
        },
        "jupyter": {
          "outputs_hidden": false,
          "source_hidden": false
        },
        "nteract": {
          "transient": {
            "deleting": false
          }
        }
      }
    },
    {
      "cell_type": "code",
      "source": [
        "from azureml.core.compute import AmlCompute\r\n",
        "from azureml.core.compute import ComputeTarget\r\n",
        "from azureml.core.compute_target import ComputeTargetException\r\n",
        "\r\n",
        "# NOTE: update the cluster name to match the existing cluster\r\n",
        "# Choose a name for your CPU cluster\r\n",
        "amlcompute_cluster_name = \"cc-sta-ds12-2\"\r\n",
        "\r\n",
        "# Verify that cluster does not exist already\r\n",
        "try:\r\n",
        "    compute_target = ComputeTarget(workspace=ws, name=amlcompute_cluster_name)\r\n",
        "    print('Found existing cluster, use it.')\r\n",
        "except ComputeTargetException:\r\n",
        "    compute_config = AmlCompute.provisioning_configuration(vm_size='STANDARD_DS12_V2',# for GPU, use \"STANDARD_NC6\"\r\n",
        "                                                           #vm_priority = 'lowpriority', # optional\r\n",
        "                                                           min_nodes=1,\r\n",
        "                                                           max_nodes=6)\r\n",
        "    compute_target = ComputeTarget.create(ws, amlcompute_cluster_name, compute_config)\r\n",
        "\r\n",
        "compute_target.wait_for_completion(show_output=True, min_node_count = 1, timeout_in_minutes = 10)\r\n",
        "# For a more detailed view of current AmlCompute status, use get_status()."
      ],
      "outputs": [
        {
          "output_type": "stream",
          "name": "stdout",
          "text": [
            "Creating\n",
            "Succeeded..................\n",
            "AmlCompute wait for completion finished\n",
            "\n",
            "Minimum number of nodes requested have been provisioned\n"
          ]
        }
      ],
      "execution_count": 3,
      "metadata": {
        "collapsed": true,
        "jupyter": {
          "source_hidden": false,
          "outputs_hidden": false
        },
        "nteract": {
          "transient": {
            "deleting": false
          }
        },
        "gather": {
          "logged": 1612798701503
        }
      }
    },
    {
      "cell_type": "markdown",
      "source": [
        "**Dataset**\r\n",
        "\r\n",
        "**Internet Firewall Data Data Set**\r\n",
        "\r\n",
        "**Data Set Information:**\r\n",
        "There are 12 features in total. Action feature is used as a class. There are 4 classes in total. These are allow, action, drop and reset-both classes.\r\n",
        "\r\n",
        "\r\n",
        "**Attribute Information:**\r\n",
        "Source Port,Destination Port,NAT Source Port,NAT Destination Port,Action,Bytes,Bytes Sent,Bytes Received,Packets,Elapsed Time (sec),pkts_sent,pkts_received\r\n",
        "\r\n",
        "Link: https://archive.ics.uci.edu/ml/datasets/Internet+Firewall+Data"
      ],
      "metadata": {
        "nteract": {
          "transient": {
            "deleting": false
          }
        }
      }
    },
    {
      "cell_type": "code",
      "source": [
        "# NOTE: update the key to match the dataset name\r\n",
        "found = False\r\n",
        "key = \"internet-firewall-dataset\"\r\n",
        "description_text = \"Internet Firewall Data Data Set\"\r\n",
        "\r\n",
        "if key in ws.datasets.keys(): \r\n",
        "        found = True\r\n",
        "        dataset = ws.datasets[key] \r\n",
        "\r\n",
        "if not found:\r\n",
        "        # Create AML Dataset and register it into Workspace\r\n",
        "        example_data = 'https://archive.ics.uci.edu/ml/machine-learning-databases/00542/log2.csv'\r\n",
        "        dataset = Dataset.Tabular.from_delimited_files(example_data)        \r\n",
        "        #Register Dataset in Workspace\r\n",
        "        dataset = dataset.register(workspace=ws,\r\n",
        "                                   name=key,\r\n",
        "                                   description=description_text)\r\n",
        "\r\n",
        "\r\n",
        "df = dataset.to_pandas_dataframe()\r\n",
        "df.head()"
      ],
      "outputs": [
        {
          "output_type": "execute_result",
          "execution_count": 4,
          "data": {
            "text/plain": "   Source Port  Destination Port  NAT Source Port  NAT Destination Port  \\\n0        57222                53            54587                    53   \n1        56258              3389            56258                  3389   \n2         6881             50321            43265                 50321   \n3        50553              3389            50553                  3389   \n4        50002               443            45848                   443   \n\n  Action  Bytes  Bytes Sent  Bytes Received  Packets  Elapsed Time (sec)  \\\n0  allow    177          94              83        2                  30   \n1  allow   4768        1600            3168       19                  17   \n2  allow    238         118             120        2                1199   \n3  allow   3327        1438            1889       15                  17   \n4  allow  25358        6778           18580       31                  16   \n\n   pkts_sent  pkts_received  \n0          1              1  \n1         10              9  \n2          1              1  \n3          8              7  \n4         13             18  ",
            "text/html": "<div>\n<style scoped>\n    .dataframe tbody tr th:only-of-type {\n        vertical-align: middle;\n    }\n\n    .dataframe tbody tr th {\n        vertical-align: top;\n    }\n\n    .dataframe thead th {\n        text-align: right;\n    }\n</style>\n<table border=\"1\" class=\"dataframe\">\n  <thead>\n    <tr style=\"text-align: right;\">\n      <th></th>\n      <th>Source Port</th>\n      <th>Destination Port</th>\n      <th>NAT Source Port</th>\n      <th>NAT Destination Port</th>\n      <th>Action</th>\n      <th>Bytes</th>\n      <th>Bytes Sent</th>\n      <th>Bytes Received</th>\n      <th>Packets</th>\n      <th>Elapsed Time (sec)</th>\n      <th>pkts_sent</th>\n      <th>pkts_received</th>\n    </tr>\n  </thead>\n  <tbody>\n    <tr>\n      <th>0</th>\n      <td>57222</td>\n      <td>53</td>\n      <td>54587</td>\n      <td>53</td>\n      <td>allow</td>\n      <td>177</td>\n      <td>94</td>\n      <td>83</td>\n      <td>2</td>\n      <td>30</td>\n      <td>1</td>\n      <td>1</td>\n    </tr>\n    <tr>\n      <th>1</th>\n      <td>56258</td>\n      <td>3389</td>\n      <td>56258</td>\n      <td>3389</td>\n      <td>allow</td>\n      <td>4768</td>\n      <td>1600</td>\n      <td>3168</td>\n      <td>19</td>\n      <td>17</td>\n      <td>10</td>\n      <td>9</td>\n    </tr>\n    <tr>\n      <th>2</th>\n      <td>6881</td>\n      <td>50321</td>\n      <td>43265</td>\n      <td>50321</td>\n      <td>allow</td>\n      <td>238</td>\n      <td>118</td>\n      <td>120</td>\n      <td>2</td>\n      <td>1199</td>\n      <td>1</td>\n      <td>1</td>\n    </tr>\n    <tr>\n      <th>3</th>\n      <td>50553</td>\n      <td>3389</td>\n      <td>50553</td>\n      <td>3389</td>\n      <td>allow</td>\n      <td>3327</td>\n      <td>1438</td>\n      <td>1889</td>\n      <td>15</td>\n      <td>17</td>\n      <td>8</td>\n      <td>7</td>\n    </tr>\n    <tr>\n      <th>4</th>\n      <td>50002</td>\n      <td>443</td>\n      <td>45848</td>\n      <td>443</td>\n      <td>allow</td>\n      <td>25358</td>\n      <td>6778</td>\n      <td>18580</td>\n      <td>31</td>\n      <td>16</td>\n      <td>13</td>\n      <td>18</td>\n    </tr>\n  </tbody>\n</table>\n</div>"
          },
          "metadata": {}
        }
      ],
      "execution_count": 4,
      "metadata": {
        "collapsed": true,
        "jupyter": {
          "source_hidden": false,
          "outputs_hidden": false
        },
        "nteract": {
          "transient": {
            "deleting": false
          }
        },
        "gather": {
          "logged": 1612798712726
        }
      }
    },
    {
      "cell_type": "code",
      "source": [
        "df.describe()"
      ],
      "outputs": [
        {
          "output_type": "execute_result",
          "execution_count": 5,
          "data": {
            "text/plain": "        Source Port  Destination Port  NAT Source Port  NAT Destination Port  \\\ncount  65532.000000      65532.000000     65532.000000          65532.000000   \nmean   49391.969343      10577.385812     19282.972761           2671.049930   \nstd    15255.712537      18466.027039     21970.689669           9739.162278   \nmin        0.000000          0.000000         0.000000              0.000000   \n25%    49183.000000         80.000000         0.000000              0.000000   \n50%    53776.500000        445.000000      8820.500000             53.000000   \n75%    58638.000000      15000.000000     38366.250000            443.000000   \nmax    65534.000000      65535.000000     65535.000000          65535.000000   \n\n              Bytes    Bytes Sent  Bytes Received       Packets  \\\ncount  6.553200e+04  6.553200e+04    6.553200e+04  6.553200e+04   \nmean   9.712395e+04  2.238580e+04    7.473815e+04  1.028660e+02   \nstd    5.618439e+06  3.828139e+06    2.463208e+06  5.133002e+03   \nmin    6.000000e+01  6.000000e+01    0.000000e+00  1.000000e+00   \n25%    6.600000e+01  6.600000e+01    0.000000e+00  1.000000e+00   \n50%    1.680000e+02  9.000000e+01    7.900000e+01  2.000000e+00   \n75%    7.522500e+02  2.100000e+02    4.490000e+02  6.000000e+00   \nmax    1.269359e+09  9.484772e+08    3.208818e+08  1.036116e+06   \n\n       Elapsed Time (sec)      pkts_sent  pkts_received  \ncount        65532.000000   65532.000000   65532.000000  \nmean            65.833577      41.399530      61.466505  \nstd            302.461762    3218.871288    2223.332271  \nmin              0.000000       1.000000       0.000000  \n25%              0.000000       1.000000       0.000000  \n50%             15.000000       1.000000       1.000000  \n75%             30.000000       3.000000       2.000000  \nmax          10824.000000  747520.000000  327208.000000  ",
            "text/html": "<div>\n<style scoped>\n    .dataframe tbody tr th:only-of-type {\n        vertical-align: middle;\n    }\n\n    .dataframe tbody tr th {\n        vertical-align: top;\n    }\n\n    .dataframe thead th {\n        text-align: right;\n    }\n</style>\n<table border=\"1\" class=\"dataframe\">\n  <thead>\n    <tr style=\"text-align: right;\">\n      <th></th>\n      <th>Source Port</th>\n      <th>Destination Port</th>\n      <th>NAT Source Port</th>\n      <th>NAT Destination Port</th>\n      <th>Bytes</th>\n      <th>Bytes Sent</th>\n      <th>Bytes Received</th>\n      <th>Packets</th>\n      <th>Elapsed Time (sec)</th>\n      <th>pkts_sent</th>\n      <th>pkts_received</th>\n    </tr>\n  </thead>\n  <tbody>\n    <tr>\n      <th>count</th>\n      <td>65532.000000</td>\n      <td>65532.000000</td>\n      <td>65532.000000</td>\n      <td>65532.000000</td>\n      <td>6.553200e+04</td>\n      <td>6.553200e+04</td>\n      <td>6.553200e+04</td>\n      <td>6.553200e+04</td>\n      <td>65532.000000</td>\n      <td>65532.000000</td>\n      <td>65532.000000</td>\n    </tr>\n    <tr>\n      <th>mean</th>\n      <td>49391.969343</td>\n      <td>10577.385812</td>\n      <td>19282.972761</td>\n      <td>2671.049930</td>\n      <td>9.712395e+04</td>\n      <td>2.238580e+04</td>\n      <td>7.473815e+04</td>\n      <td>1.028660e+02</td>\n      <td>65.833577</td>\n      <td>41.399530</td>\n      <td>61.466505</td>\n    </tr>\n    <tr>\n      <th>std</th>\n      <td>15255.712537</td>\n      <td>18466.027039</td>\n      <td>21970.689669</td>\n      <td>9739.162278</td>\n      <td>5.618439e+06</td>\n      <td>3.828139e+06</td>\n      <td>2.463208e+06</td>\n      <td>5.133002e+03</td>\n      <td>302.461762</td>\n      <td>3218.871288</td>\n      <td>2223.332271</td>\n    </tr>\n    <tr>\n      <th>min</th>\n      <td>0.000000</td>\n      <td>0.000000</td>\n      <td>0.000000</td>\n      <td>0.000000</td>\n      <td>6.000000e+01</td>\n      <td>6.000000e+01</td>\n      <td>0.000000e+00</td>\n      <td>1.000000e+00</td>\n      <td>0.000000</td>\n      <td>1.000000</td>\n      <td>0.000000</td>\n    </tr>\n    <tr>\n      <th>25%</th>\n      <td>49183.000000</td>\n      <td>80.000000</td>\n      <td>0.000000</td>\n      <td>0.000000</td>\n      <td>6.600000e+01</td>\n      <td>6.600000e+01</td>\n      <td>0.000000e+00</td>\n      <td>1.000000e+00</td>\n      <td>0.000000</td>\n      <td>1.000000</td>\n      <td>0.000000</td>\n    </tr>\n    <tr>\n      <th>50%</th>\n      <td>53776.500000</td>\n      <td>445.000000</td>\n      <td>8820.500000</td>\n      <td>53.000000</td>\n      <td>1.680000e+02</td>\n      <td>9.000000e+01</td>\n      <td>7.900000e+01</td>\n      <td>2.000000e+00</td>\n      <td>15.000000</td>\n      <td>1.000000</td>\n      <td>1.000000</td>\n    </tr>\n    <tr>\n      <th>75%</th>\n      <td>58638.000000</td>\n      <td>15000.000000</td>\n      <td>38366.250000</td>\n      <td>443.000000</td>\n      <td>7.522500e+02</td>\n      <td>2.100000e+02</td>\n      <td>4.490000e+02</td>\n      <td>6.000000e+00</td>\n      <td>30.000000</td>\n      <td>3.000000</td>\n      <td>2.000000</td>\n    </tr>\n    <tr>\n      <th>max</th>\n      <td>65534.000000</td>\n      <td>65535.000000</td>\n      <td>65535.000000</td>\n      <td>65535.000000</td>\n      <td>1.269359e+09</td>\n      <td>9.484772e+08</td>\n      <td>3.208818e+08</td>\n      <td>1.036116e+06</td>\n      <td>10824.000000</td>\n      <td>747520.000000</td>\n      <td>327208.000000</td>\n    </tr>\n  </tbody>\n</table>\n</div>"
          },
          "metadata": {}
        }
      ],
      "execution_count": 5,
      "metadata": {
        "collapsed": true,
        "jupyter": {
          "source_hidden": false,
          "outputs_hidden": false
        },
        "nteract": {
          "transient": {
            "deleting": false
          }
        },
        "gather": {
          "logged": 1612798712856
        }
      }
    },
    {
      "cell_type": "code",
      "source": [
        "df.groupby(['Action']).count()"
      ],
      "outputs": [
        {
          "output_type": "execute_result",
          "execution_count": 6,
          "data": {
            "text/plain": "            Source Port  Destination Port  NAT Source Port  \\\nAction                                                       \nallow             37640             37640            37640   \ndeny              14987             14987            14987   \ndrop              12851             12851            12851   \nreset-both           54                54               54   \n\n            NAT Destination Port  Bytes  Bytes Sent  Bytes Received  Packets  \\\nAction                                                                         \nallow                      37640  37640       37640           37640    37640   \ndeny                       14987  14987       14987           14987    14987   \ndrop                       12851  12851       12851           12851    12851   \nreset-both                    54     54          54              54       54   \n\n            Elapsed Time (sec)  pkts_sent  pkts_received  \nAction                                                    \nallow                    37640      37640          37640  \ndeny                     14987      14987          14987  \ndrop                     12851      12851          12851  \nreset-both                  54         54             54  ",
            "text/html": "<div>\n<style scoped>\n    .dataframe tbody tr th:only-of-type {\n        vertical-align: middle;\n    }\n\n    .dataframe tbody tr th {\n        vertical-align: top;\n    }\n\n    .dataframe thead th {\n        text-align: right;\n    }\n</style>\n<table border=\"1\" class=\"dataframe\">\n  <thead>\n    <tr style=\"text-align: right;\">\n      <th></th>\n      <th>Source Port</th>\n      <th>Destination Port</th>\n      <th>NAT Source Port</th>\n      <th>NAT Destination Port</th>\n      <th>Bytes</th>\n      <th>Bytes Sent</th>\n      <th>Bytes Received</th>\n      <th>Packets</th>\n      <th>Elapsed Time (sec)</th>\n      <th>pkts_sent</th>\n      <th>pkts_received</th>\n    </tr>\n    <tr>\n      <th>Action</th>\n      <th></th>\n      <th></th>\n      <th></th>\n      <th></th>\n      <th></th>\n      <th></th>\n      <th></th>\n      <th></th>\n      <th></th>\n      <th></th>\n      <th></th>\n    </tr>\n  </thead>\n  <tbody>\n    <tr>\n      <th>allow</th>\n      <td>37640</td>\n      <td>37640</td>\n      <td>37640</td>\n      <td>37640</td>\n      <td>37640</td>\n      <td>37640</td>\n      <td>37640</td>\n      <td>37640</td>\n      <td>37640</td>\n      <td>37640</td>\n      <td>37640</td>\n    </tr>\n    <tr>\n      <th>deny</th>\n      <td>14987</td>\n      <td>14987</td>\n      <td>14987</td>\n      <td>14987</td>\n      <td>14987</td>\n      <td>14987</td>\n      <td>14987</td>\n      <td>14987</td>\n      <td>14987</td>\n      <td>14987</td>\n      <td>14987</td>\n    </tr>\n    <tr>\n      <th>drop</th>\n      <td>12851</td>\n      <td>12851</td>\n      <td>12851</td>\n      <td>12851</td>\n      <td>12851</td>\n      <td>12851</td>\n      <td>12851</td>\n      <td>12851</td>\n      <td>12851</td>\n      <td>12851</td>\n      <td>12851</td>\n    </tr>\n    <tr>\n      <th>reset-both</th>\n      <td>54</td>\n      <td>54</td>\n      <td>54</td>\n      <td>54</td>\n      <td>54</td>\n      <td>54</td>\n      <td>54</td>\n      <td>54</td>\n      <td>54</td>\n      <td>54</td>\n      <td>54</td>\n    </tr>\n  </tbody>\n</table>\n</div>"
          },
          "metadata": {}
        }
      ],
      "execution_count": 6,
      "metadata": {
        "collapsed": true,
        "jupyter": {
          "source_hidden": false,
          "outputs_hidden": false
        },
        "nteract": {
          "transient": {
            "deleting": false
          }
        },
        "gather": {
          "logged": 1612798713008
        }
      }
    },
    {
      "cell_type": "markdown",
      "source": [
        "## AutoML Configuration\n",
        "\n",
        "TODO: Explain why you chose the automl settings and cofiguration you used below."
      ],
      "metadata": {}
    },
    {
      "cell_type": "code",
      "source": [
        "# TODO: Put your automl settings here\n",
        "automl_settings = {\n",
        "    \"experiment_timeout_minutes\": 60,\n",
        "    \"max_concurrent_iterations\": 5,\n",
        "    \"primary_metric\" : 'accuracy',\n",
        "    'model_explainability': True\n",
        "}\n",
        "\n",
        "# TODO: Put your automl config here\n",
        "automl_config = AutoMLConfig(compute_target=compute_target,\n",
        "                             task = \"classification\",\n",
        "                             training_data=dataset,\n",
        "                             label_column_name=\"Action\",   \n",
        "                             path = project_folder,\n",
        "                             enable_early_stopping= True,\n",
        "                             featurization= 'auto',\n",
        "                             debug_log = \"automl_errors.log\",\n",
        "                             **automl_settings\n",
        "                            )"
      ],
      "outputs": [],
      "execution_count": 7,
      "metadata": {
        "gather": {
          "logged": 1612798713135
        },
        "jupyter": {
          "outputs_hidden": false,
          "source_hidden": false
        },
        "nteract": {
          "transient": {
            "deleting": false
          }
        }
      }
    },
    {
      "cell_type": "code",
      "source": [
        "# TODO: Submit your experiment\n",
        "automl_run = experiment.submit(automl_config)"
      ],
      "outputs": [
        {
          "output_type": "stream",
          "name": "stdout",
          "text": [
            "Running on remote.\n"
          ]
        }
      ],
      "execution_count": 8,
      "metadata": {
        "gather": {
          "logged": 1612798722795
        },
        "jupyter": {
          "outputs_hidden": false,
          "source_hidden": false
        },
        "nteract": {
          "transient": {
            "deleting": false
          }
        }
      }
    },
    {
      "cell_type": "markdown",
      "source": [
        "## Run Details\n",
        "\n",
        "OPTIONAL: Write about the different models trained and their performance. Why do you think some models did better than others?\n",
        "\n",
        "TODO: In the cell below, use the `RunDetails` widget to show the different experiments."
      ],
      "metadata": {}
    },
    {
      "cell_type": "code",
      "source": [
        "from azureml.widgets import RunDetails\r\n",
        "\r\n",
        "RunDetails(automl_run).show()\r\n",
        "automl_run.wait_for_completion(show_output = True)\r\n",
        "assert(automl_run.get_status() == \"Completed\")"
      ],
      "outputs": [
        {
          "output_type": "display_data",
          "data": {
            "text/plain": "_AutoMLWidget(widget_settings={'childWidgetDisplay': 'popup', 'send_telemetry': False, 'log_level': 'INFO', 's…",
            "application/vnd.jupyter.widget-view+json": {
              "version_major": 2,
              "version_minor": 0,
              "model_id": "1f8457e6acec4b6aab0b3f392dd60655"
            }
          },
          "metadata": {}
        },
        {
          "output_type": "display_data",
          "data": {
            "application/aml.mini.widget.v1": "{\"status\": \"Completed\", \"workbench_run_details_uri\": \"https://ml.azure.com/experiments/internet-firewall-automl/runs/AutoML_b5822113-79c0-4b5d-b65d-8edec41201e4?wsid=/subscriptions/3d1a56d2-7c81-4118-9790-f85d1acf0c77/resourcegroups/aml-quickstarts-138160/workspaces/quick-starts-ws-138160\", \"run_id\": \"AutoML_b5822113-79c0-4b5d-b65d-8edec41201e4\", \"run_properties\": {\"run_id\": \"AutoML_b5822113-79c0-4b5d-b65d-8edec41201e4\", \"created_utc\": \"2021-02-08T15:38:39.814288Z\", \"properties\": {\"num_iterations\": \"1000\", \"training_type\": \"TrainFull\", \"acquisition_function\": \"EI\", \"primary_metric\": \"accuracy\", \"train_split\": \"0\", \"acquisition_parameter\": \"0\", \"num_cross_validation\": null, \"target\": \"cc-sta-ds12-2\", \"AMLSettingsJsonString\": \"{\\\"path\\\":null,\\\"name\\\":\\\"internet-firewall-automl\\\",\\\"subscription_id\\\":\\\"3d1a56d2-7c81-4118-9790-f85d1acf0c77\\\",\\\"resource_group\\\":\\\"aml-quickstarts-138160\\\",\\\"workspace_name\\\":\\\"quick-starts-ws-138160\\\",\\\"region\\\":\\\"southcentralus\\\",\\\"compute_target\\\":\\\"cc-sta-ds12-2\\\",\\\"spark_service\\\":null,\\\"azure_service\\\":\\\"remote\\\",\\\"many_models\\\":false,\\\"pipeline_fetch_max_batch_size\\\":1,\\\"iterations\\\":1000,\\\"primary_metric\\\":\\\"accuracy\\\",\\\"task_type\\\":\\\"classification\\\",\\\"data_script\\\":null,\\\"validation_size\\\":0.0,\\\"n_cross_validations\\\":null,\\\"y_min\\\":null,\\\"y_max\\\":null,\\\"num_classes\\\":null,\\\"featurization\\\":\\\"auto\\\",\\\"_ignore_package_version_incompatibilities\\\":false,\\\"is_timeseries\\\":false,\\\"max_cores_per_iteration\\\":1,\\\"max_concurrent_iterations\\\":5,\\\"iteration_timeout_minutes\\\":null,\\\"mem_in_mb\\\":null,\\\"enforce_time_on_windows\\\":false,\\\"experiment_timeout_minutes\\\":60,\\\"experiment_exit_score\\\":null,\\\"whitelist_models\\\":null,\\\"blacklist_algos\\\":[\\\"TensorFlowLinearClassifier\\\",\\\"TensorFlowDNN\\\"],\\\"supported_models\\\":[\\\"AveragedPerceptronClassifier\\\",\\\"GradientBoosting\\\",\\\"MultinomialNaiveBayes\\\",\\\"ExtremeRandomTrees\\\",\\\"TensorFlowDNN\\\",\\\"SGD\\\",\\\"BernoulliNaiveBayes\\\",\\\"RandomForest\\\",\\\"LightGBM\\\",\\\"TensorFlowLinearClassifier\\\",\\\"XGBoostClassifier\\\",\\\"LinearSVM\\\",\\\"SVM\\\",\\\"LogisticRegression\\\",\\\"KNN\\\",\\\"DecisionTree\\\"],\\\"auto_blacklist\\\":true,\\\"blacklist_samples_reached\\\":false,\\\"exclude_nan_labels\\\":true,\\\"verbosity\\\":20,\\\"_debug_log\\\":\\\"azureml_automl.log\\\",\\\"show_warnings\\\":false,\\\"model_explainability\\\":true,\\\"service_url\\\":null,\\\"sdk_url\\\":null,\\\"sdk_packages\\\":null,\\\"enable_onnx_compatible_models\\\":false,\\\"enable_split_onnx_featurizer_estimator_models\\\":false,\\\"vm_type\\\":\\\"STANDARD_DS12_V2\\\",\\\"telemetry_verbosity\\\":20,\\\"send_telemetry\\\":true,\\\"enable_dnn\\\":false,\\\"scenario\\\":\\\"SDK-1.13.0\\\",\\\"environment_label\\\":null,\\\"force_text_dnn\\\":false,\\\"enable_feature_sweeping\\\":true,\\\"enable_early_stopping\\\":true,\\\"early_stopping_n_iters\\\":10,\\\"metrics\\\":null,\\\"enable_ensembling\\\":true,\\\"enable_stack_ensembling\\\":true,\\\"ensemble_iterations\\\":15,\\\"enable_tf\\\":false,\\\"enable_subsampling\\\":null,\\\"subsample_seed\\\":null,\\\"enable_nimbusml\\\":false,\\\"enable_streaming\\\":false,\\\"force_streaming\\\":false,\\\"track_child_runs\\\":true,\\\"allowed_private_models\\\":[],\\\"label_column_name\\\":\\\"Action\\\",\\\"weight_column_name\\\":null,\\\"cv_split_column_names\\\":null,\\\"enable_local_managed\\\":false,\\\"_local_managed_run_id\\\":null,\\\"cost_mode\\\":1,\\\"lag_length\\\":0,\\\"metric_operation\\\":\\\"maximize\\\",\\\"preprocess\\\":true}\", \"DataPrepJsonString\": \"{\\\\\\\"training_data\\\\\\\": \\\\\\\"{\\\\\\\\\\\\\\\"blocks\\\\\\\\\\\\\\\": [{\\\\\\\\\\\\\\\"id\\\\\\\\\\\\\\\": \\\\\\\\\\\\\\\"ef4824ff-5ec2-4cbf-b078-243235ce5110\\\\\\\\\\\\\\\", \\\\\\\\\\\\\\\"type\\\\\\\\\\\\\\\": \\\\\\\\\\\\\\\"Microsoft.DPrep.GetFilesBlock\\\\\\\\\\\\\\\", \\\\\\\\\\\\\\\"arguments\\\\\\\\\\\\\\\": {\\\\\\\\\\\\\\\"isArchive\\\\\\\\\\\\\\\": false, \\\\\\\\\\\\\\\"path\\\\\\\\\\\\\\\": {\\\\\\\\\\\\\\\"target\\\\\\\\\\\\\\\": 4, \\\\\\\\\\\\\\\"resourceDetails\\\\\\\\\\\\\\\": [{\\\\\\\\\\\\\\\"path\\\\\\\\\\\\\\\": \\\\\\\\\\\\\\\"https://archive.ics.uci.edu/ml/machine-learning-databases/00542/log2.csv\\\\\\\\\\\\\\\"}]}}, \\\\\\\\\\\\\\\"localData\\\\\\\\\\\\\\\": {}, \\\\\\\\\\\\\\\"isEnabled\\\\\\\\\\\\\\\": true, \\\\\\\\\\\\\\\"name\\\\\\\\\\\\\\\": null, \\\\\\\\\\\\\\\"annotation\\\\\\\\\\\\\\\": null}, {\\\\\\\\\\\\\\\"id\\\\\\\\\\\\\\\": \\\\\\\\\\\\\\\"18d528c7-39f9-4fa3-9960-12d180c2d44a\\\\\\\\\\\\\\\", \\\\\\\\\\\\\\\"type\\\\\\\\\\\\\\\": \\\\\\\\\\\\\\\"Microsoft.DPrep.ParseDelimitedBlock\\\\\\\\\\\\\\\", \\\\\\\\\\\\\\\"arguments\\\\\\\\\\\\\\\": {\\\\\\\\\\\\\\\"columnHeadersMode\\\\\\\\\\\\\\\": 3, \\\\\\\\\\\\\\\"fileEncoding\\\\\\\\\\\\\\\": 0, \\\\\\\\\\\\\\\"handleQuotedLineBreaks\\\\\\\\\\\\\\\": false, \\\\\\\\\\\\\\\"preview\\\\\\\\\\\\\\\": false, \\\\\\\\\\\\\\\"separator\\\\\\\\\\\\\\\": \\\\\\\\\\\\\\\",\\\\\\\\\\\\\\\", \\\\\\\\\\\\\\\"skipRows\\\\\\\\\\\\\\\": 0, \\\\\\\\\\\\\\\"skipRowsMode\\\\\\\\\\\\\\\": 0}, \\\\\\\\\\\\\\\"localData\\\\\\\\\\\\\\\": {}, \\\\\\\\\\\\\\\"isEnabled\\\\\\\\\\\\\\\": true, \\\\\\\\\\\\\\\"name\\\\\\\\\\\\\\\": null, \\\\\\\\\\\\\\\"annotation\\\\\\\\\\\\\\\": null}, {\\\\\\\\\\\\\\\"id\\\\\\\\\\\\\\\": \\\\\\\\\\\\\\\"285a33ef-bfcc-4030-8ea5-fd4166ad2755\\\\\\\\\\\\\\\", \\\\\\\\\\\\\\\"type\\\\\\\\\\\\\\\": \\\\\\\\\\\\\\\"Microsoft.DPrep.DropColumnsBlock\\\\\\\\\\\\\\\", \\\\\\\\\\\\\\\"arguments\\\\\\\\\\\\\\\": {\\\\\\\\\\\\\\\"columns\\\\\\\\\\\\\\\": {\\\\\\\\\\\\\\\"type\\\\\\\\\\\\\\\": 0, \\\\\\\\\\\\\\\"details\\\\\\\\\\\\\\\": {\\\\\\\\\\\\\\\"selectedColumns\\\\\\\\\\\\\\\": [\\\\\\\\\\\\\\\"Path\\\\\\\\\\\\\\\"]}}}, \\\\\\\\\\\\\\\"localData\\\\\\\\\\\\\\\": {}, \\\\\\\\\\\\\\\"isEnabled\\\\\\\\\\\\\\\": true, \\\\\\\\\\\\\\\"name\\\\\\\\\\\\\\\": null, \\\\\\\\\\\\\\\"annotation\\\\\\\\\\\\\\\": null}, {\\\\\\\\\\\\\\\"id\\\\\\\\\\\\\\\": \\\\\\\\\\\\\\\"ba86b2df-0573-4e15-9fc7-f8d1b9c5ae67\\\\\\\\\\\\\\\", \\\\\\\\\\\\\\\"type\\\\\\\\\\\\\\\": \\\\\\\\\\\\\\\"Microsoft.DPrep.SetColumnTypesBlock\\\\\\\\\\\\\\\", \\\\\\\\\\\\\\\"arguments\\\\\\\\\\\\\\\": {\\\\\\\\\\\\\\\"columnConversion\\\\\\\\\\\\\\\": [{\\\\\\\\\\\\\\\"column\\\\\\\\\\\\\\\": {\\\\\\\\\\\\\\\"type\\\\\\\\\\\\\\\": 2, \\\\\\\\\\\\\\\"details\\\\\\\\\\\\\\\": {\\\\\\\\\\\\\\\"selectedColumn\\\\\\\\\\\\\\\": \\\\\\\\\\\\\\\"Source Port\\\\\\\\\\\\\\\"}}, \\\\\\\\\\\\\\\"typeProperty\\\\\\\\\\\\\\\": 2}, {\\\\\\\\\\\\\\\"column\\\\\\\\\\\\\\\": {\\\\\\\\\\\\\\\"type\\\\\\\\\\\\\\\": 2, \\\\\\\\\\\\\\\"details\\\\\\\\\\\\\\\": {\\\\\\\\\\\\\\\"selectedColumn\\\\\\\\\\\\\\\": \\\\\\\\\\\\\\\"Destination Port\\\\\\\\\\\\\\\"}}, \\\\\\\\\\\\\\\"typeProperty\\\\\\\\\\\\\\\": 2}, {\\\\\\\\\\\\\\\"column\\\\\\\\\\\\\\\": {\\\\\\\\\\\\\\\"type\\\\\\\\\\\\\\\": 2, \\\\\\\\\\\\\\\"details\\\\\\\\\\\\\\\": {\\\\\\\\\\\\\\\"selectedColumn\\\\\\\\\\\\\\\": \\\\\\\\\\\\\\\"NAT Source Port\\\\\\\\\\\\\\\"}}, \\\\\\\\\\\\\\\"typeProperty\\\\\\\\\\\\\\\": 2}, {\\\\\\\\\\\\\\\"column\\\\\\\\\\\\\\\": {\\\\\\\\\\\\\\\"type\\\\\\\\\\\\\\\": 2, \\\\\\\\\\\\\\\"details\\\\\\\\\\\\\\\": {\\\\\\\\\\\\\\\"selectedColumn\\\\\\\\\\\\\\\": \\\\\\\\\\\\\\\"NAT Destination Port\\\\\\\\\\\\\\\"}}, \\\\\\\\\\\\\\\"typeProperty\\\\\\\\\\\\\\\": 2}, {\\\\\\\\\\\\\\\"column\\\\\\\\\\\\\\\": {\\\\\\\\\\\\\\\"type\\\\\\\\\\\\\\\": 2, \\\\\\\\\\\\\\\"details\\\\\\\\\\\\\\\": {\\\\\\\\\\\\\\\"selectedColumn\\\\\\\\\\\\\\\": \\\\\\\\\\\\\\\"Action\\\\\\\\\\\\\\\"}}, \\\\\\\\\\\\\\\"typeProperty\\\\\\\\\\\\\\\": 0}, {\\\\\\\\\\\\\\\"column\\\\\\\\\\\\\\\": {\\\\\\\\\\\\\\\"type\\\\\\\\\\\\\\\": 2, \\\\\\\\\\\\\\\"details\\\\\\\\\\\\\\\": {\\\\\\\\\\\\\\\"selectedColumn\\\\\\\\\\\\\\\": \\\\\\\\\\\\\\\"Bytes\\\\\\\\\\\\\\\"}}, \\\\\\\\\\\\\\\"typeProperty\\\\\\\\\\\\\\\": 2}, {\\\\\\\\\\\\\\\"column\\\\\\\\\\\\\\\": {\\\\\\\\\\\\\\\"type\\\\\\\\\\\\\\\": 2, \\\\\\\\\\\\\\\"details\\\\\\\\\\\\\\\": {\\\\\\\\\\\\\\\"selectedColumn\\\\\\\\\\\\\\\": \\\\\\\\\\\\\\\"Bytes Sent\\\\\\\\\\\\\\\"}}, \\\\\\\\\\\\\\\"typeProperty\\\\\\\\\\\\\\\": 2}, {\\\\\\\\\\\\\\\"column\\\\\\\\\\\\\\\": {\\\\\\\\\\\\\\\"type\\\\\\\\\\\\\\\": 2, \\\\\\\\\\\\\\\"details\\\\\\\\\\\\\\\": {\\\\\\\\\\\\\\\"selectedColumn\\\\\\\\\\\\\\\": \\\\\\\\\\\\\\\"Bytes Received\\\\\\\\\\\\\\\"}}, \\\\\\\\\\\\\\\"typeProperty\\\\\\\\\\\\\\\": 2}, {\\\\\\\\\\\\\\\"column\\\\\\\\\\\\\\\": {\\\\\\\\\\\\\\\"type\\\\\\\\\\\\\\\": 2, \\\\\\\\\\\\\\\"details\\\\\\\\\\\\\\\": {\\\\\\\\\\\\\\\"selectedColumn\\\\\\\\\\\\\\\": \\\\\\\\\\\\\\\"Packets\\\\\\\\\\\\\\\"}}, \\\\\\\\\\\\\\\"typeProperty\\\\\\\\\\\\\\\": 2}, {\\\\\\\\\\\\\\\"column\\\\\\\\\\\\\\\": {\\\\\\\\\\\\\\\"type\\\\\\\\\\\\\\\": 2, \\\\\\\\\\\\\\\"details\\\\\\\\\\\\\\\": {\\\\\\\\\\\\\\\"selectedColumn\\\\\\\\\\\\\\\": \\\\\\\\\\\\\\\"Elapsed Time (sec)\\\\\\\\\\\\\\\"}}, \\\\\\\\\\\\\\\"typeProperty\\\\\\\\\\\\\\\": 2}, {\\\\\\\\\\\\\\\"column\\\\\\\\\\\\\\\": {\\\\\\\\\\\\\\\"type\\\\\\\\\\\\\\\": 2, \\\\\\\\\\\\\\\"details\\\\\\\\\\\\\\\": {\\\\\\\\\\\\\\\"selectedColumn\\\\\\\\\\\\\\\": \\\\\\\\\\\\\\\"pkts_sent\\\\\\\\\\\\\\\"}}, \\\\\\\\\\\\\\\"typeProperty\\\\\\\\\\\\\\\": 2}, {\\\\\\\\\\\\\\\"column\\\\\\\\\\\\\\\": {\\\\\\\\\\\\\\\"type\\\\\\\\\\\\\\\": 2, \\\\\\\\\\\\\\\"details\\\\\\\\\\\\\\\": {\\\\\\\\\\\\\\\"selectedColumn\\\\\\\\\\\\\\\": \\\\\\\\\\\\\\\"pkts_received\\\\\\\\\\\\\\\"}}, \\\\\\\\\\\\\\\"typeProperty\\\\\\\\\\\\\\\": 2}]}, \\\\\\\\\\\\\\\"localData\\\\\\\\\\\\\\\": {}, \\\\\\\\\\\\\\\"isEnabled\\\\\\\\\\\\\\\": true, \\\\\\\\\\\\\\\"name\\\\\\\\\\\\\\\": null, \\\\\\\\\\\\\\\"annotation\\\\\\\\\\\\\\\": null}], \\\\\\\\\\\\\\\"inspectors\\\\\\\\\\\\\\\": [], \\\\\\\\\\\\\\\"meta\\\\\\\\\\\\\\\": {\\\\\\\\\\\\\\\"savedDatasetId\\\\\\\\\\\\\\\": \\\\\\\\\\\\\\\"1e3020d1-e5e5-4d8a-ad30-11cda835865c\\\\\\\\\\\\\\\", \\\\\\\\\\\\\\\"datasetType\\\\\\\\\\\\\\\": \\\\\\\\\\\\\\\"tabular\\\\\\\\\\\\\\\", \\\\\\\\\\\\\\\"subscriptionId\\\\\\\\\\\\\\\": \\\\\\\\\\\\\\\"3d1a56d2-7c81-4118-9790-f85d1acf0c77\\\\\\\\\\\\\\\", \\\\\\\\\\\\\\\"workspaceId\\\\\\\\\\\\\\\": \\\\\\\\\\\\\\\"4702beb6-2db0-4306-80c8-d5c862409c31\\\\\\\\\\\\\\\", \\\\\\\\\\\\\\\"workspaceLocation\\\\\\\\\\\\\\\": \\\\\\\\\\\\\\\"southcentralus\\\\\\\\\\\\\\\"}}\\\\\\\", \\\\\\\"activities\\\\\\\": 0}\", \"EnableSubsampling\": null, \"runTemplate\": \"AutoML\", \"azureml.runsource\": \"automl\", \"display_task_type\": \"classification\", \"dependencies_versions\": \"{\\\"azureml-widgets\\\": \\\"1.20.0\\\", \\\"azureml-train\\\": \\\"1.20.0\\\", \\\"azureml-train-restclients-hyperdrive\\\": \\\"1.20.0\\\", \\\"azureml-train-core\\\": \\\"1.20.0\\\", \\\"azureml-train-automl\\\": \\\"1.20.0\\\", \\\"azureml-train-automl-runtime\\\": \\\"1.20.0\\\", \\\"azureml-train-automl-client\\\": \\\"1.20.0\\\", \\\"azureml-tensorboard\\\": \\\"1.20.0\\\", \\\"azureml-telemetry\\\": \\\"1.20.0\\\", \\\"azureml-sdk\\\": \\\"1.20.0\\\", \\\"azureml-samples\\\": \\\"0+unknown\\\", \\\"azureml-pipeline\\\": \\\"1.20.0\\\", \\\"azureml-pipeline-steps\\\": \\\"1.20.0\\\", \\\"azureml-pipeline-core\\\": \\\"1.20.0\\\", \\\"azureml-opendatasets\\\": \\\"1.20.0\\\", \\\"azureml-model-management-sdk\\\": \\\"1.0.1b6.post1\\\", \\\"azureml-mlflow\\\": \\\"1.20.0.post1\\\", \\\"azureml-interpret\\\": \\\"1.20.0\\\", \\\"azureml-explain-model\\\": \\\"1.20.0\\\", \\\"azureml-defaults\\\": \\\"1.20.0\\\", \\\"azureml-dataset-runtime\\\": \\\"1.20.0\\\", \\\"azureml-dataprep\\\": \\\"2.7.3\\\", \\\"azureml-dataprep-rslex\\\": \\\"1.5.0\\\", \\\"azureml-dataprep-native\\\": \\\"27.0.0\\\", \\\"azureml-datadrift\\\": \\\"1.20.0\\\", \\\"azureml-core\\\": \\\"1.20.0\\\", \\\"azureml-contrib-services\\\": \\\"1.20.0\\\", \\\"azureml-contrib-server\\\": \\\"1.20.0\\\", \\\"azureml-contrib-reinforcementlearning\\\": \\\"1.20.0\\\", \\\"azureml-contrib-pipeline-steps\\\": \\\"1.20.0\\\", \\\"azureml-contrib-notebook\\\": \\\"1.20.0\\\", \\\"azureml-contrib-interpret\\\": \\\"1.20.0\\\", \\\"azureml-contrib-gbdt\\\": \\\"1.20.0\\\", \\\"azureml-contrib-fairness\\\": \\\"1.20.0\\\", \\\"azureml-contrib-dataset\\\": \\\"1.20.0\\\", \\\"azureml-cli-common\\\": \\\"1.20.0\\\", \\\"azureml-automl-runtime\\\": \\\"1.20.0\\\", \\\"azureml-automl-core\\\": \\\"1.20.0\\\", \\\"azureml-accel-models\\\": \\\"1.20.0\\\"}\", \"_aml_system_scenario_identification\": \"Remote.Parent\", \"ClientType\": \"SDK\", \"environment_cpu_name\": \"AzureML-AutoML\", \"environment_cpu_label\": \"prod\", \"environment_gpu_name\": \"AzureML-AutoML-GPU\", \"environment_gpu_label\": \"prod\", \"root_attribution\": \"automl\", \"attribution\": \"AutoML\", \"Orchestrator\": \"AutoML\", \"CancelUri\": \"https://southcentralus.experiments.azureml.net/jasmine/v1.0/subscriptions/3d1a56d2-7c81-4118-9790-f85d1acf0c77/resourceGroups/aml-quickstarts-138160/providers/Microsoft.MachineLearningServices/workspaces/quick-starts-ws-138160/experimentids/970087ff-1805-4493-807c-55ac1dd1049e/cancel/AutoML_b5822113-79c0-4b5d-b65d-8edec41201e4\", \"ClientSdkVersion\": \"1.21.0\", \"snapshotId\": \"00000000-0000-0000-0000-000000000000\", \"SetupRunId\": \"AutoML_b5822113-79c0-4b5d-b65d-8edec41201e4_setup\", \"SetupRunContainerId\": \"dcid.AutoML_b5822113-79c0-4b5d-b65d-8edec41201e4_setup\", \"FeaturizationRunJsonPath\": \"featurizer_container.json\", \"FeaturizationRunId\": \"AutoML_b5822113-79c0-4b5d-b65d-8edec41201e4_featurize\", \"ProblemInfoJsonString\": \"{\\\"dataset_num_categorical\\\": 0, \\\"is_sparse\\\": false, \\\"subsampling\\\": false, \\\"dataset_classes\\\": 4, \\\"dataset_features\\\": 11, \\\"dataset_samples\\\": 58978, \\\"single_frequency_class_detected\\\": false}\", \"ModelExplainRunId\": \"AutoML_b5822113-79c0-4b5d-b65d-8edec41201e4_ModelExplain\"}, \"tags\": {\"model_explain_run\": \"best_run\", \"_aml_system_azureml.automlComponent\": \"AutoML\", \"pipeline_id\": \"\", \"score\": \"\", \"predicted_cost\": \"\", \"fit_time\": \"\", \"training_percent\": \"\", \"iteration\": \"\", \"run_preprocessor\": \"\", \"run_algorithm\": \"\", \"dynamic_whitelisting_iterations\": \"<25>;<30>;<35>;\", \"automl_best_child_run_id\": \"AutoML_b5822113-79c0-4b5d-b65d-8edec41201e4_38\"}, \"end_time_utc\": \"2021-02-08T16:00:05.301074Z\", \"status\": \"Completed\", \"log_files\": {}, \"log_groups\": [], \"run_duration\": \"0:21:25\"}, \"child_runs\": [{\"run_id\": \"AutoML_b5822113-79c0-4b5d-b65d-8edec41201e4_1\", \"run_number\": 5, \"metric\": null, \"status\": \"Completed\", \"run_type\": \"azureml.scriptrun\", \"training_percent\": \"100\", \"start_time\": \"2021-02-08T15:43:33.213703Z\", \"end_time\": \"2021-02-08T15:44:35.849607Z\", \"created_time\": \"2021-02-08T15:43:22.735796Z\", \"created_time_dt\": \"2021-02-08T15:43:22.735796Z\", \"duration\": \"0:01:13\", \"iteration\": \"1\", \"goal\": \"accuracy_max\", \"run_name\": \"MaxAbsScaler, XGBoostClassifier\", \"run_properties\": \"copy=True\", \"primary_metric\": 0.99801648, \"best_metric\": 0.99801648}, {\"run_id\": \"AutoML_b5822113-79c0-4b5d-b65d-8edec41201e4_2\", \"run_number\": 6, \"metric\": null, \"status\": \"Completed\", \"run_type\": \"azureml.scriptrun\", \"training_percent\": \"100\", \"start_time\": \"2021-02-08T15:45:53.424628Z\", \"end_time\": \"2021-02-08T15:46:55.74946Z\", \"created_time\": \"2021-02-08T15:43:22.738371Z\", \"created_time_dt\": \"2021-02-08T15:43:22.738371Z\", \"duration\": \"0:03:33\", \"iteration\": \"2\", \"goal\": \"accuracy_max\", \"run_name\": \"MinMaxScaler, RandomForest\", \"run_properties\": \"copy=True, feature_range=(0, 1\", \"primary_metric\": 0.99389686, \"best_metric\": 0.99801648}, {\"run_id\": \"AutoML_b5822113-79c0-4b5d-b65d-8edec41201e4_3\", \"run_number\": 7, \"metric\": null, \"status\": \"Completed\", \"run_type\": \"azureml.scriptrun\", \"training_percent\": \"100\", \"start_time\": \"2021-02-08T15:46:24.42395Z\", \"end_time\": \"2021-02-08T15:48:30.6266Z\", \"created_time\": \"2021-02-08T15:43:22.754565Z\", \"created_time_dt\": \"2021-02-08T15:43:22.754565Z\", \"duration\": \"0:05:07\", \"iteration\": \"3\", \"goal\": \"accuracy_max\", \"run_name\": \"MinMaxScaler, RandomForest\", \"run_properties\": \"copy=True, feature_range=(0, 1\", \"primary_metric\": 0.98153799, \"best_metric\": 0.99801648}, {\"run_id\": \"AutoML_b5822113-79c0-4b5d-b65d-8edec41201e4_0\", \"run_number\": 8, \"metric\": null, \"status\": \"Completed\", \"run_type\": \"azureml.scriptrun\", \"training_percent\": \"100\", \"start_time\": \"2021-02-08T15:44:36.85085Z\", \"end_time\": \"2021-02-08T15:45:49.895221Z\", \"created_time\": \"2021-02-08T15:43:22.942018Z\", \"created_time_dt\": \"2021-02-08T15:43:22.942018Z\", \"duration\": \"0:02:26\", \"iteration\": \"0\", \"goal\": \"accuracy_max\", \"run_name\": \"MaxAbsScaler, LightGBM\", \"run_properties\": \"copy=True\", \"primary_metric\": 0.99465975, \"best_metric\": 0.99465975}, {\"run_id\": \"AutoML_b5822113-79c0-4b5d-b65d-8edec41201e4_4\", \"run_number\": 9, \"metric\": null, \"status\": \"Completed\", \"run_type\": \"azureml.scriptrun\", \"training_percent\": \"100\", \"start_time\": \"2021-02-08T15:46:26.656103Z\", \"end_time\": \"2021-02-08T15:48:39.82999Z\", \"created_time\": \"2021-02-08T15:43:22.755091Z\", \"created_time_dt\": \"2021-02-08T15:43:22.755091Z\", \"duration\": \"0:05:17\", \"iteration\": \"4\", \"goal\": \"accuracy_max\", \"run_name\": \"MinMaxScaler, RandomForest\", \"run_properties\": \"copy=True, feature_range=(0, 1\", \"primary_metric\": 0.96093988, \"best_metric\": 0.99801648}, {\"run_id\": \"AutoML_b5822113-79c0-4b5d-b65d-8edec41201e4_5\", \"run_number\": 10, \"metric\": null, \"status\": \"Completed\", \"run_type\": \"azureml.scriptrun\", \"training_percent\": \"100\", \"start_time\": \"2021-02-08T15:46:24.398137Z\", \"end_time\": \"2021-02-08T15:50:37.527646Z\", \"created_time\": \"2021-02-08T15:44:37.053119Z\", \"created_time_dt\": \"2021-02-08T15:44:37.053119Z\", \"duration\": \"0:06:00\", \"iteration\": \"5\", \"goal\": \"accuracy_max\", \"run_name\": \"StandardScalerWrapper, XGBoostClassifier\", \"run_properties\": \"<azureml.automl.runtime.shared.model_wrappers.StandardScalerWrapper object at 0x7f5332d7c5c0\", \"primary_metric\": 0.99801648, \"best_metric\": 0.99801648}, {\"run_id\": \"AutoML_b5822113-79c0-4b5d-b65d-8edec41201e4_6\", \"run_number\": 11, \"metric\": null, \"status\": \"Completed\", \"run_type\": \"azureml.scriptrun\", \"training_percent\": \"100\", \"start_time\": \"2021-02-08T15:46:27.465294Z\", \"end_time\": \"2021-02-08T15:48:36.792541Z\", \"created_time\": \"2021-02-08T15:45:53.186956Z\", \"created_time_dt\": \"2021-02-08T15:45:53.186956Z\", \"duration\": \"0:02:43\", \"iteration\": \"6\", \"goal\": \"accuracy_max\", \"run_name\": \"StandardScalerWrapper, ExtremeRandomTrees\", \"run_properties\": \"<azureml.automl.runtime.shared.model_wrappers.StandardScalerWrapper object at 0x7f09af1f2860\", \"primary_metric\": 0.83811413, \"best_metric\": 0.99801648}, {\"run_id\": \"AutoML_b5822113-79c0-4b5d-b65d-8edec41201e4_7\", \"run_number\": 12, \"metric\": null, \"status\": \"Completed\", \"run_type\": \"azureml.scriptrun\", \"training_percent\": \"100\", \"start_time\": \"2021-02-08T15:47:13.422083Z\", \"end_time\": \"2021-02-08T15:48:08.348958Z\", \"created_time\": \"2021-02-08T15:47:00.0229Z\", \"created_time_dt\": \"2021-02-08T15:47:00.0229Z\", \"duration\": \"0:01:08\", \"iteration\": \"7\", \"goal\": \"accuracy_max\", \"run_name\": \"StandardScalerWrapper, LogisticRegression\", \"run_properties\": \"<azureml.automl.runtime.shared.model_wrappers.StandardScalerWrapper object at 0x7f22a3539a58\", \"primary_metric\": 0.98886176, \"best_metric\": 0.99801648}, {\"run_id\": \"AutoML_b5822113-79c0-4b5d-b65d-8edec41201e4_8\", \"run_number\": 13, \"metric\": null, \"status\": \"Completed\", \"run_type\": \"azureml.scriptrun\", \"training_percent\": \"100\", \"start_time\": \"2021-02-08T15:48:24.688537Z\", \"end_time\": \"2021-02-08T15:49:15.225131Z\", \"created_time\": \"2021-02-08T15:48:11.578449Z\", \"created_time_dt\": \"2021-02-08T15:48:11.578449Z\", \"duration\": \"0:01:03\", \"iteration\": \"8\", \"goal\": \"accuracy_max\", \"run_name\": \"SparseNormalizer, LightGBM\", \"run_properties\": \"<azureml.automl.runtime.shared.model_wrappers.SparseNormalizer object at 0x7fb2f82ed0f0\", \"primary_metric\": 0.99206591, \"best_metric\": 0.99801648}, {\"run_id\": \"AutoML_b5822113-79c0-4b5d-b65d-8edec41201e4_9\", \"run_number\": 14, \"metric\": null, \"status\": \"Completed\", \"run_type\": \"azureml.scriptrun\", \"training_percent\": \"100\", \"start_time\": \"2021-02-08T15:48:46.212987Z\", \"end_time\": \"2021-02-08T15:49:53.945274Z\", \"created_time\": \"2021-02-08T15:48:33.562705Z\", \"created_time_dt\": \"2021-02-08T15:48:33.562705Z\", \"duration\": \"0:01:20\", \"iteration\": \"9\", \"goal\": \"accuracy_max\", \"run_name\": \"SparseNormalizer, XGBoostClassifier\", \"run_properties\": \"<azureml.automl.runtime.shared.model_wrappers.SparseNormalizer object at 0x7fbd13f94eb8\", \"primary_metric\": 0.99801648, \"best_metric\": 0.99801648}, {\"run_id\": \"AutoML_b5822113-79c0-4b5d-b65d-8edec41201e4_10\", \"run_number\": 15, \"metric\": null, \"status\": \"Completed\", \"run_type\": \"azureml.scriptrun\", \"training_percent\": \"100\", \"start_time\": \"2021-02-08T15:48:52.062047Z\", \"end_time\": \"2021-02-08T15:49:43.913508Z\", \"created_time\": \"2021-02-08T15:48:39.208862Z\", \"created_time_dt\": \"2021-02-08T15:48:39.208862Z\", \"duration\": \"0:01:04\", \"iteration\": \"10\", \"goal\": \"accuracy_max\", \"run_name\": \"SparseNormalizer, XGBoostClassifier\", \"run_properties\": \"<azureml.automl.runtime.shared.model_wrappers.SparseNormalizer object at 0x7f6512f52e48\", \"primary_metric\": 0.99771132, \"best_metric\": 0.99801648}, {\"run_id\": \"AutoML_b5822113-79c0-4b5d-b65d-8edec41201e4_11\", \"run_number\": 16, \"metric\": null, \"status\": \"Completed\", \"run_type\": \"azureml.scriptrun\", \"training_percent\": \"100\", \"start_time\": \"2021-02-08T15:48:57.650887Z\", \"end_time\": \"2021-02-08T15:49:54.855185Z\", \"created_time\": \"2021-02-08T15:48:44.491163Z\", \"created_time_dt\": \"2021-02-08T15:48:44.491163Z\", \"duration\": \"0:01:10\", \"iteration\": \"11\", \"goal\": \"accuracy_max\", \"run_name\": \"StandardScalerWrapper, LightGBM\", \"run_properties\": \"<azureml.automl.runtime.shared.model_wrappers.StandardScalerWrapper object at 0x7f5acf538860\", \"primary_metric\": 0.99801648, \"best_metric\": 0.99801648}, {\"run_id\": \"AutoML_b5822113-79c0-4b5d-b65d-8edec41201e4_12\", \"run_number\": 17, \"metric\": null, \"status\": \"Completed\", \"run_type\": \"azureml.scriptrun\", \"training_percent\": \"100\", \"start_time\": \"2021-02-08T15:49:31.399071Z\", \"end_time\": \"2021-02-08T15:51:05.045539Z\", \"created_time\": \"2021-02-08T15:49:18.618086Z\", \"created_time_dt\": \"2021-02-08T15:49:18.618086Z\", \"duration\": \"0:01:46\", \"iteration\": \"12\", \"goal\": \"accuracy_max\", \"run_name\": \"MaxAbsScaler, GradientBoosting\", \"run_properties\": \"copy=True\", \"primary_metric\": 0.99755874, \"best_metric\": 0.99801648}, {\"run_id\": \"AutoML_b5822113-79c0-4b5d-b65d-8edec41201e4_13\", \"run_number\": 18, \"metric\": null, \"status\": \"Completed\", \"run_type\": \"azureml.scriptrun\", \"training_percent\": \"100\", \"start_time\": \"2021-02-08T15:50:00.672375Z\", \"end_time\": \"2021-02-08T15:50:52.540352Z\", \"created_time\": \"2021-02-08T15:49:46.984473Z\", \"created_time_dt\": \"2021-02-08T15:49:46.984473Z\", \"duration\": \"0:01:05\", \"iteration\": \"13\", \"goal\": \"accuracy_max\", \"run_name\": \"MaxAbsScaler, LightGBM\", \"run_properties\": \"copy=True\", \"primary_metric\": 0.98809887, \"best_metric\": 0.99801648}, {\"run_id\": \"AutoML_b5822113-79c0-4b5d-b65d-8edec41201e4_14\", \"run_number\": 19, \"metric\": null, \"status\": \"Completed\", \"run_type\": \"azureml.scriptrun\", \"training_percent\": \"100\", \"start_time\": \"2021-02-08T15:50:07.549008Z\", \"end_time\": \"2021-02-08T15:51:10.560001Z\", \"created_time\": \"2021-02-08T15:49:56.935618Z\", \"created_time_dt\": \"2021-02-08T15:49:56.935618Z\", \"duration\": \"0:01:13\", \"iteration\": \"14\", \"goal\": \"accuracy_max\", \"run_name\": \"MaxAbsScaler, GradientBoosting\", \"run_properties\": \"copy=True\", \"primary_metric\": 0.99267623, \"best_metric\": 0.99801648}, {\"run_id\": \"AutoML_b5822113-79c0-4b5d-b65d-8edec41201e4_15\", \"run_number\": 20, \"metric\": null, \"status\": \"Completed\", \"run_type\": \"azureml.scriptrun\", \"training_percent\": \"100\", \"start_time\": \"2021-02-08T15:50:15.135214Z\", \"end_time\": \"2021-02-08T15:51:21.773308Z\", \"created_time\": \"2021-02-08T15:50:01.706729Z\", \"created_time_dt\": \"2021-02-08T15:50:01.706729Z\", \"duration\": \"0:01:20\", \"iteration\": \"15\", \"goal\": \"accuracy_max\", \"run_name\": \"RobustScaler, LightGBM\", \"run_properties\": \"copy=True, quantile_range=[25, 75], with_centering=True,\\n             with_scaling=True\", \"primary_metric\": 0.99481233, \"best_metric\": 0.99801648}, {\"run_id\": \"AutoML_b5822113-79c0-4b5d-b65d-8edec41201e4_16\", \"run_number\": 21, \"metric\": null, \"status\": \"Completed\", \"run_type\": \"azureml.scriptrun\", \"training_percent\": \"100\", \"start_time\": \"2021-02-08T15:50:55.525037Z\", \"end_time\": \"2021-02-08T15:51:48.740118Z\", \"created_time\": \"2021-02-08T15:50:40.598086Z\", \"created_time_dt\": \"2021-02-08T15:50:40.598086Z\", \"duration\": \"0:01:08\", \"iteration\": \"16\", \"goal\": \"accuracy_max\", \"run_name\": \"SparseNormalizer, XGBoostClassifier\", \"run_properties\": \"<azureml.automl.runtime.shared.model_wrappers.SparseNormalizer object at 0x7ff6bce13898\", \"primary_metric\": 0.99603296, \"best_metric\": 0.99801648}, {\"run_id\": \"AutoML_b5822113-79c0-4b5d-b65d-8edec41201e4_17\", \"run_number\": 22, \"metric\": null, \"status\": \"Completed\", \"run_type\": \"azureml.scriptrun\", \"training_percent\": \"100\", \"start_time\": \"2021-02-08T15:51:08.217018Z\", \"end_time\": \"2021-02-08T15:52:04.550956Z\", \"created_time\": \"2021-02-08T15:50:55.164271Z\", \"created_time_dt\": \"2021-02-08T15:50:55.164271Z\", \"duration\": \"0:01:09\", \"iteration\": \"17\", \"goal\": \"accuracy_max\", \"run_name\": \"SparseNormalizer, XGBoostClassifier\", \"run_properties\": \"<azureml.automl.runtime.shared.model_wrappers.SparseNormalizer object at 0x7f232cd95eb8\", \"primary_metric\": 0.99816906, \"best_metric\": 0.99816906}, {\"run_id\": \"AutoML_b5822113-79c0-4b5d-b65d-8edec41201e4_18\", \"run_number\": 23, \"metric\": null, \"status\": \"Completed\", \"run_type\": \"azureml.scriptrun\", \"training_percent\": \"100\", \"start_time\": \"2021-02-08T15:51:20.266682Z\", \"end_time\": \"2021-02-08T15:52:35.074282Z\", \"created_time\": \"2021-02-08T15:51:07.361156Z\", \"created_time_dt\": \"2021-02-08T15:51:07.361156Z\", \"duration\": \"0:01:27\", \"iteration\": \"18\", \"goal\": \"accuracy_max\", \"run_name\": \"SparseNormalizer, XGBoostClassifier\", \"run_properties\": \"<azureml.automl.runtime.shared.model_wrappers.SparseNormalizer object at 0x7fcb2d1e75c0\", \"primary_metric\": 0.99755874, \"best_metric\": 0.99816906}, {\"run_id\": \"AutoML_b5822113-79c0-4b5d-b65d-8edec41201e4_19\", \"run_number\": 24, \"metric\": null, \"status\": \"Completed\", \"run_type\": \"azureml.scriptrun\", \"training_percent\": \"100\", \"start_time\": \"2021-02-08T15:51:25.96072Z\", \"end_time\": \"2021-02-08T15:52:48.412947Z\", \"created_time\": \"2021-02-08T15:51:12.781291Z\", \"created_time_dt\": \"2021-02-08T15:51:12.781291Z\", \"duration\": \"0:01:35\", \"iteration\": \"19\", \"goal\": \"accuracy_max\", \"run_name\": \"SparseNormalizer, XGBoostClassifier\", \"run_properties\": \"<azureml.automl.runtime.shared.model_wrappers.SparseNormalizer object at 0x7fec4386fba8\", \"primary_metric\": 0.99755874, \"best_metric\": 0.99816906}, {\"run_id\": \"AutoML_b5822113-79c0-4b5d-b65d-8edec41201e4_20\", \"run_number\": 25, \"metric\": null, \"status\": \"Completed\", \"run_type\": \"azureml.scriptrun\", \"training_percent\": \"100\", \"start_time\": \"2021-02-08T15:51:38.453143Z\", \"end_time\": \"2021-02-08T15:52:55.757121Z\", \"created_time\": \"2021-02-08T15:51:25.012442Z\", \"created_time_dt\": \"2021-02-08T15:51:25.012442Z\", \"duration\": \"0:01:30\", \"iteration\": \"20\", \"goal\": \"accuracy_max\", \"run_name\": \"SparseNormalizer, XGBoostClassifier\", \"run_properties\": \"<azureml.automl.runtime.shared.model_wrappers.SparseNormalizer object at 0x7fc48470a9b0\", \"primary_metric\": 0.99771132, \"best_metric\": 0.99816906}, {\"run_id\": \"AutoML_b5822113-79c0-4b5d-b65d-8edec41201e4_21\", \"run_number\": 26, \"metric\": null, \"status\": \"Completed\", \"run_type\": \"azureml.scriptrun\", \"training_percent\": \"100\", \"start_time\": \"2021-02-08T15:52:04.512326Z\", \"end_time\": \"2021-02-08T15:53:13.243609Z\", \"created_time\": \"2021-02-08T15:51:51.622428Z\", \"created_time_dt\": \"2021-02-08T15:51:51.622428Z\", \"duration\": \"0:01:21\", \"iteration\": \"21\", \"goal\": \"accuracy_max\", \"run_name\": \"SparseNormalizer, XGBoostClassifier\", \"run_properties\": \"<azureml.automl.runtime.shared.model_wrappers.SparseNormalizer object at 0x7f6c8220e208\", \"primary_metric\": 0.99801648, \"best_metric\": 0.99816906}, {\"run_id\": \"AutoML_b5822113-79c0-4b5d-b65d-8edec41201e4_22\", \"run_number\": 27, \"metric\": null, \"status\": \"Completed\", \"run_type\": \"azureml.scriptrun\", \"training_percent\": \"100\", \"start_time\": \"2021-02-08T15:52:18.545826Z\", \"end_time\": \"2021-02-08T15:53:10.752013Z\", \"created_time\": \"2021-02-08T15:52:07.053605Z\", \"created_time_dt\": \"2021-02-08T15:52:07.053605Z\", \"duration\": \"0:01:03\", \"iteration\": \"22\", \"goal\": \"accuracy_max\", \"run_name\": \"StandardScalerWrapper, LightGBM\", \"run_properties\": \"<azureml.automl.runtime.shared.model_wrappers.StandardScalerWrapper object at 0x7fdfd724cf98\", \"primary_metric\": 0.99282881, \"best_metric\": 0.99816906}, {\"run_id\": \"AutoML_b5822113-79c0-4b5d-b65d-8edec41201e4_23\", \"run_number\": 28, \"metric\": null, \"status\": \"Completed\", \"run_type\": \"azureml.scriptrun\", \"training_percent\": \"100\", \"start_time\": \"2021-02-08T15:52:50.295699Z\", \"end_time\": \"2021-02-08T15:53:47.688377Z\", \"created_time\": \"2021-02-08T15:52:37.425641Z\", \"created_time_dt\": \"2021-02-08T15:52:37.425641Z\", \"duration\": \"0:01:10\", \"iteration\": \"23\", \"goal\": \"accuracy_max\", \"run_name\": \"StandardScalerWrapper, ExtremeRandomTrees\", \"run_properties\": \"<azureml.automl.runtime.shared.model_wrappers.StandardScalerWrapper object at 0x7fb5329f6630\", \"primary_metric\": 0.94110467, \"best_metric\": 0.99816906}, {\"run_id\": \"AutoML_b5822113-79c0-4b5d-b65d-8edec41201e4_24\", \"run_number\": 29, \"metric\": null, \"status\": \"Completed\", \"run_type\": \"azureml.scriptrun\", \"training_percent\": \"100\", \"start_time\": \"2021-02-08T15:53:03.641935Z\", \"end_time\": \"2021-02-08T15:53:56.539011Z\", \"created_time\": \"2021-02-08T15:52:50.868981Z\", \"created_time_dt\": \"2021-02-08T15:52:50.868981Z\", \"duration\": \"0:01:05\", \"iteration\": \"24\", \"goal\": \"accuracy_max\", \"run_name\": \"MinMaxScaler, LightGBM\", \"run_properties\": \"copy=True, feature_range=(0, 1\", \"primary_metric\": 0.99649069, \"best_metric\": 0.99816906}, {\"run_id\": \"AutoML_b5822113-79c0-4b5d-b65d-8edec41201e4_25\", \"run_number\": 30, \"metric\": null, \"status\": \"Completed\", \"run_type\": \"azureml.scriptrun\", \"training_percent\": \"100\", \"start_time\": \"2021-02-08T15:53:11.323539Z\", \"end_time\": \"2021-02-08T15:54:37.518847Z\", \"created_time\": \"2021-02-08T15:52:59.538065Z\", \"created_time_dt\": \"2021-02-08T15:52:59.538065Z\", \"duration\": \"0:01:37\", \"iteration\": \"25\", \"goal\": \"accuracy_max\", \"run_name\": \"StandardScalerWrapper, XGBoostClassifier\", \"run_properties\": \"<azureml.automl.runtime.shared.model_wrappers.StandardScalerWrapper object at 0x7f8db9605780\", \"primary_metric\": 0.99816906, \"best_metric\": 0.99816906}, {\"run_id\": \"AutoML_b5822113-79c0-4b5d-b65d-8edec41201e4_26\", \"run_number\": 31, \"metric\": null, \"status\": \"Completed\", \"run_type\": \"azureml.scriptrun\", \"training_percent\": \"100\", \"start_time\": \"2021-02-08T15:53:25.597326Z\", \"end_time\": \"2021-02-08T15:54:27.155219Z\", \"created_time\": \"2021-02-08T15:53:13.789176Z\", \"created_time_dt\": \"2021-02-08T15:53:13.789176Z\", \"duration\": \"0:01:13\", \"iteration\": \"26\", \"goal\": \"accuracy_max\", \"run_name\": \"StandardScalerWrapper, XGBoostClassifier\", \"run_properties\": \"<azureml.automl.runtime.shared.model_wrappers.StandardScalerWrapper object at 0x7fb1467d9ac8\", \"primary_metric\": 0.9978639, \"best_metric\": 0.99816906}, {\"run_id\": \"AutoML_b5822113-79c0-4b5d-b65d-8edec41201e4_27\", \"run_number\": 32, \"metric\": null, \"status\": \"Completed\", \"run_type\": \"azureml.scriptrun\", \"training_percent\": \"100\", \"start_time\": \"2021-02-08T15:53:29.085178Z\", \"end_time\": \"2021-02-08T15:54:23.292599Z\", \"created_time\": \"2021-02-08T15:53:18.402383Z\", \"created_time_dt\": \"2021-02-08T15:53:18.402383Z\", \"duration\": \"0:01:04\", \"iteration\": \"27\", \"goal\": \"accuracy_max\", \"run_name\": \"StandardScalerWrapper, XGBoostClassifier\", \"run_properties\": \"<azureml.automl.runtime.shared.model_wrappers.StandardScalerWrapper object at 0x7f3a2b607048\", \"primary_metric\": 0.99343912, \"best_metric\": 0.99816906}, {\"run_id\": \"AutoML_b5822113-79c0-4b5d-b65d-8edec41201e4_28\", \"run_number\": 33, \"metric\": null, \"status\": \"Completed\", \"run_type\": \"azureml.scriptrun\", \"training_percent\": \"100\", \"start_time\": \"2021-02-08T15:54:00.90272Z\", \"end_time\": \"2021-02-08T15:55:03.608616Z\", \"created_time\": \"2021-02-08T15:53:50.035427Z\", \"created_time_dt\": \"2021-02-08T15:53:50.035427Z\", \"duration\": \"0:01:13\", \"iteration\": \"28\", \"goal\": \"accuracy_max\", \"run_name\": \"MinMaxScaler, LightGBM\", \"run_properties\": \"copy=True, feature_range=(0, 1\", \"primary_metric\": 0.9978639, \"best_metric\": 0.99816906}, {\"run_id\": \"AutoML_b5822113-79c0-4b5d-b65d-8edec41201e4_29\", \"run_number\": 34, \"metric\": null, \"status\": \"Completed\", \"run_type\": \"azureml.scriptrun\", \"training_percent\": \"100\", \"start_time\": \"2021-02-08T15:54:10.225621Z\", \"end_time\": \"2021-02-08T15:55:32.173007Z\", \"created_time\": \"2021-02-08T15:53:59.2214Z\", \"created_time_dt\": \"2021-02-08T15:53:59.2214Z\", \"duration\": \"0:01:32\", \"iteration\": \"29\", \"goal\": \"accuracy_max\", \"run_name\": \"SparseNormalizer, XGBoostClassifier\", \"run_properties\": \"<azureml.automl.runtime.shared.model_wrappers.SparseNormalizer object at 0x7f35cc4a2c18\", \"primary_metric\": 0.99771132, \"best_metric\": 0.99816906}, {\"run_id\": \"AutoML_b5822113-79c0-4b5d-b65d-8edec41201e4_30\", \"run_number\": 35, \"metric\": null, \"status\": \"Completed\", \"run_type\": \"azureml.scriptrun\", \"training_percent\": \"100\", \"start_time\": \"2021-02-08T15:54:39.121345Z\", \"end_time\": \"2021-02-08T15:55:46.135497Z\", \"created_time\": \"2021-02-08T15:54:27.536264Z\", \"created_time_dt\": \"2021-02-08T15:54:27.536264Z\", \"duration\": \"0:01:18\", \"iteration\": \"30\", \"goal\": \"accuracy_max\", \"run_name\": \"SparseNormalizer, XGBoostClassifier\", \"run_properties\": \"<azureml.automl.runtime.shared.model_wrappers.SparseNormalizer object at 0x7f18aec79828\", \"primary_metric\": 0.9978639, \"best_metric\": 0.99816906}, {\"run_id\": \"AutoML_b5822113-79c0-4b5d-b65d-8edec41201e4_31\", \"run_number\": 36, \"metric\": null, \"status\": \"Canceled\", \"run_type\": \"azureml.scriptrun\", \"training_percent\": \"100\", \"start_time\": \"2021-02-08T15:54:44.978163Z\", \"end_time\": \"2021-02-08T15:56:59.992622Z\", \"created_time\": \"2021-02-08T15:54:32.047465Z\", \"created_time_dt\": \"2021-02-08T15:54:32.047465Z\", \"duration\": \"0:02:27\", \"iteration\": \"31\", \"goal\": \"accuracy_max\", \"run_name\": \"SparseNormalizer, XGBoostClassifier\", \"run_properties\": \"<azureml.automl.runtime.shared.model_wrappers.SparseNormalizer object at 0x7f4591a5e6d8\", \"primary_metric\": 0.99771132, \"best_metric\": 0.99816906}, {\"run_id\": \"AutoML_b5822113-79c0-4b5d-b65d-8edec41201e4_32\", \"run_number\": 37, \"metric\": null, \"status\": \"Canceled\", \"run_type\": \"azureml.scriptrun\", \"training_percent\": \"100\", \"start_time\": \"2021-02-08T15:54:52.917797Z\", \"end_time\": \"2021-02-08T15:57:05.344927Z\", \"created_time\": \"2021-02-08T15:54:39.868063Z\", \"created_time_dt\": \"2021-02-08T15:54:39.868063Z\", \"duration\": \"0:02:25\", \"iteration\": \"32\", \"goal\": null, \"run_name\": \"SparseNormalizer, XGBoostClassifier\", \"run_properties\": null}, {\"run_id\": \"AutoML_b5822113-79c0-4b5d-b65d-8edec41201e4_33\", \"run_number\": 38, \"metric\": null, \"status\": \"Completed\", \"run_type\": \"azureml.scriptrun\", \"training_percent\": \"100\", \"start_time\": \"2021-02-08T15:55:17.830364Z\", \"end_time\": \"2021-02-08T15:56:10.618516Z\", \"created_time\": \"2021-02-08T15:55:05.93139Z\", \"created_time_dt\": \"2021-02-08T15:55:05.93139Z\", \"duration\": \"0:01:04\", \"iteration\": \"33\", \"goal\": \"accuracy_max\", \"run_name\": \"SparseNormalizer, LightGBM\", \"run_properties\": \"<azureml.automl.runtime.shared.model_wrappers.SparseNormalizer object at 0x7efbb97fc630\", \"primary_metric\": 0.99694843, \"best_metric\": 0.99816906}, {\"run_id\": \"AutoML_b5822113-79c0-4b5d-b65d-8edec41201e4_34\", \"run_number\": 39, \"metric\": null, \"status\": \"Completed\", \"run_type\": \"azureml.scriptrun\", \"training_percent\": \"100\", \"start_time\": \"2021-02-08T15:55:46.135107Z\", \"end_time\": \"2021-02-08T15:56:39.769376Z\", \"created_time\": \"2021-02-08T15:55:34.521662Z\", \"created_time_dt\": \"2021-02-08T15:55:34.521662Z\", \"duration\": \"0:01:05\", \"iteration\": \"34\", \"goal\": \"accuracy_max\", \"run_name\": \"SparseNormalizer, XGBoostClassifier\", \"run_properties\": \"<azureml.automl.runtime.shared.model_wrappers.SparseNormalizer object at 0x7fac9eabb4e0\", \"primary_metric\": 0.99679585, \"best_metric\": 0.99816906}, {\"run_id\": \"AutoML_b5822113-79c0-4b5d-b65d-8edec41201e4_35\", \"run_number\": 40, \"metric\": null, \"status\": \"Completed\", \"run_type\": \"azureml.scriptrun\", \"training_percent\": \"100\", \"start_time\": \"2021-02-08T15:56:02.639222Z\", \"end_time\": \"2021-02-08T15:56:55.197111Z\", \"created_time\": \"2021-02-08T15:55:49.291873Z\", \"created_time_dt\": \"2021-02-08T15:55:49.291873Z\", \"duration\": \"0:01:05\", \"iteration\": \"35\", \"goal\": \"accuracy_max\", \"run_name\": \"TruncatedSVDWrapper, XGBoostClassifier\", \"run_properties\": \"n_components=0.01, random_state=None\", \"primary_metric\": 0.98642051, \"best_metric\": 0.99816906}, {\"run_id\": \"AutoML_b5822113-79c0-4b5d-b65d-8edec41201e4_36\", \"run_number\": 41, \"metric\": null, \"status\": \"Canceled\", \"run_type\": \"azureml.scriptrun\", \"training_percent\": \"100\", \"start_time\": \"2021-02-08T15:56:26.323077Z\", \"end_time\": \"2021-02-08T15:57:04.535721Z\", \"created_time\": \"2021-02-08T15:56:12.739765Z\", \"created_time_dt\": \"2021-02-08T15:56:12.739765Z\", \"duration\": \"0:00:51\", \"iteration\": \"36\", \"goal\": \"accuracy_max\", \"run_name\": \"SparseNormalizer, XGBoostClassifier\", \"run_properties\": \"<azureml.automl.runtime.shared.model_wrappers.SparseNormalizer object at 0x7fb0d4edb898\", \"primary_metric\": 0.99725359, \"best_metric\": 0.99816906}, {\"run_id\": \"AutoML_b5822113-79c0-4b5d-b65d-8edec41201e4_37\", \"run_number\": 42, \"metric\": null, \"status\": \"Canceled\", \"run_type\": \"azureml.scriptrun\", \"training_percent\": \"100\", \"start_time\": \"2021-02-08T15:56:54.241591Z\", \"end_time\": \"2021-02-08T15:57:04.283833Z\", \"created_time\": \"2021-02-08T15:56:41.858873Z\", \"created_time_dt\": \"2021-02-08T15:56:41.858873Z\", \"duration\": \"0:00:22\", \"iteration\": \"37\", \"goal\": null, \"run_name\": \"Canceled\", \"run_properties\": null}, {\"run_id\": \"AutoML_b5822113-79c0-4b5d-b65d-8edec41201e4_38\", \"run_number\": 43, \"metric\": null, \"status\": \"Completed\", \"run_type\": \"azureml.scriptrun\", \"training_percent\": \"100\", \"start_time\": \"2021-02-08T15:57:18.762125Z\", \"end_time\": \"2021-02-08T15:58:26.847675Z\", \"created_time\": \"2021-02-08T15:57:06.925117Z\", \"created_time_dt\": \"2021-02-08T15:57:06.925117Z\", \"duration\": \"0:01:19\", \"iteration\": \"38\", \"goal\": \"accuracy_max\", \"run_name\": \"VotingEnsemble\", \"run_properties\": \"classification_labels=None,\\n                              estimators=[('25',\\n                                           Pipeline(memory=None,\\n                                                    steps=[('standardscalerwrapper',\\n                                                            <azureml.automl.runtime.shared.model_wrappers.StandardScalerWrapper object at 0x7f4dd0376518>\", \"primary_metric\": 0.99832164, \"best_metric\": 0.99832164}, {\"run_id\": \"AutoML_b5822113-79c0-4b5d-b65d-8edec41201e4_39\", \"run_number\": 44, \"metric\": null, \"status\": \"Completed\", \"run_type\": \"azureml.scriptrun\", \"training_percent\": \"100\", \"start_time\": \"2021-02-08T15:57:19.668245Z\", \"end_time\": \"2021-02-08T15:59:57.826484Z\", \"created_time\": \"2021-02-08T15:57:07.120386Z\", \"created_time_dt\": \"2021-02-08T15:57:07.120386Z\", \"duration\": \"0:02:50\", \"iteration\": \"39\", \"goal\": \"accuracy_max\", \"run_name\": \"StackEnsemble\", \"run_properties\": \"base_learners=[('25',\\n                                        Pipeline(memory=None,\\n                                                 steps=[('standardscalerwrapper',\\n                                                         <azureml.automl.runtime.shared.model_wrappers.StandardScalerWrapper object at 0x7fa9e4396208>\", \"primary_metric\": 0.9978639, \"best_metric\": 0.99832164}], \"children_metrics\": {\"categories\": [0], \"series\": {\"precision_score_weighted\": [{\"categories\": [\"0\", \"1\", \"2\", \"3\", \"4\", \"5\", \"6\", \"7\", \"8\", \"9\", \"10\", \"11\", \"12\", \"13\", \"14\", \"15\", \"16\", \"17\", \"18\", \"19\", \"20\", \"21\", \"22\", \"23\", \"24\", \"25\", \"26\", \"27\", \"28\", \"29\", \"30\", \"31\", \"33\", \"34\", \"35\", \"36\", \"38\", \"39\"], \"mode\": \"markers\", \"name\": \"precision_score_weighted\", \"stepped\": false, \"type\": \"scatter\", \"data\": [0.9947491159873584, 0.9980200409717577, 0.993188767075973, 0.9816938763313859, 0.9912607235724011, 0.9980200409717577, 0.9411575125015402, 0.9884060248637718, 0.9914366678047924, 0.997919016217876, 0.9969535228877803, 0.9980200409717577, 0.9975658672577646, 0.987673693814896, 0.9919785263708665, 0.9940753011968375, 0.9952875912892748, 0.9981735792846211, 0.9973597465491351, 0.9973597465491351, 0.997512058915847, 0.9980206321872837, 0.9921595142879793, 0.9495962823493111, 0.9957410085941047, 0.9981722114498984, 0.997868382388419, 0.9927933355265989, 0.9977657027624196, 0.997512058915847, 0.9976392482886501, 0.9976395956155829, 0.9967284152745497, 0.996043374376023, 0.9858546135651888, 0.9964962360732529, 0.9983253810766668, 0.9978671353880785]}, {\"categories\": [\"0\", \"1\", \"2\", \"3\", \"4\", \"5\", \"6\", \"7\", \"8\", \"9\", \"10\", \"11\", \"12\", \"13\", \"14\", \"15\", \"16\", \"17\", \"18\", \"19\", \"20\", \"21\", \"22\", \"23\", \"24\", \"25\", \"26\", \"27\", \"28\", \"29\", \"30\", \"31\", \"33\", \"34\", \"35\", \"36\", \"38\", \"39\"], \"mode\": \"lines\", \"name\": \"precision_score_weighted_max\", \"stepped\": true, \"type\": \"scatter\", \"data\": [0.9947491159873584, 0.9980200409717577, 0.9980200409717577, 0.9980200409717577, 0.9980200409717577, 0.9980200409717577, 0.9980200409717577, 0.9980200409717577, 0.9980200409717577, 0.9980200409717577, 0.9980200409717577, 0.9980200409717577, 0.9980200409717577, 0.9980200409717577, 0.9980200409717577, 0.9980200409717577, 0.9980200409717577, 0.9981735792846211, 0.9981735792846211, 0.9981735792846211, 0.9981735792846211, 0.9981735792846211, 0.9981735792846211, 0.9981735792846211, 0.9981735792846211, 0.9981735792846211, 0.9981735792846211, 0.9981735792846211, 0.9981735792846211, 0.9981735792846211, 0.9981735792846211, 0.9981735792846211, 0.9981735792846211, 0.9981735792846211, 0.9981735792846211, 0.9981735792846211, 0.9983253810766668, 0.9983253810766668]}], \"norm_macro_recall\": [{\"categories\": [\"0\", \"1\", \"2\", \"3\", \"4\", \"5\", \"6\", \"7\", \"8\", \"9\", \"10\", \"11\", \"12\", \"13\", \"14\", \"15\", \"16\", \"17\", \"18\", \"19\", \"20\", \"21\", \"22\", \"23\", \"24\", \"25\", \"26\", \"27\", \"28\", \"29\", \"30\", \"31\", \"33\", \"34\", \"35\", \"36\", \"38\", \"39\"], \"mode\": \"markers\", \"name\": \"norm_macro_recall\", \"stepped\": false, \"type\": \"scatter\", \"data\": [0.8604218639476957, 0.7981778024659202, 0.6600882217184187, 0.6452882709765785, 0.746952328555469, 0.7981778024659202, 0.7615941098108493, 0.6528838319540754, 0.6574197760879984, 0.7980439667466078, 0.6648444691325869, 0.7981778024659202, 0.797109183900378, 0.6516381438887545, 0.6593799437193041, 0.6615562802529412, 0.6637367511644919, 0.7982663372158094, 0.7312002305801625, 0.7312002305801625, 0.7312887653300519, 0.8646220986633852, 0.6616098499781912, 0.6034910687101126, 0.6641361911334722, 0.8648444691325868, 0.7979554319967185, 0.6582165888370025, 0.7980892677160308, 0.7312887653300519, 0.7313773000799412, 0.7978668972468291, 0.7308460915806053, 0.6641794249139386, 0.6550808403772796, 0.6644450291636065, 0.7984887076850112, 0.7315111357992535]}, {\"categories\": [\"0\", \"1\", \"2\", \"3\", \"4\", \"5\", \"6\", \"7\", \"8\", \"9\", \"10\", \"11\", \"12\", \"13\", \"14\", \"15\", \"16\", \"17\", \"18\", \"19\", \"20\", \"21\", \"22\", \"23\", \"24\", \"25\", \"26\", \"27\", \"28\", \"29\", \"30\", \"31\", \"33\", \"34\", \"35\", \"36\", \"38\", \"39\"], \"mode\": \"lines\", \"name\": \"norm_macro_recall_max\", \"stepped\": true, \"type\": \"scatter\", \"data\": [0.8604218639476957, 0.8604218639476957, 0.8604218639476957, 0.8604218639476957, 0.8604218639476957, 0.8604218639476957, 0.8604218639476957, 0.8604218639476957, 0.8604218639476957, 0.8604218639476957, 0.8604218639476957, 0.8604218639476957, 0.8604218639476957, 0.8604218639476957, 0.8604218639476957, 0.8604218639476957, 0.8604218639476957, 0.8604218639476957, 0.8604218639476957, 0.8604218639476957, 0.8604218639476957, 0.8646220986633852, 0.8646220986633852, 0.8646220986633852, 0.8646220986633852, 0.8648444691325868, 0.8648444691325868, 0.8648444691325868, 0.8648444691325868, 0.8648444691325868, 0.8648444691325868, 0.8648444691325868, 0.8648444691325868, 0.8648444691325868, 0.8648444691325868, 0.8648444691325868, 0.8648444691325868, 0.8648444691325868]}], \"precision_score_macro\": [{\"categories\": [\"0\", \"1\", \"2\", \"3\", \"4\", \"5\", \"6\", \"7\", \"8\", \"9\", \"10\", \"11\", \"12\", \"13\", \"14\", \"15\", \"16\", \"17\", \"18\", \"19\", \"20\", \"21\", \"22\", \"23\", \"24\", \"25\", \"26\", \"27\", \"28\", \"29\", \"30\", \"31\", \"33\", \"34\", \"35\", \"36\", \"38\", \"39\"], \"mode\": \"markers\", \"name\": \"precision_score_macro\", \"stepped\": false, \"type\": \"scatter\", \"data\": [0.8695390696146533, 0.9977703385247966, 0.7430092844641439, 0.7284975385885099, 0.7429845669689079, 0.9977703385247966, 0.6781786021883054, 0.7369467326726553, 0.7406496405899947, 0.9144766160052538, 0.7475113383154148, 0.9977703385247966, 0.9974921894432692, 0.736270750089686, 0.741559657552688, 0.7441935126990789, 0.745791497120955, 0.9979106429345455, 0.8309103861474082, 0.8309103861474082, 0.8310768463179476, 0.8979766145148431, 0.7423189862832011, 0.688761032194391, 0.746314445445402, 0.9979366702982678, 0.9975770704739244, 0.7427642759944251, 0.9144369875316136, 0.8310768463179476, 0.8727435306350803, 0.8726435068278973, 0.8717480939448992, 0.7464893033467978, 0.7353851538900168, 0.7471119789587846, 0.9980036640643501, 0.9978039034649897]}, {\"categories\": [\"0\", \"1\", \"2\", \"3\", \"4\", \"5\", \"6\", \"7\", \"8\", \"9\", \"10\", \"11\", \"12\", \"13\", \"14\", \"15\", \"16\", \"17\", \"18\", \"19\", \"20\", \"21\", \"22\", \"23\", \"24\", \"25\", \"26\", \"27\", \"28\", \"29\", \"30\", \"31\", \"33\", \"34\", \"35\", \"36\", \"38\", \"39\"], \"mode\": \"lines\", \"name\": \"precision_score_macro_max\", \"stepped\": true, \"type\": \"scatter\", \"data\": [0.8695390696146533, 0.9977703385247966, 0.9977703385247966, 0.9977703385247966, 0.9977703385247966, 0.9977703385247966, 0.9977703385247966, 0.9977703385247966, 0.9977703385247966, 0.9977703385247966, 0.9977703385247966, 0.9977703385247966, 0.9977703385247966, 0.9977703385247966, 0.9977703385247966, 0.9977703385247966, 0.9977703385247966, 0.9979106429345455, 0.9979106429345455, 0.9979106429345455, 0.9979106429345455, 0.9979106429345455, 0.9979106429345455, 0.9979106429345455, 0.9979106429345455, 0.9979366702982678, 0.9979366702982678, 0.9979366702982678, 0.9979366702982678, 0.9979366702982678, 0.9979366702982678, 0.9979366702982678, 0.9979366702982678, 0.9979366702982678, 0.9979366702982678, 0.9979366702982678, 0.9980036640643501, 0.9980036640643501]}], \"f1_score_macro\": [{\"categories\": [\"0\", \"1\", \"2\", \"3\", \"4\", \"5\", \"6\", \"7\", \"8\", \"9\", \"10\", \"11\", \"12\", \"13\", \"14\", \"15\", \"16\", \"17\", \"18\", \"19\", \"20\", \"21\", \"22\", \"23\", \"24\", \"25\", \"26\", \"27\", \"28\", \"29\", \"30\", \"31\", \"33\", \"34\", \"35\", \"36\", \"38\", \"39\"], \"mode\": \"markers\", \"name\": \"f1_score_macro\", \"stepped\": false, \"type\": \"scatter\", \"data\": [0.8812831559552551, 0.8910575895623987, 0.744009151962461, 0.7307946833802444, 0.7288191583772178, 0.8910575895623987, 0.6342381317661124, 0.7381327165322044, 0.7417858943651252, 0.8731693551868795, 0.748070473337998, 0.8910575895623987, 0.8905132919799218, 0.7372994569606443, 0.7430204958372327, 0.7451687302865729, 0.7467929929159095, 0.8911602468330241, 0.8104866226755744, 0.8104866226755744, 0.8106029364833727, 0.8982192704941913, 0.7442395889536144, 0.6918820507501441, 0.7472053118955568, 0.9357835293428556, 0.8908769969446221, 0.7431390604683727, 0.8731672152933511, 0.8106029364833727, 0.8195647304962722, 0.8591309298976584, 0.8188675986779993, 0.7473091290093952, 0.7382784277255634, 0.7477210181643207, 0.8912908417660724, 0.8315504968959517]}, {\"categories\": [\"0\", \"1\", \"2\", \"3\", \"4\", \"5\", \"6\", \"7\", \"8\", \"9\", \"10\", \"11\", \"12\", \"13\", \"14\", \"15\", \"16\", \"17\", \"18\", \"19\", \"20\", \"21\", \"22\", \"23\", \"24\", \"25\", \"26\", \"27\", \"28\", \"29\", \"30\", \"31\", \"33\", \"34\", \"35\", \"36\", \"38\", \"39\"], \"mode\": \"lines\", \"name\": \"f1_score_macro_max\", \"stepped\": true, \"type\": \"scatter\", \"data\": [0.8812831559552551, 0.8910575895623987, 0.8910575895623987, 0.8910575895623987, 0.8910575895623987, 0.8910575895623987, 0.8910575895623987, 0.8910575895623987, 0.8910575895623987, 0.8910575895623987, 0.8910575895623987, 0.8910575895623987, 0.8910575895623987, 0.8910575895623987, 0.8910575895623987, 0.8910575895623987, 0.8910575895623987, 0.8911602468330241, 0.8911602468330241, 0.8911602468330241, 0.8911602468330241, 0.8982192704941913, 0.8982192704941913, 0.8982192704941913, 0.8982192704941913, 0.9357835293428556, 0.9357835293428556, 0.9357835293428556, 0.9357835293428556, 0.9357835293428556, 0.9357835293428556, 0.9357835293428556, 0.9357835293428556, 0.9357835293428556, 0.9357835293428556, 0.9357835293428556, 0.9357835293428556, 0.9357835293428556]}], \"recall_score_macro\": [{\"categories\": [\"0\", \"1\", \"2\", \"3\", \"4\", \"5\", \"6\", \"7\", \"8\", \"9\", \"10\", \"11\", \"12\", \"13\", \"14\", \"15\", \"16\", \"17\", \"18\", \"19\", \"20\", \"21\", \"22\", \"23\", \"24\", \"25\", \"26\", \"27\", \"28\", \"29\", \"30\", \"31\", \"33\", \"34\", \"35\", \"36\", \"38\", \"39\"], \"mode\": \"markers\", \"name\": \"recall_score_macro\", \"stepped\": false, \"type\": \"scatter\", \"data\": [0.8953163979607718, 0.8486333518494401, 0.7450661662888141, 0.7339662032324339, 0.8102142464166018, 0.8486333518494401, 0.8211955823581369, 0.7396628739655565, 0.7430648320659988, 0.8485329750599558, 0.7486333518494401, 0.8486333518494401, 0.8478318879252835, 0.7387286079165659, 0.7445349577894781, 0.7461672101897059, 0.7478025633733689, 0.8486997529118571, 0.7984001729351219, 0.7984001729351219, 0.798466573997539, 0.8984665739975389, 0.7462073874836433, 0.7026183015325844, 0.7481021433501042, 0.8986333518494402, 0.8484665739975389, 0.7436624416277519, 0.8485669507870232, 0.798466573997539, 0.7985329750599559, 0.8484001729351218, 0.798134568685454, 0.7481345686854539, 0.7413106302829597, 0.7483337718727049, 0.8488665307637584, 0.7986333518494402]}, {\"categories\": [\"0\", \"1\", \"2\", \"3\", \"4\", \"5\", \"6\", \"7\", \"8\", \"9\", \"10\", \"11\", \"12\", \"13\", \"14\", \"15\", \"16\", \"17\", \"18\", \"19\", \"20\", \"21\", \"22\", \"23\", \"24\", \"25\", \"26\", \"27\", \"28\", \"29\", \"30\", \"31\", \"33\", \"34\", \"35\", \"36\", \"38\", \"39\"], \"mode\": \"lines\", \"name\": \"recall_score_macro_max\", \"stepped\": true, \"type\": \"scatter\", \"data\": [0.8953163979607718, 0.8953163979607718, 0.8953163979607718, 0.8953163979607718, 0.8953163979607718, 0.8953163979607718, 0.8953163979607718, 0.8953163979607718, 0.8953163979607718, 0.8953163979607718, 0.8953163979607718, 0.8953163979607718, 0.8953163979607718, 0.8953163979607718, 0.8953163979607718, 0.8953163979607718, 0.8953163979607718, 0.8953163979607718, 0.8953163979607718, 0.8953163979607718, 0.8953163979607718, 0.8984665739975389, 0.8984665739975389, 0.8984665739975389, 0.8984665739975389, 0.8986333518494402, 0.8986333518494402, 0.8986333518494402, 0.8986333518494402, 0.8986333518494402, 0.8986333518494402, 0.8986333518494402, 0.8986333518494402, 0.8986333518494402, 0.8986333518494402, 0.8986333518494402, 0.8986333518494402, 0.8986333518494402]}], \"AUC_macro\": [{\"categories\": [\"0\", \"1\", \"2\", \"3\", \"4\", \"5\", \"6\", \"7\", \"8\", \"9\", \"10\", \"11\", \"12\", \"13\", \"14\", \"15\", \"16\", \"17\", \"18\", \"19\", \"20\", \"21\", \"22\", \"23\", \"24\", \"25\", \"26\", \"27\", \"28\", \"29\", \"30\", \"31\", \"33\", \"34\", \"35\", \"36\", \"38\", \"39\"], \"mode\": \"markers\", \"name\": \"AUC_macro\", \"stepped\": false, \"type\": \"scatter\", \"data\": [0.99568296061241, 0.9992580491634917, 0.995002419364132, 0.9900069616037446, 0.9910325054106568, 0.999472999329311, 0.9807061372966575, 0.9804415692750681, 0.9879729702636191, 0.9937742284365392, 0.959327130922528, 0.9983211206532228, 0.9901913526097936, 0.9975806955433639, 0.9887622959830942, 0.9915745476632949, 0.9309759445880854, 0.9891290018819405, 0.9980564075264415, 0.9866375455781209, 0.9983590685032526, 0.9988648429259827, 0.9941319705172118, 0.9611772266516934, 0.995607819770465, 0.9996479948230415, 0.9979643838008171, 0.9941788645107126, 0.9955278511440766, 0.9918326560209083, 0.9947128732264697, 0.9962587786272936, 0.9930425844551143, 0.9887211774487916, 0.9618125882392122, 0.9911167982688309, 0.9995276158320077, 0.9995843796610785]}, {\"categories\": [\"0\", \"1\", \"2\", \"3\", \"4\", \"5\", \"6\", \"7\", \"8\", \"9\", \"10\", \"11\", \"12\", \"13\", \"14\", \"15\", \"16\", \"17\", \"18\", \"19\", \"20\", \"21\", \"22\", \"23\", \"24\", \"25\", \"26\", \"27\", \"28\", \"29\", \"30\", \"31\", \"33\", \"34\", \"35\", \"36\", \"38\", \"39\"], \"mode\": \"lines\", \"name\": \"AUC_macro_max\", \"stepped\": true, \"type\": \"scatter\", \"data\": [0.99568296061241, 0.9992580491634917, 0.9992580491634917, 0.9992580491634917, 0.9992580491634917, 0.999472999329311, 0.999472999329311, 0.999472999329311, 0.999472999329311, 0.999472999329311, 0.999472999329311, 0.999472999329311, 0.999472999329311, 0.999472999329311, 0.999472999329311, 0.999472999329311, 0.999472999329311, 0.999472999329311, 0.999472999329311, 0.999472999329311, 0.999472999329311, 0.999472999329311, 0.999472999329311, 0.999472999329311, 0.999472999329311, 0.9996479948230415, 0.9996479948230415, 0.9996479948230415, 0.9996479948230415, 0.9996479948230415, 0.9996479948230415, 0.9996479948230415, 0.9996479948230415, 0.9996479948230415, 0.9996479948230415, 0.9996479948230415, 0.9996479948230415, 0.9996479948230415]}], \"AUC_weighted\": [{\"categories\": [\"0\", \"1\", \"2\", \"3\", \"4\", \"5\", \"6\", \"7\", \"8\", \"9\", \"10\", \"11\", \"12\", \"13\", \"14\", \"15\", \"16\", \"17\", \"18\", \"19\", \"20\", \"21\", \"22\", \"23\", \"24\", \"25\", \"26\", \"27\", \"28\", \"29\", \"30\", \"31\", \"33\", \"34\", \"35\", \"36\", \"38\", \"39\"], \"mode\": \"markers\", \"name\": \"AUC_weighted\", \"stepped\": false, \"type\": \"scatter\", \"data\": [0.9956663411800364, 0.9998153912487989, 0.9996105151067258, 0.9989128875154797, 0.9996871056183866, 0.9998300144666918, 0.9905518803089263, 0.9987975982191525, 0.999609060484167, 0.9997759537411053, 0.9995783063570521, 0.9998009237648153, 0.9996398868559074, 0.9996475945508518, 0.9996109449401468, 0.9995828456669911, 0.9992195238219027, 0.9996861057971825, 0.9998054685106804, 0.999734968984036, 0.9998393157415435, 0.9997816558739844, 0.9994016496394879, 0.9965113899803872, 0.9996186545667876, 0.9997654737597884, 0.9998497372394503, 0.9991878185416757, 0.9997368330089345, 0.9998245720732692, 0.9998298530237222, 0.9997799673004454, 0.9998337533612626, 0.9997617672320454, 0.9975447530342885, 0.9998016222915426, 0.9997392039353813, 0.9997592490694357]}, {\"categories\": [\"0\", \"1\", \"2\", \"3\", \"4\", \"5\", \"6\", \"7\", \"8\", \"9\", \"10\", \"11\", \"12\", \"13\", \"14\", \"15\", \"16\", \"17\", \"18\", \"19\", \"20\", \"21\", \"22\", \"23\", \"24\", \"25\", \"26\", \"27\", \"28\", \"29\", \"30\", \"31\", \"33\", \"34\", \"35\", \"36\", \"38\", \"39\"], \"mode\": \"lines\", \"name\": \"AUC_weighted_max\", \"stepped\": true, \"type\": \"scatter\", \"data\": [0.9956663411800364, 0.9998153912487989, 0.9998153912487989, 0.9998153912487989, 0.9998153912487989, 0.9998300144666918, 0.9998300144666918, 0.9998300144666918, 0.9998300144666918, 0.9998300144666918, 0.9998300144666918, 0.9998300144666918, 0.9998300144666918, 0.9998300144666918, 0.9998300144666918, 0.9998300144666918, 0.9998300144666918, 0.9998300144666918, 0.9998300144666918, 0.9998300144666918, 0.9998393157415435, 0.9998393157415435, 0.9998393157415435, 0.9998393157415435, 0.9998393157415435, 0.9998393157415435, 0.9998497372394503, 0.9998497372394503, 0.9998497372394503, 0.9998497372394503, 0.9998497372394503, 0.9998497372394503, 0.9998497372394503, 0.9998497372394503, 0.9998497372394503, 0.9998497372394503, 0.9998497372394503, 0.9998497372394503]}], \"average_precision_score_micro\": [{\"categories\": [\"0\", \"1\", \"2\", \"3\", \"4\", \"5\", \"6\", \"7\", \"8\", \"9\", \"10\", \"11\", \"12\", \"13\", \"14\", \"15\", \"16\", \"17\", \"18\", \"19\", \"20\", \"21\", \"22\", \"23\", \"24\", \"25\", \"26\", \"27\", \"28\", \"29\", \"30\", \"31\", \"33\", \"34\", \"35\", \"36\", \"38\", \"39\"], \"mode\": \"markers\", \"name\": \"average_precision_score_micro\", \"stepped\": false, \"type\": \"scatter\", \"data\": [0.9873995450243529, 0.9997697180995246, 0.9979542416633298, 0.9975902928821575, 0.9919589227377479, 0.9998173591890198, 0.9287071857039237, 0.9985480850886111, 0.9989565565192702, 0.9996488253307871, 0.9992971598081877, 0.9997520987068789, 0.9995100032866779, 0.9985997116490274, 0.9992162791641307, 0.999239038806257, 0.9985524637258864, 0.9994558755435264, 0.9997443659835921, 0.9996111645856793, 0.999768357764987, 0.9997306913128244, 0.9982434418455745, 0.9899757446453719, 0.9986667768083566, 0.999769194432399, 0.9997722240254105, 0.9988597402255484, 0.9996393937370129, 0.9996839765900134, 0.9997110325326122, 0.9996831450088886, 0.9996863853007575, 0.9995594296115502, 0.9967025794893006, 0.9995557741667267, 0.9994159124886404, 0.9996744302878631]}, {\"categories\": [\"0\", \"1\", \"2\", \"3\", \"4\", \"5\", \"6\", \"7\", \"8\", \"9\", \"10\", \"11\", \"12\", \"13\", \"14\", \"15\", \"16\", \"17\", \"18\", \"19\", \"20\", \"21\", \"22\", \"23\", \"24\", \"25\", \"26\", \"27\", \"28\", \"29\", \"30\", \"31\", \"33\", \"34\", \"35\", \"36\", \"38\", \"39\"], \"mode\": \"lines\", \"name\": \"average_precision_score_micro_max\", \"stepped\": true, \"type\": \"scatter\", \"data\": [0.9873995450243529, 0.9997697180995246, 0.9997697180995246, 0.9997697180995246, 0.9997697180995246, 0.9998173591890198, 0.9998173591890198, 0.9998173591890198, 0.9998173591890198, 0.9998173591890198, 0.9998173591890198, 0.9998173591890198, 0.9998173591890198, 0.9998173591890198, 0.9998173591890198, 0.9998173591890198, 0.9998173591890198, 0.9998173591890198, 0.9998173591890198, 0.9998173591890198, 0.9998173591890198, 0.9998173591890198, 0.9998173591890198, 0.9998173591890198, 0.9998173591890198, 0.9998173591890198, 0.9998173591890198, 0.9998173591890198, 0.9998173591890198, 0.9998173591890198, 0.9998173591890198, 0.9998173591890198, 0.9998173591890198, 0.9998173591890198, 0.9998173591890198, 0.9998173591890198, 0.9998173591890198, 0.9998173591890198]}], \"matthews_correlation\": [{\"categories\": [\"0\", \"1\", \"2\", \"3\", \"4\", \"5\", \"6\", \"7\", \"8\", \"9\", \"10\", \"11\", \"12\", \"13\", \"14\", \"15\", \"16\", \"17\", \"18\", \"19\", \"20\", \"21\", \"22\", \"23\", \"24\", \"25\", \"26\", \"27\", \"28\", \"29\", \"30\", \"31\", \"33\", \"34\", \"35\", \"36\", \"38\", \"39\"], \"mode\": \"markers\", \"name\": \"matthews_correlation\", \"stepped\": false, \"type\": \"scatter\", \"data\": [0.9907929189521567, 0.9965768667406179, 0.989486116596612, 0.9685189410433802, 0.9351885112322407, 0.9965768667406179, 0.7580581839622942, 0.9808926111362738, 0.9863554604822091, 0.9965774279872474, 0.9960498062447625, 0.9965768667406179, 0.9957877185066099, 0.9795888995578982, 0.9873924992626364, 0.9910562510400004, 0.9931609180245163, 0.9968403611398691, 0.9957876946270688, 0.9957876946270688, 0.9960506733021898, 0.9965783582026753, 0.9876835595287464, 0.9029851586317916, 0.9939480814325888, 0.9968404166701088, 0.9963138238987459, 0.9887137143301673, 0.996314047676833, 0.9960506733021898, 0.9963135268334389, 0.9960517677832521, 0.9947369909222817, 0.9944728744691733, 0.9767227031532831, 0.9952599219810483, 0.9971036574106574, 0.9963127151057294]}, {\"categories\": [\"0\", \"1\", \"2\", \"3\", \"4\", \"5\", \"6\", \"7\", \"8\", \"9\", \"10\", \"11\", \"12\", \"13\", \"14\", \"15\", \"16\", \"17\", \"18\", \"19\", \"20\", \"21\", \"22\", \"23\", \"24\", \"25\", \"26\", \"27\", \"28\", \"29\", \"30\", \"31\", \"33\", \"34\", \"35\", \"36\", \"38\", \"39\"], \"mode\": \"lines\", \"name\": \"matthews_correlation_max\", \"stepped\": true, \"type\": \"scatter\", \"data\": [0.9907929189521567, 0.9965768667406179, 0.9965768667406179, 0.9965768667406179, 0.9965768667406179, 0.9965768667406179, 0.9965768667406179, 0.9965768667406179, 0.9965768667406179, 0.9965774279872474, 0.9965774279872474, 0.9965774279872474, 0.9965774279872474, 0.9965774279872474, 0.9965774279872474, 0.9965774279872474, 0.9965774279872474, 0.9968403611398691, 0.9968403611398691, 0.9968403611398691, 0.9968403611398691, 0.9968403611398691, 0.9968403611398691, 0.9968403611398691, 0.9968403611398691, 0.9968404166701088, 0.9968404166701088, 0.9968404166701088, 0.9968404166701088, 0.9968404166701088, 0.9968404166701088, 0.9968404166701088, 0.9968404166701088, 0.9968404166701088, 0.9968404166701088, 0.9968404166701088, 0.9971036574106574, 0.9971036574106574]}], \"precision_score_micro\": [{\"categories\": [\"0\", \"1\", \"2\", \"3\", \"4\", \"5\", \"6\", \"7\", \"8\", \"9\", \"10\", \"11\", \"12\", \"13\", \"14\", \"15\", \"16\", \"17\", \"18\", \"19\", \"20\", \"21\", \"22\", \"23\", \"24\", \"25\", \"26\", \"27\", \"28\", \"29\", \"30\", \"31\", \"33\", \"34\", \"35\", \"36\", \"38\", \"39\"], \"mode\": \"markers\", \"name\": \"precision_score_micro\", \"stepped\": false, \"type\": \"scatter\", \"data\": [0.9946597497711321, 0.9980164784864205, 0.9938968568812938, 0.981537992065914, 0.9609398840402807, 0.9980164784864205, 0.8381141287763199, 0.9888617638083613, 0.992065913945682, 0.9980164784864205, 0.9977113213304852, 0.9980164784864205, 0.9975587427525175, 0.988098870918523, 0.9926762282575526, 0.9948123283490998, 0.996032956972841, 0.9981690570643882, 0.9975587427525175, 0.9975587427525175, 0.9977113213304852, 0.9980164784864205, 0.9928288068355203, 0.9411046689044859, 0.996490692706744, 0.9981690570643882, 0.9978638999084528, 0.9934391211473909, 0.9978638999084528, 0.9977113213304852, 0.9978638999084528, 0.9977113213304852, 0.9969484284406469, 0.9967958498626793, 0.9864205065608789, 0.9972535855965823, 0.9983216356423558, 0.9978638999084528]}, {\"categories\": [\"0\", \"1\", \"2\", \"3\", \"4\", \"5\", \"6\", \"7\", \"8\", \"9\", \"10\", \"11\", \"12\", \"13\", \"14\", \"15\", \"16\", \"17\", \"18\", \"19\", \"20\", \"21\", \"22\", \"23\", \"24\", \"25\", \"26\", \"27\", \"28\", \"29\", \"30\", \"31\", \"33\", \"34\", \"35\", \"36\", \"38\", \"39\"], \"mode\": \"lines\", \"name\": \"precision_score_micro_max\", \"stepped\": true, \"type\": \"scatter\", \"data\": [0.9946597497711321, 0.9980164784864205, 0.9980164784864205, 0.9980164784864205, 0.9980164784864205, 0.9980164784864205, 0.9980164784864205, 0.9980164784864205, 0.9980164784864205, 0.9980164784864205, 0.9980164784864205, 0.9980164784864205, 0.9980164784864205, 0.9980164784864205, 0.9980164784864205, 0.9980164784864205, 0.9980164784864205, 0.9981690570643882, 0.9981690570643882, 0.9981690570643882, 0.9981690570643882, 0.9981690570643882, 0.9981690570643882, 0.9981690570643882, 0.9981690570643882, 0.9981690570643882, 0.9981690570643882, 0.9981690570643882, 0.9981690570643882, 0.9981690570643882, 0.9981690570643882, 0.9981690570643882, 0.9981690570643882, 0.9981690570643882, 0.9981690570643882, 0.9981690570643882, 0.9983216356423558, 0.9983216356423558]}], \"AUC_micro\": [{\"categories\": [\"0\", \"1\", \"2\", \"3\", \"4\", \"5\", \"6\", \"7\", \"8\", \"9\", \"10\", \"11\", \"12\", \"13\", \"14\", \"15\", \"16\", \"17\", \"18\", \"19\", \"20\", \"21\", \"22\", \"23\", \"24\", \"25\", \"26\", \"27\", \"28\", \"29\", \"30\", \"31\", \"33\", \"34\", \"35\", \"36\", \"38\", \"39\"], \"mode\": \"markers\", \"name\": \"AUC_micro\", \"stepped\": false, \"type\": \"scatter\", \"data\": [0.9959441235239912, 0.9999311914224982, 0.9991960563179001, 0.9991261613300172, 0.9972334482041588, 0.9999387652548701, 0.9703934158936934, 0.9994811381620053, 0.9994968445520881, 0.9998795170887231, 0.9997263021846752, 0.999917401770731, 0.9998385749374996, 0.9991495191532132, 0.9996822404836426, 0.9997200708451314, 0.999390283213839, 0.9998048341350886, 0.9999136730551011, 0.9998657351970299, 0.9999217629324042, 0.999908850169016, 0.9992591612409004, 0.9959804833514283, 0.9991719224872888, 0.9999217241320334, 0.9999275441876471, 0.9996600078711985, 0.9998783220373038, 0.9998934231416026, 0.9999021765052456, 0.999892107809034, 0.9998930118576725, 0.9998525896314173, 0.9986831774970761, 0.9998603652257172, 0.999737205088858, 0.9998736116722938]}, {\"categories\": [\"0\", \"1\", \"2\", \"3\", \"4\", \"5\", \"6\", \"7\", \"8\", \"9\", \"10\", \"11\", \"12\", \"13\", \"14\", \"15\", \"16\", \"17\", \"18\", \"19\", \"20\", \"21\", \"22\", \"23\", \"24\", \"25\", \"26\", \"27\", \"28\", \"29\", \"30\", \"31\", \"33\", \"34\", \"35\", \"36\", \"38\", \"39\"], \"mode\": \"lines\", \"name\": \"AUC_micro_max\", \"stepped\": true, \"type\": \"scatter\", \"data\": [0.9959441235239912, 0.9999311914224982, 0.9999311914224982, 0.9999311914224982, 0.9999311914224982, 0.9999387652548701, 0.9999387652548701, 0.9999387652548701, 0.9999387652548701, 0.9999387652548701, 0.9999387652548701, 0.9999387652548701, 0.9999387652548701, 0.9999387652548701, 0.9999387652548701, 0.9999387652548701, 0.9999387652548701, 0.9999387652548701, 0.9999387652548701, 0.9999387652548701, 0.9999387652548701, 0.9999387652548701, 0.9999387652548701, 0.9999387652548701, 0.9999387652548701, 0.9999387652548701, 0.9999387652548701, 0.9999387652548701, 0.9999387652548701, 0.9999387652548701, 0.9999387652548701, 0.9999387652548701, 0.9999387652548701, 0.9999387652548701, 0.9999387652548701, 0.9999387652548701, 0.9999387652548701, 0.9999387652548701]}], \"recall_score_weighted\": [{\"categories\": [\"0\", \"1\", \"2\", \"3\", \"4\", \"5\", \"6\", \"7\", \"8\", \"9\", \"10\", \"11\", \"12\", \"13\", \"14\", \"15\", \"16\", \"17\", \"18\", \"19\", \"20\", \"21\", \"22\", \"23\", \"24\", \"25\", \"26\", \"27\", \"28\", \"29\", \"30\", \"31\", \"33\", \"34\", \"35\", \"36\", \"38\", \"39\"], \"mode\": \"markers\", \"name\": \"recall_score_weighted\", \"stepped\": false, \"type\": \"scatter\", \"data\": [0.9946597497711321, 0.9980164784864205, 0.9938968568812938, 0.981537992065914, 0.9609398840402807, 0.9980164784864205, 0.8381141287763199, 0.9888617638083613, 0.992065913945682, 0.9980164784864205, 0.9977113213304852, 0.9980164784864205, 0.9975587427525175, 0.988098870918523, 0.9926762282575526, 0.9948123283490998, 0.996032956972841, 0.9981690570643882, 0.9975587427525175, 0.9975587427525175, 0.9977113213304852, 0.9980164784864205, 0.9928288068355203, 0.9411046689044859, 0.996490692706744, 0.9981690570643882, 0.9978638999084528, 0.9934391211473909, 0.9978638999084528, 0.9977113213304852, 0.9978638999084528, 0.9977113213304852, 0.9969484284406469, 0.9967958498626793, 0.9864205065608789, 0.9972535855965823, 0.9983216356423558, 0.9978638999084528]}, {\"categories\": [\"0\", \"1\", \"2\", \"3\", \"4\", \"5\", \"6\", \"7\", \"8\", \"9\", \"10\", \"11\", \"12\", \"13\", \"14\", \"15\", \"16\", \"17\", \"18\", \"19\", \"20\", \"21\", \"22\", \"23\", \"24\", \"25\", \"26\", \"27\", \"28\", \"29\", \"30\", \"31\", \"33\", \"34\", \"35\", \"36\", \"38\", \"39\"], \"mode\": \"lines\", \"name\": \"recall_score_weighted_max\", \"stepped\": true, \"type\": \"scatter\", \"data\": [0.9946597497711321, 0.9980164784864205, 0.9980164784864205, 0.9980164784864205, 0.9980164784864205, 0.9980164784864205, 0.9980164784864205, 0.9980164784864205, 0.9980164784864205, 0.9980164784864205, 0.9980164784864205, 0.9980164784864205, 0.9980164784864205, 0.9980164784864205, 0.9980164784864205, 0.9980164784864205, 0.9980164784864205, 0.9981690570643882, 0.9981690570643882, 0.9981690570643882, 0.9981690570643882, 0.9981690570643882, 0.9981690570643882, 0.9981690570643882, 0.9981690570643882, 0.9981690570643882, 0.9981690570643882, 0.9981690570643882, 0.9981690570643882, 0.9981690570643882, 0.9981690570643882, 0.9981690570643882, 0.9981690570643882, 0.9981690570643882, 0.9981690570643882, 0.9981690570643882, 0.9983216356423558, 0.9983216356423558]}], \"accuracy\": [{\"categories\": [\"0\", \"1\", \"2\", \"3\", \"4\", \"5\", \"6\", \"7\", \"8\", \"9\", \"10\", \"11\", \"12\", \"13\", \"14\", \"15\", \"16\", \"17\", \"18\", \"19\", \"20\", \"21\", \"22\", \"23\", \"24\", \"25\", \"26\", \"27\", \"28\", \"29\", \"30\", \"31\", \"33\", \"34\", \"35\", \"36\", \"38\", \"39\"], \"mode\": \"markers\", \"name\": \"accuracy\", \"stepped\": false, \"type\": \"scatter\", \"data\": [0.9946597497711321, 0.9980164784864205, 0.9938968568812938, 0.981537992065914, 0.9609398840402807, 0.9980164784864205, 0.8381141287763199, 0.9888617638083613, 0.992065913945682, 0.9980164784864205, 0.9977113213304852, 0.9980164784864205, 0.9975587427525175, 0.988098870918523, 0.9926762282575526, 0.9948123283490998, 0.996032956972841, 0.9981690570643882, 0.9975587427525175, 0.9975587427525175, 0.9977113213304852, 0.9980164784864205, 0.9928288068355203, 0.9411046689044859, 0.996490692706744, 0.9981690570643882, 0.9978638999084528, 0.9934391211473909, 0.9978638999084528, 0.9977113213304852, 0.9978638999084528, 0.9977113213304852, 0.9969484284406469, 0.9967958498626793, 0.9864205065608789, 0.9972535855965823, 0.9983216356423558, 0.9978638999084528]}, {\"categories\": [\"0\", \"1\", \"2\", \"3\", \"4\", \"5\", \"6\", \"7\", \"8\", \"9\", \"10\", \"11\", \"12\", \"13\", \"14\", \"15\", \"16\", \"17\", \"18\", \"19\", \"20\", \"21\", \"22\", \"23\", \"24\", \"25\", \"26\", \"27\", \"28\", \"29\", \"30\", \"31\", \"33\", \"34\", \"35\", \"36\", \"38\", \"39\"], \"mode\": \"lines\", \"name\": \"accuracy_max\", \"stepped\": true, \"type\": \"scatter\", \"data\": [0.9946597497711321, 0.9980164784864205, 0.9980164784864205, 0.9980164784864205, 0.9980164784864205, 0.9980164784864205, 0.9980164784864205, 0.9980164784864205, 0.9980164784864205, 0.9980164784864205, 0.9980164784864205, 0.9980164784864205, 0.9980164784864205, 0.9980164784864205, 0.9980164784864205, 0.9980164784864205, 0.9980164784864205, 0.9981690570643882, 0.9981690570643882, 0.9981690570643882, 0.9981690570643882, 0.9981690570643882, 0.9981690570643882, 0.9981690570643882, 0.9981690570643882, 0.9981690570643882, 0.9981690570643882, 0.9981690570643882, 0.9981690570643882, 0.9981690570643882, 0.9981690570643882, 0.9981690570643882, 0.9981690570643882, 0.9981690570643882, 0.9981690570643882, 0.9981690570643882, 0.9983216356423558, 0.9983216356423558]}], \"average_precision_score_macro\": [{\"categories\": [\"0\", \"1\", \"2\", \"3\", \"4\", \"5\", \"6\", \"7\", \"8\", \"9\", \"10\", \"11\", \"12\", \"13\", \"14\", \"15\", \"16\", \"17\", \"18\", \"19\", \"20\", \"21\", \"22\", \"23\", \"24\", \"25\", \"26\", \"27\", \"28\", \"29\", \"30\", \"31\", \"33\", \"34\", \"35\", \"36\", \"38\", \"39\"], \"mode\": \"markers\", \"name\": \"average_precision_score_macro\", \"stepped\": false, \"type\": \"scatter\", \"data\": [0.8426013774171255, 0.9299463948155002, 0.833267690417369, 0.7962537631149023, 0.8502575530633364, 0.9317842786323951, 0.7348335882314176, 0.7432849333568033, 0.8003262016653663, 0.8378578905985671, 0.7763040756308645, 0.8733083967341537, 0.8516178081790713, 0.814177988942708, 0.8076430813045715, 0.8509855221874341, 0.7491074863072723, 0.8790009852781074, 0.8625350867943059, 0.8324185817483964, 0.8646916440511608, 0.8767703523002357, 0.7569779382815016, 0.7437471986910432, 0.7591377375076311, 0.9562528158191875, 0.8587187756479153, 0.859939930565862, 0.8541058470121089, 0.8032373999902306, 0.8232729022437874, 0.8315850142531689, 0.8372248717995636, 0.7775842163901483, 0.7445870284568225, 0.821141153686283, 0.9420068708839113, 0.9381163688697951]}, {\"categories\": [\"0\", \"1\", \"2\", \"3\", \"4\", \"5\", \"6\", \"7\", \"8\", \"9\", \"10\", \"11\", \"12\", \"13\", \"14\", \"15\", \"16\", \"17\", \"18\", \"19\", \"20\", \"21\", \"22\", \"23\", \"24\", \"25\", \"26\", \"27\", \"28\", \"29\", \"30\", \"31\", \"33\", \"34\", \"35\", \"36\", \"38\", \"39\"], \"mode\": \"lines\", \"name\": \"average_precision_score_macro_max\", \"stepped\": true, \"type\": \"scatter\", \"data\": [0.8426013774171255, 0.9299463948155002, 0.9299463948155002, 0.9299463948155002, 0.9299463948155002, 0.9317842786323951, 0.9317842786323951, 0.9317842786323951, 0.9317842786323951, 0.9317842786323951, 0.9317842786323951, 0.9317842786323951, 0.9317842786323951, 0.9317842786323951, 0.9317842786323951, 0.9317842786323951, 0.9317842786323951, 0.9317842786323951, 0.9317842786323951, 0.9317842786323951, 0.9317842786323951, 0.9317842786323951, 0.9317842786323951, 0.9317842786323951, 0.9317842786323951, 0.9562528158191875, 0.9562528158191875, 0.9562528158191875, 0.9562528158191875, 0.9562528158191875, 0.9562528158191875, 0.9562528158191875, 0.9562528158191875, 0.9562528158191875, 0.9562528158191875, 0.9562528158191875, 0.9562528158191875, 0.9562528158191875]}], \"log_loss\": [{\"categories\": [\"0\", \"1\", \"2\", \"3\", \"4\", \"5\", \"6\", \"7\", \"8\", \"9\", \"10\", \"11\", \"12\", \"13\", \"14\", \"15\", \"16\", \"17\", \"18\", \"19\", \"20\", \"21\", \"22\", \"23\", \"24\", \"25\", \"26\", \"27\", \"28\", \"29\", \"30\", \"31\", \"33\", \"34\", \"35\", \"36\", \"38\", \"39\"], \"mode\": \"markers\", \"name\": \"log_loss\", \"stepped\": false, \"type\": \"scatter\", \"data\": [0.12429745277931031, 0.009301290754197828, 0.18647663679873083, 0.21562502435699687, 0.273550217729708, 0.008868346457399543, 0.9971874213922622, 0.04254447680234124, 0.04272744344488319, 0.01068554858819726, 0.4116466801475391, 0.009758488295973766, 0.013550924670748015, 0.2025923611710391, 0.03430825676133761, 0.029624896203292134, 0.416483921033391, 0.02290859233407325, 0.010039715766986946, 0.011313569528153327, 0.0105735088985796, 0.009972279285827532, 0.07215896088118105, 0.26351448911965547, 0.23529663494361072, 0.009440578924104466, 0.017258308738344035, 0.02857202370028438, 0.010766953372876831, 0.011520796529564581, 0.01132877471309666, 0.012767545028638399, 0.012508716956201076, 0.014802083816667257, 0.06423519407382333, 0.013869171954648317, 0.0427749254128392, 0.01144120884272995]}, {\"categories\": [\"0\", \"1\", \"2\", \"3\", \"4\", \"5\", \"6\", \"7\", \"8\", \"9\", \"10\", \"11\", \"12\", \"13\", \"14\", \"15\", \"16\", \"17\", \"18\", \"19\", \"20\", \"21\", \"22\", \"23\", \"24\", \"25\", \"26\", \"27\", \"28\", \"29\", \"30\", \"31\", \"33\", \"34\", \"35\", \"36\", \"38\", \"39\"], \"mode\": \"lines\", \"name\": \"log_loss_min\", \"stepped\": true, \"type\": \"scatter\", \"data\": [0.12429745277931031, 0.009301290754197828, 0.009301290754197828, 0.009301290754197828, 0.009301290754197828, 0.008868346457399543, 0.008868346457399543, 0.008868346457399543, 0.008868346457399543, 0.008868346457399543, 0.008868346457399543, 0.008868346457399543, 0.008868346457399543, 0.008868346457399543, 0.008868346457399543, 0.008868346457399543, 0.008868346457399543, 0.008868346457399543, 0.008868346457399543, 0.008868346457399543, 0.008868346457399543, 0.008868346457399543, 0.008868346457399543, 0.008868346457399543, 0.008868346457399543, 0.008868346457399543, 0.008868346457399543, 0.008868346457399543, 0.008868346457399543, 0.008868346457399543, 0.008868346457399543, 0.008868346457399543, 0.008868346457399543, 0.008868346457399543, 0.008868346457399543, 0.008868346457399543, 0.008868346457399543, 0.008868346457399543]}], \"recall_score_micro\": [{\"categories\": [\"0\", \"1\", \"2\", \"3\", \"4\", \"5\", \"6\", \"7\", \"8\", \"9\", \"10\", \"11\", \"12\", \"13\", \"14\", \"15\", \"16\", \"17\", \"18\", \"19\", \"20\", \"21\", \"22\", \"23\", \"24\", \"25\", \"26\", \"27\", \"28\", \"29\", \"30\", \"31\", \"33\", \"34\", \"35\", \"36\", \"38\", \"39\"], \"mode\": \"markers\", \"name\": \"recall_score_micro\", \"stepped\": false, \"type\": \"scatter\", \"data\": [0.9946597497711321, 0.9980164784864205, 0.9938968568812938, 0.981537992065914, 0.9609398840402807, 0.9980164784864205, 0.8381141287763199, 0.9888617638083613, 0.992065913945682, 0.9980164784864205, 0.9977113213304852, 0.9980164784864205, 0.9975587427525175, 0.988098870918523, 0.9926762282575526, 0.9948123283490998, 0.996032956972841, 0.9981690570643882, 0.9975587427525175, 0.9975587427525175, 0.9977113213304852, 0.9980164784864205, 0.9928288068355203, 0.9411046689044859, 0.996490692706744, 0.9981690570643882, 0.9978638999084528, 0.9934391211473909, 0.9978638999084528, 0.9977113213304852, 0.9978638999084528, 0.9977113213304852, 0.9969484284406469, 0.9967958498626793, 0.9864205065608789, 0.9972535855965823, 0.9983216356423558, 0.9978638999084528]}, {\"categories\": [\"0\", \"1\", \"2\", \"3\", \"4\", \"5\", \"6\", \"7\", \"8\", \"9\", \"10\", \"11\", \"12\", \"13\", \"14\", \"15\", \"16\", \"17\", \"18\", \"19\", \"20\", \"21\", \"22\", \"23\", \"24\", \"25\", \"26\", \"27\", \"28\", \"29\", \"30\", \"31\", \"33\", \"34\", \"35\", \"36\", \"38\", \"39\"], \"mode\": \"lines\", \"name\": \"recall_score_micro_max\", \"stepped\": true, \"type\": \"scatter\", \"data\": [0.9946597497711321, 0.9980164784864205, 0.9980164784864205, 0.9980164784864205, 0.9980164784864205, 0.9980164784864205, 0.9980164784864205, 0.9980164784864205, 0.9980164784864205, 0.9980164784864205, 0.9980164784864205, 0.9980164784864205, 0.9980164784864205, 0.9980164784864205, 0.9980164784864205, 0.9980164784864205, 0.9980164784864205, 0.9981690570643882, 0.9981690570643882, 0.9981690570643882, 0.9981690570643882, 0.9981690570643882, 0.9981690570643882, 0.9981690570643882, 0.9981690570643882, 0.9981690570643882, 0.9981690570643882, 0.9981690570643882, 0.9981690570643882, 0.9981690570643882, 0.9981690570643882, 0.9981690570643882, 0.9981690570643882, 0.9981690570643882, 0.9981690570643882, 0.9981690570643882, 0.9983216356423558, 0.9983216356423558]}], \"average_precision_score_weighted\": [{\"categories\": [\"0\", \"1\", \"2\", \"3\", \"4\", \"5\", \"6\", \"7\", \"8\", \"9\", \"10\", \"11\", \"12\", \"13\", \"14\", \"15\", \"16\", \"17\", \"18\", \"19\", \"20\", \"21\", \"22\", \"23\", \"24\", \"25\", \"26\", \"27\", \"28\", \"29\", \"30\", \"31\", \"33\", \"34\", \"35\", \"36\", \"38\", \"39\"], \"mode\": \"markers\", \"name\": \"average_precision_score_weighted\", \"stepped\": false, \"type\": \"scatter\", \"data\": [0.9876299322311661, 0.9989471616661006, 0.9974638201875509, 0.994281828805353, 0.9984283235183459, 0.9988636537288857, 0.9815149546016645, 0.9925073627405744, 0.9979025631224245, 0.9983887204040074, 0.9978116944790616, 0.9988090867845919, 0.9978990809992311, 0.9978935341422811, 0.9977549213987567, 0.9975679995234974, 0.9970383469875568, 0.9981732600763307, 0.9986874917250426, 0.998227492475155, 0.9989029724330091, 0.9984767090492173, 0.9969093402926156, 0.9919808292077896, 0.9976872920468175, 0.9985751876820813, 0.9989048583166548, 0.9959697889596082, 0.9985333318076376, 0.9986713746488796, 0.9986991247926976, 0.9984884301314675, 0.9989286438621525, 0.9982974059353265, 0.9933390354457737, 0.9985188173010335, 0.9987377858216416, 0.9987544396324615]}, {\"categories\": [\"0\", \"1\", \"2\", \"3\", \"4\", \"5\", \"6\", \"7\", \"8\", \"9\", \"10\", \"11\", \"12\", \"13\", \"14\", \"15\", \"16\", \"17\", \"18\", \"19\", \"20\", \"21\", \"22\", \"23\", \"24\", \"25\", \"26\", \"27\", \"28\", \"29\", \"30\", \"31\", \"33\", \"34\", \"35\", \"36\", \"38\", \"39\"], \"mode\": \"lines\", \"name\": \"average_precision_score_weighted_max\", \"stepped\": true, \"type\": \"scatter\", \"data\": [0.9876299322311661, 0.9989471616661006, 0.9989471616661006, 0.9989471616661006, 0.9989471616661006, 0.9989471616661006, 0.9989471616661006, 0.9989471616661006, 0.9989471616661006, 0.9989471616661006, 0.9989471616661006, 0.9989471616661006, 0.9989471616661006, 0.9989471616661006, 0.9989471616661006, 0.9989471616661006, 0.9989471616661006, 0.9989471616661006, 0.9989471616661006, 0.9989471616661006, 0.9989471616661006, 0.9989471616661006, 0.9989471616661006, 0.9989471616661006, 0.9989471616661006, 0.9989471616661006, 0.9989471616661006, 0.9989471616661006, 0.9989471616661006, 0.9989471616661006, 0.9989471616661006, 0.9989471616661006, 0.9989471616661006, 0.9989471616661006, 0.9989471616661006, 0.9989471616661006, 0.9989471616661006, 0.9989471616661006]}], \"f1_score_micro\": [{\"categories\": [\"0\", \"1\", \"2\", \"3\", \"4\", \"5\", \"6\", \"7\", \"8\", \"9\", \"10\", \"11\", \"12\", \"13\", \"14\", \"15\", \"16\", \"17\", \"18\", \"19\", \"20\", \"21\", \"22\", \"23\", \"24\", \"25\", \"26\", \"27\", \"28\", \"29\", \"30\", \"31\", \"33\", \"34\", \"35\", \"36\", \"38\", \"39\"], \"mode\": \"markers\", \"name\": \"f1_score_micro\", \"stepped\": false, \"type\": \"scatter\", \"data\": [0.9946597497711321, 0.9980164784864205, 0.9938968568812938, 0.981537992065914, 0.9609398840402809, 0.9980164784864205, 0.8381141287763199, 0.9888617638083613, 0.992065913945682, 0.9980164784864205, 0.9977113213304852, 0.9980164784864205, 0.9975587427525175, 0.988098870918523, 0.9926762282575526, 0.9948123283490998, 0.996032956972841, 0.9981690570643882, 0.9975587427525175, 0.9975587427525175, 0.9977113213304852, 0.9980164784864205, 0.9928288068355203, 0.9411046689044859, 0.996490692706744, 0.9981690570643882, 0.9978638999084528, 0.9934391211473909, 0.9978638999084528, 0.9977113213304852, 0.9978638999084528, 0.9977113213304852, 0.9969484284406469, 0.9967958498626793, 0.9864205065608789, 0.9972535855965823, 0.9983216356423558, 0.9978638999084528]}, {\"categories\": [\"0\", \"1\", \"2\", \"3\", \"4\", \"5\", \"6\", \"7\", \"8\", \"9\", \"10\", \"11\", \"12\", \"13\", \"14\", \"15\", \"16\", \"17\", \"18\", \"19\", \"20\", \"21\", \"22\", \"23\", \"24\", \"25\", \"26\", \"27\", \"28\", \"29\", \"30\", \"31\", \"33\", \"34\", \"35\", \"36\", \"38\", \"39\"], \"mode\": \"lines\", \"name\": \"f1_score_micro_max\", \"stepped\": true, \"type\": \"scatter\", \"data\": [0.9946597497711321, 0.9980164784864205, 0.9980164784864205, 0.9980164784864205, 0.9980164784864205, 0.9980164784864205, 0.9980164784864205, 0.9980164784864205, 0.9980164784864205, 0.9980164784864205, 0.9980164784864205, 0.9980164784864205, 0.9980164784864205, 0.9980164784864205, 0.9980164784864205, 0.9980164784864205, 0.9980164784864205, 0.9981690570643882, 0.9981690570643882, 0.9981690570643882, 0.9981690570643882, 0.9981690570643882, 0.9981690570643882, 0.9981690570643882, 0.9981690570643882, 0.9981690570643882, 0.9981690570643882, 0.9981690570643882, 0.9981690570643882, 0.9981690570643882, 0.9981690570643882, 0.9981690570643882, 0.9981690570643882, 0.9981690570643882, 0.9981690570643882, 0.9981690570643882, 0.9983216356423558, 0.9983216356423558]}], \"f1_score_weighted\": [{\"categories\": [\"0\", \"1\", \"2\", \"3\", \"4\", \"5\", \"6\", \"7\", \"8\", \"9\", \"10\", \"11\", \"12\", \"13\", \"14\", \"15\", \"16\", \"17\", \"18\", \"19\", \"20\", \"21\", \"22\", \"23\", \"24\", \"25\", \"26\", \"27\", \"28\", \"29\", \"30\", \"31\", \"33\", \"34\", \"35\", \"36\", \"38\", \"39\"], \"mode\": \"markers\", \"name\": \"f1_score_weighted\", \"stepped\": false, \"type\": \"scatter\", \"data\": [0.9946940518323815, 0.9979190464219794, 0.9935194533280367, 0.9812525807831625, 0.9748078567806889, 0.9979190464219794, 0.871998450704992, 0.9884912057664247, 0.9916925564404604, 0.997940605836536, 0.9973309438959382, 0.9979190464219794, 0.9974591294948904, 0.9877196245692276, 0.9923047170030006, 0.99443427582671, 0.9956562107123531, 0.9980715504462035, 0.9974448943956028, 0.9974448943956028, 0.9975972634998235, 0.9980166147847235, 0.9924678241611968, 0.9420912877137877, 0.9961129084503733, 0.9981312863728345, 0.9977664702150151, 0.993053139932949, 0.9977881938250266, 0.9975972634998235, 0.997700849637839, 0.9976695138117566, 0.9967872121273226, 0.996417137979341, 0.9860711519056728, 0.9968734275983575, 0.9982242950246364, 0.997660916830005]}, {\"categories\": [\"0\", \"1\", \"2\", \"3\", \"4\", \"5\", \"6\", \"7\", \"8\", \"9\", \"10\", \"11\", \"12\", \"13\", \"14\", \"15\", \"16\", \"17\", \"18\", \"19\", \"20\", \"21\", \"22\", \"23\", \"24\", \"25\", \"26\", \"27\", \"28\", \"29\", \"30\", \"31\", \"33\", \"34\", \"35\", \"36\", \"38\", \"39\"], \"mode\": \"lines\", \"name\": \"f1_score_weighted_max\", \"stepped\": true, \"type\": \"scatter\", \"data\": [0.9946940518323815, 0.9979190464219794, 0.9979190464219794, 0.9979190464219794, 0.9979190464219794, 0.9979190464219794, 0.9979190464219794, 0.9979190464219794, 0.9979190464219794, 0.997940605836536, 0.997940605836536, 0.997940605836536, 0.997940605836536, 0.997940605836536, 0.997940605836536, 0.997940605836536, 0.997940605836536, 0.9980715504462035, 0.9980715504462035, 0.9980715504462035, 0.9980715504462035, 0.9980715504462035, 0.9980715504462035, 0.9980715504462035, 0.9980715504462035, 0.9981312863728345, 0.9981312863728345, 0.9981312863728345, 0.9981312863728345, 0.9981312863728345, 0.9981312863728345, 0.9981312863728345, 0.9981312863728345, 0.9981312863728345, 0.9981312863728345, 0.9981312863728345, 0.9982242950246364, 0.9982242950246364]}], \"weighted_accuracy\": [{\"categories\": [\"0\", \"1\", \"2\", \"3\", \"4\", \"5\", \"6\", \"7\", \"8\", \"9\", \"10\", \"11\", \"12\", \"13\", \"14\", \"15\", \"16\", \"17\", \"18\", \"19\", \"20\", \"21\", \"22\", \"23\", \"24\", \"25\", \"26\", \"27\", \"28\", \"29\", \"30\", \"31\", \"33\", \"34\", \"35\", \"36\", \"38\", \"39\"], \"mode\": \"markers\", \"name\": \"weighted_accuracy\", \"stepped\": false, \"type\": \"scatter\", \"data\": [0.9961695802179947, 0.9987936465569767, 0.9959673501655133, 0.9862402229654107, 0.9760064970346601, 0.9987936465569767, 0.8521538966826304, 0.9931049788098317, 0.9949720795269268, 0.9989190236565451, 0.9987930932599796, 0.9987936465569767, 0.9989209601960354, 0.9928156598099892, 0.9943008196099079, 0.9963396083852382, 0.9966269908455907, 0.9990019628764275, 0.9985021143691452, 0.9985021143691452, 0.9987104306885958, 0.9987109839855931, 0.9925031023362635, 0.9482130609518612, 0.9971265627043742, 0.9987939232054754, 0.9987107073370943, 0.9968469264019829, 0.9985853302375259, 0.9987104306885958, 0.9989187470080465, 0.9985023910176437, 0.9976688490913426, 0.997668572442844, 0.9863867360102729, 0.9982935214011959, 0.9990849020963096, 0.9987933699084781]}, {\"categories\": [\"0\", \"1\", \"2\", \"3\", \"4\", \"5\", \"6\", \"7\", \"8\", \"9\", \"10\", \"11\", \"12\", \"13\", \"14\", \"15\", \"16\", \"17\", \"18\", \"19\", \"20\", \"21\", \"22\", \"23\", \"24\", \"25\", \"26\", \"27\", \"28\", \"29\", \"30\", \"31\", \"33\", \"34\", \"35\", \"36\", \"38\", \"39\"], \"mode\": \"lines\", \"name\": \"weighted_accuracy_max\", \"stepped\": true, \"type\": \"scatter\", \"data\": [0.9961695802179947, 0.9987936465569767, 0.9987936465569767, 0.9987936465569767, 0.9987936465569767, 0.9987936465569767, 0.9987936465569767, 0.9987936465569767, 0.9987936465569767, 0.9989190236565451, 0.9989190236565451, 0.9989190236565451, 0.9989209601960354, 0.9989209601960354, 0.9989209601960354, 0.9989209601960354, 0.9989209601960354, 0.9990019628764275, 0.9990019628764275, 0.9990019628764275, 0.9990019628764275, 0.9990019628764275, 0.9990019628764275, 0.9990019628764275, 0.9990019628764275, 0.9990019628764275, 0.9990019628764275, 0.9990019628764275, 0.9990019628764275, 0.9990019628764275, 0.9990019628764275, 0.9990019628764275, 0.9990019628764275, 0.9990019628764275, 0.9990019628764275, 0.9990019628764275, 0.9990849020963096, 0.9990849020963096]}], \"balanced_accuracy\": [{\"categories\": [\"0\", \"1\", \"2\", \"3\", \"4\", \"5\", \"6\", \"7\", \"8\", \"9\", \"10\", \"11\", \"12\", \"13\", \"14\", \"15\", \"16\", \"17\", \"18\", \"19\", \"20\", \"21\", \"22\", \"23\", \"24\", \"25\", \"26\", \"27\", \"28\", \"29\", \"30\", \"31\", \"33\", \"34\", \"35\", \"36\", \"38\", \"39\"], \"mode\": \"markers\", \"name\": \"balanced_accuracy\", \"stepped\": false, \"type\": \"scatter\", \"data\": [0.8953163979607718, 0.8486333518494401, 0.7450661662888141, 0.7339662032324339, 0.8102142464166018, 0.8486333518494401, 0.8211955823581369, 0.7396628739655565, 0.7430648320659988, 0.8485329750599558, 0.7486333518494401, 0.8486333518494401, 0.8478318879252835, 0.7387286079165659, 0.7445349577894781, 0.7461672101897059, 0.7478025633733689, 0.8486997529118571, 0.7984001729351219, 0.7984001729351219, 0.798466573997539, 0.8984665739975389, 0.7462073874836433, 0.7026183015325844, 0.7481021433501042, 0.8986333518494402, 0.8484665739975389, 0.7436624416277519, 0.8485669507870232, 0.798466573997539, 0.7985329750599559, 0.8484001729351218, 0.798134568685454, 0.7481345686854539, 0.7413106302829597, 0.7483337718727049, 0.8488665307637584, 0.7986333518494402]}, {\"categories\": [\"0\", \"1\", \"2\", \"3\", \"4\", \"5\", \"6\", \"7\", \"8\", \"9\", \"10\", \"11\", \"12\", \"13\", \"14\", \"15\", \"16\", \"17\", \"18\", \"19\", \"20\", \"21\", \"22\", \"23\", \"24\", \"25\", \"26\", \"27\", \"28\", \"29\", \"30\", \"31\", \"33\", \"34\", \"35\", \"36\", \"38\", \"39\"], \"mode\": \"lines\", \"name\": \"balanced_accuracy_max\", \"stepped\": true, \"type\": \"scatter\", \"data\": [0.8953163979607718, 0.8953163979607718, 0.8953163979607718, 0.8953163979607718, 0.8953163979607718, 0.8953163979607718, 0.8953163979607718, 0.8953163979607718, 0.8953163979607718, 0.8953163979607718, 0.8953163979607718, 0.8953163979607718, 0.8953163979607718, 0.8953163979607718, 0.8953163979607718, 0.8953163979607718, 0.8953163979607718, 0.8953163979607718, 0.8953163979607718, 0.8953163979607718, 0.8953163979607718, 0.8984665739975389, 0.8984665739975389, 0.8984665739975389, 0.8984665739975389, 0.8986333518494402, 0.8986333518494402, 0.8986333518494402, 0.8986333518494402, 0.8986333518494402, 0.8986333518494402, 0.8986333518494402, 0.8986333518494402, 0.8986333518494402, 0.8986333518494402, 0.8986333518494402, 0.8986333518494402, 0.8986333518494402]}]}, \"metricName\": null, \"primaryMetricName\": \"accuracy\", \"showLegend\": false}, \"run_metrics\": [{\"name\": \"experiment_status\", \"run_id\": \"AutoML_b5822113-79c0-4b5d-b65d-8edec41201e4\", \"categories\": [0, 1, 2, 3, 4, 5], \"series\": [{\"data\": [\"DatasetEvaluation\", \"FeaturesGeneration\", \"DatasetFeaturization\", \"DatasetFeaturizationCompleted\", \"DatasetBalancing\", \"ModelSelection\"]}]}, {\"name\": \"experiment_status_description\", \"run_id\": \"AutoML_b5822113-79c0-4b5d-b65d-8edec41201e4\", \"categories\": [0, 1, 2, 3, 4, 5], \"series\": [{\"data\": [\"Gathering dataset statistics.\", \"Generating features for the dataset.\", \"Beginning to fit featurizers and featurize the dataset.\", \"Completed fit featurizers and featurizing the dataset.\", \"Performing class balancing sweeping\", \"Beginning model selection.\"]}]}, {\"name\": \"recall_score_macro\", \"run_id\": \"AutoML_b5822113-79c0-4b5d-b65d-8edec41201e4\", \"categories\": [0], \"series\": [{\"data\": [0.8488665307637584]}]}, {\"name\": \"f1_score_macro\", \"run_id\": \"AutoML_b5822113-79c0-4b5d-b65d-8edec41201e4\", \"categories\": [0], \"series\": [{\"data\": [0.8912908417660724]}]}, {\"name\": \"average_precision_score_weighted\", \"run_id\": \"AutoML_b5822113-79c0-4b5d-b65d-8edec41201e4\", \"categories\": [0], \"series\": [{\"data\": [0.9987377858216416]}]}, {\"name\": \"f1_score_micro\", \"run_id\": \"AutoML_b5822113-79c0-4b5d-b65d-8edec41201e4\", \"categories\": [0], \"series\": [{\"data\": [0.9983216356423558]}]}, {\"name\": \"weighted_accuracy\", \"run_id\": \"AutoML_b5822113-79c0-4b5d-b65d-8edec41201e4\", \"categories\": [0], \"series\": [{\"data\": [0.9990849020963096]}]}, {\"name\": \"recall_score_micro\", \"run_id\": \"AutoML_b5822113-79c0-4b5d-b65d-8edec41201e4\", \"categories\": [0], \"series\": [{\"data\": [0.9983216356423558]}]}, {\"name\": \"balanced_accuracy\", \"run_id\": \"AutoML_b5822113-79c0-4b5d-b65d-8edec41201e4\", \"categories\": [0], \"series\": [{\"data\": [0.8488665307637584]}]}, {\"name\": \"norm_macro_recall\", \"run_id\": \"AutoML_b5822113-79c0-4b5d-b65d-8edec41201e4\", \"categories\": [0], \"series\": [{\"data\": [0.7984887076850112]}]}, {\"name\": \"AUC_weighted\", \"run_id\": \"AutoML_b5822113-79c0-4b5d-b65d-8edec41201e4\", \"categories\": [0], \"series\": [{\"data\": [0.9997392039353813]}]}, {\"name\": \"precision_score_weighted\", \"run_id\": \"AutoML_b5822113-79c0-4b5d-b65d-8edec41201e4\", \"categories\": [0], \"series\": [{\"data\": [0.9983253810766668]}]}, {\"name\": \"AUC_macro\", \"run_id\": \"AutoML_b5822113-79c0-4b5d-b65d-8edec41201e4\", \"categories\": [0], \"series\": [{\"data\": [0.9995276158320077]}]}, {\"name\": \"f1_score_weighted\", \"run_id\": \"AutoML_b5822113-79c0-4b5d-b65d-8edec41201e4\", \"categories\": [0], \"series\": [{\"data\": [0.9982242950246364]}]}, {\"name\": \"average_precision_score_macro\", \"run_id\": \"AutoML_b5822113-79c0-4b5d-b65d-8edec41201e4\", \"categories\": [0], \"series\": [{\"data\": [0.9420068708839113]}]}, {\"name\": \"precision_score_micro\", \"run_id\": \"AutoML_b5822113-79c0-4b5d-b65d-8edec41201e4\", \"categories\": [0], \"series\": [{\"data\": [0.9983216356423558]}]}, {\"name\": \"recall_score_weighted\", \"run_id\": \"AutoML_b5822113-79c0-4b5d-b65d-8edec41201e4\", \"categories\": [0], \"series\": [{\"data\": [0.9983216356423558]}]}, {\"name\": \"matthews_correlation\", \"run_id\": \"AutoML_b5822113-79c0-4b5d-b65d-8edec41201e4\", \"categories\": [0], \"series\": [{\"data\": [0.9971036574106574]}]}, {\"name\": \"precision_score_macro\", \"run_id\": \"AutoML_b5822113-79c0-4b5d-b65d-8edec41201e4\", \"categories\": [0], \"series\": [{\"data\": [0.9980036640643501]}]}, {\"name\": \"log_loss\", \"run_id\": \"AutoML_b5822113-79c0-4b5d-b65d-8edec41201e4\", \"categories\": [0], \"series\": [{\"data\": [0.0427749254128392]}]}, {\"name\": \"average_precision_score_micro\", \"run_id\": \"AutoML_b5822113-79c0-4b5d-b65d-8edec41201e4\", \"categories\": [0], \"series\": [{\"data\": [0.9994159124886404]}]}, {\"name\": \"accuracy\", \"run_id\": \"AutoML_b5822113-79c0-4b5d-b65d-8edec41201e4\", \"categories\": [0], \"series\": [{\"data\": [0.9983216356423558]}]}, {\"name\": \"AUC_micro\", \"run_id\": \"AutoML_b5822113-79c0-4b5d-b65d-8edec41201e4\", \"categories\": [0], \"series\": [{\"data\": [0.999737205088858]}]}], \"run_logs\": \"\\nRun is completed.\", \"graph\": {}, \"widget_settings\": {\"childWidgetDisplay\": \"popup\", \"send_telemetry\": false, \"log_level\": \"INFO\", \"sdk_version\": \"1.20.0\"}, \"loading\": false}"
          },
          "metadata": {}
        },
        {
          "output_type": "stream",
          "name": "stdout",
          "text": [
            "\n",
            "Current status: FeaturesGeneration. Generating features for the dataset.\n",
            "Current status: DatasetBalancing. Performing class balancing sweeping\n",
            "Current status: ModelSelection. Beginning model selection.\n",
            "\n",
            "****************************************************************************************************\n",
            "DATA GUARDRAILS: \n",
            "\n",
            "TYPE:         Train-Test data split\n",
            "STATUS:       DONE\n",
            "DESCRIPTION:  Your input data has been split into a training dataset and a holdout test dataset for validation of the model. The test holdout dataset reflects the original distribution of your input data.\n",
            "              \n",
            "DETAILS:      \n",
            "+---------------------------------+---------------------------------+---------------------------------+\n",
            "|Dataset                          |Row counts                       |Percentage                       |\n",
            "+=================================+=================================+=================================+\n",
            "|train                            |58978                            |89.99877922236465                |\n",
            "|test                             |6554                             |10.001220777635353               |\n",
            "+---------------------------------+---------------------------------+---------------------------------+\n",
            "\n",
            "****************************************************************************************************\n",
            "\n",
            "TYPE:         Class balancing detection\n",
            "STATUS:       ALERTED\n",
            "DESCRIPTION:  To decrease model bias, please cancel the current run and fix balancing problem.\n",
            "              Learn more about imbalanced data: https://aka.ms/AutomatedMLImbalancedData\n",
            "DETAILS:      Imbalanced data can lead to a falsely perceived positive effect of a model's accuracy because the input data has bias towards one class.\n",
            "+---------------------------------+---------------------------------+--------------------------------------+\n",
            "|Size of the smallest class       |Name/Label of the smallest class |Number of samples in the training data|\n",
            "+=================================+=================================+======================================+\n",
            "|49                               |reset-both                       |58978                                 |\n",
            "+---------------------------------+---------------------------------+--------------------------------------+\n",
            "\n",
            "****************************************************************************************************\n",
            "\n",
            "TYPE:         Missing feature values imputation\n",
            "STATUS:       PASSED\n",
            "DESCRIPTION:  No feature missing values were detected in the training data.\n",
            "              Learn more about missing value imputation: https://aka.ms/AutomatedMLFeaturization\n",
            "\n",
            "****************************************************************************************************\n",
            "\n",
            "TYPE:         High cardinality feature detection\n",
            "STATUS:       PASSED\n",
            "DESCRIPTION:  Your inputs were analyzed, and no high cardinality features were detected.\n",
            "              Learn more about high cardinality feature handling: https://aka.ms/AutomatedMLFeaturization\n",
            "\n",
            "****************************************************************************************************\n",
            "\n",
            "****************************************************************************************************\n",
            "ITERATION: The iteration being evaluated.\n",
            "PIPELINE: A summary description of the pipeline being evaluated.\n",
            "DURATION: Time taken for the current iteration.\n",
            "METRIC: The result of computing score on the fitted pipeline.\n",
            "BEST: The best observed score thus far.\n",
            "****************************************************************************************************\n",
            "\n",
            " ITERATION   PIPELINE                                       DURATION      METRIC      BEST\n",
            "         1   MaxAbsScaler XGBoostClassifier                 0:01:03       0.9980    0.9980\n",
            "         0   MaxAbsScaler LightGBM                          0:01:13       0.9947    0.9980\n",
            "         2   MinMaxScaler RandomForest                      0:01:02       0.9939    0.9980\n",
            "         7   StandardScalerWrapper LogisticRegression       0:00:55       0.9889    0.9980\n",
            "         3   MinMaxScaler RandomForest                      0:02:06       0.9815    0.9980\n",
            "         4   MinMaxScaler RandomForest                      0:02:13       0.9609    0.9980\n",
            "         6   StandardScalerWrapper ExtremeRandomTrees       0:02:09       0.8381    0.9980\n",
            "         8   SparseNormalizer LightGBM                      0:00:51       0.9921    0.9980\n",
            "        10   SparseNormalizer XGBoostClassifier             0:00:52       0.9977    0.9980\n",
            "        11   StandardScalerWrapper LightGBM                 0:00:57       0.9980    0.9980\n",
            "         9   SparseNormalizer XGBoostClassifier             0:01:08       0.9980    0.9980\n",
            "         5   StandardScalerWrapper XGBoostClassifier        0:04:13       0.9980    0.9980\n",
            "        13   MaxAbsScaler LightGBM                          0:00:52       0.9881    0.9980\n",
            "        12   MaxAbsScaler GradientBoosting                  0:01:34       0.9976    0.9980\n",
            "        14   MaxAbsScaler GradientBoosting                  0:01:03       0.9927    0.9980\n",
            "        15   RobustScaler LightGBM                          0:01:07       0.9948    0.9980\n",
            "        16   SparseNormalizer XGBoostClassifier             0:00:53       0.9960    0.9980\n",
            "        17   SparseNormalizer XGBoostClassifier             0:00:56       0.9982    0.9982\n",
            "        18   SparseNormalizer XGBoostClassifier             0:01:15       0.9976    0.9982\n",
            "        19   SparseNormalizer XGBoostClassifier             0:01:22       0.9976    0.9982\n",
            "        20   SparseNormalizer XGBoostClassifier             0:01:17       0.9977    0.9982\n",
            "        21   SparseNormalizer XGBoostClassifier             0:01:09       0.9980    0.9982\n",
            "        22   StandardScalerWrapper LightGBM                 0:00:52       0.9928    0.9982\n",
            "        23   StandardScalerWrapper ExtremeRandomTrees       0:00:57       0.9411    0.9982\n",
            "        24   MinMaxScaler LightGBM                          0:00:53       0.9965    0.9982\n",
            "        26   StandardScalerWrapper XGBoostClassifier        0:01:02       0.9979    0.9982\n",
            "        27   StandardScalerWrapper XGBoostClassifier        0:00:54       0.9934    0.9982\n",
            "        25   StandardScalerWrapper XGBoostClassifier        0:01:26       0.9982    0.9982\n",
            "        28   MinMaxScaler LightGBM                          0:01:03       0.9979    0.9982\n",
            "        29   SparseNormalizer XGBoostClassifier             0:01:22       0.9977    0.9982\n",
            "        30   SparseNormalizer XGBoostClassifier             0:01:07       0.9979    0.9982\n",
            "        33   SparseNormalizer LightGBM                      0:00:53       0.9969    0.9982\n",
            "        34   SparseNormalizer XGBoostClassifier             0:00:54       0.9968    0.9982\n",
            "        31   SparseNormalizer XGBoostClassifier             0:02:15       0.9977    0.9982\n",
            "        35   TruncatedSVDWrapper XGBoostClassifier          0:00:53       0.9864    0.9982\n",
            "        32   SparseNormalizer XGBoostClassifier             0:02:12          nan    0.9982\n",
            "        36   SparseNormalizer XGBoostClassifier             0:00:38       0.9973    0.9982\n",
            "        37                                                  0:00:10          nan    0.9982\n",
            "        38    VotingEnsemble                                0:01:08       0.9983    0.9983\n",
            "        39    StackEnsemble                                 0:02:38       0.9979    0.9983\n"
          ]
        }
      ],
      "execution_count": 9,
      "metadata": {
        "gather": {
          "logged": 1612800018596
        },
        "jupyter": {
          "outputs_hidden": false,
          "source_hidden": false
        },
        "nteract": {
          "transient": {
            "deleting": false
          }
        }
      }
    },
    {
      "cell_type": "markdown",
      "source": [
        "## Best Model\n",
        "\n",
        "TODO: In the cell below, get the best model from the automl experiments and display all the properties of the model.\n",
        "\n"
      ],
      "metadata": {}
    },
    {
      "cell_type": "code",
      "source": [
        "# Retrieve and save your best automl model.\r\n",
        "automl_best_run, automl_fitted_model = automl_run.get_output()\r\n",
        "\r\n",
        "\r\n",
        "# Reference: https://knowledge.udacity.com/questions/357775 \r\n",
        "print(\"Fitted model: \", automl_fitted_model.steps[-1])\r\n",
        "print(\"---\"*5)\r\n",
        "print(\"AutoML best run accuracy: \", automl_best_run.get_metrics(name=\"accuracy\"))\r\n",
        "print(\"---\"*5)\r\n",
        "print(\"AutoML run Summary: \", automl_run.summary())\r\n"
      ],
      "outputs": [
        {
          "output_type": "stream",
          "name": "stderr",
          "text": [
            "WARNING:root:The version of the SDK does not match the version the model was trained on.\n",
            "WARNING:root:The consistency in the result may not be guaranteed.\n",
            "WARNING:root:Package:azureml-automl-core, training version:1.21.0, current version:1.20.0\n",
            "Package:azureml-automl-runtime, training version:1.21.0, current version:1.20.0\n",
            "Package:azureml-core, training version:1.21.0.post1, current version:1.20.0\n",
            "Package:azureml-dataprep, training version:2.8.2, current version:2.7.3\n",
            "Package:azureml-dataprep-native, training version:28.0.0, current version:27.0.0\n",
            "Package:azureml-dataprep-rslex, training version:1.6.0, current version:1.5.0\n",
            "Package:azureml-dataset-runtime, training version:1.21.0, current version:1.20.0\n",
            "Package:azureml-defaults, training version:1.21.0, current version:1.20.0\n",
            "Package:azureml-interpret, training version:1.21.0, current version:1.20.0\n",
            "Package:azureml-pipeline-core, training version:1.21.0, current version:1.20.0\n",
            "Package:azureml-telemetry, training version:1.21.0, current version:1.20.0\n",
            "Package:azureml-train-automl-client, training version:1.21.0, current version:1.20.0\n",
            "Package:azureml-train-automl-runtime, training version:1.21.0, current version:1.20.0\n",
            "WARNING:root:Please ensure the version of your local conda dependencies match the version on which your model was trained in order to properly retrieve your model.\n"
          ]
        },
        {
          "output_type": "stream",
          "name": "stdout",
          "text": [
            "Fitted model:  ('prefittedsoftvotingclassifier', PreFittedSoftVotingClassifier(classification_labels=None,\n",
            "                              estimators=[('25',\n",
            "                                           Pipeline(memory=None,\n",
            "                                                    steps=[('standardscalerwrapper',\n",
            "                                                            <azureml.automl.runtime.shared.model_wrappers.StandardScalerWrapper object at 0x7f96a8f21cf8>),\n",
            "                                                           ('xgboostclassifier',\n",
            "                                                            XGBoostClassifier(base_score=0.5,\n",
            "                                                                              booster='gbtree',\n",
            "                                                                              colsample_bylevel=1,\n",
            "                                                                              colsample_bynode=1,\n",
            "                                                                              colsample_bytree=1,\n",
            "                                                                              e...\n",
            "                                                                               num_leaves=20,\n",
            "                                                                               objective=None,\n",
            "                                                                               random_state=None,\n",
            "                                                                               reg_alpha=0.3157894736842105,\n",
            "                                                                               reg_lambda=0.05263157894736842,\n",
            "                                                                               silent=True,\n",
            "                                                                               subsample=1,\n",
            "                                                                               subsample_for_bin=200000,\n",
            "                                                                               subsample_freq=0,\n",
            "                                                                               verbose=-10))],\n",
            "                                                    verbose=False))],\n",
            "                              flatten_transform=None,\n",
            "                              weights=[0.16666666666666666, 0.16666666666666666,\n",
            "                                       0.16666666666666666, 0.16666666666666666,\n",
            "                                       0.16666666666666666,\n",
            "                                       0.16666666666666666]))\n",
            "---------------\n",
            "AutoML best run accuracy:  {'accuracy': 0.9983216356423558}\n",
            "---------------\n",
            "AutoML run Summary:  [['StackEnsemble', 1, 0.9978638999084528], ['VotingEnsemble', 1, 0.9983216356423558], ['Failed', 1, nan], ['XGBoostClassifier', 20, 0.9981690570643882], ['LightGBM', 9, 0.9980164784864205], ['ExtremeRandomTrees', 2, 0.9411046689044859], ['GradientBoosting', 2, 0.9975587427525175], ['LogisticRegression', 1, 0.9888617638083613], ['RandomForest', 3, 0.9938968568812938]]\n"
          ]
        }
      ],
      "execution_count": 10,
      "metadata": {
        "gather": {
          "logged": 1612800212507
        },
        "jupyter": {
          "outputs_hidden": false,
          "source_hidden": false
        },
        "nteract": {
          "transient": {
            "deleting": false
          }
        }
      }
    },
    {
      "cell_type": "code",
      "source": [
        "automl_estimator = automl_fitted_model.steps[-1]\r\n",
        "print(automl_estimator)"
      ],
      "outputs": [
        {
          "output_type": "stream",
          "name": "stdout",
          "text": [
            "('prefittedsoftvotingclassifier', PreFittedSoftVotingClassifier(classification_labels=None,\n",
            "                              estimators=[('25',\n",
            "                                           Pipeline(memory=None,\n",
            "                                                    steps=[('standardscalerwrapper',\n",
            "                                                            <azureml.automl.runtime.shared.model_wrappers.StandardScalerWrapper object at 0x7f96a8f21cf8>),\n",
            "                                                           ('xgboostclassifier',\n",
            "                                                            XGBoostClassifier(base_score=0.5,\n",
            "                                                                              booster='gbtree',\n",
            "                                                                              colsample_bylevel=1,\n",
            "                                                                              colsample_bynode=1,\n",
            "                                                                              colsample_bytree=1,\n",
            "                                                                              e...\n",
            "                                                                               num_leaves=20,\n",
            "                                                                               objective=None,\n",
            "                                                                               random_state=None,\n",
            "                                                                               reg_alpha=0.3157894736842105,\n",
            "                                                                               reg_lambda=0.05263157894736842,\n",
            "                                                                               silent=True,\n",
            "                                                                               subsample=1,\n",
            "                                                                               subsample_for_bin=200000,\n",
            "                                                                               subsample_freq=0,\n",
            "                                                                               verbose=-10))],\n",
            "                                                    verbose=False))],\n",
            "                              flatten_transform=None,\n",
            "                              weights=[0.16666666666666666, 0.16666666666666666,\n",
            "                                       0.16666666666666666, 0.16666666666666666,\n",
            "                                       0.16666666666666666,\n",
            "                                       0.16666666666666666]))\n"
          ]
        }
      ],
      "execution_count": 11,
      "metadata": {
        "collapsed": true,
        "jupyter": {
          "source_hidden": false,
          "outputs_hidden": false
        },
        "nteract": {
          "transient": {
            "deleting": false
          }
        },
        "gather": {
          "logged": 1612800212582
        }
      }
    },
    {
      "cell_type": "code",
      "source": [
        "automl_best_run"
      ],
      "outputs": [
        {
          "output_type": "execute_result",
          "execution_count": 12,
          "data": {
            "text/plain": "Run(Experiment: internet-firewall-automl,\nId: AutoML_b5822113-79c0-4b5d-b65d-8edec41201e4_38,\nType: azureml.scriptrun,\nStatus: Completed)",
            "text/html": "<table style=\"width:100%\"><tr><th>Experiment</th><th>Id</th><th>Type</th><th>Status</th><th>Details Page</th><th>Docs Page</th></tr><tr><td>internet-firewall-automl</td><td>AutoML_b5822113-79c0-4b5d-b65d-8edec41201e4_38</td><td>azureml.scriptrun</td><td>Completed</td><td><a href=\"https://ml.azure.com/experiments/internet-firewall-automl/runs/AutoML_b5822113-79c0-4b5d-b65d-8edec41201e4_38?wsid=/subscriptions/3d1a56d2-7c81-4118-9790-f85d1acf0c77/resourcegroups/aml-quickstarts-138160/workspaces/quick-starts-ws-138160\" target=\"_blank\" rel=\"noopener\">Link to Azure Machine Learning studio</a></td><td><a href=\"https://docs.microsoft.com/en-us/python/api/azureml-core/azureml.core.run.Run?view=azure-ml-py\" target=\"_blank\" rel=\"noopener\">Link to Documentation</a></td></tr></table>"
          },
          "metadata": {}
        }
      ],
      "execution_count": 12,
      "metadata": {
        "collapsed": true,
        "jupyter": {
          "source_hidden": false,
          "outputs_hidden": false
        },
        "nteract": {
          "transient": {
            "deleting": false
          }
        },
        "gather": {
          "logged": 1612800212649
        }
      }
    },
    {
      "cell_type": "code",
      "source": [
        "# model.get_file_names()\r\n"
      ],
      "outputs": [],
      "execution_count": 13,
      "metadata": {
        "collapsed": true,
        "jupyter": {
          "source_hidden": false,
          "outputs_hidden": false
        },
        "nteract": {
          "transient": {
            "deleting": false
          }
        },
        "gather": {
          "logged": 1612800212740
        }
      }
    },
    {
      "cell_type": "code",
      "source": [
        "import joblib\r\n",
        "import os\r\n",
        "\r\n",
        "try:\r\n",
        "    os.mkdir('outputs')\r\n",
        "except:\r\n",
        "    print('outputs already exists')\r\n",
        "\r\n",
        "# automl_best_run.register_model(model_name = 'automl_best_model.pkl', model_path = './outputs/')\r\n",
        "joblib.dump(automl_fitted_model, \"./outputs/automl_fitted_model.pkl\")\r\n",
        "\r\n",
        "model_name = 'Internet-firewall-AML-model'\r\n",
        "\r\n",
        "model = automl_best_run.register_model(model_name = model_name, model_path = 'outputs/model.pkl')\r\n",
        "print(model.name, model.id, model.version, sep='\\t')"
      ],
      "outputs": [
        {
          "output_type": "stream",
          "name": "stdout",
          "text": [
            "Internet-firewall-AML-model\tInternet-firewall-AML-model:1\t1\n"
          ]
        }
      ],
      "execution_count": 14,
      "metadata": {
        "gather": {
          "logged": 1612800213360
        },
        "jupyter": {
          "outputs_hidden": false,
          "source_hidden": false
        },
        "nteract": {
          "transient": {
            "deleting": false
          }
        }
      }
    },
    {
      "cell_type": "markdown",
      "source": [
        "## Model Deployment\n",
        "\n",
        "Remember you have to deploy only one of the two models you trained.. Perform the steps in the rest of this notebook only if you wish to deploy this model.\n",
        "\n",
        "TODO: In the cell below, register the model, create an inference config and deploy the model as a web service."
      ],
      "metadata": {}
    },
    {
      "cell_type": "code",
      "source": [
        "from azureml.automl.core.shared import constants\r\n",
        "from azureml.core.model import InferenceConfig, Model\r\n",
        "from azureml.core.environment import Environment\r\n",
        "from azureml.core.webservice import AciWebservice, Webservice\r\n",
        "\r\n",
        "# Register the model to deploy\r\n",
        "# model = automl_best_run.register_model(model_name = \"mymodel\", model_path = \"outputs/model.pkl\")\r\n",
        "automl_best_run.download_file(constants.CONDA_ENV_FILE_PATH, 'myenv.yml')\r\n",
        "\r\n",
        "env = Environment.from_conda_specification('myenv', 'myenv.yml')\r\n",
        "inference_config = InferenceConfig(entry_script='score.py', environment=env)\r\n",
        "\r\n",
        "aci_config = AciWebservice.deploy_configuration(cpu_cores=1, memory_gb=1, auth_enabled=True,tags = {'name':'Action Prediction'},description='Internet Firewall Data')\r\n",
        "service = model.deploy(workspace=ws,name=\"internet-firewall-automl-deploy\",models=[model],inference_config=inference_config,deployment_config=aci_config)\r\n",
        "\r\n",
        "service.wait_for_deployment(show_output=True)"
      ],
      "outputs": [
        {
          "output_type": "stream",
          "name": "stdout",
          "text": [
            "Tips: You can try get_logs(): https://aka.ms/debugimage#dockerlog or local deployment: https://aka.ms/debugimage#debug-locally to debug if deployment takes longer than 10 minutes.\n",
            "Running.................................."
          ]
        }
      ],
      "execution_count": 26,
      "metadata": {
        "collapsed": true,
        "jupyter": {
          "source_hidden": false,
          "outputs_hidden": false
        },
        "nteract": {
          "transient": {
            "deleting": false
          }
        },
        "gather": {
          "logged": 1612728158666
        }
      }
    },
    {
      "cell_type": "code",
      "source": [
        "print(service.get_logs())"
      ],
      "outputs": [],
      "execution_count": null,
      "metadata": {
        "collapsed": true,
        "jupyter": {
          "source_hidden": false,
          "outputs_hidden": false
        },
        "nteract": {
          "transient": {
            "deleting": false
          }
        },
        "gather": {
          "logged": 1612801564152
        }
      }
    },
    {
      "cell_type": "code",
      "source": [
        "service.update(enable_app_insights=True)\r\n",
        "\r\n",
        "print(service.state)\r\n",
        "print(\"scoring URI: \" + service.scoring_uri)"
      ],
      "outputs": [],
      "execution_count": null,
      "metadata": {
        "gather": {
          "logged": 1612801570752
        },
        "jupyter": {
          "outputs_hidden": false,
          "source_hidden": false
        },
        "nteract": {
          "transient": {
            "deleting": false
          }
        }
      }
    },
    {
      "cell_type": "markdown",
      "source": [
        "TODO: In the cell below, send a request to the web service you deployed to test it."
      ],
      "metadata": {
        "collapsed": true,
        "gather": {
          "logged": 1598431657736
        },
        "jupyter": {
          "outputs_hidden": false,
          "source_hidden": false
        },
        "nteract": {
          "transient": {
            "deleting": false
          }
        }
      }
    },
    {
      "cell_type": "code",
      "source": [
        "import json\r\n",
        "import requests\r\n",
        "# URL for the web service\r\n",
        "scoring_uri = 'http://d36e6c91-ade6-4343-bbe9-cf0f5f29288f.southcentralus.azurecontainer.io/score'\r\n",
        "# If the service is authenticated, set the key or token\r\n",
        "key = 'F0rlg2IVfHY4WmoPx5kLxjQxA3iWwWSH'\r\n",
        "\r\n",
        "data = {\r\n",
        "  \"data\": [\r\n",
        "    {#ALLOW\r\n",
        "                  'Source Port': 50148, \r\n",
        "                  'Destination Port': 80, \r\n",
        "                  'NAT Source Port': 57004,\r\n",
        "                  'NAT Destination Port': 80,\r\n",
        "                  'Bytes': 9058,\r\n",
        "                  'Bytes Sent': 868,\r\n",
        "                  'Bytes Received': 8190,\r\n",
        "                  'Packets': 18,\r\n",
        "                  'Elapsed Time (sec)': 46,\r\n",
        "                  'pkts_sent': 10,\r\n",
        "                  'pkts_received': 8\r\n",
        "                 \r\n",
        "                 \r\n",
        "    },\r\n",
        "    {#DENY\r\n",
        "                  'Source Port': 56103, \r\n",
        "                  'Destination Port': 21247, \r\n",
        "                  'NAT Source Port': 0,\r\n",
        "                  'NAT Destination Port': 0,\r\n",
        "                  'Bytes': 66,\r\n",
        "                  'Bytes Sent': 66,\r\n",
        "                  'Bytes Received': 0,\r\n",
        "                  'Packets': 1,\r\n",
        "                  'Elapsed Time (sec)': 0,\r\n",
        "                  'pkts_sent': 1,\r\n",
        "                  'pkts_received': 0\r\n",
        "                 \r\n",
        "                 \r\n",
        "    },\r\n",
        "    {#DROP\r\n",
        "                  'Source Port': 49783, \r\n",
        "                  'Destination Port': 445, \r\n",
        "                  'NAT Source Port': 0,\r\n",
        "                  'NAT Destination Port': 0,\r\n",
        "                  'Bytes': 70,\r\n",
        "                  'Bytes Sent': 70,\r\n",
        "                  'Bytes Received': 0,\r\n",
        "                  'Packets': 1,\r\n",
        "                  'Elapsed Time (sec)': 0,\r\n",
        "                  'pkts_sent': 1,\r\n",
        "                  'pkts_received': 0\r\n",
        "                 \r\n",
        "                 \r\n",
        "    }\r\n",
        " ]\r\n",
        "}\r\n",
        "# Convert to JSON string\r\n",
        "input_data = json.dumps(data)\r\n",
        "output = service.run(input_data)\r\n",
        "#print(f\"Predicted: {output}\\nExpected: {y}\")\r\n",
        "\r\n",
        "headers = {'Content-Type': 'application/json'}\r\n",
        "headers['Authorization'] = f'Bearer {key}'\r\n",
        "\r\n",
        "# Make the request and display the response\r\n",
        "resp = requests.post(scoring_uri, input_data, headers=headers)\r\n",
        "print(\"prediction \", resp.text)"
      ],
      "outputs": [
        {
          "output_type": "stream",
          "name": "stdout",
          "text": [
            "prediction  [\"allow\", \"deny\", \"drop\"]\n"
          ]
        }
      ],
      "execution_count": 24,
      "metadata": {
        "gather": {
          "logged": 1612801597396
        },
        "jupyter": {
          "outputs_hidden": false,
          "source_hidden": false
        },
        "nteract": {
          "transient": {
            "deleting": false
          }
        }
      }
    },
    {
      "cell_type": "markdown",
      "source": [
        "TODO: In the cell below, print the logs of the web service and delete the service"
      ],
      "metadata": {
        "collapsed": true,
        "gather": {
          "logged": 1598432765711
        },
        "jupyter": {
          "outputs_hidden": false,
          "source_hidden": false
        },
        "nteract": {
          "transient": {
            "deleting": false
          }
        }
      }
    },
    {
      "cell_type": "code",
      "source": [
        "#print the logs of the web service\r\n",
        "web_service_logs = service.get_logs()\r\n",
        "with open(\"./web_service_logs.txt\", 'w') as output:\r\n",
        "    output.write(str(web_service_logs))\r\n",
        "\r\n",
        "print(web_service_logs)\r\n",
        "#delete the service\r\n",
        "service.delete()\r\n"
      ],
      "outputs": [
        {
          "output_type": "stream",
          "name": "stdout",
          "text": [
            "2021-02-08T16:21:54,305656700+00:00 - gunicorn/run \n",
            "2021-02-08T16:21:54,307644500+00:00 - rsyslog/run \n",
            "2021-02-08T16:21:54,333748800+00:00 - iot-server/run \n",
            "rsyslogd: /azureml-envs/azureml_7785023fceb74e4facc1b1a577b1faf9/lib/libuuid.so.1: no version information available (required by rsyslogd)\n",
            "2021-02-08T16:21:54,386133100+00:00 - nginx/run \n",
            "/usr/sbin/nginx: /azureml-envs/azureml_7785023fceb74e4facc1b1a577b1faf9/lib/libcrypto.so.1.0.0: no version information available (required by /usr/sbin/nginx)\n",
            "/usr/sbin/nginx: /azureml-envs/azureml_7785023fceb74e4facc1b1a577b1faf9/lib/libcrypto.so.1.0.0: no version information available (required by /usr/sbin/nginx)\n",
            "/usr/sbin/nginx: /azureml-envs/azureml_7785023fceb74e4facc1b1a577b1faf9/lib/libssl.so.1.0.0: no version information available (required by /usr/sbin/nginx)\n",
            "/usr/sbin/nginx: /azureml-envs/azureml_7785023fceb74e4facc1b1a577b1faf9/lib/libssl.so.1.0.0: no version information available (required by /usr/sbin/nginx)\n",
            "/usr/sbin/nginx: /azureml-envs/azureml_7785023fceb74e4facc1b1a577b1faf9/lib/libssl.so.1.0.0: no version information available (required by /usr/sbin/nginx)\n",
            "EdgeHubConnectionString and IOTEDGE_IOTHUBHOSTNAME are not set. Exiting...\n",
            "2021-02-08T16:21:56,005690600+00:00 - iot-server/finish 1 0\n",
            "2021-02-08T16:21:56,009697000+00:00 - Exit code 1 is normal. Not restarting iot-server.\n",
            "Starting gunicorn 19.9.0\n",
            "Listening at: http://127.0.0.1:31311 (70)\n",
            "Using worker: sync\n",
            "worker timeout is set to 300\n",
            "Booting worker with pid: 105\n",
            "SPARK_HOME not set. Skipping PySpark Initialization.\n",
            "Generating new fontManager, this may take some time...\n",
            "Initializing logger\n",
            "2021-02-08 16:22:07,040 | root | INFO | Starting up app insights client\n",
            "2021-02-08 16:22:07,041 | root | INFO | Starting up request id generator\n",
            "2021-02-08 16:22:07,041 | root | INFO | Starting up app insight hooks\n",
            "2021-02-08 16:22:07,042 | root | INFO | Invoking user's init function\n",
            "2021-02-08 16:22:13,265 | root | INFO | Users's init has completed successfully\n",
            "/azureml-envs/azureml_7785023fceb74e4facc1b1a577b1faf9/lib/python3.6/site-packages/sklearn/externals/joblib/__init__.py:15: FutureWarning: sklearn.externals.joblib is deprecated in 0.21 and will be removed in 0.23. Please import this functionality directly from joblib, which can be installed with: pip install joblib. If this warning is raised when loading pickled models, you may need to re-serialize those models with scikit-learn 0.21+.\n",
            "  warnings.warn(msg, category=FutureWarning)\n",
            "2021-02-08 16:22:13,274 | root | INFO | Skipping middleware: dbg_model_info as it's not enabled.\n",
            "2021-02-08 16:22:13,283 | root | INFO | Skipping middleware: dbg_resource_usage as it's not enabled.\n",
            "2021-02-08 16:22:13,288 | root | INFO | Scoring timeout is found from os.environ: 60000 ms\n",
            "2021-02-08 16:22:27,706 | root | INFO | Swagger file not present\n",
            "2021-02-08 16:22:27,707 | root | INFO | 404\n",
            "127.0.0.1 - - [08/Feb/2021:16:22:27 +0000] \"GET /swagger.json HTTP/1.0\" 404 19 \"-\" \"Go-http-client/1.1\"\n",
            "2021-02-08 16:25:56,400 | root | INFO | Swagger file not present\n",
            "2021-02-08 16:25:56,400 | root | INFO | 404\n",
            "127.0.0.1 - - [08/Feb/2021:16:25:56 +0000] \"GET /swagger.json HTTP/1.0\" 404 19 \"-\" \"Go-http-client/1.1\"\n",
            "2021-02-08 16:26:10,998 | root | INFO | Swagger file not present\n",
            "2021-02-08 16:26:10,998 | root | INFO | 404\n",
            "127.0.0.1 - - [08/Feb/2021:16:26:10 +0000] \"GET /swagger.json HTTP/1.0\" 404 19 \"-\" \"Go-http-client/1.1\"\n",
            "2021-02-08 16:26:37,643 | root | INFO | Validation Request Content-Type\n",
            "2021-02-08 16:26:37,644 | root | INFO | Scoring Timer is set to 60.0 seconds\n",
            "2021-02-08 16:26:37,728 | root | INFO | 200\n",
            "127.0.0.1 - - [08/Feb/2021:16:26:37 +0000] \"POST /score HTTP/1.0\" 200 25 \"-\" \"python-requests/2.25.1\"\n",
            "2021-02-08 16:26:37,748 | root | INFO | Validation Request Content-Type\n",
            "2021-02-08 16:26:37,748 | root | INFO | Scoring Timer is set to 60.0 seconds\n",
            "2021-02-08 16:26:37,837 | root | INFO | 200\n",
            "127.0.0.1 - - [08/Feb/2021:16:26:37 +0000] \"POST /score HTTP/1.0\" 200 25 \"-\" \"python-requests/2.25.1\"\n",
            "\n"
          ]
        }
      ],
      "execution_count": 25,
      "metadata": {
        "jupyter": {
          "outputs_hidden": false,
          "source_hidden": false
        },
        "nteract": {
          "transient": {
            "deleting": false
          }
        },
        "gather": {
          "logged": 1612801606058
        }
      }
    },
    {
      "cell_type": "code",
      "source": [
        "compute_target.delete()"
      ],
      "outputs": [
        {
          "output_type": "stream",
          "name": "stdout",
          "text": [
            "Current provisioning state of AmlCompute is \"Deleting\"\n",
            "\n",
            "Current provisioning state of AmlCompute is \"Deleting\"\n",
            "\n",
            "Current provisioning state of AmlCompute is \"Deleting\"\n",
            "\n",
            "Current provisioning state of AmlCompute is \"Deleting\"\n",
            "\n",
            "Current provisioning state of AmlCompute is \"Deleting\"\n",
            "\n"
          ]
        }
      ],
      "execution_count": 30,
      "metadata": {
        "collapsed": true,
        "jupyter": {
          "source_hidden": false,
          "outputs_hidden": false
        },
        "nteract": {
          "transient": {
            "deleting": false
          }
        },
        "gather": {
          "logged": 1612802748225
        }
      }
    }
  ],
  "metadata": {
    "kernel_info": {
      "name": "python3"
    },
    "kernelspec": {
      "name": "python3",
      "language": "python",
      "display_name": "Python 3"
    },
    "language_info": {
      "name": "python",
      "version": "3.6.9",
      "mimetype": "text/x-python",
      "codemirror_mode": {
        "name": "ipython",
        "version": 3
      },
      "pygments_lexer": "ipython3",
      "nbconvert_exporter": "python",
      "file_extension": ".py"
    },
    "nteract": {
      "version": "nteract-front-end@1.0.0"
    }
  },
  "nbformat": 4,
  "nbformat_minor": 2
}